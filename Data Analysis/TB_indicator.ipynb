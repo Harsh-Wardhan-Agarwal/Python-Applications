<!DOCTYPE html>
<html>
<head><meta charset="utf-8" />
<title>tech_mahindra</title><script src="https://cdnjs.cloudflare.com/ajax/libs/require.js/2.1.10/require.min.js"></script>
<script src="https://cdnjs.cloudflare.com/ajax/libs/jquery/2.0.3/jquery.min.js"></script>

<style type="text/css">
    /*!
*
* Twitter Bootstrap
*
*/
/*!
 * Bootstrap v3.3.7 (http://getbootstrap.com)
 * Copyright 2011-2016 Twitter, Inc.
 * Licensed under MIT (https://github.com/twbs/bootstrap/blob/master/LICENSE)
 */
/*! normalize.css v3.0.3 | MIT License | github.com/necolas/normalize.css */
html {
  font-family: sans-serif;
  -ms-text-size-adjust: 100%;
  -webkit-text-size-adjust: 100%;
}
body {
  margin: 0;
}
article,
aside,
details,
figcaption,
figure,
footer,
header,
hgroup,
main,
menu,
nav,
section,
summary {
  display: block;
}
audio,
canvas,
progress,
video {
  display: inline-block;
  vertical-align: baseline;
}
audio:not([controls]) {
  display: none;
  height: 0;
}
[hidden],
template {
  display: none;
}
a {
  background-color: transparent;
}
a:active,
a:hover {
  outline: 0;
}
abbr[title] {
  border-bottom: 1px dotted;
}
b,
strong {
  font-weight: bold;
}
dfn {
  font-style: italic;
}
h1 {
  font-size: 2em;
  margin: 0.67em 0;
}
mark {
  background: #ff0;
  color: #000;
}
small {
  font-size: 80%;
}
sub,
sup {
  font-size: 75%;
  line-height: 0;
  position: relative;
  vertical-align: baseline;
}
sup {
  top: -0.5em;
}
sub {
  bottom: -0.25em;
}
img {
  border: 0;
}
svg:not(:root) {
  overflow: hidden;
}
figure {
  margin: 1em 40px;
}
hr {
  box-sizing: content-box;
  height: 0;
}
pre {
  overflow: auto;
}
code,
kbd,
pre,
samp {
  font-family: monospace, monospace;
  font-size: 1em;
}
button,
input,
optgroup,
select,
textarea {
  color: inherit;
  font: inherit;
  margin: 0;
}
button {
  overflow: visible;
}
button,
select {
  text-transform: none;
}
button,
html input[type="button"],
input[type="reset"],
input[type="submit"] {
  -webkit-appearance: button;
  cursor: pointer;
}
button[disabled],
html input[disabled] {
  cursor: default;
}
button::-moz-focus-inner,
input::-moz-focus-inner {
  border: 0;
  padding: 0;
}
input {
  line-height: normal;
}
input[type="checkbox"],
input[type="radio"] {
  box-sizing: border-box;
  padding: 0;
}
input[type="number"]::-webkit-inner-spin-button,
input[type="number"]::-webkit-outer-spin-button {
  height: auto;
}
input[type="search"] {
  -webkit-appearance: textfield;
  box-sizing: content-box;
}
input[type="search"]::-webkit-search-cancel-button,
input[type="search"]::-webkit-search-decoration {
  -webkit-appearance: none;
}
fieldset {
  border: 1px solid #c0c0c0;
  margin: 0 2px;
  padding: 0.35em 0.625em 0.75em;
}
legend {
  border: 0;
  padding: 0;
}
textarea {
  overflow: auto;
}
optgroup {
  font-weight: bold;
}
table {
  border-collapse: collapse;
  border-spacing: 0;
}
td,
th {
  padding: 0;
}
/*! Source: https://github.com/h5bp/html5-boilerplate/blob/master/src/css/main.css */
@media print {
  *,
  *:before,
  *:after {
    background: transparent !important;
    color: #000 !important;
    box-shadow: none !important;
    text-shadow: none !important;
  }
  a,
  a:visited {
    text-decoration: underline;
  }
  a[href]:after {
    content: " (" attr(href) ")";
  }
  abbr[title]:after {
    content: " (" attr(title) ")";
  }
  a[href^="#"]:after,
  a[href^="javascript:"]:after {
    content: "";
  }
  pre,
  blockquote {
    border: 1px solid #999;
    page-break-inside: avoid;
  }
  thead {
    display: table-header-group;
  }
  tr,
  img {
    page-break-inside: avoid;
  }
  img {
    max-width: 100% !important;
  }
  p,
  h2,
  h3 {
    orphans: 3;
    widows: 3;
  }
  h2,
  h3 {
    page-break-after: avoid;
  }
  .navbar {
    display: none;
  }
  .btn > .caret,
  .dropup > .btn > .caret {
    border-top-color: #000 !important;
  }
  .label {
    border: 1px solid #000;
  }
  .table {
    border-collapse: collapse !important;
  }
  .table td,
  .table th {
    background-color: #fff !important;
  }
  .table-bordered th,
  .table-bordered td {
    border: 1px solid #ddd !important;
  }
}
@font-face {
  font-family: 'Glyphicons Halflings';
  src: url('../components/bootstrap/fonts/glyphicons-halflings-regular.eot');
  src: url('../components/bootstrap/fonts/glyphicons-halflings-regular.eot?#iefix') format('embedded-opentype'), url('../components/bootstrap/fonts/glyphicons-halflings-regular.woff2') format('woff2'), url('../components/bootstrap/fonts/glyphicons-halflings-regular.woff') format('woff'), url('../components/bootstrap/fonts/glyphicons-halflings-regular.ttf') format('truetype'), url('../components/bootstrap/fonts/glyphicons-halflings-regular.svg#glyphicons_halflingsregular') format('svg');
}
.glyphicon {
  position: relative;
  top: 1px;
  display: inline-block;
  font-family: 'Glyphicons Halflings';
  font-style: normal;
  font-weight: normal;
  line-height: 1;
  -webkit-font-smoothing: antialiased;
  -moz-osx-font-smoothing: grayscale;
}
.glyphicon-asterisk:before {
  content: "\002a";
}
.glyphicon-plus:before {
  content: "\002b";
}
.glyphicon-euro:before,
.glyphicon-eur:before {
  content: "\20ac";
}
.glyphicon-minus:before {
  content: "\2212";
}
.glyphicon-cloud:before {
  content: "\2601";
}
.glyphicon-envelope:before {
  content: "\2709";
}
.glyphicon-pencil:before {
  content: "\270f";
}
.glyphicon-glass:before {
  content: "\e001";
}
.glyphicon-music:before {
  content: "\e002";
}
.glyphicon-search:before {
  content: "\e003";
}
.glyphicon-heart:before {
  content: "\e005";
}
.glyphicon-star:before {
  content: "\e006";
}
.glyphicon-star-empty:before {
  content: "\e007";
}
.glyphicon-user:before {
  content: "\e008";
}
.glyphicon-film:before {
  content: "\e009";
}
.glyphicon-th-large:before {
  content: "\e010";
}
.glyphicon-th:before {
  content: "\e011";
}
.glyphicon-th-list:before {
  content: "\e012";
}
.glyphicon-ok:before {
  content: "\e013";
}
.glyphicon-remove:before {
  content: "\e014";
}
.glyphicon-zoom-in:before {
  content: "\e015";
}
.glyphicon-zoom-out:before {
  content: "\e016";
}
.glyphicon-off:before {
  content: "\e017";
}
.glyphicon-signal:before {
  content: "\e018";
}
.glyphicon-cog:before {
  content: "\e019";
}
.glyphicon-trash:before {
  content: "\e020";
}
.glyphicon-home:before {
  content: "\e021";
}
.glyphicon-file:before {
  content: "\e022";
}
.glyphicon-time:before {
  content: "\e023";
}
.glyphicon-road:before {
  content: "\e024";
}
.glyphicon-download-alt:before {
  content: "\e025";
}
.glyphicon-download:before {
  content: "\e026";
}
.glyphicon-upload:before {
  content: "\e027";
}
.glyphicon-inbox:before {
  content: "\e028";
}
.glyphicon-play-circle:before {
  content: "\e029";
}
.glyphicon-repeat:before {
  content: "\e030";
}
.glyphicon-refresh:before {
  content: "\e031";
}
.glyphicon-list-alt:before {
  content: "\e032";
}
.glyphicon-lock:before {
  content: "\e033";
}
.glyphicon-flag:before {
  content: "\e034";
}
.glyphicon-headphones:before {
  content: "\e035";
}
.glyphicon-volume-off:before {
  content: "\e036";
}
.glyphicon-volume-down:before {
  content: "\e037";
}
.glyphicon-volume-up:before {
  content: "\e038";
}
.glyphicon-qrcode:before {
  content: "\e039";
}
.glyphicon-barcode:before {
  content: "\e040";
}
.glyphicon-tag:before {
  content: "\e041";
}
.glyphicon-tags:before {
  content: "\e042";
}
.glyphicon-book:before {
  content: "\e043";
}
.glyphicon-bookmark:before {
  content: "\e044";
}
.glyphicon-print:before {
  content: "\e045";
}
.glyphicon-camera:before {
  content: "\e046";
}
.glyphicon-font:before {
  content: "\e047";
}
.glyphicon-bold:before {
  content: "\e048";
}
.glyphicon-italic:before {
  content: "\e049";
}
.glyphicon-text-height:before {
  content: "\e050";
}
.glyphicon-text-width:before {
  content: "\e051";
}
.glyphicon-align-left:before {
  content: "\e052";
}
.glyphicon-align-center:before {
  content: "\e053";
}
.glyphicon-align-right:before {
  content: "\e054";
}
.glyphicon-align-justify:before {
  content: "\e055";
}
.glyphicon-list:before {
  content: "\e056";
}
.glyphicon-indent-left:before {
  content: "\e057";
}
.glyphicon-indent-right:before {
  content: "\e058";
}
.glyphicon-facetime-video:before {
  content: "\e059";
}
.glyphicon-picture:before {
  content: "\e060";
}
.glyphicon-map-marker:before {
  content: "\e062";
}
.glyphicon-adjust:before {
  content: "\e063";
}
.glyphicon-tint:before {
  content: "\e064";
}
.glyphicon-edit:before {
  content: "\e065";
}
.glyphicon-share:before {
  content: "\e066";
}
.glyphicon-check:before {
  content: "\e067";
}
.glyphicon-move:before {
  content: "\e068";
}
.glyphicon-step-backward:before {
  content: "\e069";
}
.glyphicon-fast-backward:before {
  content: "\e070";
}
.glyphicon-backward:before {
  content: "\e071";
}
.glyphicon-play:before {
  content: "\e072";
}
.glyphicon-pause:before {
  content: "\e073";
}
.glyphicon-stop:before {
  content: "\e074";
}
.glyphicon-forward:before {
  content: "\e075";
}
.glyphicon-fast-forward:before {
  content: "\e076";
}
.glyphicon-step-forward:before {
  content: "\e077";
}
.glyphicon-eject:before {
  content: "\e078";
}
.glyphicon-chevron-left:before {
  content: "\e079";
}
.glyphicon-chevron-right:before {
  content: "\e080";
}
.glyphicon-plus-sign:before {
  content: "\e081";
}
.glyphicon-minus-sign:before {
  content: "\e082";
}
.glyphicon-remove-sign:before {
  content: "\e083";
}
.glyphicon-ok-sign:before {
  content: "\e084";
}
.glyphicon-question-sign:before {
  content: "\e085";
}
.glyphicon-info-sign:before {
  content: "\e086";
}
.glyphicon-screenshot:before {
  content: "\e087";
}
.glyphicon-remove-circle:before {
  content: "\e088";
}
.glyphicon-ok-circle:before {
  content: "\e089";
}
.glyphicon-ban-circle:before {
  content: "\e090";
}
.glyphicon-arrow-left:before {
  content: "\e091";
}
.glyphicon-arrow-right:before {
  content: "\e092";
}
.glyphicon-arrow-up:before {
  content: "\e093";
}
.glyphicon-arrow-down:before {
  content: "\e094";
}
.glyphicon-share-alt:before {
  content: "\e095";
}
.glyphicon-resize-full:before {
  content: "\e096";
}
.glyphicon-resize-small:before {
  content: "\e097";
}
.glyphicon-exclamation-sign:before {
  content: "\e101";
}
.glyphicon-gift:before {
  content: "\e102";
}
.glyphicon-leaf:before {
  content: "\e103";
}
.glyphicon-fire:before {
  content: "\e104";
}
.glyphicon-eye-open:before {
  content: "\e105";
}
.glyphicon-eye-close:before {
  content: "\e106";
}
.glyphicon-warning-sign:before {
  content: "\e107";
}
.glyphicon-plane:before {
  content: "\e108";
}
.glyphicon-calendar:before {
  content: "\e109";
}
.glyphicon-random:before {
  content: "\e110";
}
.glyphicon-comment:before {
  content: "\e111";
}
.glyphicon-magnet:before {
  content: "\e112";
}
.glyphicon-chevron-up:before {
  content: "\e113";
}
.glyphicon-chevron-down:before {
  content: "\e114";
}
.glyphicon-retweet:before {
  content: "\e115";
}
.glyphicon-shopping-cart:before {
  content: "\e116";
}
.glyphicon-folder-close:before {
  content: "\e117";
}
.glyphicon-folder-open:before {
  content: "\e118";
}
.glyphicon-resize-vertical:before {
  content: "\e119";
}
.glyphicon-resize-horizontal:before {
  content: "\e120";
}
.glyphicon-hdd:before {
  content: "\e121";
}
.glyphicon-bullhorn:before {
  content: "\e122";
}
.glyphicon-bell:before {
  content: "\e123";
}
.glyphicon-certificate:before {
  content: "\e124";
}
.glyphicon-thumbs-up:before {
  content: "\e125";
}
.glyphicon-thumbs-down:before {
  content: "\e126";
}
.glyphicon-hand-right:before {
  content: "\e127";
}
.glyphicon-hand-left:before {
  content: "\e128";
}
.glyphicon-hand-up:before {
  content: "\e129";
}
.glyphicon-hand-down:before {
  content: "\e130";
}
.glyphicon-circle-arrow-right:before {
  content: "\e131";
}
.glyphicon-circle-arrow-left:before {
  content: "\e132";
}
.glyphicon-circle-arrow-up:before {
  content: "\e133";
}
.glyphicon-circle-arrow-down:before {
  content: "\e134";
}
.glyphicon-globe:before {
  content: "\e135";
}
.glyphicon-wrench:before {
  content: "\e136";
}
.glyphicon-tasks:before {
  content: "\e137";
}
.glyphicon-filter:before {
  content: "\e138";
}
.glyphicon-briefcase:before {
  content: "\e139";
}
.glyphicon-fullscreen:before {
  content: "\e140";
}
.glyphicon-dashboard:before {
  content: "\e141";
}
.glyphicon-paperclip:before {
  content: "\e142";
}
.glyphicon-heart-empty:before {
  content: "\e143";
}
.glyphicon-link:before {
  content: "\e144";
}
.glyphicon-phone:before {
  content: "\e145";
}
.glyphicon-pushpin:before {
  content: "\e146";
}
.glyphicon-usd:before {
  content: "\e148";
}
.glyphicon-gbp:before {
  content: "\e149";
}
.glyphicon-sort:before {
  content: "\e150";
}
.glyphicon-sort-by-alphabet:before {
  content: "\e151";
}
.glyphicon-sort-by-alphabet-alt:before {
  content: "\e152";
}
.glyphicon-sort-by-order:before {
  content: "\e153";
}
.glyphicon-sort-by-order-alt:before {
  content: "\e154";
}
.glyphicon-sort-by-attributes:before {
  content: "\e155";
}
.glyphicon-sort-by-attributes-alt:before {
  content: "\e156";
}
.glyphicon-unchecked:before {
  content: "\e157";
}
.glyphicon-expand:before {
  content: "\e158";
}
.glyphicon-collapse-down:before {
  content: "\e159";
}
.glyphicon-collapse-up:before {
  content: "\e160";
}
.glyphicon-log-in:before {
  content: "\e161";
}
.glyphicon-flash:before {
  content: "\e162";
}
.glyphicon-log-out:before {
  content: "\e163";
}
.glyphicon-new-window:before {
  content: "\e164";
}
.glyphicon-record:before {
  content: "\e165";
}
.glyphicon-save:before {
  content: "\e166";
}
.glyphicon-open:before {
  content: "\e167";
}
.glyphicon-saved:before {
  content: "\e168";
}
.glyphicon-import:before {
  content: "\e169";
}
.glyphicon-export:before {
  content: "\e170";
}
.glyphicon-send:before {
  content: "\e171";
}
.glyphicon-floppy-disk:before {
  content: "\e172";
}
.glyphicon-floppy-saved:before {
  content: "\e173";
}
.glyphicon-floppy-remove:before {
  content: "\e174";
}
.glyphicon-floppy-save:before {
  content: "\e175";
}
.glyphicon-floppy-open:before {
  content: "\e176";
}
.glyphicon-credit-card:before {
  content: "\e177";
}
.glyphicon-transfer:before {
  content: "\e178";
}
.glyphicon-cutlery:before {
  content: "\e179";
}
.glyphicon-header:before {
  content: "\e180";
}
.glyphicon-compressed:before {
  content: "\e181";
}
.glyphicon-earphone:before {
  content: "\e182";
}
.glyphicon-phone-alt:before {
  content: "\e183";
}
.glyphicon-tower:before {
  content: "\e184";
}
.glyphicon-stats:before {
  content: "\e185";
}
.glyphicon-sd-video:before {
  content: "\e186";
}
.glyphicon-hd-video:before {
  content: "\e187";
}
.glyphicon-subtitles:before {
  content: "\e188";
}
.glyphicon-sound-stereo:before {
  content: "\e189";
}
.glyphicon-sound-dolby:before {
  content: "\e190";
}
.glyphicon-sound-5-1:before {
  content: "\e191";
}
.glyphicon-sound-6-1:before {
  content: "\e192";
}
.glyphicon-sound-7-1:before {
  content: "\e193";
}
.glyphicon-copyright-mark:before {
  content: "\e194";
}
.glyphicon-registration-mark:before {
  content: "\e195";
}
.glyphicon-cloud-download:before {
  content: "\e197";
}
.glyphicon-cloud-upload:before {
  content: "\e198";
}
.glyphicon-tree-conifer:before {
  content: "\e199";
}
.glyphicon-tree-deciduous:before {
  content: "\e200";
}
.glyphicon-cd:before {
  content: "\e201";
}
.glyphicon-save-file:before {
  content: "\e202";
}
.glyphicon-open-file:before {
  content: "\e203";
}
.glyphicon-level-up:before {
  content: "\e204";
}
.glyphicon-copy:before {
  content: "\e205";
}
.glyphicon-paste:before {
  content: "\e206";
}
.glyphicon-alert:before {
  content: "\e209";
}
.glyphicon-equalizer:before {
  content: "\e210";
}
.glyphicon-king:before {
  content: "\e211";
}
.glyphicon-queen:before {
  content: "\e212";
}
.glyphicon-pawn:before {
  content: "\e213";
}
.glyphicon-bishop:before {
  content: "\e214";
}
.glyphicon-knight:before {
  content: "\e215";
}
.glyphicon-baby-formula:before {
  content: "\e216";
}
.glyphicon-tent:before {
  content: "\26fa";
}
.glyphicon-blackboard:before {
  content: "\e218";
}
.glyphicon-bed:before {
  content: "\e219";
}
.glyphicon-apple:before {
  content: "\f8ff";
}
.glyphicon-erase:before {
  content: "\e221";
}
.glyphicon-hourglass:before {
  content: "\231b";
}
.glyphicon-lamp:before {
  content: "\e223";
}
.glyphicon-duplicate:before {
  content: "\e224";
}
.glyphicon-piggy-bank:before {
  content: "\e225";
}
.glyphicon-scissors:before {
  content: "\e226";
}
.glyphicon-bitcoin:before {
  content: "\e227";
}
.glyphicon-btc:before {
  content: "\e227";
}
.glyphicon-xbt:before {
  content: "\e227";
}
.glyphicon-yen:before {
  content: "\00a5";
}
.glyphicon-jpy:before {
  content: "\00a5";
}
.glyphicon-ruble:before {
  content: "\20bd";
}
.glyphicon-rub:before {
  content: "\20bd";
}
.glyphicon-scale:before {
  content: "\e230";
}
.glyphicon-ice-lolly:before {
  content: "\e231";
}
.glyphicon-ice-lolly-tasted:before {
  content: "\e232";
}
.glyphicon-education:before {
  content: "\e233";
}
.glyphicon-option-horizontal:before {
  content: "\e234";
}
.glyphicon-option-vertical:before {
  content: "\e235";
}
.glyphicon-menu-hamburger:before {
  content: "\e236";
}
.glyphicon-modal-window:before {
  content: "\e237";
}
.glyphicon-oil:before {
  content: "\e238";
}
.glyphicon-grain:before {
  content: "\e239";
}
.glyphicon-sunglasses:before {
  content: "\e240";
}
.glyphicon-text-size:before {
  content: "\e241";
}
.glyphicon-text-color:before {
  content: "\e242";
}
.glyphicon-text-background:before {
  content: "\e243";
}
.glyphicon-object-align-top:before {
  content: "\e244";
}
.glyphicon-object-align-bottom:before {
  content: "\e245";
}
.glyphicon-object-align-horizontal:before {
  content: "\e246";
}
.glyphicon-object-align-left:before {
  content: "\e247";
}
.glyphicon-object-align-vertical:before {
  content: "\e248";
}
.glyphicon-object-align-right:before {
  content: "\e249";
}
.glyphicon-triangle-right:before {
  content: "\e250";
}
.glyphicon-triangle-left:before {
  content: "\e251";
}
.glyphicon-triangle-bottom:before {
  content: "\e252";
}
.glyphicon-triangle-top:before {
  content: "\e253";
}
.glyphicon-console:before {
  content: "\e254";
}
.glyphicon-superscript:before {
  content: "\e255";
}
.glyphicon-subscript:before {
  content: "\e256";
}
.glyphicon-menu-left:before {
  content: "\e257";
}
.glyphicon-menu-right:before {
  content: "\e258";
}
.glyphicon-menu-down:before {
  content: "\e259";
}
.glyphicon-menu-up:before {
  content: "\e260";
}
* {
  -webkit-box-sizing: border-box;
  -moz-box-sizing: border-box;
  box-sizing: border-box;
}
*:before,
*:after {
  -webkit-box-sizing: border-box;
  -moz-box-sizing: border-box;
  box-sizing: border-box;
}
html {
  font-size: 10px;
  -webkit-tap-highlight-color: rgba(0, 0, 0, 0);
}
body {
  font-family: "Helvetica Neue", Helvetica, Arial, sans-serif;
  font-size: 13px;
  line-height: 1.42857143;
  color: #000;
  background-color: #fff;
}
input,
button,
select,
textarea {
  font-family: inherit;
  font-size: inherit;
  line-height: inherit;
}
a {
  color: #337ab7;
  text-decoration: none;
}
a:hover,
a:focus {
  color: #23527c;
  text-decoration: underline;
}
a:focus {
  outline: 5px auto -webkit-focus-ring-color;
  outline-offset: -2px;
}
figure {
  margin: 0;
}
img {
  vertical-align: middle;
}
.img-responsive,
.thumbnail > img,
.thumbnail a > img,
.carousel-inner > .item > img,
.carousel-inner > .item > a > img {
  display: block;
  max-width: 100%;
  height: auto;
}
.img-rounded {
  border-radius: 3px;
}
.img-thumbnail {
  padding: 4px;
  line-height: 1.42857143;
  background-color: #fff;
  border: 1px solid #ddd;
  border-radius: 2px;
  -webkit-transition: all 0.2s ease-in-out;
  -o-transition: all 0.2s ease-in-out;
  transition: all 0.2s ease-in-out;
  display: inline-block;
  max-width: 100%;
  height: auto;
}
.img-circle {
  border-radius: 50%;
}
hr {
  margin-top: 18px;
  margin-bottom: 18px;
  border: 0;
  border-top: 1px solid #eeeeee;
}
.sr-only {
  position: absolute;
  width: 1px;
  height: 1px;
  margin: -1px;
  padding: 0;
  overflow: hidden;
  clip: rect(0, 0, 0, 0);
  border: 0;
}
.sr-only-focusable:active,
.sr-only-focusable:focus {
  position: static;
  width: auto;
  height: auto;
  margin: 0;
  overflow: visible;
  clip: auto;
}
[role="button"] {
  cursor: pointer;
}
h1,
h2,
h3,
h4,
h5,
h6,
.h1,
.h2,
.h3,
.h4,
.h5,
.h6 {
  font-family: inherit;
  font-weight: 500;
  line-height: 1.1;
  color: inherit;
}
h1 small,
h2 small,
h3 small,
h4 small,
h5 small,
h6 small,
.h1 small,
.h2 small,
.h3 small,
.h4 small,
.h5 small,
.h6 small,
h1 .small,
h2 .small,
h3 .small,
h4 .small,
h5 .small,
h6 .small,
.h1 .small,
.h2 .small,
.h3 .small,
.h4 .small,
.h5 .small,
.h6 .small {
  font-weight: normal;
  line-height: 1;
  color: #777777;
}
h1,
.h1,
h2,
.h2,
h3,
.h3 {
  margin-top: 18px;
  margin-bottom: 9px;
}
h1 small,
.h1 small,
h2 small,
.h2 small,
h3 small,
.h3 small,
h1 .small,
.h1 .small,
h2 .small,
.h2 .small,
h3 .small,
.h3 .small {
  font-size: 65%;
}
h4,
.h4,
h5,
.h5,
h6,
.h6 {
  margin-top: 9px;
  margin-bottom: 9px;
}
h4 small,
.h4 small,
h5 small,
.h5 small,
h6 small,
.h6 small,
h4 .small,
.h4 .small,
h5 .small,
.h5 .small,
h6 .small,
.h6 .small {
  font-size: 75%;
}
h1,
.h1 {
  font-size: 33px;
}
h2,
.h2 {
  font-size: 27px;
}
h3,
.h3 {
  font-size: 23px;
}
h4,
.h4 {
  font-size: 17px;
}
h5,
.h5 {
  font-size: 13px;
}
h6,
.h6 {
  font-size: 12px;
}
p {
  margin: 0 0 9px;
}
.lead {
  margin-bottom: 18px;
  font-size: 14px;
  font-weight: 300;
  line-height: 1.4;
}
@media (min-width: 768px) {
  .lead {
    font-size: 19.5px;
  }
}
small,
.small {
  font-size: 92%;
}
mark,
.mark {
  background-color: #fcf8e3;
  padding: .2em;
}
.text-left {
  text-align: left;
}
.text-right {
  text-align: right;
}
.text-center {
  text-align: center;
}
.text-justify {
  text-align: justify;
}
.text-nowrap {
  white-space: nowrap;
}
.text-lowercase {
  text-transform: lowercase;
}
.text-uppercase {
  text-transform: uppercase;
}
.text-capitalize {
  text-transform: capitalize;
}
.text-muted {
  color: #777777;
}
.text-primary {
  color: #337ab7;
}
a.text-primary:hover,
a.text-primary:focus {
  color: #286090;
}
.text-success {
  color: #3c763d;
}
a.text-success:hover,
a.text-success:focus {
  color: #2b542c;
}
.text-info {
  color: #31708f;
}
a.text-info:hover,
a.text-info:focus {
  color: #245269;
}
.text-warning {
  color: #8a6d3b;
}
a.text-warning:hover,
a.text-warning:focus {
  color: #66512c;
}
.text-danger {
  color: #a94442;
}
a.text-danger:hover,
a.text-danger:focus {
  color: #843534;
}
.bg-primary {
  color: #fff;
  background-color: #337ab7;
}
a.bg-primary:hover,
a.bg-primary:focus {
  background-color: #286090;
}
.bg-success {
  background-color: #dff0d8;
}
a.bg-success:hover,
a.bg-success:focus {
  background-color: #c1e2b3;
}
.bg-info {
  background-color: #d9edf7;
}
a.bg-info:hover,
a.bg-info:focus {
  background-color: #afd9ee;
}
.bg-warning {
  background-color: #fcf8e3;
}
a.bg-warning:hover,
a.bg-warning:focus {
  background-color: #f7ecb5;
}
.bg-danger {
  background-color: #f2dede;
}
a.bg-danger:hover,
a.bg-danger:focus {
  background-color: #e4b9b9;
}
.page-header {
  padding-bottom: 8px;
  margin: 36px 0 18px;
  border-bottom: 1px solid #eeeeee;
}
ul,
ol {
  margin-top: 0;
  margin-bottom: 9px;
}
ul ul,
ol ul,
ul ol,
ol ol {
  margin-bottom: 0;
}
.list-unstyled {
  padding-left: 0;
  list-style: none;
}
.list-inline {
  padding-left: 0;
  list-style: none;
  margin-left: -5px;
}
.list-inline > li {
  display: inline-block;
  padding-left: 5px;
  padding-right: 5px;
}
dl {
  margin-top: 0;
  margin-bottom: 18px;
}
dt,
dd {
  line-height: 1.42857143;
}
dt {
  font-weight: bold;
}
dd {
  margin-left: 0;
}
@media (min-width: 541px) {
  .dl-horizontal dt {
    float: left;
    width: 160px;
    clear: left;
    text-align: right;
    overflow: hidden;
    text-overflow: ellipsis;
    white-space: nowrap;
  }
  .dl-horizontal dd {
    margin-left: 180px;
  }
}
abbr[title],
abbr[data-original-title] {
  cursor: help;
  border-bottom: 1px dotted #777777;
}
.initialism {
  font-size: 90%;
  text-transform: uppercase;
}
blockquote {
  padding: 9px 18px;
  margin: 0 0 18px;
  font-size: inherit;
  border-left: 5px solid #eeeeee;
}
blockquote p:last-child,
blockquote ul:last-child,
blockquote ol:last-child {
  margin-bottom: 0;
}
blockquote footer,
blockquote small,
blockquote .small {
  display: block;
  font-size: 80%;
  line-height: 1.42857143;
  color: #777777;
}
blockquote footer:before,
blockquote small:before,
blockquote .small:before {
  content: '\2014 \00A0';
}
.blockquote-reverse,
blockquote.pull-right {
  padding-right: 15px;
  padding-left: 0;
  border-right: 5px solid #eeeeee;
  border-left: 0;
  text-align: right;
}
.blockquote-reverse footer:before,
blockquote.pull-right footer:before,
.blockquote-reverse small:before,
blockquote.pull-right small:before,
.blockquote-reverse .small:before,
blockquote.pull-right .small:before {
  content: '';
}
.blockquote-reverse footer:after,
blockquote.pull-right footer:after,
.blockquote-reverse small:after,
blockquote.pull-right small:after,
.blockquote-reverse .small:after,
blockquote.pull-right .small:after {
  content: '\00A0 \2014';
}
address {
  margin-bottom: 18px;
  font-style: normal;
  line-height: 1.42857143;
}
code,
kbd,
pre,
samp {
  font-family: monospace;
}
code {
  padding: 2px 4px;
  font-size: 90%;
  color: #c7254e;
  background-color: #f9f2f4;
  border-radius: 2px;
}
kbd {
  padding: 2px 4px;
  font-size: 90%;
  color: #888;
  background-color: transparent;
  border-radius: 1px;
  box-shadow: inset 0 -1px 0 rgba(0, 0, 0, 0.25);
}
kbd kbd {
  padding: 0;
  font-size: 100%;
  font-weight: bold;
  box-shadow: none;
}
pre {
  display: block;
  padding: 8.5px;
  margin: 0 0 9px;
  font-size: 12px;
  line-height: 1.42857143;
  word-break: break-all;
  word-wrap: break-word;
  color: #333333;
  background-color: #f5f5f5;
  border: 1px solid #ccc;
  border-radius: 2px;
}
pre code {
  padding: 0;
  font-size: inherit;
  color: inherit;
  white-space: pre-wrap;
  background-color: transparent;
  border-radius: 0;
}
.pre-scrollable {
  max-height: 340px;
  overflow-y: scroll;
}
.container {
  margin-right: auto;
  margin-left: auto;
  padding-left: 0px;
  padding-right: 0px;
}
@media (min-width: 768px) {
  .container {
    width: 768px;
  }
}
@media (min-width: 992px) {
  .container {
    width: 940px;
  }
}
@media (min-width: 1200px) {
  .container {
    width: 1140px;
  }
}
.container-fluid {
  margin-right: auto;
  margin-left: auto;
  padding-left: 0px;
  padding-right: 0px;
}
.row {
  margin-left: 0px;
  margin-right: 0px;
}
.col-xs-1, .col-sm-1, .col-md-1, .col-lg-1, .col-xs-2, .col-sm-2, .col-md-2, .col-lg-2, .col-xs-3, .col-sm-3, .col-md-3, .col-lg-3, .col-xs-4, .col-sm-4, .col-md-4, .col-lg-4, .col-xs-5, .col-sm-5, .col-md-5, .col-lg-5, .col-xs-6, .col-sm-6, .col-md-6, .col-lg-6, .col-xs-7, .col-sm-7, .col-md-7, .col-lg-7, .col-xs-8, .col-sm-8, .col-md-8, .col-lg-8, .col-xs-9, .col-sm-9, .col-md-9, .col-lg-9, .col-xs-10, .col-sm-10, .col-md-10, .col-lg-10, .col-xs-11, .col-sm-11, .col-md-11, .col-lg-11, .col-xs-12, .col-sm-12, .col-md-12, .col-lg-12 {
  position: relative;
  min-height: 1px;
  padding-left: 0px;
  padding-right: 0px;
}
.col-xs-1, .col-xs-2, .col-xs-3, .col-xs-4, .col-xs-5, .col-xs-6, .col-xs-7, .col-xs-8, .col-xs-9, .col-xs-10, .col-xs-11, .col-xs-12 {
  float: left;
}
.col-xs-12 {
  width: 100%;
}
.col-xs-11 {
  width: 91.66666667%;
}
.col-xs-10 {
  width: 83.33333333%;
}
.col-xs-9 {
  width: 75%;
}
.col-xs-8 {
  width: 66.66666667%;
}
.col-xs-7 {
  width: 58.33333333%;
}
.col-xs-6 {
  width: 50%;
}
.col-xs-5 {
  width: 41.66666667%;
}
.col-xs-4 {
  width: 33.33333333%;
}
.col-xs-3 {
  width: 25%;
}
.col-xs-2 {
  width: 16.66666667%;
}
.col-xs-1 {
  width: 8.33333333%;
}
.col-xs-pull-12 {
  right: 100%;
}
.col-xs-pull-11 {
  right: 91.66666667%;
}
.col-xs-pull-10 {
  right: 83.33333333%;
}
.col-xs-pull-9 {
  right: 75%;
}
.col-xs-pull-8 {
  right: 66.66666667%;
}
.col-xs-pull-7 {
  right: 58.33333333%;
}
.col-xs-pull-6 {
  right: 50%;
}
.col-xs-pull-5 {
  right: 41.66666667%;
}
.col-xs-pull-4 {
  right: 33.33333333%;
}
.col-xs-pull-3 {
  right: 25%;
}
.col-xs-pull-2 {
  right: 16.66666667%;
}
.col-xs-pull-1 {
  right: 8.33333333%;
}
.col-xs-pull-0 {
  right: auto;
}
.col-xs-push-12 {
  left: 100%;
}
.col-xs-push-11 {
  left: 91.66666667%;
}
.col-xs-push-10 {
  left: 83.33333333%;
}
.col-xs-push-9 {
  left: 75%;
}
.col-xs-push-8 {
  left: 66.66666667%;
}
.col-xs-push-7 {
  left: 58.33333333%;
}
.col-xs-push-6 {
  left: 50%;
}
.col-xs-push-5 {
  left: 41.66666667%;
}
.col-xs-push-4 {
  left: 33.33333333%;
}
.col-xs-push-3 {
  left: 25%;
}
.col-xs-push-2 {
  left: 16.66666667%;
}
.col-xs-push-1 {
  left: 8.33333333%;
}
.col-xs-push-0 {
  left: auto;
}
.col-xs-offset-12 {
  margin-left: 100%;
}
.col-xs-offset-11 {
  margin-left: 91.66666667%;
}
.col-xs-offset-10 {
  margin-left: 83.33333333%;
}
.col-xs-offset-9 {
  margin-left: 75%;
}
.col-xs-offset-8 {
  margin-left: 66.66666667%;
}
.col-xs-offset-7 {
  margin-left: 58.33333333%;
}
.col-xs-offset-6 {
  margin-left: 50%;
}
.col-xs-offset-5 {
  margin-left: 41.66666667%;
}
.col-xs-offset-4 {
  margin-left: 33.33333333%;
}
.col-xs-offset-3 {
  margin-left: 25%;
}
.col-xs-offset-2 {
  margin-left: 16.66666667%;
}
.col-xs-offset-1 {
  margin-left: 8.33333333%;
}
.col-xs-offset-0 {
  margin-left: 0%;
}
@media (min-width: 768px) {
  .col-sm-1, .col-sm-2, .col-sm-3, .col-sm-4, .col-sm-5, .col-sm-6, .col-sm-7, .col-sm-8, .col-sm-9, .col-sm-10, .col-sm-11, .col-sm-12 {
    float: left;
  }
  .col-sm-12 {
    width: 100%;
  }
  .col-sm-11 {
    width: 91.66666667%;
  }
  .col-sm-10 {
    width: 83.33333333%;
  }
  .col-sm-9 {
    width: 75%;
  }
  .col-sm-8 {
    width: 66.66666667%;
  }
  .col-sm-7 {
    width: 58.33333333%;
  }
  .col-sm-6 {
    width: 50%;
  }
  .col-sm-5 {
    width: 41.66666667%;
  }
  .col-sm-4 {
    width: 33.33333333%;
  }
  .col-sm-3 {
    width: 25%;
  }
  .col-sm-2 {
    width: 16.66666667%;
  }
  .col-sm-1 {
    width: 8.33333333%;
  }
  .col-sm-pull-12 {
    right: 100%;
  }
  .col-sm-pull-11 {
    right: 91.66666667%;
  }
  .col-sm-pull-10 {
    right: 83.33333333%;
  }
  .col-sm-pull-9 {
    right: 75%;
  }
  .col-sm-pull-8 {
    right: 66.66666667%;
  }
  .col-sm-pull-7 {
    right: 58.33333333%;
  }
  .col-sm-pull-6 {
    right: 50%;
  }
  .col-sm-pull-5 {
    right: 41.66666667%;
  }
  .col-sm-pull-4 {
    right: 33.33333333%;
  }
  .col-sm-pull-3 {
    right: 25%;
  }
  .col-sm-pull-2 {
    right: 16.66666667%;
  }
  .col-sm-pull-1 {
    right: 8.33333333%;
  }
  .col-sm-pull-0 {
    right: auto;
  }
  .col-sm-push-12 {
    left: 100%;
  }
  .col-sm-push-11 {
    left: 91.66666667%;
  }
  .col-sm-push-10 {
    left: 83.33333333%;
  }
  .col-sm-push-9 {
    left: 75%;
  }
  .col-sm-push-8 {
    left: 66.66666667%;
  }
  .col-sm-push-7 {
    left: 58.33333333%;
  }
  .col-sm-push-6 {
    left: 50%;
  }
  .col-sm-push-5 {
    left: 41.66666667%;
  }
  .col-sm-push-4 {
    left: 33.33333333%;
  }
  .col-sm-push-3 {
    left: 25%;
  }
  .col-sm-push-2 {
    left: 16.66666667%;
  }
  .col-sm-push-1 {
    left: 8.33333333%;
  }
  .col-sm-push-0 {
    left: auto;
  }
  .col-sm-offset-12 {
    margin-left: 100%;
  }
  .col-sm-offset-11 {
    margin-left: 91.66666667%;
  }
  .col-sm-offset-10 {
    margin-left: 83.33333333%;
  }
  .col-sm-offset-9 {
    margin-left: 75%;
  }
  .col-sm-offset-8 {
    margin-left: 66.66666667%;
  }
  .col-sm-offset-7 {
    margin-left: 58.33333333%;
  }
  .col-sm-offset-6 {
    margin-left: 50%;
  }
  .col-sm-offset-5 {
    margin-left: 41.66666667%;
  }
  .col-sm-offset-4 {
    margin-left: 33.33333333%;
  }
  .col-sm-offset-3 {
    margin-left: 25%;
  }
  .col-sm-offset-2 {
    margin-left: 16.66666667%;
  }
  .col-sm-offset-1 {
    margin-left: 8.33333333%;
  }
  .col-sm-offset-0 {
    margin-left: 0%;
  }
}
@media (min-width: 992px) {
  .col-md-1, .col-md-2, .col-md-3, .col-md-4, .col-md-5, .col-md-6, .col-md-7, .col-md-8, .col-md-9, .col-md-10, .col-md-11, .col-md-12 {
    float: left;
  }
  .col-md-12 {
    width: 100%;
  }
  .col-md-11 {
    width: 91.66666667%;
  }
  .col-md-10 {
    width: 83.33333333%;
  }
  .col-md-9 {
    width: 75%;
  }
  .col-md-8 {
    width: 66.66666667%;
  }
  .col-md-7 {
    width: 58.33333333%;
  }
  .col-md-6 {
    width: 50%;
  }
  .col-md-5 {
    width: 41.66666667%;
  }
  .col-md-4 {
    width: 33.33333333%;
  }
  .col-md-3 {
    width: 25%;
  }
  .col-md-2 {
    width: 16.66666667%;
  }
  .col-md-1 {
    width: 8.33333333%;
  }
  .col-md-pull-12 {
    right: 100%;
  }
  .col-md-pull-11 {
    right: 91.66666667%;
  }
  .col-md-pull-10 {
    right: 83.33333333%;
  }
  .col-md-pull-9 {
    right: 75%;
  }
  .col-md-pull-8 {
    right: 66.66666667%;
  }
  .col-md-pull-7 {
    right: 58.33333333%;
  }
  .col-md-pull-6 {
    right: 50%;
  }
  .col-md-pull-5 {
    right: 41.66666667%;
  }
  .col-md-pull-4 {
    right: 33.33333333%;
  }
  .col-md-pull-3 {
    right: 25%;
  }
  .col-md-pull-2 {
    right: 16.66666667%;
  }
  .col-md-pull-1 {
    right: 8.33333333%;
  }
  .col-md-pull-0 {
    right: auto;
  }
  .col-md-push-12 {
    left: 100%;
  }
  .col-md-push-11 {
    left: 91.66666667%;
  }
  .col-md-push-10 {
    left: 83.33333333%;
  }
  .col-md-push-9 {
    left: 75%;
  }
  .col-md-push-8 {
    left: 66.66666667%;
  }
  .col-md-push-7 {
    left: 58.33333333%;
  }
  .col-md-push-6 {
    left: 50%;
  }
  .col-md-push-5 {
    left: 41.66666667%;
  }
  .col-md-push-4 {
    left: 33.33333333%;
  }
  .col-md-push-3 {
    left: 25%;
  }
  .col-md-push-2 {
    left: 16.66666667%;
  }
  .col-md-push-1 {
    left: 8.33333333%;
  }
  .col-md-push-0 {
    left: auto;
  }
  .col-md-offset-12 {
    margin-left: 100%;
  }
  .col-md-offset-11 {
    margin-left: 91.66666667%;
  }
  .col-md-offset-10 {
    margin-left: 83.33333333%;
  }
  .col-md-offset-9 {
    margin-left: 75%;
  }
  .col-md-offset-8 {
    margin-left: 66.66666667%;
  }
  .col-md-offset-7 {
    margin-left: 58.33333333%;
  }
  .col-md-offset-6 {
    margin-left: 50%;
  }
  .col-md-offset-5 {
    margin-left: 41.66666667%;
  }
  .col-md-offset-4 {
    margin-left: 33.33333333%;
  }
  .col-md-offset-3 {
    margin-left: 25%;
  }
  .col-md-offset-2 {
    margin-left: 16.66666667%;
  }
  .col-md-offset-1 {
    margin-left: 8.33333333%;
  }
  .col-md-offset-0 {
    margin-left: 0%;
  }
}
@media (min-width: 1200px) {
  .col-lg-1, .col-lg-2, .col-lg-3, .col-lg-4, .col-lg-5, .col-lg-6, .col-lg-7, .col-lg-8, .col-lg-9, .col-lg-10, .col-lg-11, .col-lg-12 {
    float: left;
  }
  .col-lg-12 {
    width: 100%;
  }
  .col-lg-11 {
    width: 91.66666667%;
  }
  .col-lg-10 {
    width: 83.33333333%;
  }
  .col-lg-9 {
    width: 75%;
  }
  .col-lg-8 {
    width: 66.66666667%;
  }
  .col-lg-7 {
    width: 58.33333333%;
  }
  .col-lg-6 {
    width: 50%;
  }
  .col-lg-5 {
    width: 41.66666667%;
  }
  .col-lg-4 {
    width: 33.33333333%;
  }
  .col-lg-3 {
    width: 25%;
  }
  .col-lg-2 {
    width: 16.66666667%;
  }
  .col-lg-1 {
    width: 8.33333333%;
  }
  .col-lg-pull-12 {
    right: 100%;
  }
  .col-lg-pull-11 {
    right: 91.66666667%;
  }
  .col-lg-pull-10 {
    right: 83.33333333%;
  }
  .col-lg-pull-9 {
    right: 75%;
  }
  .col-lg-pull-8 {
    right: 66.66666667%;
  }
  .col-lg-pull-7 {
    right: 58.33333333%;
  }
  .col-lg-pull-6 {
    right: 50%;
  }
  .col-lg-pull-5 {
    right: 41.66666667%;
  }
  .col-lg-pull-4 {
    right: 33.33333333%;
  }
  .col-lg-pull-3 {
    right: 25%;
  }
  .col-lg-pull-2 {
    right: 16.66666667%;
  }
  .col-lg-pull-1 {
    right: 8.33333333%;
  }
  .col-lg-pull-0 {
    right: auto;
  }
  .col-lg-push-12 {
    left: 100%;
  }
  .col-lg-push-11 {
    left: 91.66666667%;
  }
  .col-lg-push-10 {
    left: 83.33333333%;
  }
  .col-lg-push-9 {
    left: 75%;
  }
  .col-lg-push-8 {
    left: 66.66666667%;
  }
  .col-lg-push-7 {
    left: 58.33333333%;
  }
  .col-lg-push-6 {
    left: 50%;
  }
  .col-lg-push-5 {
    left: 41.66666667%;
  }
  .col-lg-push-4 {
    left: 33.33333333%;
  }
  .col-lg-push-3 {
    left: 25%;
  }
  .col-lg-push-2 {
    left: 16.66666667%;
  }
  .col-lg-push-1 {
    left: 8.33333333%;
  }
  .col-lg-push-0 {
    left: auto;
  }
  .col-lg-offset-12 {
    margin-left: 100%;
  }
  .col-lg-offset-11 {
    margin-left: 91.66666667%;
  }
  .col-lg-offset-10 {
    margin-left: 83.33333333%;
  }
  .col-lg-offset-9 {
    margin-left: 75%;
  }
  .col-lg-offset-8 {
    margin-left: 66.66666667%;
  }
  .col-lg-offset-7 {
    margin-left: 58.33333333%;
  }
  .col-lg-offset-6 {
    margin-left: 50%;
  }
  .col-lg-offset-5 {
    margin-left: 41.66666667%;
  }
  .col-lg-offset-4 {
    margin-left: 33.33333333%;
  }
  .col-lg-offset-3 {
    margin-left: 25%;
  }
  .col-lg-offset-2 {
    margin-left: 16.66666667%;
  }
  .col-lg-offset-1 {
    margin-left: 8.33333333%;
  }
  .col-lg-offset-0 {
    margin-left: 0%;
  }
}
table {
  background-color: transparent;
}
caption {
  padding-top: 8px;
  padding-bottom: 8px;
  color: #777777;
  text-align: left;
}
th {
  text-align: left;
}
.table {
  width: 100%;
  max-width: 100%;
  margin-bottom: 18px;
}
.table > thead > tr > th,
.table > tbody > tr > th,
.table > tfoot > tr > th,
.table > thead > tr > td,
.table > tbody > tr > td,
.table > tfoot > tr > td {
  padding: 8px;
  line-height: 1.42857143;
  vertical-align: top;
  border-top: 1px solid #ddd;
}
.table > thead > tr > th {
  vertical-align: bottom;
  border-bottom: 2px solid #ddd;
}
.table > caption + thead > tr:first-child > th,
.table > colgroup + thead > tr:first-child > th,
.table > thead:first-child > tr:first-child > th,
.table > caption + thead > tr:first-child > td,
.table > colgroup + thead > tr:first-child > td,
.table > thead:first-child > tr:first-child > td {
  border-top: 0;
}
.table > tbody + tbody {
  border-top: 2px solid #ddd;
}
.table .table {
  background-color: #fff;
}
.table-condensed > thead > tr > th,
.table-condensed > tbody > tr > th,
.table-condensed > tfoot > tr > th,
.table-condensed > thead > tr > td,
.table-condensed > tbody > tr > td,
.table-condensed > tfoot > tr > td {
  padding: 5px;
}
.table-bordered {
  border: 1px solid #ddd;
}
.table-bordered > thead > tr > th,
.table-bordered > tbody > tr > th,
.table-bordered > tfoot > tr > th,
.table-bordered > thead > tr > td,
.table-bordered > tbody > tr > td,
.table-bordered > tfoot > tr > td {
  border: 1px solid #ddd;
}
.table-bordered > thead > tr > th,
.table-bordered > thead > tr > td {
  border-bottom-width: 2px;
}
.table-striped > tbody > tr:nth-of-type(odd) {
  background-color: #f9f9f9;
}
.table-hover > tbody > tr:hover {
  background-color: #f5f5f5;
}
table col[class*="col-"] {
  position: static;
  float: none;
  display: table-column;
}
table td[class*="col-"],
table th[class*="col-"] {
  position: static;
  float: none;
  display: table-cell;
}
.table > thead > tr > td.active,
.table > tbody > tr > td.active,
.table > tfoot > tr > td.active,
.table > thead > tr > th.active,
.table > tbody > tr > th.active,
.table > tfoot > tr > th.active,
.table > thead > tr.active > td,
.table > tbody > tr.active > td,
.table > tfoot > tr.active > td,
.table > thead > tr.active > th,
.table > tbody > tr.active > th,
.table > tfoot > tr.active > th {
  background-color: #f5f5f5;
}
.table-hover > tbody > tr > td.active:hover,
.table-hover > tbody > tr > th.active:hover,
.table-hover > tbody > tr.active:hover > td,
.table-hover > tbody > tr:hover > .active,
.table-hover > tbody > tr.active:hover > th {
  background-color: #e8e8e8;
}
.table > thead > tr > td.success,
.table > tbody > tr > td.success,
.table > tfoot > tr > td.success,
.table > thead > tr > th.success,
.table > tbody > tr > th.success,
.table > tfoot > tr > th.success,
.table > thead > tr.success > td,
.table > tbody > tr.success > td,
.table > tfoot > tr.success > td,
.table > thead > tr.success > th,
.table > tbody > tr.success > th,
.table > tfoot > tr.success > th {
  background-color: #dff0d8;
}
.table-hover > tbody > tr > td.success:hover,
.table-hover > tbody > tr > th.success:hover,
.table-hover > tbody > tr.success:hover > td,
.table-hover > tbody > tr:hover > .success,
.table-hover > tbody > tr.success:hover > th {
  background-color: #d0e9c6;
}
.table > thead > tr > td.info,
.table > tbody > tr > td.info,
.table > tfoot > tr > td.info,
.table > thead > tr > th.info,
.table > tbody > tr > th.info,
.table > tfoot > tr > th.info,
.table > thead > tr.info > td,
.table > tbody > tr.info > td,
.table > tfoot > tr.info > td,
.table > thead > tr.info > th,
.table > tbody > tr.info > th,
.table > tfoot > tr.info > th {
  background-color: #d9edf7;
}
.table-hover > tbody > tr > td.info:hover,
.table-hover > tbody > tr > th.info:hover,
.table-hover > tbody > tr.info:hover > td,
.table-hover > tbody > tr:hover > .info,
.table-hover > tbody > tr.info:hover > th {
  background-color: #c4e3f3;
}
.table > thead > tr > td.warning,
.table > tbody > tr > td.warning,
.table > tfoot > tr > td.warning,
.table > thead > tr > th.warning,
.table > tbody > tr > th.warning,
.table > tfoot > tr > th.warning,
.table > thead > tr.warning > td,
.table > tbody > tr.warning > td,
.table > tfoot > tr.warning > td,
.table > thead > tr.warning > th,
.table > tbody > tr.warning > th,
.table > tfoot > tr.warning > th {
  background-color: #fcf8e3;
}
.table-hover > tbody > tr > td.warning:hover,
.table-hover > tbody > tr > th.warning:hover,
.table-hover > tbody > tr.warning:hover > td,
.table-hover > tbody > tr:hover > .warning,
.table-hover > tbody > tr.warning:hover > th {
  background-color: #faf2cc;
}
.table > thead > tr > td.danger,
.table > tbody > tr > td.danger,
.table > tfoot > tr > td.danger,
.table > thead > tr > th.danger,
.table > tbody > tr > th.danger,
.table > tfoot > tr > th.danger,
.table > thead > tr.danger > td,
.table > tbody > tr.danger > td,
.table > tfoot > tr.danger > td,
.table > thead > tr.danger > th,
.table > tbody > tr.danger > th,
.table > tfoot > tr.danger > th {
  background-color: #f2dede;
}
.table-hover > tbody > tr > td.danger:hover,
.table-hover > tbody > tr > th.danger:hover,
.table-hover > tbody > tr.danger:hover > td,
.table-hover > tbody > tr:hover > .danger,
.table-hover > tbody > tr.danger:hover > th {
  background-color: #ebcccc;
}
.table-responsive {
  overflow-x: auto;
  min-height: 0.01%;
}
@media screen and (max-width: 767px) {
  .table-responsive {
    width: 100%;
    margin-bottom: 13.5px;
    overflow-y: hidden;
    -ms-overflow-style: -ms-autohiding-scrollbar;
    border: 1px solid #ddd;
  }
  .table-responsive > .table {
    margin-bottom: 0;
  }
  .table-responsive > .table > thead > tr > th,
  .table-responsive > .table > tbody > tr > th,
  .table-responsive > .table > tfoot > tr > th,
  .table-responsive > .table > thead > tr > td,
  .table-responsive > .table > tbody > tr > td,
  .table-responsive > .table > tfoot > tr > td {
    white-space: nowrap;
  }
  .table-responsive > .table-bordered {
    border: 0;
  }
  .table-responsive > .table-bordered > thead > tr > th:first-child,
  .table-responsive > .table-bordered > tbody > tr > th:first-child,
  .table-responsive > .table-bordered > tfoot > tr > th:first-child,
  .table-responsive > .table-bordered > thead > tr > td:first-child,
  .table-responsive > .table-bordered > tbody > tr > td:first-child,
  .table-responsive > .table-bordered > tfoot > tr > td:first-child {
    border-left: 0;
  }
  .table-responsive > .table-bordered > thead > tr > th:last-child,
  .table-responsive > .table-bordered > tbody > tr > th:last-child,
  .table-responsive > .table-bordered > tfoot > tr > th:last-child,
  .table-responsive > .table-bordered > thead > tr > td:last-child,
  .table-responsive > .table-bordered > tbody > tr > td:last-child,
  .table-responsive > .table-bordered > tfoot > tr > td:last-child {
    border-right: 0;
  }
  .table-responsive > .table-bordered > tbody > tr:last-child > th,
  .table-responsive > .table-bordered > tfoot > tr:last-child > th,
  .table-responsive > .table-bordered > tbody > tr:last-child > td,
  .table-responsive > .table-bordered > tfoot > tr:last-child > td {
    border-bottom: 0;
  }
}
fieldset {
  padding: 0;
  margin: 0;
  border: 0;
  min-width: 0;
}
legend {
  display: block;
  width: 100%;
  padding: 0;
  margin-bottom: 18px;
  font-size: 19.5px;
  line-height: inherit;
  color: #333333;
  border: 0;
  border-bottom: 1px solid #e5e5e5;
}
label {
  display: inline-block;
  max-width: 100%;
  margin-bottom: 5px;
  font-weight: bold;
}
input[type="search"] {
  -webkit-box-sizing: border-box;
  -moz-box-sizing: border-box;
  box-sizing: border-box;
}
input[type="radio"],
input[type="checkbox"] {
  margin: 4px 0 0;
  margin-top: 1px \9;
  line-height: normal;
}
input[type="file"] {
  display: block;
}
input[type="range"] {
  display: block;
  width: 100%;
}
select[multiple],
select[size] {
  height: auto;
}
input[type="file"]:focus,
input[type="radio"]:focus,
input[type="checkbox"]:focus {
  outline: 5px auto -webkit-focus-ring-color;
  outline-offset: -2px;
}
output {
  display: block;
  padding-top: 7px;
  font-size: 13px;
  line-height: 1.42857143;
  color: #555555;
}
.form-control {
  display: block;
  width: 100%;
  height: 32px;
  padding: 6px 12px;
  font-size: 13px;
  line-height: 1.42857143;
  color: #555555;
  background-color: #fff;
  background-image: none;
  border: 1px solid #ccc;
  border-radius: 2px;
  -webkit-box-shadow: inset 0 1px 1px rgba(0, 0, 0, 0.075);
  box-shadow: inset 0 1px 1px rgba(0, 0, 0, 0.075);
  -webkit-transition: border-color ease-in-out .15s, box-shadow ease-in-out .15s;
  -o-transition: border-color ease-in-out .15s, box-shadow ease-in-out .15s;
  transition: border-color ease-in-out .15s, box-shadow ease-in-out .15s;
}
.form-control:focus {
  border-color: #66afe9;
  outline: 0;
  -webkit-box-shadow: inset 0 1px 1px rgba(0,0,0,.075), 0 0 8px rgba(102, 175, 233, 0.6);
  box-shadow: inset 0 1px 1px rgba(0,0,0,.075), 0 0 8px rgba(102, 175, 233, 0.6);
}
.form-control::-moz-placeholder {
  color: #999;
  opacity: 1;
}
.form-control:-ms-input-placeholder {
  color: #999;
}
.form-control::-webkit-input-placeholder {
  color: #999;
}
.form-control::-ms-expand {
  border: 0;
  background-color: transparent;
}
.form-control[disabled],
.form-control[readonly],
fieldset[disabled] .form-control {
  background-color: #eeeeee;
  opacity: 1;
}
.form-control[disabled],
fieldset[disabled] .form-control {
  cursor: not-allowed;
}
textarea.form-control {
  height: auto;
}
input[type="search"] {
  -webkit-appearance: none;
}
@media screen and (-webkit-min-device-pixel-ratio: 0) {
  input[type="date"].form-control,
  input[type="time"].form-control,
  input[type="datetime-local"].form-control,
  input[type="month"].form-control {
    line-height: 32px;
  }
  input[type="date"].input-sm,
  input[type="time"].input-sm,
  input[type="datetime-local"].input-sm,
  input[type="month"].input-sm,
  .input-group-sm input[type="date"],
  .input-group-sm input[type="time"],
  .input-group-sm input[type="datetime-local"],
  .input-group-sm input[type="month"] {
    line-height: 30px;
  }
  input[type="date"].input-lg,
  input[type="time"].input-lg,
  input[type="datetime-local"].input-lg,
  input[type="month"].input-lg,
  .input-group-lg input[type="date"],
  .input-group-lg input[type="time"],
  .input-group-lg input[type="datetime-local"],
  .input-group-lg input[type="month"] {
    line-height: 45px;
  }
}
.form-group {
  margin-bottom: 15px;
}
.radio,
.checkbox {
  position: relative;
  display: block;
  margin-top: 10px;
  margin-bottom: 10px;
}
.radio label,
.checkbox label {
  min-height: 18px;
  padding-left: 20px;
  margin-bottom: 0;
  font-weight: normal;
  cursor: pointer;
}
.radio input[type="radio"],
.radio-inline input[type="radio"],
.checkbox input[type="checkbox"],
.checkbox-inline input[type="checkbox"] {
  position: absolute;
  margin-left: -20px;
  margin-top: 4px \9;
}
.radio + .radio,
.checkbox + .checkbox {
  margin-top: -5px;
}
.radio-inline,
.checkbox-inline {
  position: relative;
  display: inline-block;
  padding-left: 20px;
  margin-bottom: 0;
  vertical-align: middle;
  font-weight: normal;
  cursor: pointer;
}
.radio-inline + .radio-inline,
.checkbox-inline + .checkbox-inline {
  margin-top: 0;
  margin-left: 10px;
}
input[type="radio"][disabled],
input[type="checkbox"][disabled],
input[type="radio"].disabled,
input[type="checkbox"].disabled,
fieldset[disabled] input[type="radio"],
fieldset[disabled] input[type="checkbox"] {
  cursor: not-allowed;
}
.radio-inline.disabled,
.checkbox-inline.disabled,
fieldset[disabled] .radio-inline,
fieldset[disabled] .checkbox-inline {
  cursor: not-allowed;
}
.radio.disabled label,
.checkbox.disabled label,
fieldset[disabled] .radio label,
fieldset[disabled] .checkbox label {
  cursor: not-allowed;
}
.form-control-static {
  padding-top: 7px;
  padding-bottom: 7px;
  margin-bottom: 0;
  min-height: 31px;
}
.form-control-static.input-lg,
.form-control-static.input-sm {
  padding-left: 0;
  padding-right: 0;
}
.input-sm {
  height: 30px;
  padding: 5px 10px;
  font-size: 12px;
  line-height: 1.5;
  border-radius: 1px;
}
select.input-sm {
  height: 30px;
  line-height: 30px;
}
textarea.input-sm,
select[multiple].input-sm {
  height: auto;
}
.form-group-sm .form-control {
  height: 30px;
  padding: 5px 10px;
  font-size: 12px;
  line-height: 1.5;
  border-radius: 1px;
}
.form-group-sm select.form-control {
  height: 30px;
  line-height: 30px;
}
.form-group-sm textarea.form-control,
.form-group-sm select[multiple].form-control {
  height: auto;
}
.form-group-sm .form-control-static {
  height: 30px;
  min-height: 30px;
  padding: 6px 10px;
  font-size: 12px;
  line-height: 1.5;
}
.input-lg {
  height: 45px;
  padding: 10px 16px;
  font-size: 17px;
  line-height: 1.3333333;
  border-radius: 3px;
}
select.input-lg {
  height: 45px;
  line-height: 45px;
}
textarea.input-lg,
select[multiple].input-lg {
  height: auto;
}
.form-group-lg .form-control {
  height: 45px;
  padding: 10px 16px;
  font-size: 17px;
  line-height: 1.3333333;
  border-radius: 3px;
}
.form-group-lg select.form-control {
  height: 45px;
  line-height: 45px;
}
.form-group-lg textarea.form-control,
.form-group-lg select[multiple].form-control {
  height: auto;
}
.form-group-lg .form-control-static {
  height: 45px;
  min-height: 35px;
  padding: 11px 16px;
  font-size: 17px;
  line-height: 1.3333333;
}
.has-feedback {
  position: relative;
}
.has-feedback .form-control {
  padding-right: 40px;
}
.form-control-feedback {
  position: absolute;
  top: 0;
  right: 0;
  z-index: 2;
  display: block;
  width: 32px;
  height: 32px;
  line-height: 32px;
  text-align: center;
  pointer-events: none;
}
.input-lg + .form-control-feedback,
.input-group-lg + .form-control-feedback,
.form-group-lg .form-control + .form-control-feedback {
  width: 45px;
  height: 45px;
  line-height: 45px;
}
.input-sm + .form-control-feedback,
.input-group-sm + .form-control-feedback,
.form-group-sm .form-control + .form-control-feedback {
  width: 30px;
  height: 30px;
  line-height: 30px;
}
.has-success .help-block,
.has-success .control-label,
.has-success .radio,
.has-success .checkbox,
.has-success .radio-inline,
.has-success .checkbox-inline,
.has-success.radio label,
.has-success.checkbox label,
.has-success.radio-inline label,
.has-success.checkbox-inline label {
  color: #3c763d;
}
.has-success .form-control {
  border-color: #3c763d;
  -webkit-box-shadow: inset 0 1px 1px rgba(0, 0, 0, 0.075);
  box-shadow: inset 0 1px 1px rgba(0, 0, 0, 0.075);
}
.has-success .form-control:focus {
  border-color: #2b542c;
  -webkit-box-shadow: inset 0 1px 1px rgba(0, 0, 0, 0.075), 0 0 6px #67b168;
  box-shadow: inset 0 1px 1px rgba(0, 0, 0, 0.075), 0 0 6px #67b168;
}
.has-success .input-group-addon {
  color: #3c763d;
  border-color: #3c763d;
  background-color: #dff0d8;
}
.has-success .form-control-feedback {
  color: #3c763d;
}
.has-warning .help-block,
.has-warning .control-label,
.has-warning .radio,
.has-warning .checkbox,
.has-warning .radio-inline,
.has-warning .checkbox-inline,
.has-warning.radio label,
.has-warning.checkbox label,
.has-warning.radio-inline label,
.has-warning.checkbox-inline label {
  color: #8a6d3b;
}
.has-warning .form-control {
  border-color: #8a6d3b;
  -webkit-box-shadow: inset 0 1px 1px rgba(0, 0, 0, 0.075);
  box-shadow: inset 0 1px 1px rgba(0, 0, 0, 0.075);
}
.has-warning .form-control:focus {
  border-color: #66512c;
  -webkit-box-shadow: inset 0 1px 1px rgba(0, 0, 0, 0.075), 0 0 6px #c0a16b;
  box-shadow: inset 0 1px 1px rgba(0, 0, 0, 0.075), 0 0 6px #c0a16b;
}
.has-warning .input-group-addon {
  color: #8a6d3b;
  border-color: #8a6d3b;
  background-color: #fcf8e3;
}
.has-warning .form-control-feedback {
  color: #8a6d3b;
}
.has-error .help-block,
.has-error .control-label,
.has-error .radio,
.has-error .checkbox,
.has-error .radio-inline,
.has-error .checkbox-inline,
.has-error.radio label,
.has-error.checkbox label,
.has-error.radio-inline label,
.has-error.checkbox-inline label {
  color: #a94442;
}
.has-error .form-control {
  border-color: #a94442;
  -webkit-box-shadow: inset 0 1px 1px rgba(0, 0, 0, 0.075);
  box-shadow: inset 0 1px 1px rgba(0, 0, 0, 0.075);
}
.has-error .form-control:focus {
  border-color: #843534;
  -webkit-box-shadow: inset 0 1px 1px rgba(0, 0, 0, 0.075), 0 0 6px #ce8483;
  box-shadow: inset 0 1px 1px rgba(0, 0, 0, 0.075), 0 0 6px #ce8483;
}
.has-error .input-group-addon {
  color: #a94442;
  border-color: #a94442;
  background-color: #f2dede;
}
.has-error .form-control-feedback {
  color: #a94442;
}
.has-feedback label ~ .form-control-feedback {
  top: 23px;
}
.has-feedback label.sr-only ~ .form-control-feedback {
  top: 0;
}
.help-block {
  display: block;
  margin-top: 5px;
  margin-bottom: 10px;
  color: #404040;
}
@media (min-width: 768px) {
  .form-inline .form-group {
    display: inline-block;
    margin-bottom: 0;
    vertical-align: middle;
  }
  .form-inline .form-control {
    display: inline-block;
    width: auto;
    vertical-align: middle;
  }
  .form-inline .form-control-static {
    display: inline-block;
  }
  .form-inline .input-group {
    display: inline-table;
    vertical-align: middle;
  }
  .form-inline .input-group .input-group-addon,
  .form-inline .input-group .input-group-btn,
  .form-inline .input-group .form-control {
    width: auto;
  }
  .form-inline .input-group > .form-control {
    width: 100%;
  }
  .form-inline .control-label {
    margin-bottom: 0;
    vertical-align: middle;
  }
  .form-inline .radio,
  .form-inline .checkbox {
    display: inline-block;
    margin-top: 0;
    margin-bottom: 0;
    vertical-align: middle;
  }
  .form-inline .radio label,
  .form-inline .checkbox label {
    padding-left: 0;
  }
  .form-inline .radio input[type="radio"],
  .form-inline .checkbox input[type="checkbox"] {
    position: relative;
    margin-left: 0;
  }
  .form-inline .has-feedback .form-control-feedback {
    top: 0;
  }
}
.form-horizontal .radio,
.form-horizontal .checkbox,
.form-horizontal .radio-inline,
.form-horizontal .checkbox-inline {
  margin-top: 0;
  margin-bottom: 0;
  padding-top: 7px;
}
.form-horizontal .radio,
.form-horizontal .checkbox {
  min-height: 25px;
}
.form-horizontal .form-group {
  margin-left: 0px;
  margin-right: 0px;
}
@media (min-width: 768px) {
  .form-horizontal .control-label {
    text-align: right;
    margin-bottom: 0;
    padding-top: 7px;
  }
}
.form-horizontal .has-feedback .form-control-feedback {
  right: 0px;
}
@media (min-width: 768px) {
  .form-horizontal .form-group-lg .control-label {
    padding-top: 11px;
    font-size: 17px;
  }
}
@media (min-width: 768px) {
  .form-horizontal .form-group-sm .control-label {
    padding-top: 6px;
    font-size: 12px;
  }
}
.btn {
  display: inline-block;
  margin-bottom: 0;
  font-weight: normal;
  text-align: center;
  vertical-align: middle;
  touch-action: manipulation;
  cursor: pointer;
  background-image: none;
  border: 1px solid transparent;
  white-space: nowrap;
  padding: 6px 12px;
  font-size: 13px;
  line-height: 1.42857143;
  border-radius: 2px;
  -webkit-user-select: none;
  -moz-user-select: none;
  -ms-user-select: none;
  user-select: none;
}
.btn:focus,
.btn:active:focus,
.btn.active:focus,
.btn.focus,
.btn:active.focus,
.btn.active.focus {
  outline: 5px auto -webkit-focus-ring-color;
  outline-offset: -2px;
}
.btn:hover,
.btn:focus,
.btn.focus {
  color: #333;
  text-decoration: none;
}
.btn:active,
.btn.active {
  outline: 0;
  background-image: none;
  -webkit-box-shadow: inset 0 3px 5px rgba(0, 0, 0, 0.125);
  box-shadow: inset 0 3px 5px rgba(0, 0, 0, 0.125);
}
.btn.disabled,
.btn[disabled],
fieldset[disabled] .btn {
  cursor: not-allowed;
  opacity: 0.65;
  filter: alpha(opacity=65);
  -webkit-box-shadow: none;
  box-shadow: none;
}
a.btn.disabled,
fieldset[disabled] a.btn {
  pointer-events: none;
}
.btn-default {
  color: #333;
  background-color: #fff;
  border-color: #ccc;
}
.btn-default:focus,
.btn-default.focus {
  color: #333;
  background-color: #e6e6e6;
  border-color: #8c8c8c;
}
.btn-default:hover {
  color: #333;
  background-color: #e6e6e6;
  border-color: #adadad;
}
.btn-default:active,
.btn-default.active,
.open > .dropdown-toggle.btn-default {
  color: #333;
  background-color: #e6e6e6;
  border-color: #adadad;
}
.btn-default:active:hover,
.btn-default.active:hover,
.open > .dropdown-toggle.btn-default:hover,
.btn-default:active:focus,
.btn-default.active:focus,
.open > .dropdown-toggle.btn-default:focus,
.btn-default:active.focus,
.btn-default.active.focus,
.open > .dropdown-toggle.btn-default.focus {
  color: #333;
  background-color: #d4d4d4;
  border-color: #8c8c8c;
}
.btn-default:active,
.btn-default.active,
.open > .dropdown-toggle.btn-default {
  background-image: none;
}
.btn-default.disabled:hover,
.btn-default[disabled]:hover,
fieldset[disabled] .btn-default:hover,
.btn-default.disabled:focus,
.btn-default[disabled]:focus,
fieldset[disabled] .btn-default:focus,
.btn-default.disabled.focus,
.btn-default[disabled].focus,
fieldset[disabled] .btn-default.focus {
  background-color: #fff;
  border-color: #ccc;
}
.btn-default .badge {
  color: #fff;
  background-color: #333;
}
.btn-primary {
  color: #fff;
  background-color: #337ab7;
  border-color: #2e6da4;
}
.btn-primary:focus,
.btn-primary.focus {
  color: #fff;
  background-color: #286090;
  border-color: #122b40;
}
.btn-primary:hover {
  color: #fff;
  background-color: #286090;
  border-color: #204d74;
}
.btn-primary:active,
.btn-primary.active,
.open > .dropdown-toggle.btn-primary {
  color: #fff;
  background-color: #286090;
  border-color: #204d74;
}
.btn-primary:active:hover,
.btn-primary.active:hover,
.open > .dropdown-toggle.btn-primary:hover,
.btn-primary:active:focus,
.btn-primary.active:focus,
.open > .dropdown-toggle.btn-primary:focus,
.btn-primary:active.focus,
.btn-primary.active.focus,
.open > .dropdown-toggle.btn-primary.focus {
  color: #fff;
  background-color: #204d74;
  border-color: #122b40;
}
.btn-primary:active,
.btn-primary.active,
.open > .dropdown-toggle.btn-primary {
  background-image: none;
}
.btn-primary.disabled:hover,
.btn-primary[disabled]:hover,
fieldset[disabled] .btn-primary:hover,
.btn-primary.disabled:focus,
.btn-primary[disabled]:focus,
fieldset[disabled] .btn-primary:focus,
.btn-primary.disabled.focus,
.btn-primary[disabled].focus,
fieldset[disabled] .btn-primary.focus {
  background-color: #337ab7;
  border-color: #2e6da4;
}
.btn-primary .badge {
  color: #337ab7;
  background-color: #fff;
}
.btn-success {
  color: #fff;
  background-color: #5cb85c;
  border-color: #4cae4c;
}
.btn-success:focus,
.btn-success.focus {
  color: #fff;
  background-color: #449d44;
  border-color: #255625;
}
.btn-success:hover {
  color: #fff;
  background-color: #449d44;
  border-color: #398439;
}
.btn-success:active,
.btn-success.active,
.open > .dropdown-toggle.btn-success {
  color: #fff;
  background-color: #449d44;
  border-color: #398439;
}
.btn-success:active:hover,
.btn-success.active:hover,
.open > .dropdown-toggle.btn-success:hover,
.btn-success:active:focus,
.btn-success.active:focus,
.open > .dropdown-toggle.btn-success:focus,
.btn-success:active.focus,
.btn-success.active.focus,
.open > .dropdown-toggle.btn-success.focus {
  color: #fff;
  background-color: #398439;
  border-color: #255625;
}
.btn-success:active,
.btn-success.active,
.open > .dropdown-toggle.btn-success {
  background-image: none;
}
.btn-success.disabled:hover,
.btn-success[disabled]:hover,
fieldset[disabled] .btn-success:hover,
.btn-success.disabled:focus,
.btn-success[disabled]:focus,
fieldset[disabled] .btn-success:focus,
.btn-success.disabled.focus,
.btn-success[disabled].focus,
fieldset[disabled] .btn-success.focus {
  background-color: #5cb85c;
  border-color: #4cae4c;
}
.btn-success .badge {
  color: #5cb85c;
  background-color: #fff;
}
.btn-info {
  color: #fff;
  background-color: #5bc0de;
  border-color: #46b8da;
}
.btn-info:focus,
.btn-info.focus {
  color: #fff;
  background-color: #31b0d5;
  border-color: #1b6d85;
}
.btn-info:hover {
  color: #fff;
  background-color: #31b0d5;
  border-color: #269abc;
}
.btn-info:active,
.btn-info.active,
.open > .dropdown-toggle.btn-info {
  color: #fff;
  background-color: #31b0d5;
  border-color: #269abc;
}
.btn-info:active:hover,
.btn-info.active:hover,
.open > .dropdown-toggle.btn-info:hover,
.btn-info:active:focus,
.btn-info.active:focus,
.open > .dropdown-toggle.btn-info:focus,
.btn-info:active.focus,
.btn-info.active.focus,
.open > .dropdown-toggle.btn-info.focus {
  color: #fff;
  background-color: #269abc;
  border-color: #1b6d85;
}
.btn-info:active,
.btn-info.active,
.open > .dropdown-toggle.btn-info {
  background-image: none;
}
.btn-info.disabled:hover,
.btn-info[disabled]:hover,
fieldset[disabled] .btn-info:hover,
.btn-info.disabled:focus,
.btn-info[disabled]:focus,
fieldset[disabled] .btn-info:focus,
.btn-info.disabled.focus,
.btn-info[disabled].focus,
fieldset[disabled] .btn-info.focus {
  background-color: #5bc0de;
  border-color: #46b8da;
}
.btn-info .badge {
  color: #5bc0de;
  background-color: #fff;
}
.btn-warning {
  color: #fff;
  background-color: #f0ad4e;
  border-color: #eea236;
}
.btn-warning:focus,
.btn-warning.focus {
  color: #fff;
  background-color: #ec971f;
  border-color: #985f0d;
}
.btn-warning:hover {
  color: #fff;
  background-color: #ec971f;
  border-color: #d58512;
}
.btn-warning:active,
.btn-warning.active,
.open > .dropdown-toggle.btn-warning {
  color: #fff;
  background-color: #ec971f;
  border-color: #d58512;
}
.btn-warning:active:hover,
.btn-warning.active:hover,
.open > .dropdown-toggle.btn-warning:hover,
.btn-warning:active:focus,
.btn-warning.active:focus,
.open > .dropdown-toggle.btn-warning:focus,
.btn-warning:active.focus,
.btn-warning.active.focus,
.open > .dropdown-toggle.btn-warning.focus {
  color: #fff;
  background-color: #d58512;
  border-color: #985f0d;
}
.btn-warning:active,
.btn-warning.active,
.open > .dropdown-toggle.btn-warning {
  background-image: none;
}
.btn-warning.disabled:hover,
.btn-warning[disabled]:hover,
fieldset[disabled] .btn-warning:hover,
.btn-warning.disabled:focus,
.btn-warning[disabled]:focus,
fieldset[disabled] .btn-warning:focus,
.btn-warning.disabled.focus,
.btn-warning[disabled].focus,
fieldset[disabled] .btn-warning.focus {
  background-color: #f0ad4e;
  border-color: #eea236;
}
.btn-warning .badge {
  color: #f0ad4e;
  background-color: #fff;
}
.btn-danger {
  color: #fff;
  background-color: #d9534f;
  border-color: #d43f3a;
}
.btn-danger:focus,
.btn-danger.focus {
  color: #fff;
  background-color: #c9302c;
  border-color: #761c19;
}
.btn-danger:hover {
  color: #fff;
  background-color: #c9302c;
  border-color: #ac2925;
}
.btn-danger:active,
.btn-danger.active,
.open > .dropdown-toggle.btn-danger {
  color: #fff;
  background-color: #c9302c;
  border-color: #ac2925;
}
.btn-danger:active:hover,
.btn-danger.active:hover,
.open > .dropdown-toggle.btn-danger:hover,
.btn-danger:active:focus,
.btn-danger.active:focus,
.open > .dropdown-toggle.btn-danger:focus,
.btn-danger:active.focus,
.btn-danger.active.focus,
.open > .dropdown-toggle.btn-danger.focus {
  color: #fff;
  background-color: #ac2925;
  border-color: #761c19;
}
.btn-danger:active,
.btn-danger.active,
.open > .dropdown-toggle.btn-danger {
  background-image: none;
}
.btn-danger.disabled:hover,
.btn-danger[disabled]:hover,
fieldset[disabled] .btn-danger:hover,
.btn-danger.disabled:focus,
.btn-danger[disabled]:focus,
fieldset[disabled] .btn-danger:focus,
.btn-danger.disabled.focus,
.btn-danger[disabled].focus,
fieldset[disabled] .btn-danger.focus {
  background-color: #d9534f;
  border-color: #d43f3a;
}
.btn-danger .badge {
  color: #d9534f;
  background-color: #fff;
}
.btn-link {
  color: #337ab7;
  font-weight: normal;
  border-radius: 0;
}
.btn-link,
.btn-link:active,
.btn-link.active,
.btn-link[disabled],
fieldset[disabled] .btn-link {
  background-color: transparent;
  -webkit-box-shadow: none;
  box-shadow: none;
}
.btn-link,
.btn-link:hover,
.btn-link:focus,
.btn-link:active {
  border-color: transparent;
}
.btn-link:hover,
.btn-link:focus {
  color: #23527c;
  text-decoration: underline;
  background-color: transparent;
}
.btn-link[disabled]:hover,
fieldset[disabled] .btn-link:hover,
.btn-link[disabled]:focus,
fieldset[disabled] .btn-link:focus {
  color: #777777;
  text-decoration: none;
}
.btn-lg,
.btn-group-lg > .btn {
  padding: 10px 16px;
  font-size: 17px;
  line-height: 1.3333333;
  border-radius: 3px;
}
.btn-sm,
.btn-group-sm > .btn {
  padding: 5px 10px;
  font-size: 12px;
  line-height: 1.5;
  border-radius: 1px;
}
.btn-xs,
.btn-group-xs > .btn {
  padding: 1px 5px;
  font-size: 12px;
  line-height: 1.5;
  border-radius: 1px;
}
.btn-block {
  display: block;
  width: 100%;
}
.btn-block + .btn-block {
  margin-top: 5px;
}
input[type="submit"].btn-block,
input[type="reset"].btn-block,
input[type="button"].btn-block {
  width: 100%;
}
.fade {
  opacity: 0;
  -webkit-transition: opacity 0.15s linear;
  -o-transition: opacity 0.15s linear;
  transition: opacity 0.15s linear;
}
.fade.in {
  opacity: 1;
}
.collapse {
  display: none;
}
.collapse.in {
  display: block;
}
tr.collapse.in {
  display: table-row;
}
tbody.collapse.in {
  display: table-row-group;
}
.collapsing {
  position: relative;
  height: 0;
  overflow: hidden;
  -webkit-transition-property: height, visibility;
  transition-property: height, visibility;
  -webkit-transition-duration: 0.35s;
  transition-duration: 0.35s;
  -webkit-transition-timing-function: ease;
  transition-timing-function: ease;
}
.caret {
  display: inline-block;
  width: 0;
  height: 0;
  margin-left: 2px;
  vertical-align: middle;
  border-top: 4px dashed;
  border-top: 4px solid \9;
  border-right: 4px solid transparent;
  border-left: 4px solid transparent;
}
.dropup,
.dropdown {
  position: relative;
}
.dropdown-toggle:focus {
  outline: 0;
}
.dropdown-menu {
  position: absolute;
  top: 100%;
  left: 0;
  z-index: 1000;
  display: none;
  float: left;
  min-width: 160px;
  padding: 5px 0;
  margin: 2px 0 0;
  list-style: none;
  font-size: 13px;
  text-align: left;
  background-color: #fff;
  border: 1px solid #ccc;
  border: 1px solid rgba(0, 0, 0, 0.15);
  border-radius: 2px;
  -webkit-box-shadow: 0 6px 12px rgba(0, 0, 0, 0.175);
  box-shadow: 0 6px 12px rgba(0, 0, 0, 0.175);
  background-clip: padding-box;
}
.dropdown-menu.pull-right {
  right: 0;
  left: auto;
}
.dropdown-menu .divider {
  height: 1px;
  margin: 8px 0;
  overflow: hidden;
  background-color: #e5e5e5;
}
.dropdown-menu > li > a {
  display: block;
  padding: 3px 20px;
  clear: both;
  font-weight: normal;
  line-height: 1.42857143;
  color: #333333;
  white-space: nowrap;
}
.dropdown-menu > li > a:hover,
.dropdown-menu > li > a:focus {
  text-decoration: none;
  color: #262626;
  background-color: #f5f5f5;
}
.dropdown-menu > .active > a,
.dropdown-menu > .active > a:hover,
.dropdown-menu > .active > a:focus {
  color: #fff;
  text-decoration: none;
  outline: 0;
  background-color: #337ab7;
}
.dropdown-menu > .disabled > a,
.dropdown-menu > .disabled > a:hover,
.dropdown-menu > .disabled > a:focus {
  color: #777777;
}
.dropdown-menu > .disabled > a:hover,
.dropdown-menu > .disabled > a:focus {
  text-decoration: none;
  background-color: transparent;
  background-image: none;
  filter: progid:DXImageTransform.Microsoft.gradient(enabled = false);
  cursor: not-allowed;
}
.open > .dropdown-menu {
  display: block;
}
.open > a {
  outline: 0;
}
.dropdown-menu-right {
  left: auto;
  right: 0;
}
.dropdown-menu-left {
  left: 0;
  right: auto;
}
.dropdown-header {
  display: block;
  padding: 3px 20px;
  font-size: 12px;
  line-height: 1.42857143;
  color: #777777;
  white-space: nowrap;
}
.dropdown-backdrop {
  position: fixed;
  left: 0;
  right: 0;
  bottom: 0;
  top: 0;
  z-index: 990;
}
.pull-right > .dropdown-menu {
  right: 0;
  left: auto;
}
.dropup .caret,
.navbar-fixed-bottom .dropdown .caret {
  border-top: 0;
  border-bottom: 4px dashed;
  border-bottom: 4px solid \9;
  content: "";
}
.dropup .dropdown-menu,
.navbar-fixed-bottom .dropdown .dropdown-menu {
  top: auto;
  bottom: 100%;
  margin-bottom: 2px;
}
@media (min-width: 541px) {
  .navbar-right .dropdown-menu {
    left: auto;
    right: 0;
  }
  .navbar-right .dropdown-menu-left {
    left: 0;
    right: auto;
  }
}
.btn-group,
.btn-group-vertical {
  position: relative;
  display: inline-block;
  vertical-align: middle;
}
.btn-group > .btn,
.btn-group-vertical > .btn {
  position: relative;
  float: left;
}
.btn-group > .btn:hover,
.btn-group-vertical > .btn:hover,
.btn-group > .btn:focus,
.btn-group-vertical > .btn:focus,
.btn-group > .btn:active,
.btn-group-vertical > .btn:active,
.btn-group > .btn.active,
.btn-group-vertical > .btn.active {
  z-index: 2;
}
.btn-group .btn + .btn,
.btn-group .btn + .btn-group,
.btn-group .btn-group + .btn,
.btn-group .btn-group + .btn-group {
  margin-left: -1px;
}
.btn-toolbar {
  margin-left: -5px;
}
.btn-toolbar .btn,
.btn-toolbar .btn-group,
.btn-toolbar .input-group {
  float: left;
}
.btn-toolbar > .btn,
.btn-toolbar > .btn-group,
.btn-toolbar > .input-group {
  margin-left: 5px;
}
.btn-group > .btn:not(:first-child):not(:last-child):not(.dropdown-toggle) {
  border-radius: 0;
}
.btn-group > .btn:first-child {
  margin-left: 0;
}
.btn-group > .btn:first-child:not(:last-child):not(.dropdown-toggle) {
  border-bottom-right-radius: 0;
  border-top-right-radius: 0;
}
.btn-group > .btn:last-child:not(:first-child),
.btn-group > .dropdown-toggle:not(:first-child) {
  border-bottom-left-radius: 0;
  border-top-left-radius: 0;
}
.btn-group > .btn-group {
  float: left;
}
.btn-group > .btn-group:not(:first-child):not(:last-child) > .btn {
  border-radius: 0;
}
.btn-group > .btn-group:first-child:not(:last-child) > .btn:last-child,
.btn-group > .btn-group:first-child:not(:last-child) > .dropdown-toggle {
  border-bottom-right-radius: 0;
  border-top-right-radius: 0;
}
.btn-group > .btn-group:last-child:not(:first-child) > .btn:first-child {
  border-bottom-left-radius: 0;
  border-top-left-radius: 0;
}
.btn-group .dropdown-toggle:active,
.btn-group.open .dropdown-toggle {
  outline: 0;
}
.btn-group > .btn + .dropdown-toggle {
  padding-left: 8px;
  padding-right: 8px;
}
.btn-group > .btn-lg + .dropdown-toggle {
  padding-left: 12px;
  padding-right: 12px;
}
.btn-group.open .dropdown-toggle {
  -webkit-box-shadow: inset 0 3px 5px rgba(0, 0, 0, 0.125);
  box-shadow: inset 0 3px 5px rgba(0, 0, 0, 0.125);
}
.btn-group.open .dropdown-toggle.btn-link {
  -webkit-box-shadow: none;
  box-shadow: none;
}
.btn .caret {
  margin-left: 0;
}
.btn-lg .caret {
  border-width: 5px 5px 0;
  border-bottom-width: 0;
}
.dropup .btn-lg .caret {
  border-width: 0 5px 5px;
}
.btn-group-vertical > .btn,
.btn-group-vertical > .btn-group,
.btn-group-vertical > .btn-group > .btn {
  display: block;
  float: none;
  width: 100%;
  max-width: 100%;
}
.btn-group-vertical > .btn-group > .btn {
  float: none;
}
.btn-group-vertical > .btn + .btn,
.btn-group-vertical > .btn + .btn-group,
.btn-group-vertical > .btn-group + .btn,
.btn-group-vertical > .btn-group + .btn-group {
  margin-top: -1px;
  margin-left: 0;
}
.btn-group-vertical > .btn:not(:first-child):not(:last-child) {
  border-radius: 0;
}
.btn-group-vertical > .btn:first-child:not(:last-child) {
  border-top-right-radius: 2px;
  border-top-left-radius: 2px;
  border-bottom-right-radius: 0;
  border-bottom-left-radius: 0;
}
.btn-group-vertical > .btn:last-child:not(:first-child) {
  border-top-right-radius: 0;
  border-top-left-radius: 0;
  border-bottom-right-radius: 2px;
  border-bottom-left-radius: 2px;
}
.btn-group-vertical > .btn-group:not(:first-child):not(:last-child) > .btn {
  border-radius: 0;
}
.btn-group-vertical > .btn-group:first-child:not(:last-child) > .btn:last-child,
.btn-group-vertical > .btn-group:first-child:not(:last-child) > .dropdown-toggle {
  border-bottom-right-radius: 0;
  border-bottom-left-radius: 0;
}
.btn-group-vertical > .btn-group:last-child:not(:first-child) > .btn:first-child {
  border-top-right-radius: 0;
  border-top-left-radius: 0;
}
.btn-group-justified {
  display: table;
  width: 100%;
  table-layout: fixed;
  border-collapse: separate;
}
.btn-group-justified > .btn,
.btn-group-justified > .btn-group {
  float: none;
  display: table-cell;
  width: 1%;
}
.btn-group-justified > .btn-group .btn {
  width: 100%;
}
.btn-group-justified > .btn-group .dropdown-menu {
  left: auto;
}
[data-toggle="buttons"] > .btn input[type="radio"],
[data-toggle="buttons"] > .btn-group > .btn input[type="radio"],
[data-toggle="buttons"] > .btn input[type="checkbox"],
[data-toggle="buttons"] > .btn-group > .btn input[type="checkbox"] {
  position: absolute;
  clip: rect(0, 0, 0, 0);
  pointer-events: none;
}
.input-group {
  position: relative;
  display: table;
  border-collapse: separate;
}
.input-group[class*="col-"] {
  float: none;
  padding-left: 0;
  padding-right: 0;
}
.input-group .form-control {
  position: relative;
  z-index: 2;
  float: left;
  width: 100%;
  margin-bottom: 0;
}
.input-group .form-control:focus {
  z-index: 3;
}
.input-group-lg > .form-control,
.input-group-lg > .input-group-addon,
.input-group-lg > .input-group-btn > .btn {
  height: 45px;
  padding: 10px 16px;
  font-size: 17px;
  line-height: 1.3333333;
  border-radius: 3px;
}
select.input-group-lg > .form-control,
select.input-group-lg > .input-group-addon,
select.input-group-lg > .input-group-btn > .btn {
  height: 45px;
  line-height: 45px;
}
textarea.input-group-lg > .form-control,
textarea.input-group-lg > .input-group-addon,
textarea.input-group-lg > .input-group-btn > .btn,
select[multiple].input-group-lg > .form-control,
select[multiple].input-group-lg > .input-group-addon,
select[multiple].input-group-lg > .input-group-btn > .btn {
  height: auto;
}
.input-group-sm > .form-control,
.input-group-sm > .input-group-addon,
.input-group-sm > .input-group-btn > .btn {
  height: 30px;
  padding: 5px 10px;
  font-size: 12px;
  line-height: 1.5;
  border-radius: 1px;
}
select.input-group-sm > .form-control,
select.input-group-sm > .input-group-addon,
select.input-group-sm > .input-group-btn > .btn {
  height: 30px;
  line-height: 30px;
}
textarea.input-group-sm > .form-control,
textarea.input-group-sm > .input-group-addon,
textarea.input-group-sm > .input-group-btn > .btn,
select[multiple].input-group-sm > .form-control,
select[multiple].input-group-sm > .input-group-addon,
select[multiple].input-group-sm > .input-group-btn > .btn {
  height: auto;
}
.input-group-addon,
.input-group-btn,
.input-group .form-control {
  display: table-cell;
}
.input-group-addon:not(:first-child):not(:last-child),
.input-group-btn:not(:first-child):not(:last-child),
.input-group .form-control:not(:first-child):not(:last-child) {
  border-radius: 0;
}
.input-group-addon,
.input-group-btn {
  width: 1%;
  white-space: nowrap;
  vertical-align: middle;
}
.input-group-addon {
  padding: 6px 12px;
  font-size: 13px;
  font-weight: normal;
  line-height: 1;
  color: #555555;
  text-align: center;
  background-color: #eeeeee;
  border: 1px solid #ccc;
  border-radius: 2px;
}
.input-group-addon.input-sm {
  padding: 5px 10px;
  font-size: 12px;
  border-radius: 1px;
}
.input-group-addon.input-lg {
  padding: 10px 16px;
  font-size: 17px;
  border-radius: 3px;
}
.input-group-addon input[type="radio"],
.input-group-addon input[type="checkbox"] {
  margin-top: 0;
}
.input-group .form-control:first-child,
.input-group-addon:first-child,
.input-group-btn:first-child > .btn,
.input-group-btn:first-child > .btn-group > .btn,
.input-group-btn:first-child > .dropdown-toggle,
.input-group-btn:last-child > .btn:not(:last-child):not(.dropdown-toggle),
.input-group-btn:last-child > .btn-group:not(:last-child) > .btn {
  border-bottom-right-radius: 0;
  border-top-right-radius: 0;
}
.input-group-addon:first-child {
  border-right: 0;
}
.input-group .form-control:last-child,
.input-group-addon:last-child,
.input-group-btn:last-child > .btn,
.input-group-btn:last-child > .btn-group > .btn,
.input-group-btn:last-child > .dropdown-toggle,
.input-group-btn:first-child > .btn:not(:first-child),
.input-group-btn:first-child > .btn-group:not(:first-child) > .btn {
  border-bottom-left-radius: 0;
  border-top-left-radius: 0;
}
.input-group-addon:last-child {
  border-left: 0;
}
.input-group-btn {
  position: relative;
  font-size: 0;
  white-space: nowrap;
}
.input-group-btn > .btn {
  position: relative;
}
.input-group-btn > .btn + .btn {
  margin-left: -1px;
}
.input-group-btn > .btn:hover,
.input-group-btn > .btn:focus,
.input-group-btn > .btn:active {
  z-index: 2;
}
.input-group-btn:first-child > .btn,
.input-group-btn:first-child > .btn-group {
  margin-right: -1px;
}
.input-group-btn:last-child > .btn,
.input-group-btn:last-child > .btn-group {
  z-index: 2;
  margin-left: -1px;
}
.nav {
  margin-bottom: 0;
  padding-left: 0;
  list-style: none;
}
.nav > li {
  position: relative;
  display: block;
}
.nav > li > a {
  position: relative;
  display: block;
  padding: 10px 15px;
}
.nav > li > a:hover,
.nav > li > a:focus {
  text-decoration: none;
  background-color: #eeeeee;
}
.nav > li.disabled > a {
  color: #777777;
}
.nav > li.disabled > a:hover,
.nav > li.disabled > a:focus {
  color: #777777;
  text-decoration: none;
  background-color: transparent;
  cursor: not-allowed;
}
.nav .open > a,
.nav .open > a:hover,
.nav .open > a:focus {
  background-color: #eeeeee;
  border-color: #337ab7;
}
.nav .nav-divider {
  height: 1px;
  margin: 8px 0;
  overflow: hidden;
  background-color: #e5e5e5;
}
.nav > li > a > img {
  max-width: none;
}
.nav-tabs {
  border-bottom: 1px solid #ddd;
}
.nav-tabs > li {
  float: left;
  margin-bottom: -1px;
}
.nav-tabs > li > a {
  margin-right: 2px;
  line-height: 1.42857143;
  border: 1px solid transparent;
  border-radius: 2px 2px 0 0;
}
.nav-tabs > li > a:hover {
  border-color: #eeeeee #eeeeee #ddd;
}
.nav-tabs > li.active > a,
.nav-tabs > li.active > a:hover,
.nav-tabs > li.active > a:focus {
  color: #555555;
  background-color: #fff;
  border: 1px solid #ddd;
  border-bottom-color: transparent;
  cursor: default;
}
.nav-tabs.nav-justified {
  width: 100%;
  border-bottom: 0;
}
.nav-tabs.nav-justified > li {
  float: none;
}
.nav-tabs.nav-justified > li > a {
  text-align: center;
  margin-bottom: 5px;
}
.nav-tabs.nav-justified > .dropdown .dropdown-menu {
  top: auto;
  left: auto;
}
@media (min-width: 768px) {
  .nav-tabs.nav-justified > li {
    display: table-cell;
    width: 1%;
  }
  .nav-tabs.nav-justified > li > a {
    margin-bottom: 0;
  }
}
.nav-tabs.nav-justified > li > a {
  margin-right: 0;
  border-radius: 2px;
}
.nav-tabs.nav-justified > .active > a,
.nav-tabs.nav-justified > .active > a:hover,
.nav-tabs.nav-justified > .active > a:focus {
  border: 1px solid #ddd;
}
@media (min-width: 768px) {
  .nav-tabs.nav-justified > li > a {
    border-bottom: 1px solid #ddd;
    border-radius: 2px 2px 0 0;
  }
  .nav-tabs.nav-justified > .active > a,
  .nav-tabs.nav-justified > .active > a:hover,
  .nav-tabs.nav-justified > .active > a:focus {
    border-bottom-color: #fff;
  }
}
.nav-pills > li {
  float: left;
}
.nav-pills > li > a {
  border-radius: 2px;
}
.nav-pills > li + li {
  margin-left: 2px;
}
.nav-pills > li.active > a,
.nav-pills > li.active > a:hover,
.nav-pills > li.active > a:focus {
  color: #fff;
  background-color: #337ab7;
}
.nav-stacked > li {
  float: none;
}
.nav-stacked > li + li {
  margin-top: 2px;
  margin-left: 0;
}
.nav-justified {
  width: 100%;
}
.nav-justified > li {
  float: none;
}
.nav-justified > li > a {
  text-align: center;
  margin-bottom: 5px;
}
.nav-justified > .dropdown .dropdown-menu {
  top: auto;
  left: auto;
}
@media (min-width: 768px) {
  .nav-justified > li {
    display: table-cell;
    width: 1%;
  }
  .nav-justified > li > a {
    margin-bottom: 0;
  }
}
.nav-tabs-justified {
  border-bottom: 0;
}
.nav-tabs-justified > li > a {
  margin-right: 0;
  border-radius: 2px;
}
.nav-tabs-justified > .active > a,
.nav-tabs-justified > .active > a:hover,
.nav-tabs-justified > .active > a:focus {
  border: 1px solid #ddd;
}
@media (min-width: 768px) {
  .nav-tabs-justified > li > a {
    border-bottom: 1px solid #ddd;
    border-radius: 2px 2px 0 0;
  }
  .nav-tabs-justified > .active > a,
  .nav-tabs-justified > .active > a:hover,
  .nav-tabs-justified > .active > a:focus {
    border-bottom-color: #fff;
  }
}
.tab-content > .tab-pane {
  display: none;
}
.tab-content > .active {
  display: block;
}
.nav-tabs .dropdown-menu {
  margin-top: -1px;
  border-top-right-radius: 0;
  border-top-left-radius: 0;
}
.navbar {
  position: relative;
  min-height: 30px;
  margin-bottom: 18px;
  border: 1px solid transparent;
}
@media (min-width: 541px) {
  .navbar {
    border-radius: 2px;
  }
}
@media (min-width: 541px) {
  .navbar-header {
    float: left;
  }
}
.navbar-collapse {
  overflow-x: visible;
  padding-right: 0px;
  padding-left: 0px;
  border-top: 1px solid transparent;
  box-shadow: inset 0 1px 0 rgba(255, 255, 255, 0.1);
  -webkit-overflow-scrolling: touch;
}
.navbar-collapse.in {
  overflow-y: auto;
}
@media (min-width: 541px) {
  .navbar-collapse {
    width: auto;
    border-top: 0;
    box-shadow: none;
  }
  .navbar-collapse.collapse {
    display: block !important;
    height: auto !important;
    padding-bottom: 0;
    overflow: visible !important;
  }
  .navbar-collapse.in {
    overflow-y: visible;
  }
  .navbar-fixed-top .navbar-collapse,
  .navbar-static-top .navbar-collapse,
  .navbar-fixed-bottom .navbar-collapse {
    padding-left: 0;
    padding-right: 0;
  }
}
.navbar-fixed-top .navbar-collapse,
.navbar-fixed-bottom .navbar-collapse {
  max-height: 340px;
}
@media (max-device-width: 540px) and (orientation: landscape) {
  .navbar-fixed-top .navbar-collapse,
  .navbar-fixed-bottom .navbar-collapse {
    max-height: 200px;
  }
}
.container > .navbar-header,
.container-fluid > .navbar-header,
.container > .navbar-collapse,
.container-fluid > .navbar-collapse {
  margin-right: 0px;
  margin-left: 0px;
}
@media (min-width: 541px) {
  .container > .navbar-header,
  .container-fluid > .navbar-header,
  .container > .navbar-collapse,
  .container-fluid > .navbar-collapse {
    margin-right: 0;
    margin-left: 0;
  }
}
.navbar-static-top {
  z-index: 1000;
  border-width: 0 0 1px;
}
@media (min-width: 541px) {
  .navbar-static-top {
    border-radius: 0;
  }
}
.navbar-fixed-top,
.navbar-fixed-bottom {
  position: fixed;
  right: 0;
  left: 0;
  z-index: 1030;
}
@media (min-width: 541px) {
  .navbar-fixed-top,
  .navbar-fixed-bottom {
    border-radius: 0;
  }
}
.navbar-fixed-top {
  top: 0;
  border-width: 0 0 1px;
}
.navbar-fixed-bottom {
  bottom: 0;
  margin-bottom: 0;
  border-width: 1px 0 0;
}
.navbar-brand {
  float: left;
  padding: 6px 0px;
  font-size: 17px;
  line-height: 18px;
  height: 30px;
}
.navbar-brand:hover,
.navbar-brand:focus {
  text-decoration: none;
}
.navbar-brand > img {
  display: block;
}
@media (min-width: 541px) {
  .navbar > .container .navbar-brand,
  .navbar > .container-fluid .navbar-brand {
    margin-left: 0px;
  }
}
.navbar-toggle {
  position: relative;
  float: right;
  margin-right: 0px;
  padding: 9px 10px;
  margin-top: -2px;
  margin-bottom: -2px;
  background-color: transparent;
  background-image: none;
  border: 1px solid transparent;
  border-radius: 2px;
}
.navbar-toggle:focus {
  outline: 0;
}
.navbar-toggle .icon-bar {
  display: block;
  width: 22px;
  height: 2px;
  border-radius: 1px;
}
.navbar-toggle .icon-bar + .icon-bar {
  margin-top: 4px;
}
@media (min-width: 541px) {
  .navbar-toggle {
    display: none;
  }
}
.navbar-nav {
  margin: 3px 0px;
}
.navbar-nav > li > a {
  padding-top: 10px;
  padding-bottom: 10px;
  line-height: 18px;
}
@media (max-width: 540px) {
  .navbar-nav .open .dropdown-menu {
    position: static;
    float: none;
    width: auto;
    margin-top: 0;
    background-color: transparent;
    border: 0;
    box-shadow: none;
  }
  .navbar-nav .open .dropdown-menu > li > a,
  .navbar-nav .open .dropdown-menu .dropdown-header {
    padding: 5px 15px 5px 25px;
  }
  .navbar-nav .open .dropdown-menu > li > a {
    line-height: 18px;
  }
  .navbar-nav .open .dropdown-menu > li > a:hover,
  .navbar-nav .open .dropdown-menu > li > a:focus {
    background-image: none;
  }
}
@media (min-width: 541px) {
  .navbar-nav {
    float: left;
    margin: 0;
  }
  .navbar-nav > li {
    float: left;
  }
  .navbar-nav > li > a {
    padding-top: 6px;
    padding-bottom: 6px;
  }
}
.navbar-form {
  margin-left: 0px;
  margin-right: 0px;
  padding: 10px 0px;
  border-top: 1px solid transparent;
  border-bottom: 1px solid transparent;
  -webkit-box-shadow: inset 0 1px 0 rgba(255, 255, 255, 0.1), 0 1px 0 rgba(255, 255, 255, 0.1);
  box-shadow: inset 0 1px 0 rgba(255, 255, 255, 0.1), 0 1px 0 rgba(255, 255, 255, 0.1);
  margin-top: -1px;
  margin-bottom: -1px;
}
@media (min-width: 768px) {
  .navbar-form .form-group {
    display: inline-block;
    margin-bottom: 0;
    vertical-align: middle;
  }
  .navbar-form .form-control {
    display: inline-block;
    width: auto;
    vertical-align: middle;
  }
  .navbar-form .form-control-static {
    display: inline-block;
  }
  .navbar-form .input-group {
    display: inline-table;
    vertical-align: middle;
  }
  .navbar-form .input-group .input-group-addon,
  .navbar-form .input-group .input-group-btn,
  .navbar-form .input-group .form-control {
    width: auto;
  }
  .navbar-form .input-group > .form-control {
    width: 100%;
  }
  .navbar-form .control-label {
    margin-bottom: 0;
    vertical-align: middle;
  }
  .navbar-form .radio,
  .navbar-form .checkbox {
    display: inline-block;
    margin-top: 0;
    margin-bottom: 0;
    vertical-align: middle;
  }
  .navbar-form .radio label,
  .navbar-form .checkbox label {
    padding-left: 0;
  }
  .navbar-form .radio input[type="radio"],
  .navbar-form .checkbox input[type="checkbox"] {
    position: relative;
    margin-left: 0;
  }
  .navbar-form .has-feedback .form-control-feedback {
    top: 0;
  }
}
@media (max-width: 540px) {
  .navbar-form .form-group {
    margin-bottom: 5px;
  }
  .navbar-form .form-group:last-child {
    margin-bottom: 0;
  }
}
@media (min-width: 541px) {
  .navbar-form {
    width: auto;
    border: 0;
    margin-left: 0;
    margin-right: 0;
    padding-top: 0;
    padding-bottom: 0;
    -webkit-box-shadow: none;
    box-shadow: none;
  }
}
.navbar-nav > li > .dropdown-menu {
  margin-top: 0;
  border-top-right-radius: 0;
  border-top-left-radius: 0;
}
.navbar-fixed-bottom .navbar-nav > li > .dropdown-menu {
  margin-bottom: 0;
  border-top-right-radius: 2px;
  border-top-left-radius: 2px;
  border-bottom-right-radius: 0;
  border-bottom-left-radius: 0;
}
.navbar-btn {
  margin-top: -1px;
  margin-bottom: -1px;
}
.navbar-btn.btn-sm {
  margin-top: 0px;
  margin-bottom: 0px;
}
.navbar-btn.btn-xs {
  margin-top: 4px;
  margin-bottom: 4px;
}
.navbar-text {
  margin-top: 6px;
  margin-bottom: 6px;
}
@media (min-width: 541px) {
  .navbar-text {
    float: left;
    margin-left: 0px;
    margin-right: 0px;
  }
}
@media (min-width: 541px) {
  .navbar-left {
    float: left !important;
    float: left;
  }
  .navbar-right {
    float: right !important;
    float: right;
    margin-right: 0px;
  }
  .navbar-right ~ .navbar-right {
    margin-right: 0;
  }
}
.navbar-default {
  background-color: #f8f8f8;
  border-color: #e7e7e7;
}
.navbar-default .navbar-brand {
  color: #777;
}
.navbar-default .navbar-brand:hover,
.navbar-default .navbar-brand:focus {
  color: #5e5e5e;
  background-color: transparent;
}
.navbar-default .navbar-text {
  color: #777;
}
.navbar-default .navbar-nav > li > a {
  color: #777;
}
.navbar-default .navbar-nav > li > a:hover,
.navbar-default .navbar-nav > li > a:focus {
  color: #333;
  background-color: transparent;
}
.navbar-default .navbar-nav > .active > a,
.navbar-default .navbar-nav > .active > a:hover,
.navbar-default .navbar-nav > .active > a:focus {
  color: #555;
  background-color: #e7e7e7;
}
.navbar-default .navbar-nav > .disabled > a,
.navbar-default .navbar-nav > .disabled > a:hover,
.navbar-default .navbar-nav > .disabled > a:focus {
  color: #ccc;
  background-color: transparent;
}
.navbar-default .navbar-toggle {
  border-color: #ddd;
}
.navbar-default .navbar-toggle:hover,
.navbar-default .navbar-toggle:focus {
  background-color: #ddd;
}
.navbar-default .navbar-toggle .icon-bar {
  background-color: #888;
}
.navbar-default .navbar-collapse,
.navbar-default .navbar-form {
  border-color: #e7e7e7;
}
.navbar-default .navbar-nav > .open > a,
.navbar-default .navbar-nav > .open > a:hover,
.navbar-default .navbar-nav > .open > a:focus {
  background-color: #e7e7e7;
  color: #555;
}
@media (max-width: 540px) {
  .navbar-default .navbar-nav .open .dropdown-menu > li > a {
    color: #777;
  }
  .navbar-default .navbar-nav .open .dropdown-menu > li > a:hover,
  .navbar-default .navbar-nav .open .dropdown-menu > li > a:focus {
    color: #333;
    background-color: transparent;
  }
  .navbar-default .navbar-nav .open .dropdown-menu > .active > a,
  .navbar-default .navbar-nav .open .dropdown-menu > .active > a:hover,
  .navbar-default .navbar-nav .open .dropdown-menu > .active > a:focus {
    color: #555;
    background-color: #e7e7e7;
  }
  .navbar-default .navbar-nav .open .dropdown-menu > .disabled > a,
  .navbar-default .navbar-nav .open .dropdown-menu > .disabled > a:hover,
  .navbar-default .navbar-nav .open .dropdown-menu > .disabled > a:focus {
    color: #ccc;
    background-color: transparent;
  }
}
.navbar-default .navbar-link {
  color: #777;
}
.navbar-default .navbar-link:hover {
  color: #333;
}
.navbar-default .btn-link {
  color: #777;
}
.navbar-default .btn-link:hover,
.navbar-default .btn-link:focus {
  color: #333;
}
.navbar-default .btn-link[disabled]:hover,
fieldset[disabled] .navbar-default .btn-link:hover,
.navbar-default .btn-link[disabled]:focus,
fieldset[disabled] .navbar-default .btn-link:focus {
  color: #ccc;
}
.navbar-inverse {
  background-color: #222;
  border-color: #080808;
}
.navbar-inverse .navbar-brand {
  color: #9d9d9d;
}
.navbar-inverse .navbar-brand:hover,
.navbar-inverse .navbar-brand:focus {
  color: #fff;
  background-color: transparent;
}
.navbar-inverse .navbar-text {
  color: #9d9d9d;
}
.navbar-inverse .navbar-nav > li > a {
  color: #9d9d9d;
}
.navbar-inverse .navbar-nav > li > a:hover,
.navbar-inverse .navbar-nav > li > a:focus {
  color: #fff;
  background-color: transparent;
}
.navbar-inverse .navbar-nav > .active > a,
.navbar-inverse .navbar-nav > .active > a:hover,
.navbar-inverse .navbar-nav > .active > a:focus {
  color: #fff;
  background-color: #080808;
}
.navbar-inverse .navbar-nav > .disabled > a,
.navbar-inverse .navbar-nav > .disabled > a:hover,
.navbar-inverse .navbar-nav > .disabled > a:focus {
  color: #444;
  background-color: transparent;
}
.navbar-inverse .navbar-toggle {
  border-color: #333;
}
.navbar-inverse .navbar-toggle:hover,
.navbar-inverse .navbar-toggle:focus {
  background-color: #333;
}
.navbar-inverse .navbar-toggle .icon-bar {
  background-color: #fff;
}
.navbar-inverse .navbar-collapse,
.navbar-inverse .navbar-form {
  border-color: #101010;
}
.navbar-inverse .navbar-nav > .open > a,
.navbar-inverse .navbar-nav > .open > a:hover,
.navbar-inverse .navbar-nav > .open > a:focus {
  background-color: #080808;
  color: #fff;
}
@media (max-width: 540px) {
  .navbar-inverse .navbar-nav .open .dropdown-menu > .dropdown-header {
    border-color: #080808;
  }
  .navbar-inverse .navbar-nav .open .dropdown-menu .divider {
    background-color: #080808;
  }
  .navbar-inverse .navbar-nav .open .dropdown-menu > li > a {
    color: #9d9d9d;
  }
  .navbar-inverse .navbar-nav .open .dropdown-menu > li > a:hover,
  .navbar-inverse .navbar-nav .open .dropdown-menu > li > a:focus {
    color: #fff;
    background-color: transparent;
  }
  .navbar-inverse .navbar-nav .open .dropdown-menu > .active > a,
  .navbar-inverse .navbar-nav .open .dropdown-menu > .active > a:hover,
  .navbar-inverse .navbar-nav .open .dropdown-menu > .active > a:focus {
    color: #fff;
    background-color: #080808;
  }
  .navbar-inverse .navbar-nav .open .dropdown-menu > .disabled > a,
  .navbar-inverse .navbar-nav .open .dropdown-menu > .disabled > a:hover,
  .navbar-inverse .navbar-nav .open .dropdown-menu > .disabled > a:focus {
    color: #444;
    background-color: transparent;
  }
}
.navbar-inverse .navbar-link {
  color: #9d9d9d;
}
.navbar-inverse .navbar-link:hover {
  color: #fff;
}
.navbar-inverse .btn-link {
  color: #9d9d9d;
}
.navbar-inverse .btn-link:hover,
.navbar-inverse .btn-link:focus {
  color: #fff;
}
.navbar-inverse .btn-link[disabled]:hover,
fieldset[disabled] .navbar-inverse .btn-link:hover,
.navbar-inverse .btn-link[disabled]:focus,
fieldset[disabled] .navbar-inverse .btn-link:focus {
  color: #444;
}
.breadcrumb {
  padding: 8px 15px;
  margin-bottom: 18px;
  list-style: none;
  background-color: #f5f5f5;
  border-radius: 2px;
}
.breadcrumb > li {
  display: inline-block;
}
.breadcrumb > li + li:before {
  content: "/\00a0";
  padding: 0 5px;
  color: #5e5e5e;
}
.breadcrumb > .active {
  color: #777777;
}
.pagination {
  display: inline-block;
  padding-left: 0;
  margin: 18px 0;
  border-radius: 2px;
}
.pagination > li {
  display: inline;
}
.pagination > li > a,
.pagination > li > span {
  position: relative;
  float: left;
  padding: 6px 12px;
  line-height: 1.42857143;
  text-decoration: none;
  color: #337ab7;
  background-color: #fff;
  border: 1px solid #ddd;
  margin-left: -1px;
}
.pagination > li:first-child > a,
.pagination > li:first-child > span {
  margin-left: 0;
  border-bottom-left-radius: 2px;
  border-top-left-radius: 2px;
}
.pagination > li:last-child > a,
.pagination > li:last-child > span {
  border-bottom-right-radius: 2px;
  border-top-right-radius: 2px;
}
.pagination > li > a:hover,
.pagination > li > span:hover,
.pagination > li > a:focus,
.pagination > li > span:focus {
  z-index: 2;
  color: #23527c;
  background-color: #eeeeee;
  border-color: #ddd;
}
.pagination > .active > a,
.pagination > .active > span,
.pagination > .active > a:hover,
.pagination > .active > span:hover,
.pagination > .active > a:focus,
.pagination > .active > span:focus {
  z-index: 3;
  color: #fff;
  background-color: #337ab7;
  border-color: #337ab7;
  cursor: default;
}
.pagination > .disabled > span,
.pagination > .disabled > span:hover,
.pagination > .disabled > span:focus,
.pagination > .disabled > a,
.pagination > .disabled > a:hover,
.pagination > .disabled > a:focus {
  color: #777777;
  background-color: #fff;
  border-color: #ddd;
  cursor: not-allowed;
}
.pagination-lg > li > a,
.pagination-lg > li > span {
  padding: 10px 16px;
  font-size: 17px;
  line-height: 1.3333333;
}
.pagination-lg > li:first-child > a,
.pagination-lg > li:first-child > span {
  border-bottom-left-radius: 3px;
  border-top-left-radius: 3px;
}
.pagination-lg > li:last-child > a,
.pagination-lg > li:last-child > span {
  border-bottom-right-radius: 3px;
  border-top-right-radius: 3px;
}
.pagination-sm > li > a,
.pagination-sm > li > span {
  padding: 5px 10px;
  font-size: 12px;
  line-height: 1.5;
}
.pagination-sm > li:first-child > a,
.pagination-sm > li:first-child > span {
  border-bottom-left-radius: 1px;
  border-top-left-radius: 1px;
}
.pagination-sm > li:last-child > a,
.pagination-sm > li:last-child > span {
  border-bottom-right-radius: 1px;
  border-top-right-radius: 1px;
}
.pager {
  padding-left: 0;
  margin: 18px 0;
  list-style: none;
  text-align: center;
}
.pager li {
  display: inline;
}
.pager li > a,
.pager li > span {
  display: inline-block;
  padding: 5px 14px;
  background-color: #fff;
  border: 1px solid #ddd;
  border-radius: 15px;
}
.pager li > a:hover,
.pager li > a:focus {
  text-decoration: none;
  background-color: #eeeeee;
}
.pager .next > a,
.pager .next > span {
  float: right;
}
.pager .previous > a,
.pager .previous > span {
  float: left;
}
.pager .disabled > a,
.pager .disabled > a:hover,
.pager .disabled > a:focus,
.pager .disabled > span {
  color: #777777;
  background-color: #fff;
  cursor: not-allowed;
}
.label {
  display: inline;
  padding: .2em .6em .3em;
  font-size: 75%;
  font-weight: bold;
  line-height: 1;
  color: #fff;
  text-align: center;
  white-space: nowrap;
  vertical-align: baseline;
  border-radius: .25em;
}
a.label:hover,
a.label:focus {
  color: #fff;
  text-decoration: none;
  cursor: pointer;
}
.label:empty {
  display: none;
}
.btn .label {
  position: relative;
  top: -1px;
}
.label-default {
  background-color: #777777;
}
.label-default[href]:hover,
.label-default[href]:focus {
  background-color: #5e5e5e;
}
.label-primary {
  background-color: #337ab7;
}
.label-primary[href]:hover,
.label-primary[href]:focus {
  background-color: #286090;
}
.label-success {
  background-color: #5cb85c;
}
.label-success[href]:hover,
.label-success[href]:focus {
  background-color: #449d44;
}
.label-info {
  background-color: #5bc0de;
}
.label-info[href]:hover,
.label-info[href]:focus {
  background-color: #31b0d5;
}
.label-warning {
  background-color: #f0ad4e;
}
.label-warning[href]:hover,
.label-warning[href]:focus {
  background-color: #ec971f;
}
.label-danger {
  background-color: #d9534f;
}
.label-danger[href]:hover,
.label-danger[href]:focus {
  background-color: #c9302c;
}
.badge {
  display: inline-block;
  min-width: 10px;
  padding: 3px 7px;
  font-size: 12px;
  font-weight: bold;
  color: #fff;
  line-height: 1;
  vertical-align: middle;
  white-space: nowrap;
  text-align: center;
  background-color: #777777;
  border-radius: 10px;
}
.badge:empty {
  display: none;
}
.btn .badge {
  position: relative;
  top: -1px;
}
.btn-xs .badge,
.btn-group-xs > .btn .badge {
  top: 0;
  padding: 1px 5px;
}
a.badge:hover,
a.badge:focus {
  color: #fff;
  text-decoration: none;
  cursor: pointer;
}
.list-group-item.active > .badge,
.nav-pills > .active > a > .badge {
  color: #337ab7;
  background-color: #fff;
}
.list-group-item > .badge {
  float: right;
}
.list-group-item > .badge + .badge {
  margin-right: 5px;
}
.nav-pills > li > a > .badge {
  margin-left: 3px;
}
.jumbotron {
  padding-top: 30px;
  padding-bottom: 30px;
  margin-bottom: 30px;
  color: inherit;
  background-color: #eeeeee;
}
.jumbotron h1,
.jumbotron .h1 {
  color: inherit;
}
.jumbotron p {
  margin-bottom: 15px;
  font-size: 20px;
  font-weight: 200;
}
.jumbotron > hr {
  border-top-color: #d5d5d5;
}
.container .jumbotron,
.container-fluid .jumbotron {
  border-radius: 3px;
  padding-left: 0px;
  padding-right: 0px;
}
.jumbotron .container {
  max-width: 100%;
}
@media screen and (min-width: 768px) {
  .jumbotron {
    padding-top: 48px;
    padding-bottom: 48px;
  }
  .container .jumbotron,
  .container-fluid .jumbotron {
    padding-left: 60px;
    padding-right: 60px;
  }
  .jumbotron h1,
  .jumbotron .h1 {
    font-size: 59px;
  }
}
.thumbnail {
  display: block;
  padding: 4px;
  margin-bottom: 18px;
  line-height: 1.42857143;
  background-color: #fff;
  border: 1px solid #ddd;
  border-radius: 2px;
  -webkit-transition: border 0.2s ease-in-out;
  -o-transition: border 0.2s ease-in-out;
  transition: border 0.2s ease-in-out;
}
.thumbnail > img,
.thumbnail a > img {
  margin-left: auto;
  margin-right: auto;
}
a.thumbnail:hover,
a.thumbnail:focus,
a.thumbnail.active {
  border-color: #337ab7;
}
.thumbnail .caption {
  padding: 9px;
  color: #000;
}
.alert {
  padding: 15px;
  margin-bottom: 18px;
  border: 1px solid transparent;
  border-radius: 2px;
}
.alert h4 {
  margin-top: 0;
  color: inherit;
}
.alert .alert-link {
  font-weight: bold;
}
.alert > p,
.alert > ul {
  margin-bottom: 0;
}
.alert > p + p {
  margin-top: 5px;
}
.alert-dismissable,
.alert-dismissible {
  padding-right: 35px;
}
.alert-dismissable .close,
.alert-dismissible .close {
  position: relative;
  top: -2px;
  right: -21px;
  color: inherit;
}
.alert-success {
  background-color: #dff0d8;
  border-color: #d6e9c6;
  color: #3c763d;
}
.alert-success hr {
  border-top-color: #c9e2b3;
}
.alert-success .alert-link {
  color: #2b542c;
}
.alert-info {
  background-color: #d9edf7;
  border-color: #bce8f1;
  color: #31708f;
}
.alert-info hr {
  border-top-color: #a6e1ec;
}
.alert-info .alert-link {
  color: #245269;
}
.alert-warning {
  background-color: #fcf8e3;
  border-color: #faebcc;
  color: #8a6d3b;
}
.alert-warning hr {
  border-top-color: #f7e1b5;
}
.alert-warning .alert-link {
  color: #66512c;
}
.alert-danger {
  background-color: #f2dede;
  border-color: #ebccd1;
  color: #a94442;
}
.alert-danger hr {
  border-top-color: #e4b9c0;
}
.alert-danger .alert-link {
  color: #843534;
}
@-webkit-keyframes progress-bar-stripes {
  from {
    background-position: 40px 0;
  }
  to {
    background-position: 0 0;
  }
}
@keyframes progress-bar-stripes {
  from {
    background-position: 40px 0;
  }
  to {
    background-position: 0 0;
  }
}
.progress {
  overflow: hidden;
  height: 18px;
  margin-bottom: 18px;
  background-color: #f5f5f5;
  border-radius: 2px;
  -webkit-box-shadow: inset 0 1px 2px rgba(0, 0, 0, 0.1);
  box-shadow: inset 0 1px 2px rgba(0, 0, 0, 0.1);
}
.progress-bar {
  float: left;
  width: 0%;
  height: 100%;
  font-size: 12px;
  line-height: 18px;
  color: #fff;
  text-align: center;
  background-color: #337ab7;
  -webkit-box-shadow: inset 0 -1px 0 rgba(0, 0, 0, 0.15);
  box-shadow: inset 0 -1px 0 rgba(0, 0, 0, 0.15);
  -webkit-transition: width 0.6s ease;
  -o-transition: width 0.6s ease;
  transition: width 0.6s ease;
}
.progress-striped .progress-bar,
.progress-bar-striped {
  background-image: -webkit-linear-gradient(45deg, rgba(255, 255, 255, 0.15) 25%, transparent 25%, transparent 50%, rgba(255, 255, 255, 0.15) 50%, rgba(255, 255, 255, 0.15) 75%, transparent 75%, transparent);
  background-image: -o-linear-gradient(45deg, rgba(255, 255, 255, 0.15) 25%, transparent 25%, transparent 50%, rgba(255, 255, 255, 0.15) 50%, rgba(255, 255, 255, 0.15) 75%, transparent 75%, transparent);
  background-image: linear-gradient(45deg, rgba(255, 255, 255, 0.15) 25%, transparent 25%, transparent 50%, rgba(255, 255, 255, 0.15) 50%, rgba(255, 255, 255, 0.15) 75%, transparent 75%, transparent);
  background-size: 40px 40px;
}
.progress.active .progress-bar,
.progress-bar.active {
  -webkit-animation: progress-bar-stripes 2s linear infinite;
  -o-animation: progress-bar-stripes 2s linear infinite;
  animation: progress-bar-stripes 2s linear infinite;
}
.progress-bar-success {
  background-color: #5cb85c;
}
.progress-striped .progress-bar-success {
  background-image: -webkit-linear-gradient(45deg, rgba(255, 255, 255, 0.15) 25%, transparent 25%, transparent 50%, rgba(255, 255, 255, 0.15) 50%, rgba(255, 255, 255, 0.15) 75%, transparent 75%, transparent);
  background-image: -o-linear-gradient(45deg, rgba(255, 255, 255, 0.15) 25%, transparent 25%, transparent 50%, rgba(255, 255, 255, 0.15) 50%, rgba(255, 255, 255, 0.15) 75%, transparent 75%, transparent);
  background-image: linear-gradient(45deg, rgba(255, 255, 255, 0.15) 25%, transparent 25%, transparent 50%, rgba(255, 255, 255, 0.15) 50%, rgba(255, 255, 255, 0.15) 75%, transparent 75%, transparent);
}
.progress-bar-info {
  background-color: #5bc0de;
}
.progress-striped .progress-bar-info {
  background-image: -webkit-linear-gradient(45deg, rgba(255, 255, 255, 0.15) 25%, transparent 25%, transparent 50%, rgba(255, 255, 255, 0.15) 50%, rgba(255, 255, 255, 0.15) 75%, transparent 75%, transparent);
  background-image: -o-linear-gradient(45deg, rgba(255, 255, 255, 0.15) 25%, transparent 25%, transparent 50%, rgba(255, 255, 255, 0.15) 50%, rgba(255, 255, 255, 0.15) 75%, transparent 75%, transparent);
  background-image: linear-gradient(45deg, rgba(255, 255, 255, 0.15) 25%, transparent 25%, transparent 50%, rgba(255, 255, 255, 0.15) 50%, rgba(255, 255, 255, 0.15) 75%, transparent 75%, transparent);
}
.progress-bar-warning {
  background-color: #f0ad4e;
}
.progress-striped .progress-bar-warning {
  background-image: -webkit-linear-gradient(45deg, rgba(255, 255, 255, 0.15) 25%, transparent 25%, transparent 50%, rgba(255, 255, 255, 0.15) 50%, rgba(255, 255, 255, 0.15) 75%, transparent 75%, transparent);
  background-image: -o-linear-gradient(45deg, rgba(255, 255, 255, 0.15) 25%, transparent 25%, transparent 50%, rgba(255, 255, 255, 0.15) 50%, rgba(255, 255, 255, 0.15) 75%, transparent 75%, transparent);
  background-image: linear-gradient(45deg, rgba(255, 255, 255, 0.15) 25%, transparent 25%, transparent 50%, rgba(255, 255, 255, 0.15) 50%, rgba(255, 255, 255, 0.15) 75%, transparent 75%, transparent);
}
.progress-bar-danger {
  background-color: #d9534f;
}
.progress-striped .progress-bar-danger {
  background-image: -webkit-linear-gradient(45deg, rgba(255, 255, 255, 0.15) 25%, transparent 25%, transparent 50%, rgba(255, 255, 255, 0.15) 50%, rgba(255, 255, 255, 0.15) 75%, transparent 75%, transparent);
  background-image: -o-linear-gradient(45deg, rgba(255, 255, 255, 0.15) 25%, transparent 25%, transparent 50%, rgba(255, 255, 255, 0.15) 50%, rgba(255, 255, 255, 0.15) 75%, transparent 75%, transparent);
  background-image: linear-gradient(45deg, rgba(255, 255, 255, 0.15) 25%, transparent 25%, transparent 50%, rgba(255, 255, 255, 0.15) 50%, rgba(255, 255, 255, 0.15) 75%, transparent 75%, transparent);
}
.media {
  margin-top: 15px;
}
.media:first-child {
  margin-top: 0;
}
.media,
.media-body {
  zoom: 1;
  overflow: hidden;
}
.media-body {
  width: 10000px;
}
.media-object {
  display: block;
}
.media-object.img-thumbnail {
  max-width: none;
}
.media-right,
.media > .pull-right {
  padding-left: 10px;
}
.media-left,
.media > .pull-left {
  padding-right: 10px;
}
.media-left,
.media-right,
.media-body {
  display: table-cell;
  vertical-align: top;
}
.media-middle {
  vertical-align: middle;
}
.media-bottom {
  vertical-align: bottom;
}
.media-heading {
  margin-top: 0;
  margin-bottom: 5px;
}
.media-list {
  padding-left: 0;
  list-style: none;
}
.list-group {
  margin-bottom: 20px;
  padding-left: 0;
}
.list-group-item {
  position: relative;
  display: block;
  padding: 10px 15px;
  margin-bottom: -1px;
  background-color: #fff;
  border: 1px solid #ddd;
}
.list-group-item:first-child {
  border-top-right-radius: 2px;
  border-top-left-radius: 2px;
}
.list-group-item:last-child {
  margin-bottom: 0;
  border-bottom-right-radius: 2px;
  border-bottom-left-radius: 2px;
}
a.list-group-item,
button.list-group-item {
  color: #555;
}
a.list-group-item .list-group-item-heading,
button.list-group-item .list-group-item-heading {
  color: #333;
}
a.list-group-item:hover,
button.list-group-item:hover,
a.list-group-item:focus,
button.list-group-item:focus {
  text-decoration: none;
  color: #555;
  background-color: #f5f5f5;
}
button.list-group-item {
  width: 100%;
  text-align: left;
}
.list-group-item.disabled,
.list-group-item.disabled:hover,
.list-group-item.disabled:focus {
  background-color: #eeeeee;
  color: #777777;
  cursor: not-allowed;
}
.list-group-item.disabled .list-group-item-heading,
.list-group-item.disabled:hover .list-group-item-heading,
.list-group-item.disabled:focus .list-group-item-heading {
  color: inherit;
}
.list-group-item.disabled .list-group-item-text,
.list-group-item.disabled:hover .list-group-item-text,
.list-group-item.disabled:focus .list-group-item-text {
  color: #777777;
}
.list-group-item.active,
.list-group-item.active:hover,
.list-group-item.active:focus {
  z-index: 2;
  color: #fff;
  background-color: #337ab7;
  border-color: #337ab7;
}
.list-group-item.active .list-group-item-heading,
.list-group-item.active:hover .list-group-item-heading,
.list-group-item.active:focus .list-group-item-heading,
.list-group-item.active .list-group-item-heading > small,
.list-group-item.active:hover .list-group-item-heading > small,
.list-group-item.active:focus .list-group-item-heading > small,
.list-group-item.active .list-group-item-heading > .small,
.list-group-item.active:hover .list-group-item-heading > .small,
.list-group-item.active:focus .list-group-item-heading > .small {
  color: inherit;
}
.list-group-item.active .list-group-item-text,
.list-group-item.active:hover .list-group-item-text,
.list-group-item.active:focus .list-group-item-text {
  color: #c7ddef;
}
.list-group-item-success {
  color: #3c763d;
  background-color: #dff0d8;
}
a.list-group-item-success,
button.list-group-item-success {
  color: #3c763d;
}
a.list-group-item-success .list-group-item-heading,
button.list-group-item-success .list-group-item-heading {
  color: inherit;
}
a.list-group-item-success:hover,
button.list-group-item-success:hover,
a.list-group-item-success:focus,
button.list-group-item-success:focus {
  color: #3c763d;
  background-color: #d0e9c6;
}
a.list-group-item-success.active,
button.list-group-item-success.active,
a.list-group-item-success.active:hover,
button.list-group-item-success.active:hover,
a.list-group-item-success.active:focus,
button.list-group-item-success.active:focus {
  color: #fff;
  background-color: #3c763d;
  border-color: #3c763d;
}
.list-group-item-info {
  color: #31708f;
  background-color: #d9edf7;
}
a.list-group-item-info,
button.list-group-item-info {
  color: #31708f;
}
a.list-group-item-info .list-group-item-heading,
button.list-group-item-info .list-group-item-heading {
  color: inherit;
}
a.list-group-item-info:hover,
button.list-group-item-info:hover,
a.list-group-item-info:focus,
button.list-group-item-info:focus {
  color: #31708f;
  background-color: #c4e3f3;
}
a.list-group-item-info.active,
button.list-group-item-info.active,
a.list-group-item-info.active:hover,
button.list-group-item-info.active:hover,
a.list-group-item-info.active:focus,
button.list-group-item-info.active:focus {
  color: #fff;
  background-color: #31708f;
  border-color: #31708f;
}
.list-group-item-warning {
  color: #8a6d3b;
  background-color: #fcf8e3;
}
a.list-group-item-warning,
button.list-group-item-warning {
  color: #8a6d3b;
}
a.list-group-item-warning .list-group-item-heading,
button.list-group-item-warning .list-group-item-heading {
  color: inherit;
}
a.list-group-item-warning:hover,
button.list-group-item-warning:hover,
a.list-group-item-warning:focus,
button.list-group-item-warning:focus {
  color: #8a6d3b;
  background-color: #faf2cc;
}
a.list-group-item-warning.active,
button.list-group-item-warning.active,
a.list-group-item-warning.active:hover,
button.list-group-item-warning.active:hover,
a.list-group-item-warning.active:focus,
button.list-group-item-warning.active:focus {
  color: #fff;
  background-color: #8a6d3b;
  border-color: #8a6d3b;
}
.list-group-item-danger {
  color: #a94442;
  background-color: #f2dede;
}
a.list-group-item-danger,
button.list-group-item-danger {
  color: #a94442;
}
a.list-group-item-danger .list-group-item-heading,
button.list-group-item-danger .list-group-item-heading {
  color: inherit;
}
a.list-group-item-danger:hover,
button.list-group-item-danger:hover,
a.list-group-item-danger:focus,
button.list-group-item-danger:focus {
  color: #a94442;
  background-color: #ebcccc;
}
a.list-group-item-danger.active,
button.list-group-item-danger.active,
a.list-group-item-danger.active:hover,
button.list-group-item-danger.active:hover,
a.list-group-item-danger.active:focus,
button.list-group-item-danger.active:focus {
  color: #fff;
  background-color: #a94442;
  border-color: #a94442;
}
.list-group-item-heading {
  margin-top: 0;
  margin-bottom: 5px;
}
.list-group-item-text {
  margin-bottom: 0;
  line-height: 1.3;
}
.panel {
  margin-bottom: 18px;
  background-color: #fff;
  border: 1px solid transparent;
  border-radius: 2px;
  -webkit-box-shadow: 0 1px 1px rgba(0, 0, 0, 0.05);
  box-shadow: 0 1px 1px rgba(0, 0, 0, 0.05);
}
.panel-body {
  padding: 15px;
}
.panel-heading {
  padding: 10px 15px;
  border-bottom: 1px solid transparent;
  border-top-right-radius: 1px;
  border-top-left-radius: 1px;
}
.panel-heading > .dropdown .dropdown-toggle {
  color: inherit;
}
.panel-title {
  margin-top: 0;
  margin-bottom: 0;
  font-size: 15px;
  color: inherit;
}
.panel-title > a,
.panel-title > small,
.panel-title > .small,
.panel-title > small > a,
.panel-title > .small > a {
  color: inherit;
}
.panel-footer {
  padding: 10px 15px;
  background-color: #f5f5f5;
  border-top: 1px solid #ddd;
  border-bottom-right-radius: 1px;
  border-bottom-left-radius: 1px;
}
.panel > .list-group,
.panel > .panel-collapse > .list-group {
  margin-bottom: 0;
}
.panel > .list-group .list-group-item,
.panel > .panel-collapse > .list-group .list-group-item {
  border-width: 1px 0;
  border-radius: 0;
}
.panel > .list-group:first-child .list-group-item:first-child,
.panel > .panel-collapse > .list-group:first-child .list-group-item:first-child {
  border-top: 0;
  border-top-right-radius: 1px;
  border-top-left-radius: 1px;
}
.panel > .list-group:last-child .list-group-item:last-child,
.panel > .panel-collapse > .list-group:last-child .list-group-item:last-child {
  border-bottom: 0;
  border-bottom-right-radius: 1px;
  border-bottom-left-radius: 1px;
}
.panel > .panel-heading + .panel-collapse > .list-group .list-group-item:first-child {
  border-top-right-radius: 0;
  border-top-left-radius: 0;
}
.panel-heading + .list-group .list-group-item:first-child {
  border-top-width: 0;
}
.list-group + .panel-footer {
  border-top-width: 0;
}
.panel > .table,
.panel > .table-responsive > .table,
.panel > .panel-collapse > .table {
  margin-bottom: 0;
}
.panel > .table caption,
.panel > .table-responsive > .table caption,
.panel > .panel-collapse > .table caption {
  padding-left: 15px;
  padding-right: 15px;
}
.panel > .table:first-child,
.panel > .table-responsive:first-child > .table:first-child {
  border-top-right-radius: 1px;
  border-top-left-radius: 1px;
}
.panel > .table:first-child > thead:first-child > tr:first-child,
.panel > .table-responsive:first-child > .table:first-child > thead:first-child > tr:first-child,
.panel > .table:first-child > tbody:first-child > tr:first-child,
.panel > .table-responsive:first-child > .table:first-child > tbody:first-child > tr:first-child {
  border-top-left-radius: 1px;
  border-top-right-radius: 1px;
}
.panel > .table:first-child > thead:first-child > tr:first-child td:first-child,
.panel > .table-responsive:first-child > .table:first-child > thead:first-child > tr:first-child td:first-child,
.panel > .table:first-child > tbody:first-child > tr:first-child td:first-child,
.panel > .table-responsive:first-child > .table:first-child > tbody:first-child > tr:first-child td:first-child,
.panel > .table:first-child > thead:first-child > tr:first-child th:first-child,
.panel > .table-responsive:first-child > .table:first-child > thead:first-child > tr:first-child th:first-child,
.panel > .table:first-child > tbody:first-child > tr:first-child th:first-child,
.panel > .table-responsive:first-child > .table:first-child > tbody:first-child > tr:first-child th:first-child {
  border-top-left-radius: 1px;
}
.panel > .table:first-child > thead:first-child > tr:first-child td:last-child,
.panel > .table-responsive:first-child > .table:first-child > thead:first-child > tr:first-child td:last-child,
.panel > .table:first-child > tbody:first-child > tr:first-child td:last-child,
.panel > .table-responsive:first-child > .table:first-child > tbody:first-child > tr:first-child td:last-child,
.panel > .table:first-child > thead:first-child > tr:first-child th:last-child,
.panel > .table-responsive:first-child > .table:first-child > thead:first-child > tr:first-child th:last-child,
.panel > .table:first-child > tbody:first-child > tr:first-child th:last-child,
.panel > .table-responsive:first-child > .table:first-child > tbody:first-child > tr:first-child th:last-child {
  border-top-right-radius: 1px;
}
.panel > .table:last-child,
.panel > .table-responsive:last-child > .table:last-child {
  border-bottom-right-radius: 1px;
  border-bottom-left-radius: 1px;
}
.panel > .table:last-child > tbody:last-child > tr:last-child,
.panel > .table-responsive:last-child > .table:last-child > tbody:last-child > tr:last-child,
.panel > .table:last-child > tfoot:last-child > tr:last-child,
.panel > .table-responsive:last-child > .table:last-child > tfoot:last-child > tr:last-child {
  border-bottom-left-radius: 1px;
  border-bottom-right-radius: 1px;
}
.panel > .table:last-child > tbody:last-child > tr:last-child td:first-child,
.panel > .table-responsive:last-child > .table:last-child > tbody:last-child > tr:last-child td:first-child,
.panel > .table:last-child > tfoot:last-child > tr:last-child td:first-child,
.panel > .table-responsive:last-child > .table:last-child > tfoot:last-child > tr:last-child td:first-child,
.panel > .table:last-child > tbody:last-child > tr:last-child th:first-child,
.panel > .table-responsive:last-child > .table:last-child > tbody:last-child > tr:last-child th:first-child,
.panel > .table:last-child > tfoot:last-child > tr:last-child th:first-child,
.panel > .table-responsive:last-child > .table:last-child > tfoot:last-child > tr:last-child th:first-child {
  border-bottom-left-radius: 1px;
}
.panel > .table:last-child > tbody:last-child > tr:last-child td:last-child,
.panel > .table-responsive:last-child > .table:last-child > tbody:last-child > tr:last-child td:last-child,
.panel > .table:last-child > tfoot:last-child > tr:last-child td:last-child,
.panel > .table-responsive:last-child > .table:last-child > tfoot:last-child > tr:last-child td:last-child,
.panel > .table:last-child > tbody:last-child > tr:last-child th:last-child,
.panel > .table-responsive:last-child > .table:last-child > tbody:last-child > tr:last-child th:last-child,
.panel > .table:last-child > tfoot:last-child > tr:last-child th:last-child,
.panel > .table-responsive:last-child > .table:last-child > tfoot:last-child > tr:last-child th:last-child {
  border-bottom-right-radius: 1px;
}
.panel > .panel-body + .table,
.panel > .panel-body + .table-responsive,
.panel > .table + .panel-body,
.panel > .table-responsive + .panel-body {
  border-top: 1px solid #ddd;
}
.panel > .table > tbody:first-child > tr:first-child th,
.panel > .table > tbody:first-child > tr:first-child td {
  border-top: 0;
}
.panel > .table-bordered,
.panel > .table-responsive > .table-bordered {
  border: 0;
}
.panel > .table-bordered > thead > tr > th:first-child,
.panel > .table-responsive > .table-bordered > thead > tr > th:first-child,
.panel > .table-bordered > tbody > tr > th:first-child,
.panel > .table-responsive > .table-bordered > tbody > tr > th:first-child,
.panel > .table-bordered > tfoot > tr > th:first-child,
.panel > .table-responsive > .table-bordered > tfoot > tr > th:first-child,
.panel > .table-bordered > thead > tr > td:first-child,
.panel > .table-responsive > .table-bordered > thead > tr > td:first-child,
.panel > .table-bordered > tbody > tr > td:first-child,
.panel > .table-responsive > .table-bordered > tbody > tr > td:first-child,
.panel > .table-bordered > tfoot > tr > td:first-child,
.panel > .table-responsive > .table-bordered > tfoot > tr > td:first-child {
  border-left: 0;
}
.panel > .table-bordered > thead > tr > th:last-child,
.panel > .table-responsive > .table-bordered > thead > tr > th:last-child,
.panel > .table-bordered > tbody > tr > th:last-child,
.panel > .table-responsive > .table-bordered > tbody > tr > th:last-child,
.panel > .table-bordered > tfoot > tr > th:last-child,
.panel > .table-responsive > .table-bordered > tfoot > tr > th:last-child,
.panel > .table-bordered > thead > tr > td:last-child,
.panel > .table-responsive > .table-bordered > thead > tr > td:last-child,
.panel > .table-bordered > tbody > tr > td:last-child,
.panel > .table-responsive > .table-bordered > tbody > tr > td:last-child,
.panel > .table-bordered > tfoot > tr > td:last-child,
.panel > .table-responsive > .table-bordered > tfoot > tr > td:last-child {
  border-right: 0;
}
.panel > .table-bordered > thead > tr:first-child > td,
.panel > .table-responsive > .table-bordered > thead > tr:first-child > td,
.panel > .table-bordered > tbody > tr:first-child > td,
.panel > .table-responsive > .table-bordered > tbody > tr:first-child > td,
.panel > .table-bordered > thead > tr:first-child > th,
.panel > .table-responsive > .table-bordered > thead > tr:first-child > th,
.panel > .table-bordered > tbody > tr:first-child > th,
.panel > .table-responsive > .table-bordered > tbody > tr:first-child > th {
  border-bottom: 0;
}
.panel > .table-bordered > tbody > tr:last-child > td,
.panel > .table-responsive > .table-bordered > tbody > tr:last-child > td,
.panel > .table-bordered > tfoot > tr:last-child > td,
.panel > .table-responsive > .table-bordered > tfoot > tr:last-child > td,
.panel > .table-bordered > tbody > tr:last-child > th,
.panel > .table-responsive > .table-bordered > tbody > tr:last-child > th,
.panel > .table-bordered > tfoot > tr:last-child > th,
.panel > .table-responsive > .table-bordered > tfoot > tr:last-child > th {
  border-bottom: 0;
}
.panel > .table-responsive {
  border: 0;
  margin-bottom: 0;
}
.panel-group {
  margin-bottom: 18px;
}
.panel-group .panel {
  margin-bottom: 0;
  border-radius: 2px;
}
.panel-group .panel + .panel {
  margin-top: 5px;
}
.panel-group .panel-heading {
  border-bottom: 0;
}
.panel-group .panel-heading + .panel-collapse > .panel-body,
.panel-group .panel-heading + .panel-collapse > .list-group {
  border-top: 1px solid #ddd;
}
.panel-group .panel-footer {
  border-top: 0;
}
.panel-group .panel-footer + .panel-collapse .panel-body {
  border-bottom: 1px solid #ddd;
}
.panel-default {
  border-color: #ddd;
}
.panel-default > .panel-heading {
  color: #333333;
  background-color: #f5f5f5;
  border-color: #ddd;
}
.panel-default > .panel-heading + .panel-collapse > .panel-body {
  border-top-color: #ddd;
}
.panel-default > .panel-heading .badge {
  color: #f5f5f5;
  background-color: #333333;
}
.panel-default > .panel-footer + .panel-collapse > .panel-body {
  border-bottom-color: #ddd;
}
.panel-primary {
  border-color: #337ab7;
}
.panel-primary > .panel-heading {
  color: #fff;
  background-color: #337ab7;
  border-color: #337ab7;
}
.panel-primary > .panel-heading + .panel-collapse > .panel-body {
  border-top-color: #337ab7;
}
.panel-primary > .panel-heading .badge {
  color: #337ab7;
  background-color: #fff;
}
.panel-primary > .panel-footer + .panel-collapse > .panel-body {
  border-bottom-color: #337ab7;
}
.panel-success {
  border-color: #d6e9c6;
}
.panel-success > .panel-heading {
  color: #3c763d;
  background-color: #dff0d8;
  border-color: #d6e9c6;
}
.panel-success > .panel-heading + .panel-collapse > .panel-body {
  border-top-color: #d6e9c6;
}
.panel-success > .panel-heading .badge {
  color: #dff0d8;
  background-color: #3c763d;
}
.panel-success > .panel-footer + .panel-collapse > .panel-body {
  border-bottom-color: #d6e9c6;
}
.panel-info {
  border-color: #bce8f1;
}
.panel-info > .panel-heading {
  color: #31708f;
  background-color: #d9edf7;
  border-color: #bce8f1;
}
.panel-info > .panel-heading + .panel-collapse > .panel-body {
  border-top-color: #bce8f1;
}
.panel-info > .panel-heading .badge {
  color: #d9edf7;
  background-color: #31708f;
}
.panel-info > .panel-footer + .panel-collapse > .panel-body {
  border-bottom-color: #bce8f1;
}
.panel-warning {
  border-color: #faebcc;
}
.panel-warning > .panel-heading {
  color: #8a6d3b;
  background-color: #fcf8e3;
  border-color: #faebcc;
}
.panel-warning > .panel-heading + .panel-collapse > .panel-body {
  border-top-color: #faebcc;
}
.panel-warning > .panel-heading .badge {
  color: #fcf8e3;
  background-color: #8a6d3b;
}
.panel-warning > .panel-footer + .panel-collapse > .panel-body {
  border-bottom-color: #faebcc;
}
.panel-danger {
  border-color: #ebccd1;
}
.panel-danger > .panel-heading {
  color: #a94442;
  background-color: #f2dede;
  border-color: #ebccd1;
}
.panel-danger > .panel-heading + .panel-collapse > .panel-body {
  border-top-color: #ebccd1;
}
.panel-danger > .panel-heading .badge {
  color: #f2dede;
  background-color: #a94442;
}
.panel-danger > .panel-footer + .panel-collapse > .panel-body {
  border-bottom-color: #ebccd1;
}
.embed-responsive {
  position: relative;
  display: block;
  height: 0;
  padding: 0;
  overflow: hidden;
}
.embed-responsive .embed-responsive-item,
.embed-responsive iframe,
.embed-responsive embed,
.embed-responsive object,
.embed-responsive video {
  position: absolute;
  top: 0;
  left: 0;
  bottom: 0;
  height: 100%;
  width: 100%;
  border: 0;
}
.embed-responsive-16by9 {
  padding-bottom: 56.25%;
}
.embed-responsive-4by3 {
  padding-bottom: 75%;
}
.well {
  min-height: 20px;
  padding: 19px;
  margin-bottom: 20px;
  background-color: #f5f5f5;
  border: 1px solid #e3e3e3;
  border-radius: 2px;
  -webkit-box-shadow: inset 0 1px 1px rgba(0, 0, 0, 0.05);
  box-shadow: inset 0 1px 1px rgba(0, 0, 0, 0.05);
}
.well blockquote {
  border-color: #ddd;
  border-color: rgba(0, 0, 0, 0.15);
}
.well-lg {
  padding: 24px;
  border-radius: 3px;
}
.well-sm {
  padding: 9px;
  border-radius: 1px;
}
.close {
  float: right;
  font-size: 19.5px;
  font-weight: bold;
  line-height: 1;
  color: #000;
  text-shadow: 0 1px 0 #fff;
  opacity: 0.2;
  filter: alpha(opacity=20);
}
.close:hover,
.close:focus {
  color: #000;
  text-decoration: none;
  cursor: pointer;
  opacity: 0.5;
  filter: alpha(opacity=50);
}
button.close {
  padding: 0;
  cursor: pointer;
  background: transparent;
  border: 0;
  -webkit-appearance: none;
}
.modal-open {
  overflow: hidden;
}
.modal {
  display: none;
  overflow: hidden;
  position: fixed;
  top: 0;
  right: 0;
  bottom: 0;
  left: 0;
  z-index: 1050;
  -webkit-overflow-scrolling: touch;
  outline: 0;
}
.modal.fade .modal-dialog {
  -webkit-transform: translate(0, -25%);
  -ms-transform: translate(0, -25%);
  -o-transform: translate(0, -25%);
  transform: translate(0, -25%);
  -webkit-transition: -webkit-transform 0.3s ease-out;
  -moz-transition: -moz-transform 0.3s ease-out;
  -o-transition: -o-transform 0.3s ease-out;
  transition: transform 0.3s ease-out;
}
.modal.in .modal-dialog {
  -webkit-transform: translate(0, 0);
  -ms-transform: translate(0, 0);
  -o-transform: translate(0, 0);
  transform: translate(0, 0);
}
.modal-open .modal {
  overflow-x: hidden;
  overflow-y: auto;
}
.modal-dialog {
  position: relative;
  width: auto;
  margin: 10px;
}
.modal-content {
  position: relative;
  background-color: #fff;
  border: 1px solid #999;
  border: 1px solid rgba(0, 0, 0, 0.2);
  border-radius: 3px;
  -webkit-box-shadow: 0 3px 9px rgba(0, 0, 0, 0.5);
  box-shadow: 0 3px 9px rgba(0, 0, 0, 0.5);
  background-clip: padding-box;
  outline: 0;
}
.modal-backdrop {
  position: fixed;
  top: 0;
  right: 0;
  bottom: 0;
  left: 0;
  z-index: 1040;
  background-color: #000;
}
.modal-backdrop.fade {
  opacity: 0;
  filter: alpha(opacity=0);
}
.modal-backdrop.in {
  opacity: 0.5;
  filter: alpha(opacity=50);
}
.modal-header {
  padding: 15px;
  border-bottom: 1px solid #e5e5e5;
}
.modal-header .close {
  margin-top: -2px;
}
.modal-title {
  margin: 0;
  line-height: 1.42857143;
}
.modal-body {
  position: relative;
  padding: 15px;
}
.modal-footer {
  padding: 15px;
  text-align: right;
  border-top: 1px solid #e5e5e5;
}
.modal-footer .btn + .btn {
  margin-left: 5px;
  margin-bottom: 0;
}
.modal-footer .btn-group .btn + .btn {
  margin-left: -1px;
}
.modal-footer .btn-block + .btn-block {
  margin-left: 0;
}
.modal-scrollbar-measure {
  position: absolute;
  top: -9999px;
  width: 50px;
  height: 50px;
  overflow: scroll;
}
@media (min-width: 768px) {
  .modal-dialog {
    width: 600px;
    margin: 30px auto;
  }
  .modal-content {
    -webkit-box-shadow: 0 5px 15px rgba(0, 0, 0, 0.5);
    box-shadow: 0 5px 15px rgba(0, 0, 0, 0.5);
  }
  .modal-sm {
    width: 300px;
  }
}
@media (min-width: 992px) {
  .modal-lg {
    width: 900px;
  }
}
.tooltip {
  position: absolute;
  z-index: 1070;
  display: block;
  font-family: "Helvetica Neue", Helvetica, Arial, sans-serif;
  font-style: normal;
  font-weight: normal;
  letter-spacing: normal;
  line-break: auto;
  line-height: 1.42857143;
  text-align: left;
  text-align: start;
  text-decoration: none;
  text-shadow: none;
  text-transform: none;
  white-space: normal;
  word-break: normal;
  word-spacing: normal;
  word-wrap: normal;
  font-size: 12px;
  opacity: 0;
  filter: alpha(opacity=0);
}
.tooltip.in {
  opacity: 0.9;
  filter: alpha(opacity=90);
}
.tooltip.top {
  margin-top: -3px;
  padding: 5px 0;
}
.tooltip.right {
  margin-left: 3px;
  padding: 0 5px;
}
.tooltip.bottom {
  margin-top: 3px;
  padding: 5px 0;
}
.tooltip.left {
  margin-left: -3px;
  padding: 0 5px;
}
.tooltip-inner {
  max-width: 200px;
  padding: 3px 8px;
  color: #fff;
  text-align: center;
  background-color: #000;
  border-radius: 2px;
}
.tooltip-arrow {
  position: absolute;
  width: 0;
  height: 0;
  border-color: transparent;
  border-style: solid;
}
.tooltip.top .tooltip-arrow {
  bottom: 0;
  left: 50%;
  margin-left: -5px;
  border-width: 5px 5px 0;
  border-top-color: #000;
}
.tooltip.top-left .tooltip-arrow {
  bottom: 0;
  right: 5px;
  margin-bottom: -5px;
  border-width: 5px 5px 0;
  border-top-color: #000;
}
.tooltip.top-right .tooltip-arrow {
  bottom: 0;
  left: 5px;
  margin-bottom: -5px;
  border-width: 5px 5px 0;
  border-top-color: #000;
}
.tooltip.right .tooltip-arrow {
  top: 50%;
  left: 0;
  margin-top: -5px;
  border-width: 5px 5px 5px 0;
  border-right-color: #000;
}
.tooltip.left .tooltip-arrow {
  top: 50%;
  right: 0;
  margin-top: -5px;
  border-width: 5px 0 5px 5px;
  border-left-color: #000;
}
.tooltip.bottom .tooltip-arrow {
  top: 0;
  left: 50%;
  margin-left: -5px;
  border-width: 0 5px 5px;
  border-bottom-color: #000;
}
.tooltip.bottom-left .tooltip-arrow {
  top: 0;
  right: 5px;
  margin-top: -5px;
  border-width: 0 5px 5px;
  border-bottom-color: #000;
}
.tooltip.bottom-right .tooltip-arrow {
  top: 0;
  left: 5px;
  margin-top: -5px;
  border-width: 0 5px 5px;
  border-bottom-color: #000;
}
.popover {
  position: absolute;
  top: 0;
  left: 0;
  z-index: 1060;
  display: none;
  max-width: 276px;
  padding: 1px;
  font-family: "Helvetica Neue", Helvetica, Arial, sans-serif;
  font-style: normal;
  font-weight: normal;
  letter-spacing: normal;
  line-break: auto;
  line-height: 1.42857143;
  text-align: left;
  text-align: start;
  text-decoration: none;
  text-shadow: none;
  text-transform: none;
  white-space: normal;
  word-break: normal;
  word-spacing: normal;
  word-wrap: normal;
  font-size: 13px;
  background-color: #fff;
  background-clip: padding-box;
  border: 1px solid #ccc;
  border: 1px solid rgba(0, 0, 0, 0.2);
  border-radius: 3px;
  -webkit-box-shadow: 0 5px 10px rgba(0, 0, 0, 0.2);
  box-shadow: 0 5px 10px rgba(0, 0, 0, 0.2);
}
.popover.top {
  margin-top: -10px;
}
.popover.right {
  margin-left: 10px;
}
.popover.bottom {
  margin-top: 10px;
}
.popover.left {
  margin-left: -10px;
}
.popover-title {
  margin: 0;
  padding: 8px 14px;
  font-size: 13px;
  background-color: #f7f7f7;
  border-bottom: 1px solid #ebebeb;
  border-radius: 2px 2px 0 0;
}
.popover-content {
  padding: 9px 14px;
}
.popover > .arrow,
.popover > .arrow:after {
  position: absolute;
  display: block;
  width: 0;
  height: 0;
  border-color: transparent;
  border-style: solid;
}
.popover > .arrow {
  border-width: 11px;
}
.popover > .arrow:after {
  border-width: 10px;
  content: "";
}
.popover.top > .arrow {
  left: 50%;
  margin-left: -11px;
  border-bottom-width: 0;
  border-top-color: #999999;
  border-top-color: rgba(0, 0, 0, 0.25);
  bottom: -11px;
}
.popover.top > .arrow:after {
  content: " ";
  bottom: 1px;
  margin-left: -10px;
  border-bottom-width: 0;
  border-top-color: #fff;
}
.popover.right > .arrow {
  top: 50%;
  left: -11px;
  margin-top: -11px;
  border-left-width: 0;
  border-right-color: #999999;
  border-right-color: rgba(0, 0, 0, 0.25);
}
.popover.right > .arrow:after {
  content: " ";
  left: 1px;
  bottom: -10px;
  border-left-width: 0;
  border-right-color: #fff;
}
.popover.bottom > .arrow {
  left: 50%;
  margin-left: -11px;
  border-top-width: 0;
  border-bottom-color: #999999;
  border-bottom-color: rgba(0, 0, 0, 0.25);
  top: -11px;
}
.popover.bottom > .arrow:after {
  content: " ";
  top: 1px;
  margin-left: -10px;
  border-top-width: 0;
  border-bottom-color: #fff;
}
.popover.left > .arrow {
  top: 50%;
  right: -11px;
  margin-top: -11px;
  border-right-width: 0;
  border-left-color: #999999;
  border-left-color: rgba(0, 0, 0, 0.25);
}
.popover.left > .arrow:after {
  content: " ";
  right: 1px;
  border-right-width: 0;
  border-left-color: #fff;
  bottom: -10px;
}
.carousel {
  position: relative;
}
.carousel-inner {
  position: relative;
  overflow: hidden;
  width: 100%;
}
.carousel-inner > .item {
  display: none;
  position: relative;
  -webkit-transition: 0.6s ease-in-out left;
  -o-transition: 0.6s ease-in-out left;
  transition: 0.6s ease-in-out left;
}
.carousel-inner > .item > img,
.carousel-inner > .item > a > img {
  line-height: 1;
}
@media all and (transform-3d), (-webkit-transform-3d) {
  .carousel-inner > .item {
    -webkit-transition: -webkit-transform 0.6s ease-in-out;
    -moz-transition: -moz-transform 0.6s ease-in-out;
    -o-transition: -o-transform 0.6s ease-in-out;
    transition: transform 0.6s ease-in-out;
    -webkit-backface-visibility: hidden;
    -moz-backface-visibility: hidden;
    backface-visibility: hidden;
    -webkit-perspective: 1000px;
    -moz-perspective: 1000px;
    perspective: 1000px;
  }
  .carousel-inner > .item.next,
  .carousel-inner > .item.active.right {
    -webkit-transform: translate3d(100%, 0, 0);
    transform: translate3d(100%, 0, 0);
    left: 0;
  }
  .carousel-inner > .item.prev,
  .carousel-inner > .item.active.left {
    -webkit-transform: translate3d(-100%, 0, 0);
    transform: translate3d(-100%, 0, 0);
    left: 0;
  }
  .carousel-inner > .item.next.left,
  .carousel-inner > .item.prev.right,
  .carousel-inner > .item.active {
    -webkit-transform: translate3d(0, 0, 0);
    transform: translate3d(0, 0, 0);
    left: 0;
  }
}
.carousel-inner > .active,
.carousel-inner > .next,
.carousel-inner > .prev {
  display: block;
}
.carousel-inner > .active {
  left: 0;
}
.carousel-inner > .next,
.carousel-inner > .prev {
  position: absolute;
  top: 0;
  width: 100%;
}
.carousel-inner > .next {
  left: 100%;
}
.carousel-inner > .prev {
  left: -100%;
}
.carousel-inner > .next.left,
.carousel-inner > .prev.right {
  left: 0;
}
.carousel-inner > .active.left {
  left: -100%;
}
.carousel-inner > .active.right {
  left: 100%;
}
.carousel-control {
  position: absolute;
  top: 0;
  left: 0;
  bottom: 0;
  width: 15%;
  opacity: 0.5;
  filter: alpha(opacity=50);
  font-size: 20px;
  color: #fff;
  text-align: center;
  text-shadow: 0 1px 2px rgba(0, 0, 0, 0.6);
  background-color: rgba(0, 0, 0, 0);
}
.carousel-control.left {
  background-image: -webkit-linear-gradient(left, rgba(0, 0, 0, 0.5) 0%, rgba(0, 0, 0, 0.0001) 100%);
  background-image: -o-linear-gradient(left, rgba(0, 0, 0, 0.5) 0%, rgba(0, 0, 0, 0.0001) 100%);
  background-image: linear-gradient(to right, rgba(0, 0, 0, 0.5) 0%, rgba(0, 0, 0, 0.0001) 100%);
  background-repeat: repeat-x;
  filter: progid:DXImageTransform.Microsoft.gradient(startColorstr='#80000000', endColorstr='#00000000', GradientType=1);
}
.carousel-control.right {
  left: auto;
  right: 0;
  background-image: -webkit-linear-gradient(left, rgba(0, 0, 0, 0.0001) 0%, rgba(0, 0, 0, 0.5) 100%);
  background-image: -o-linear-gradient(left, rgba(0, 0, 0, 0.0001) 0%, rgba(0, 0, 0, 0.5) 100%);
  background-image: linear-gradient(to right, rgba(0, 0, 0, 0.0001) 0%, rgba(0, 0, 0, 0.5) 100%);
  background-repeat: repeat-x;
  filter: progid:DXImageTransform.Microsoft.gradient(startColorstr='#00000000', endColorstr='#80000000', GradientType=1);
}
.carousel-control:hover,
.carousel-control:focus {
  outline: 0;
  color: #fff;
  text-decoration: none;
  opacity: 0.9;
  filter: alpha(opacity=90);
}
.carousel-control .icon-prev,
.carousel-control .icon-next,
.carousel-control .glyphicon-chevron-left,
.carousel-control .glyphicon-chevron-right {
  position: absolute;
  top: 50%;
  margin-top: -10px;
  z-index: 5;
  display: inline-block;
}
.carousel-control .icon-prev,
.carousel-control .glyphicon-chevron-left {
  left: 50%;
  margin-left: -10px;
}
.carousel-control .icon-next,
.carousel-control .glyphicon-chevron-right {
  right: 50%;
  margin-right: -10px;
}
.carousel-control .icon-prev,
.carousel-control .icon-next {
  width: 20px;
  height: 20px;
  line-height: 1;
  font-family: serif;
}
.carousel-control .icon-prev:before {
  content: '\2039';
}
.carousel-control .icon-next:before {
  content: '\203a';
}
.carousel-indicators {
  position: absolute;
  bottom: 10px;
  left: 50%;
  z-index: 15;
  width: 60%;
  margin-left: -30%;
  padding-left: 0;
  list-style: none;
  text-align: center;
}
.carousel-indicators li {
  display: inline-block;
  width: 10px;
  height: 10px;
  margin: 1px;
  text-indent: -999px;
  border: 1px solid #fff;
  border-radius: 10px;
  cursor: pointer;
  background-color: #000 \9;
  background-color: rgba(0, 0, 0, 0);
}
.carousel-indicators .active {
  margin: 0;
  width: 12px;
  height: 12px;
  background-color: #fff;
}
.carousel-caption {
  position: absolute;
  left: 15%;
  right: 15%;
  bottom: 20px;
  z-index: 10;
  padding-top: 20px;
  padding-bottom: 20px;
  color: #fff;
  text-align: center;
  text-shadow: 0 1px 2px rgba(0, 0, 0, 0.6);
}
.carousel-caption .btn {
  text-shadow: none;
}
@media screen and (min-width: 768px) {
  .carousel-control .glyphicon-chevron-left,
  .carousel-control .glyphicon-chevron-right,
  .carousel-control .icon-prev,
  .carousel-control .icon-next {
    width: 30px;
    height: 30px;
    margin-top: -10px;
    font-size: 30px;
  }
  .carousel-control .glyphicon-chevron-left,
  .carousel-control .icon-prev {
    margin-left: -10px;
  }
  .carousel-control .glyphicon-chevron-right,
  .carousel-control .icon-next {
    margin-right: -10px;
  }
  .carousel-caption {
    left: 20%;
    right: 20%;
    padding-bottom: 30px;
  }
  .carousel-indicators {
    bottom: 20px;
  }
}
.clearfix:before,
.clearfix:after,
.dl-horizontal dd:before,
.dl-horizontal dd:after,
.container:before,
.container:after,
.container-fluid:before,
.container-fluid:after,
.row:before,
.row:after,
.form-horizontal .form-group:before,
.form-horizontal .form-group:after,
.btn-toolbar:before,
.btn-toolbar:after,
.btn-group-vertical > .btn-group:before,
.btn-group-vertical > .btn-group:after,
.nav:before,
.nav:after,
.navbar:before,
.navbar:after,
.navbar-header:before,
.navbar-header:after,
.navbar-collapse:before,
.navbar-collapse:after,
.pager:before,
.pager:after,
.panel-body:before,
.panel-body:after,
.modal-header:before,
.modal-header:after,
.modal-footer:before,
.modal-footer:after,
.item_buttons:before,
.item_buttons:after {
  content: " ";
  display: table;
}
.clearfix:after,
.dl-horizontal dd:after,
.container:after,
.container-fluid:after,
.row:after,
.form-horizontal .form-group:after,
.btn-toolbar:after,
.btn-group-vertical > .btn-group:after,
.nav:after,
.navbar:after,
.navbar-header:after,
.navbar-collapse:after,
.pager:after,
.panel-body:after,
.modal-header:after,
.modal-footer:after,
.item_buttons:after {
  clear: both;
}
.center-block {
  display: block;
  margin-left: auto;
  margin-right: auto;
}
.pull-right {
  float: right !important;
}
.pull-left {
  float: left !important;
}
.hide {
  display: none !important;
}
.show {
  display: block !important;
}
.invisible {
  visibility: hidden;
}
.text-hide {
  font: 0/0 a;
  color: transparent;
  text-shadow: none;
  background-color: transparent;
  border: 0;
}
.hidden {
  display: none !important;
}
.affix {
  position: fixed;
}
@-ms-viewport {
  width: device-width;
}
.visible-xs,
.visible-sm,
.visible-md,
.visible-lg {
  display: none !important;
}
.visible-xs-block,
.visible-xs-inline,
.visible-xs-inline-block,
.visible-sm-block,
.visible-sm-inline,
.visible-sm-inline-block,
.visible-md-block,
.visible-md-inline,
.visible-md-inline-block,
.visible-lg-block,
.visible-lg-inline,
.visible-lg-inline-block {
  display: none !important;
}
@media (max-width: 767px) {
  .visible-xs {
    display: block !important;
  }
  table.visible-xs {
    display: table !important;
  }
  tr.visible-xs {
    display: table-row !important;
  }
  th.visible-xs,
  td.visible-xs {
    display: table-cell !important;
  }
}
@media (max-width: 767px) {
  .visible-xs-block {
    display: block !important;
  }
}
@media (max-width: 767px) {
  .visible-xs-inline {
    display: inline !important;
  }
}
@media (max-width: 767px) {
  .visible-xs-inline-block {
    display: inline-block !important;
  }
}
@media (min-width: 768px) and (max-width: 991px) {
  .visible-sm {
    display: block !important;
  }
  table.visible-sm {
    display: table !important;
  }
  tr.visible-sm {
    display: table-row !important;
  }
  th.visible-sm,
  td.visible-sm {
    display: table-cell !important;
  }
}
@media (min-width: 768px) and (max-width: 991px) {
  .visible-sm-block {
    display: block !important;
  }
}
@media (min-width: 768px) and (max-width: 991px) {
  .visible-sm-inline {
    display: inline !important;
  }
}
@media (min-width: 768px) and (max-width: 991px) {
  .visible-sm-inline-block {
    display: inline-block !important;
  }
}
@media (min-width: 992px) and (max-width: 1199px) {
  .visible-md {
    display: block !important;
  }
  table.visible-md {
    display: table !important;
  }
  tr.visible-md {
    display: table-row !important;
  }
  th.visible-md,
  td.visible-md {
    display: table-cell !important;
  }
}
@media (min-width: 992px) and (max-width: 1199px) {
  .visible-md-block {
    display: block !important;
  }
}
@media (min-width: 992px) and (max-width: 1199px) {
  .visible-md-inline {
    display: inline !important;
  }
}
@media (min-width: 992px) and (max-width: 1199px) {
  .visible-md-inline-block {
    display: inline-block !important;
  }
}
@media (min-width: 1200px) {
  .visible-lg {
    display: block !important;
  }
  table.visible-lg {
    display: table !important;
  }
  tr.visible-lg {
    display: table-row !important;
  }
  th.visible-lg,
  td.visible-lg {
    display: table-cell !important;
  }
}
@media (min-width: 1200px) {
  .visible-lg-block {
    display: block !important;
  }
}
@media (min-width: 1200px) {
  .visible-lg-inline {
    display: inline !important;
  }
}
@media (min-width: 1200px) {
  .visible-lg-inline-block {
    display: inline-block !important;
  }
}
@media (max-width: 767px) {
  .hidden-xs {
    display: none !important;
  }
}
@media (min-width: 768px) and (max-width: 991px) {
  .hidden-sm {
    display: none !important;
  }
}
@media (min-width: 992px) and (max-width: 1199px) {
  .hidden-md {
    display: none !important;
  }
}
@media (min-width: 1200px) {
  .hidden-lg {
    display: none !important;
  }
}
.visible-print {
  display: none !important;
}
@media print {
  .visible-print {
    display: block !important;
  }
  table.visible-print {
    display: table !important;
  }
  tr.visible-print {
    display: table-row !important;
  }
  th.visible-print,
  td.visible-print {
    display: table-cell !important;
  }
}
.visible-print-block {
  display: none !important;
}
@media print {
  .visible-print-block {
    display: block !important;
  }
}
.visible-print-inline {
  display: none !important;
}
@media print {
  .visible-print-inline {
    display: inline !important;
  }
}
.visible-print-inline-block {
  display: none !important;
}
@media print {
  .visible-print-inline-block {
    display: inline-block !important;
  }
}
@media print {
  .hidden-print {
    display: none !important;
  }
}
/*!
*
* Font Awesome
*
*/
/*!
 *  Font Awesome 4.2.0 by @davegandy - http://fontawesome.io - @fontawesome
 *  License - http://fontawesome.io/license (Font: SIL OFL 1.1, CSS: MIT License)
 */
/* FONT PATH
 * -------------------------- */
@font-face {
  font-family: 'FontAwesome';
  src: url('../components/font-awesome/fonts/fontawesome-webfont.eot?v=4.2.0');
  src: url('../components/font-awesome/fonts/fontawesome-webfont.eot?#iefix&v=4.2.0') format('embedded-opentype'), url('../components/font-awesome/fonts/fontawesome-webfont.woff?v=4.2.0') format('woff'), url('../components/font-awesome/fonts/fontawesome-webfont.ttf?v=4.2.0') format('truetype'), url('../components/font-awesome/fonts/fontawesome-webfont.svg?v=4.2.0#fontawesomeregular') format('svg');
  font-weight: normal;
  font-style: normal;
}
.fa {
  display: inline-block;
  font: normal normal normal 14px/1 FontAwesome;
  font-size: inherit;
  text-rendering: auto;
  -webkit-font-smoothing: antialiased;
  -moz-osx-font-smoothing: grayscale;
}
/* makes the font 33% larger relative to the icon container */
.fa-lg {
  font-size: 1.33333333em;
  line-height: 0.75em;
  vertical-align: -15%;
}
.fa-2x {
  font-size: 2em;
}
.fa-3x {
  font-size: 3em;
}
.fa-4x {
  font-size: 4em;
}
.fa-5x {
  font-size: 5em;
}
.fa-fw {
  width: 1.28571429em;
  text-align: center;
}
.fa-ul {
  padding-left: 0;
  margin-left: 2.14285714em;
  list-style-type: none;
}
.fa-ul > li {
  position: relative;
}
.fa-li {
  position: absolute;
  left: -2.14285714em;
  width: 2.14285714em;
  top: 0.14285714em;
  text-align: center;
}
.fa-li.fa-lg {
  left: -1.85714286em;
}
.fa-border {
  padding: .2em .25em .15em;
  border: solid 0.08em #eee;
  border-radius: .1em;
}
.pull-right {
  float: right;
}
.pull-left {
  float: left;
}
.fa.pull-left {
  margin-right: .3em;
}
.fa.pull-right {
  margin-left: .3em;
}
.fa-spin {
  -webkit-animation: fa-spin 2s infinite linear;
  animation: fa-spin 2s infinite linear;
}
@-webkit-keyframes fa-spin {
  0% {
    -webkit-transform: rotate(0deg);
    transform: rotate(0deg);
  }
  100% {
    -webkit-transform: rotate(359deg);
    transform: rotate(359deg);
  }
}
@keyframes fa-spin {
  0% {
    -webkit-transform: rotate(0deg);
    transform: rotate(0deg);
  }
  100% {
    -webkit-transform: rotate(359deg);
    transform: rotate(359deg);
  }
}
.fa-rotate-90 {
  filter: progid:DXImageTransform.Microsoft.BasicImage(rotation=1);
  -webkit-transform: rotate(90deg);
  -ms-transform: rotate(90deg);
  transform: rotate(90deg);
}
.fa-rotate-180 {
  filter: progid:DXImageTransform.Microsoft.BasicImage(rotation=2);
  -webkit-transform: rotate(180deg);
  -ms-transform: rotate(180deg);
  transform: rotate(180deg);
}
.fa-rotate-270 {
  filter: progid:DXImageTransform.Microsoft.BasicImage(rotation=3);
  -webkit-transform: rotate(270deg);
  -ms-transform: rotate(270deg);
  transform: rotate(270deg);
}
.fa-flip-horizontal {
  filter: progid:DXImageTransform.Microsoft.BasicImage(rotation=0, mirror=1);
  -webkit-transform: scale(-1, 1);
  -ms-transform: scale(-1, 1);
  transform: scale(-1, 1);
}
.fa-flip-vertical {
  filter: progid:DXImageTransform.Microsoft.BasicImage(rotation=2, mirror=1);
  -webkit-transform: scale(1, -1);
  -ms-transform: scale(1, -1);
  transform: scale(1, -1);
}
:root .fa-rotate-90,
:root .fa-rotate-180,
:root .fa-rotate-270,
:root .fa-flip-horizontal,
:root .fa-flip-vertical {
  filter: none;
}
.fa-stack {
  position: relative;
  display: inline-block;
  width: 2em;
  height: 2em;
  line-height: 2em;
  vertical-align: middle;
}
.fa-stack-1x,
.fa-stack-2x {
  position: absolute;
  left: 0;
  width: 100%;
  text-align: center;
}
.fa-stack-1x {
  line-height: inherit;
}
.fa-stack-2x {
  font-size: 2em;
}
.fa-inverse {
  color: #fff;
}
/* Font Awesome uses the Unicode Private Use Area (PUA) to ensure screen
   readers do not read off random characters that represent icons */
.fa-glass:before {
  content: "\f000";
}
.fa-music:before {
  content: "\f001";
}
.fa-search:before {
  content: "\f002";
}
.fa-envelope-o:before {
  content: "\f003";
}
.fa-heart:before {
  content: "\f004";
}
.fa-star:before {
  content: "\f005";
}
.fa-star-o:before {
  content: "\f006";
}
.fa-user:before {
  content: "\f007";
}
.fa-film:before {
  content: "\f008";
}
.fa-th-large:before {
  content: "\f009";
}
.fa-th:before {
  content: "\f00a";
}
.fa-th-list:before {
  content: "\f00b";
}
.fa-check:before {
  content: "\f00c";
}
.fa-remove:before,
.fa-close:before,
.fa-times:before {
  content: "\f00d";
}
.fa-search-plus:before {
  content: "\f00e";
}
.fa-search-minus:before {
  content: "\f010";
}
.fa-power-off:before {
  content: "\f011";
}
.fa-signal:before {
  content: "\f012";
}
.fa-gear:before,
.fa-cog:before {
  content: "\f013";
}
.fa-trash-o:before {
  content: "\f014";
}
.fa-home:before {
  content: "\f015";
}
.fa-file-o:before {
  content: "\f016";
}
.fa-clock-o:before {
  content: "\f017";
}
.fa-road:before {
  content: "\f018";
}
.fa-download:before {
  content: "\f019";
}
.fa-arrow-circle-o-down:before {
  content: "\f01a";
}
.fa-arrow-circle-o-up:before {
  content: "\f01b";
}
.fa-inbox:before {
  content: "\f01c";
}
.fa-play-circle-o:before {
  content: "\f01d";
}
.fa-rotate-right:before,
.fa-repeat:before {
  content: "\f01e";
}
.fa-refresh:before {
  content: "\f021";
}
.fa-list-alt:before {
  content: "\f022";
}
.fa-lock:before {
  content: "\f023";
}
.fa-flag:before {
  content: "\f024";
}
.fa-headphones:before {
  content: "\f025";
}
.fa-volume-off:before {
  content: "\f026";
}
.fa-volume-down:before {
  content: "\f027";
}
.fa-volume-up:before {
  content: "\f028";
}
.fa-qrcode:before {
  content: "\f029";
}
.fa-barcode:before {
  content: "\f02a";
}
.fa-tag:before {
  content: "\f02b";
}
.fa-tags:before {
  content: "\f02c";
}
.fa-book:before {
  content: "\f02d";
}
.fa-bookmark:before {
  content: "\f02e";
}
.fa-print:before {
  content: "\f02f";
}
.fa-camera:before {
  content: "\f030";
}
.fa-font:before {
  content: "\f031";
}
.fa-bold:before {
  content: "\f032";
}
.fa-italic:before {
  content: "\f033";
}
.fa-text-height:before {
  content: "\f034";
}
.fa-text-width:before {
  content: "\f035";
}
.fa-align-left:before {
  content: "\f036";
}
.fa-align-center:before {
  content: "\f037";
}
.fa-align-right:before {
  content: "\f038";
}
.fa-align-justify:before {
  content: "\f039";
}
.fa-list:before {
  content: "\f03a";
}
.fa-dedent:before,
.fa-outdent:before {
  content: "\f03b";
}
.fa-indent:before {
  content: "\f03c";
}
.fa-video-camera:before {
  content: "\f03d";
}
.fa-photo:before,
.fa-image:before,
.fa-picture-o:before {
  content: "\f03e";
}
.fa-pencil:before {
  content: "\f040";
}
.fa-map-marker:before {
  content: "\f041";
}
.fa-adjust:before {
  content: "\f042";
}
.fa-tint:before {
  content: "\f043";
}
.fa-edit:before,
.fa-pencil-square-o:before {
  content: "\f044";
}
.fa-share-square-o:before {
  content: "\f045";
}
.fa-check-square-o:before {
  content: "\f046";
}
.fa-arrows:before {
  content: "\f047";
}
.fa-step-backward:before {
  content: "\f048";
}
.fa-fast-backward:before {
  content: "\f049";
}
.fa-backward:before {
  content: "\f04a";
}
.fa-play:before {
  content: "\f04b";
}
.fa-pause:before {
  content: "\f04c";
}
.fa-stop:before {
  content: "\f04d";
}
.fa-forward:before {
  content: "\f04e";
}
.fa-fast-forward:before {
  content: "\f050";
}
.fa-step-forward:before {
  content: "\f051";
}
.fa-eject:before {
  content: "\f052";
}
.fa-chevron-left:before {
  content: "\f053";
}
.fa-chevron-right:before {
  content: "\f054";
}
.fa-plus-circle:before {
  content: "\f055";
}
.fa-minus-circle:before {
  content: "\f056";
}
.fa-times-circle:before {
  content: "\f057";
}
.fa-check-circle:before {
  content: "\f058";
}
.fa-question-circle:before {
  content: "\f059";
}
.fa-info-circle:before {
  content: "\f05a";
}
.fa-crosshairs:before {
  content: "\f05b";
}
.fa-times-circle-o:before {
  content: "\f05c";
}
.fa-check-circle-o:before {
  content: "\f05d";
}
.fa-ban:before {
  content: "\f05e";
}
.fa-arrow-left:before {
  content: "\f060";
}
.fa-arrow-right:before {
  content: "\f061";
}
.fa-arrow-up:before {
  content: "\f062";
}
.fa-arrow-down:before {
  content: "\f063";
}
.fa-mail-forward:before,
.fa-share:before {
  content: "\f064";
}
.fa-expand:before {
  content: "\f065";
}
.fa-compress:before {
  content: "\f066";
}
.fa-plus:before {
  content: "\f067";
}
.fa-minus:before {
  content: "\f068";
}
.fa-asterisk:before {
  content: "\f069";
}
.fa-exclamation-circle:before {
  content: "\f06a";
}
.fa-gift:before {
  content: "\f06b";
}
.fa-leaf:before {
  content: "\f06c";
}
.fa-fire:before {
  content: "\f06d";
}
.fa-eye:before {
  content: "\f06e";
}
.fa-eye-slash:before {
  content: "\f070";
}
.fa-warning:before,
.fa-exclamation-triangle:before {
  content: "\f071";
}
.fa-plane:before {
  content: "\f072";
}
.fa-calendar:before {
  content: "\f073";
}
.fa-random:before {
  content: "\f074";
}
.fa-comment:before {
  content: "\f075";
}
.fa-magnet:before {
  content: "\f076";
}
.fa-chevron-up:before {
  content: "\f077";
}
.fa-chevron-down:before {
  content: "\f078";
}
.fa-retweet:before {
  content: "\f079";
}
.fa-shopping-cart:before {
  content: "\f07a";
}
.fa-folder:before {
  content: "\f07b";
}
.fa-folder-open:before {
  content: "\f07c";
}
.fa-arrows-v:before {
  content: "\f07d";
}
.fa-arrows-h:before {
  content: "\f07e";
}
.fa-bar-chart-o:before,
.fa-bar-chart:before {
  content: "\f080";
}
.fa-twitter-square:before {
  content: "\f081";
}
.fa-facebook-square:before {
  content: "\f082";
}
.fa-camera-retro:before {
  content: "\f083";
}
.fa-key:before {
  content: "\f084";
}
.fa-gears:before,
.fa-cogs:before {
  content: "\f085";
}
.fa-comments:before {
  content: "\f086";
}
.fa-thumbs-o-up:before {
  content: "\f087";
}
.fa-thumbs-o-down:before {
  content: "\f088";
}
.fa-star-half:before {
  content: "\f089";
}
.fa-heart-o:before {
  content: "\f08a";
}
.fa-sign-out:before {
  content: "\f08b";
}
.fa-linkedin-square:before {
  content: "\f08c";
}
.fa-thumb-tack:before {
  content: "\f08d";
}
.fa-external-link:before {
  content: "\f08e";
}
.fa-sign-in:before {
  content: "\f090";
}
.fa-trophy:before {
  content: "\f091";
}
.fa-github-square:before {
  content: "\f092";
}
.fa-upload:before {
  content: "\f093";
}
.fa-lemon-o:before {
  content: "\f094";
}
.fa-phone:before {
  content: "\f095";
}
.fa-square-o:before {
  content: "\f096";
}
.fa-bookmark-o:before {
  content: "\f097";
}
.fa-phone-square:before {
  content: "\f098";
}
.fa-twitter:before {
  content: "\f099";
}
.fa-facebook:before {
  content: "\f09a";
}
.fa-github:before {
  content: "\f09b";
}
.fa-unlock:before {
  content: "\f09c";
}
.fa-credit-card:before {
  content: "\f09d";
}
.fa-rss:before {
  content: "\f09e";
}
.fa-hdd-o:before {
  content: "\f0a0";
}
.fa-bullhorn:before {
  content: "\f0a1";
}
.fa-bell:before {
  content: "\f0f3";
}
.fa-certificate:before {
  content: "\f0a3";
}
.fa-hand-o-right:before {
  content: "\f0a4";
}
.fa-hand-o-left:before {
  content: "\f0a5";
}
.fa-hand-o-up:before {
  content: "\f0a6";
}
.fa-hand-o-down:before {
  content: "\f0a7";
}
.fa-arrow-circle-left:before {
  content: "\f0a8";
}
.fa-arrow-circle-right:before {
  content: "\f0a9";
}
.fa-arrow-circle-up:before {
  content: "\f0aa";
}
.fa-arrow-circle-down:before {
  content: "\f0ab";
}
.fa-globe:before {
  content: "\f0ac";
}
.fa-wrench:before {
  content: "\f0ad";
}
.fa-tasks:before {
  content: "\f0ae";
}
.fa-filter:before {
  content: "\f0b0";
}
.fa-briefcase:before {
  content: "\f0b1";
}
.fa-arrows-alt:before {
  content: "\f0b2";
}
.fa-group:before,
.fa-users:before {
  content: "\f0c0";
}
.fa-chain:before,
.fa-link:before {
  content: "\f0c1";
}
.fa-cloud:before {
  content: "\f0c2";
}
.fa-flask:before {
  content: "\f0c3";
}
.fa-cut:before,
.fa-scissors:before {
  content: "\f0c4";
}
.fa-copy:before,
.fa-files-o:before {
  content: "\f0c5";
}
.fa-paperclip:before {
  content: "\f0c6";
}
.fa-save:before,
.fa-floppy-o:before {
  content: "\f0c7";
}
.fa-square:before {
  content: "\f0c8";
}
.fa-navicon:before,
.fa-reorder:before,
.fa-bars:before {
  content: "\f0c9";
}
.fa-list-ul:before {
  content: "\f0ca";
}
.fa-list-ol:before {
  content: "\f0cb";
}
.fa-strikethrough:before {
  content: "\f0cc";
}
.fa-underline:before {
  content: "\f0cd";
}
.fa-table:before {
  content: "\f0ce";
}
.fa-magic:before {
  content: "\f0d0";
}
.fa-truck:before {
  content: "\f0d1";
}
.fa-pinterest:before {
  content: "\f0d2";
}
.fa-pinterest-square:before {
  content: "\f0d3";
}
.fa-google-plus-square:before {
  content: "\f0d4";
}
.fa-google-plus:before {
  content: "\f0d5";
}
.fa-money:before {
  content: "\f0d6";
}
.fa-caret-down:before {
  content: "\f0d7";
}
.fa-caret-up:before {
  content: "\f0d8";
}
.fa-caret-left:before {
  content: "\f0d9";
}
.fa-caret-right:before {
  content: "\f0da";
}
.fa-columns:before {
  content: "\f0db";
}
.fa-unsorted:before,
.fa-sort:before {
  content: "\f0dc";
}
.fa-sort-down:before,
.fa-sort-desc:before {
  content: "\f0dd";
}
.fa-sort-up:before,
.fa-sort-asc:before {
  content: "\f0de";
}
.fa-envelope:before {
  content: "\f0e0";
}
.fa-linkedin:before {
  content: "\f0e1";
}
.fa-rotate-left:before,
.fa-undo:before {
  content: "\f0e2";
}
.fa-legal:before,
.fa-gavel:before {
  content: "\f0e3";
}
.fa-dashboard:before,
.fa-tachometer:before {
  content: "\f0e4";
}
.fa-comment-o:before {
  content: "\f0e5";
}
.fa-comments-o:before {
  content: "\f0e6";
}
.fa-flash:before,
.fa-bolt:before {
  content: "\f0e7";
}
.fa-sitemap:before {
  content: "\f0e8";
}
.fa-umbrella:before {
  content: "\f0e9";
}
.fa-paste:before,
.fa-clipboard:before {
  content: "\f0ea";
}
.fa-lightbulb-o:before {
  content: "\f0eb";
}
.fa-exchange:before {
  content: "\f0ec";
}
.fa-cloud-download:before {
  content: "\f0ed";
}
.fa-cloud-upload:before {
  content: "\f0ee";
}
.fa-user-md:before {
  content: "\f0f0";
}
.fa-stethoscope:before {
  content: "\f0f1";
}
.fa-suitcase:before {
  content: "\f0f2";
}
.fa-bell-o:before {
  content: "\f0a2";
}
.fa-coffee:before {
  content: "\f0f4";
}
.fa-cutlery:before {
  content: "\f0f5";
}
.fa-file-text-o:before {
  content: "\f0f6";
}
.fa-building-o:before {
  content: "\f0f7";
}
.fa-hospital-o:before {
  content: "\f0f8";
}
.fa-ambulance:before {
  content: "\f0f9";
}
.fa-medkit:before {
  content: "\f0fa";
}
.fa-fighter-jet:before {
  content: "\f0fb";
}
.fa-beer:before {
  content: "\f0fc";
}
.fa-h-square:before {
  content: "\f0fd";
}
.fa-plus-square:before {
  content: "\f0fe";
}
.fa-angle-double-left:before {
  content: "\f100";
}
.fa-angle-double-right:before {
  content: "\f101";
}
.fa-angle-double-up:before {
  content: "\f102";
}
.fa-angle-double-down:before {
  content: "\f103";
}
.fa-angle-left:before {
  content: "\f104";
}
.fa-angle-right:before {
  content: "\f105";
}
.fa-angle-up:before {
  content: "\f106";
}
.fa-angle-down:before {
  content: "\f107";
}
.fa-desktop:before {
  content: "\f108";
}
.fa-laptop:before {
  content: "\f109";
}
.fa-tablet:before {
  content: "\f10a";
}
.fa-mobile-phone:before,
.fa-mobile:before {
  content: "\f10b";
}
.fa-circle-o:before {
  content: "\f10c";
}
.fa-quote-left:before {
  content: "\f10d";
}
.fa-quote-right:before {
  content: "\f10e";
}
.fa-spinner:before {
  content: "\f110";
}
.fa-circle:before {
  content: "\f111";
}
.fa-mail-reply:before,
.fa-reply:before {
  content: "\f112";
}
.fa-github-alt:before {
  content: "\f113";
}
.fa-folder-o:before {
  content: "\f114";
}
.fa-folder-open-o:before {
  content: "\f115";
}
.fa-smile-o:before {
  content: "\f118";
}
.fa-frown-o:before {
  content: "\f119";
}
.fa-meh-o:before {
  content: "\f11a";
}
.fa-gamepad:before {
  content: "\f11b";
}
.fa-keyboard-o:before {
  content: "\f11c";
}
.fa-flag-o:before {
  content: "\f11d";
}
.fa-flag-checkered:before {
  content: "\f11e";
}
.fa-terminal:before {
  content: "\f120";
}
.fa-code:before {
  content: "\f121";
}
.fa-mail-reply-all:before,
.fa-reply-all:before {
  content: "\f122";
}
.fa-star-half-empty:before,
.fa-star-half-full:before,
.fa-star-half-o:before {
  content: "\f123";
}
.fa-location-arrow:before {
  content: "\f124";
}
.fa-crop:before {
  content: "\f125";
}
.fa-code-fork:before {
  content: "\f126";
}
.fa-unlink:before,
.fa-chain-broken:before {
  content: "\f127";
}
.fa-question:before {
  content: "\f128";
}
.fa-info:before {
  content: "\f129";
}
.fa-exclamation:before {
  content: "\f12a";
}
.fa-superscript:before {
  content: "\f12b";
}
.fa-subscript:before {
  content: "\f12c";
}
.fa-eraser:before {
  content: "\f12d";
}
.fa-puzzle-piece:before {
  content: "\f12e";
}
.fa-microphone:before {
  content: "\f130";
}
.fa-microphone-slash:before {
  content: "\f131";
}
.fa-shield:before {
  content: "\f132";
}
.fa-calendar-o:before {
  content: "\f133";
}
.fa-fire-extinguisher:before {
  content: "\f134";
}
.fa-rocket:before {
  content: "\f135";
}
.fa-maxcdn:before {
  content: "\f136";
}
.fa-chevron-circle-left:before {
  content: "\f137";
}
.fa-chevron-circle-right:before {
  content: "\f138";
}
.fa-chevron-circle-up:before {
  content: "\f139";
}
.fa-chevron-circle-down:before {
  content: "\f13a";
}
.fa-html5:before {
  content: "\f13b";
}
.fa-css3:before {
  content: "\f13c";
}
.fa-anchor:before {
  content: "\f13d";
}
.fa-unlock-alt:before {
  content: "\f13e";
}
.fa-bullseye:before {
  content: "\f140";
}
.fa-ellipsis-h:before {
  content: "\f141";
}
.fa-ellipsis-v:before {
  content: "\f142";
}
.fa-rss-square:before {
  content: "\f143";
}
.fa-play-circle:before {
  content: "\f144";
}
.fa-ticket:before {
  content: "\f145";
}
.fa-minus-square:before {
  content: "\f146";
}
.fa-minus-square-o:before {
  content: "\f147";
}
.fa-level-up:before {
  content: "\f148";
}
.fa-level-down:before {
  content: "\f149";
}
.fa-check-square:before {
  content: "\f14a";
}
.fa-pencil-square:before {
  content: "\f14b";
}
.fa-external-link-square:before {
  content: "\f14c";
}
.fa-share-square:before {
  content: "\f14d";
}
.fa-compass:before {
  content: "\f14e";
}
.fa-toggle-down:before,
.fa-caret-square-o-down:before {
  content: "\f150";
}
.fa-toggle-up:before,
.fa-caret-square-o-up:before {
  content: "\f151";
}
.fa-toggle-right:before,
.fa-caret-square-o-right:before {
  content: "\f152";
}
.fa-euro:before,
.fa-eur:before {
  content: "\f153";
}
.fa-gbp:before {
  content: "\f154";
}
.fa-dollar:before,
.fa-usd:before {
  content: "\f155";
}
.fa-rupee:before,
.fa-inr:before {
  content: "\f156";
}
.fa-cny:before,
.fa-rmb:before,
.fa-yen:before,
.fa-jpy:before {
  content: "\f157";
}
.fa-ruble:before,
.fa-rouble:before,
.fa-rub:before {
  content: "\f158";
}
.fa-won:before,
.fa-krw:before {
  content: "\f159";
}
.fa-bitcoin:before,
.fa-btc:before {
  content: "\f15a";
}
.fa-file:before {
  content: "\f15b";
}
.fa-file-text:before {
  content: "\f15c";
}
.fa-sort-alpha-asc:before {
  content: "\f15d";
}
.fa-sort-alpha-desc:before {
  content: "\f15e";
}
.fa-sort-amount-asc:before {
  content: "\f160";
}
.fa-sort-amount-desc:before {
  content: "\f161";
}
.fa-sort-numeric-asc:before {
  content: "\f162";
}
.fa-sort-numeric-desc:before {
  content: "\f163";
}
.fa-thumbs-up:before {
  content: "\f164";
}
.fa-thumbs-down:before {
  content: "\f165";
}
.fa-youtube-square:before {
  content: "\f166";
}
.fa-youtube:before {
  content: "\f167";
}
.fa-xing:before {
  content: "\f168";
}
.fa-xing-square:before {
  content: "\f169";
}
.fa-youtube-play:before {
  content: "\f16a";
}
.fa-dropbox:before {
  content: "\f16b";
}
.fa-stack-overflow:before {
  content: "\f16c";
}
.fa-instagram:before {
  content: "\f16d";
}
.fa-flickr:before {
  content: "\f16e";
}
.fa-adn:before {
  content: "\f170";
}
.fa-bitbucket:before {
  content: "\f171";
}
.fa-bitbucket-square:before {
  content: "\f172";
}
.fa-tumblr:before {
  content: "\f173";
}
.fa-tumblr-square:before {
  content: "\f174";
}
.fa-long-arrow-down:before {
  content: "\f175";
}
.fa-long-arrow-up:before {
  content: "\f176";
}
.fa-long-arrow-left:before {
  content: "\f177";
}
.fa-long-arrow-right:before {
  content: "\f178";
}
.fa-apple:before {
  content: "\f179";
}
.fa-windows:before {
  content: "\f17a";
}
.fa-android:before {
  content: "\f17b";
}
.fa-linux:before {
  content: "\f17c";
}
.fa-dribbble:before {
  content: "\f17d";
}
.fa-skype:before {
  content: "\f17e";
}
.fa-foursquare:before {
  content: "\f180";
}
.fa-trello:before {
  content: "\f181";
}
.fa-female:before {
  content: "\f182";
}
.fa-male:before {
  content: "\f183";
}
.fa-gittip:before {
  content: "\f184";
}
.fa-sun-o:before {
  content: "\f185";
}
.fa-moon-o:before {
  content: "\f186";
}
.fa-archive:before {
  content: "\f187";
}
.fa-bug:before {
  content: "\f188";
}
.fa-vk:before {
  content: "\f189";
}
.fa-weibo:before {
  content: "\f18a";
}
.fa-renren:before {
  content: "\f18b";
}
.fa-pagelines:before {
  content: "\f18c";
}
.fa-stack-exchange:before {
  content: "\f18d";
}
.fa-arrow-circle-o-right:before {
  content: "\f18e";
}
.fa-arrow-circle-o-left:before {
  content: "\f190";
}
.fa-toggle-left:before,
.fa-caret-square-o-left:before {
  content: "\f191";
}
.fa-dot-circle-o:before {
  content: "\f192";
}
.fa-wheelchair:before {
  content: "\f193";
}
.fa-vimeo-square:before {
  content: "\f194";
}
.fa-turkish-lira:before,
.fa-try:before {
  content: "\f195";
}
.fa-plus-square-o:before {
  content: "\f196";
}
.fa-space-shuttle:before {
  content: "\f197";
}
.fa-slack:before {
  content: "\f198";
}
.fa-envelope-square:before {
  content: "\f199";
}
.fa-wordpress:before {
  content: "\f19a";
}
.fa-openid:before {
  content: "\f19b";
}
.fa-institution:before,
.fa-bank:before,
.fa-university:before {
  content: "\f19c";
}
.fa-mortar-board:before,
.fa-graduation-cap:before {
  content: "\f19d";
}
.fa-yahoo:before {
  content: "\f19e";
}
.fa-google:before {
  content: "\f1a0";
}
.fa-reddit:before {
  content: "\f1a1";
}
.fa-reddit-square:before {
  content: "\f1a2";
}
.fa-stumbleupon-circle:before {
  content: "\f1a3";
}
.fa-stumbleupon:before {
  content: "\f1a4";
}
.fa-delicious:before {
  content: "\f1a5";
}
.fa-digg:before {
  content: "\f1a6";
}
.fa-pied-piper:before {
  content: "\f1a7";
}
.fa-pied-piper-alt:before {
  content: "\f1a8";
}
.fa-drupal:before {
  content: "\f1a9";
}
.fa-joomla:before {
  content: "\f1aa";
}
.fa-language:before {
  content: "\f1ab";
}
.fa-fax:before {
  content: "\f1ac";
}
.fa-building:before {
  content: "\f1ad";
}
.fa-child:before {
  content: "\f1ae";
}
.fa-paw:before {
  content: "\f1b0";
}
.fa-spoon:before {
  content: "\f1b1";
}
.fa-cube:before {
  content: "\f1b2";
}
.fa-cubes:before {
  content: "\f1b3";
}
.fa-behance:before {
  content: "\f1b4";
}
.fa-behance-square:before {
  content: "\f1b5";
}
.fa-steam:before {
  content: "\f1b6";
}
.fa-steam-square:before {
  content: "\f1b7";
}
.fa-recycle:before {
  content: "\f1b8";
}
.fa-automobile:before,
.fa-car:before {
  content: "\f1b9";
}
.fa-cab:before,
.fa-taxi:before {
  content: "\f1ba";
}
.fa-tree:before {
  content: "\f1bb";
}
.fa-spotify:before {
  content: "\f1bc";
}
.fa-deviantart:before {
  content: "\f1bd";
}
.fa-soundcloud:before {
  content: "\f1be";
}
.fa-database:before {
  content: "\f1c0";
}
.fa-file-pdf-o:before {
  content: "\f1c1";
}
.fa-file-word-o:before {
  content: "\f1c2";
}
.fa-file-excel-o:before {
  content: "\f1c3";
}
.fa-file-powerpoint-o:before {
  content: "\f1c4";
}
.fa-file-photo-o:before,
.fa-file-picture-o:before,
.fa-file-image-o:before {
  content: "\f1c5";
}
.fa-file-zip-o:before,
.fa-file-archive-o:before {
  content: "\f1c6";
}
.fa-file-sound-o:before,
.fa-file-audio-o:before {
  content: "\f1c7";
}
.fa-file-movie-o:before,
.fa-file-video-o:before {
  content: "\f1c8";
}
.fa-file-code-o:before {
  content: "\f1c9";
}
.fa-vine:before {
  content: "\f1ca";
}
.fa-codepen:before {
  content: "\f1cb";
}
.fa-jsfiddle:before {
  content: "\f1cc";
}
.fa-life-bouy:before,
.fa-life-buoy:before,
.fa-life-saver:before,
.fa-support:before,
.fa-life-ring:before {
  content: "\f1cd";
}
.fa-circle-o-notch:before {
  content: "\f1ce";
}
.fa-ra:before,
.fa-rebel:before {
  content: "\f1d0";
}
.fa-ge:before,
.fa-empire:before {
  content: "\f1d1";
}
.fa-git-square:before {
  content: "\f1d2";
}
.fa-git:before {
  content: "\f1d3";
}
.fa-hacker-news:before {
  content: "\f1d4";
}
.fa-tencent-weibo:before {
  content: "\f1d5";
}
.fa-qq:before {
  content: "\f1d6";
}
.fa-wechat:before,
.fa-weixin:before {
  content: "\f1d7";
}
.fa-send:before,
.fa-paper-plane:before {
  content: "\f1d8";
}
.fa-send-o:before,
.fa-paper-plane-o:before {
  content: "\f1d9";
}
.fa-history:before {
  content: "\f1da";
}
.fa-circle-thin:before {
  content: "\f1db";
}
.fa-header:before {
  content: "\f1dc";
}
.fa-paragraph:before {
  content: "\f1dd";
}
.fa-sliders:before {
  content: "\f1de";
}
.fa-share-alt:before {
  content: "\f1e0";
}
.fa-share-alt-square:before {
  content: "\f1e1";
}
.fa-bomb:before {
  content: "\f1e2";
}
.fa-soccer-ball-o:before,
.fa-futbol-o:before {
  content: "\f1e3";
}
.fa-tty:before {
  content: "\f1e4";
}
.fa-binoculars:before {
  content: "\f1e5";
}
.fa-plug:before {
  content: "\f1e6";
}
.fa-slideshare:before {
  content: "\f1e7";
}
.fa-twitch:before {
  content: "\f1e8";
}
.fa-yelp:before {
  content: "\f1e9";
}
.fa-newspaper-o:before {
  content: "\f1ea";
}
.fa-wifi:before {
  content: "\f1eb";
}
.fa-calculator:before {
  content: "\f1ec";
}
.fa-paypal:before {
  content: "\f1ed";
}
.fa-google-wallet:before {
  content: "\f1ee";
}
.fa-cc-visa:before {
  content: "\f1f0";
}
.fa-cc-mastercard:before {
  content: "\f1f1";
}
.fa-cc-discover:before {
  content: "\f1f2";
}
.fa-cc-amex:before {
  content: "\f1f3";
}
.fa-cc-paypal:before {
  content: "\f1f4";
}
.fa-cc-stripe:before {
  content: "\f1f5";
}
.fa-bell-slash:before {
  content: "\f1f6";
}
.fa-bell-slash-o:before {
  content: "\f1f7";
}
.fa-trash:before {
  content: "\f1f8";
}
.fa-copyright:before {
  content: "\f1f9";
}
.fa-at:before {
  content: "\f1fa";
}
.fa-eyedropper:before {
  content: "\f1fb";
}
.fa-paint-brush:before {
  content: "\f1fc";
}
.fa-birthday-cake:before {
  content: "\f1fd";
}
.fa-area-chart:before {
  content: "\f1fe";
}
.fa-pie-chart:before {
  content: "\f200";
}
.fa-line-chart:before {
  content: "\f201";
}
.fa-lastfm:before {
  content: "\f202";
}
.fa-lastfm-square:before {
  content: "\f203";
}
.fa-toggle-off:before {
  content: "\f204";
}
.fa-toggle-on:before {
  content: "\f205";
}
.fa-bicycle:before {
  content: "\f206";
}
.fa-bus:before {
  content: "\f207";
}
.fa-ioxhost:before {
  content: "\f208";
}
.fa-angellist:before {
  content: "\f209";
}
.fa-cc:before {
  content: "\f20a";
}
.fa-shekel:before,
.fa-sheqel:before,
.fa-ils:before {
  content: "\f20b";
}
.fa-meanpath:before {
  content: "\f20c";
}
/*!
*
* IPython base
*
*/
.modal.fade .modal-dialog {
  -webkit-transform: translate(0, 0);
  -ms-transform: translate(0, 0);
  -o-transform: translate(0, 0);
  transform: translate(0, 0);
}
code {
  color: #000;
}
pre {
  font-size: inherit;
  line-height: inherit;
}
label {
  font-weight: normal;
}
/* Make the page background atleast 100% the height of the view port */
/* Make the page itself atleast 70% the height of the view port */
.border-box-sizing {
  box-sizing: border-box;
  -moz-box-sizing: border-box;
  -webkit-box-sizing: border-box;
}
.corner-all {
  border-radius: 2px;
}
.no-padding {
  padding: 0px;
}
/* Flexible box model classes */
/* Taken from Alex Russell http://infrequently.org/2009/08/css-3-progress/ */
/* This file is a compatability layer.  It allows the usage of flexible box 
model layouts accross multiple browsers, including older browsers.  The newest,
universal implementation of the flexible box model is used when available (see
`Modern browsers` comments below).  Browsers that are known to implement this 
new spec completely include:

    Firefox 28.0+
    Chrome 29.0+
    Internet Explorer 11+ 
    Opera 17.0+

Browsers not listed, including Safari, are supported via the styling under the
`Old browsers` comments below.
*/
.hbox {
  /* Old browsers */
  display: -webkit-box;
  -webkit-box-orient: horizontal;
  -webkit-box-align: stretch;
  display: -moz-box;
  -moz-box-orient: horizontal;
  -moz-box-align: stretch;
  display: box;
  box-orient: horizontal;
  box-align: stretch;
  /* Modern browsers */
  display: flex;
  flex-direction: row;
  align-items: stretch;
}
.hbox > * {
  /* Old browsers */
  -webkit-box-flex: 0;
  -moz-box-flex: 0;
  box-flex: 0;
  /* Modern browsers */
  flex: none;
}
.vbox {
  /* Old browsers */
  display: -webkit-box;
  -webkit-box-orient: vertical;
  -webkit-box-align: stretch;
  display: -moz-box;
  -moz-box-orient: vertical;
  -moz-box-align: stretch;
  display: box;
  box-orient: vertical;
  box-align: stretch;
  /* Modern browsers */
  display: flex;
  flex-direction: column;
  align-items: stretch;
}
.vbox > * {
  /* Old browsers */
  -webkit-box-flex: 0;
  -moz-box-flex: 0;
  box-flex: 0;
  /* Modern browsers */
  flex: none;
}
.hbox.reverse,
.vbox.reverse,
.reverse {
  /* Old browsers */
  -webkit-box-direction: reverse;
  -moz-box-direction: reverse;
  box-direction: reverse;
  /* Modern browsers */
  flex-direction: row-reverse;
}
.hbox.box-flex0,
.vbox.box-flex0,
.box-flex0 {
  /* Old browsers */
  -webkit-box-flex: 0;
  -moz-box-flex: 0;
  box-flex: 0;
  /* Modern browsers */
  flex: none;
  width: auto;
}
.hbox.box-flex1,
.vbox.box-flex1,
.box-flex1 {
  /* Old browsers */
  -webkit-box-flex: 1;
  -moz-box-flex: 1;
  box-flex: 1;
  /* Modern browsers */
  flex: 1;
}
.hbox.box-flex,
.vbox.box-flex,
.box-flex {
  /* Old browsers */
  /* Old browsers */
  -webkit-box-flex: 1;
  -moz-box-flex: 1;
  box-flex: 1;
  /* Modern browsers */
  flex: 1;
}
.hbox.box-flex2,
.vbox.box-flex2,
.box-flex2 {
  /* Old browsers */
  -webkit-box-flex: 2;
  -moz-box-flex: 2;
  box-flex: 2;
  /* Modern browsers */
  flex: 2;
}
.box-group1 {
  /*  Deprecated */
  -webkit-box-flex-group: 1;
  -moz-box-flex-group: 1;
  box-flex-group: 1;
}
.box-group2 {
  /* Deprecated */
  -webkit-box-flex-group: 2;
  -moz-box-flex-group: 2;
  box-flex-group: 2;
}
.hbox.start,
.vbox.start,
.start {
  /* Old browsers */
  -webkit-box-pack: start;
  -moz-box-pack: start;
  box-pack: start;
  /* Modern browsers */
  justify-content: flex-start;
}
.hbox.end,
.vbox.end,
.end {
  /* Old browsers */
  -webkit-box-pack: end;
  -moz-box-pack: end;
  box-pack: end;
  /* Modern browsers */
  justify-content: flex-end;
}
.hbox.center,
.vbox.center,
.center {
  /* Old browsers */
  -webkit-box-pack: center;
  -moz-box-pack: center;
  box-pack: center;
  /* Modern browsers */
  justify-content: center;
}
.hbox.baseline,
.vbox.baseline,
.baseline {
  /* Old browsers */
  -webkit-box-pack: baseline;
  -moz-box-pack: baseline;
  box-pack: baseline;
  /* Modern browsers */
  justify-content: baseline;
}
.hbox.stretch,
.vbox.stretch,
.stretch {
  /* Old browsers */
  -webkit-box-pack: stretch;
  -moz-box-pack: stretch;
  box-pack: stretch;
  /* Modern browsers */
  justify-content: stretch;
}
.hbox.align-start,
.vbox.align-start,
.align-start {
  /* Old browsers */
  -webkit-box-align: start;
  -moz-box-align: start;
  box-align: start;
  /* Modern browsers */
  align-items: flex-start;
}
.hbox.align-end,
.vbox.align-end,
.align-end {
  /* Old browsers */
  -webkit-box-align: end;
  -moz-box-align: end;
  box-align: end;
  /* Modern browsers */
  align-items: flex-end;
}
.hbox.align-center,
.vbox.align-center,
.align-center {
  /* Old browsers */
  -webkit-box-align: center;
  -moz-box-align: center;
  box-align: center;
  /* Modern browsers */
  align-items: center;
}
.hbox.align-baseline,
.vbox.align-baseline,
.align-baseline {
  /* Old browsers */
  -webkit-box-align: baseline;
  -moz-box-align: baseline;
  box-align: baseline;
  /* Modern browsers */
  align-items: baseline;
}
.hbox.align-stretch,
.vbox.align-stretch,
.align-stretch {
  /* Old browsers */
  -webkit-box-align: stretch;
  -moz-box-align: stretch;
  box-align: stretch;
  /* Modern browsers */
  align-items: stretch;
}
div.error {
  margin: 2em;
  text-align: center;
}
div.error > h1 {
  font-size: 500%;
  line-height: normal;
}
div.error > p {
  font-size: 200%;
  line-height: normal;
}
div.traceback-wrapper {
  text-align: left;
  max-width: 800px;
  margin: auto;
}
/**
 * Primary styles
 *
 * Author: Jupyter Development Team
 */
body {
  background-color: #fff;
  /* This makes sure that the body covers the entire window and needs to
       be in a different element than the display: box in wrapper below */
  position: absolute;
  left: 0px;
  right: 0px;
  top: 0px;
  bottom: 0px;
  overflow: visible;
}
body > #header {
  /* Initially hidden to prevent FLOUC */
  display: none;
  background-color: #fff;
  /* Display over codemirror */
  position: relative;
  z-index: 100;
}
body > #header #header-container {
  padding-bottom: 5px;
  padding-top: 5px;
  box-sizing: border-box;
  -moz-box-sizing: border-box;
  -webkit-box-sizing: border-box;
}
body > #header .header-bar {
  width: 100%;
  height: 1px;
  background: #e7e7e7;
  margin-bottom: -1px;
}
@media print {
  body > #header {
    display: none !important;
  }
}
#header-spacer {
  width: 100%;
  visibility: hidden;
}
@media print {
  #header-spacer {
    display: none;
  }
}
#ipython_notebook {
  padding-left: 0px;
  padding-top: 1px;
  padding-bottom: 1px;
}
@media (max-width: 991px) {
  #ipython_notebook {
    margin-left: 10px;
  }
}
[dir="rtl"] #ipython_notebook {
  float: right !important;
}
#noscript {
  width: auto;
  padding-top: 16px;
  padding-bottom: 16px;
  text-align: center;
  font-size: 22px;
  color: red;
  font-weight: bold;
}
#ipython_notebook img {
  height: 28px;
}
#site {
  width: 100%;
  display: none;
  box-sizing: border-box;
  -moz-box-sizing: border-box;
  -webkit-box-sizing: border-box;
  overflow: auto;
}
@media print {
  #site {
    height: auto !important;
  }
}
/* Smaller buttons */
.ui-button .ui-button-text {
  padding: 0.2em 0.8em;
  font-size: 77%;
}
input.ui-button {
  padding: 0.3em 0.9em;
}
span#login_widget {
  float: right;
}
span#login_widget > .button,
#logout {
  color: #333;
  background-color: #fff;
  border-color: #ccc;
}
span#login_widget > .button:focus,
#logout:focus,
span#login_widget > .button.focus,
#logout.focus {
  color: #333;
  background-color: #e6e6e6;
  border-color: #8c8c8c;
}
span#login_widget > .button:hover,
#logout:hover {
  color: #333;
  background-color: #e6e6e6;
  border-color: #adadad;
}
span#login_widget > .button:active,
#logout:active,
span#login_widget > .button.active,
#logout.active,
.open > .dropdown-togglespan#login_widget > .button,
.open > .dropdown-toggle#logout {
  color: #333;
  background-color: #e6e6e6;
  border-color: #adadad;
}
span#login_widget > .button:active:hover,
#logout:active:hover,
span#login_widget > .button.active:hover,
#logout.active:hover,
.open > .dropdown-togglespan#login_widget > .button:hover,
.open > .dropdown-toggle#logout:hover,
span#login_widget > .button:active:focus,
#logout:active:focus,
span#login_widget > .button.active:focus,
#logout.active:focus,
.open > .dropdown-togglespan#login_widget > .button:focus,
.open > .dropdown-toggle#logout:focus,
span#login_widget > .button:active.focus,
#logout:active.focus,
span#login_widget > .button.active.focus,
#logout.active.focus,
.open > .dropdown-togglespan#login_widget > .button.focus,
.open > .dropdown-toggle#logout.focus {
  color: #333;
  background-color: #d4d4d4;
  border-color: #8c8c8c;
}
span#login_widget > .button:active,
#logout:active,
span#login_widget > .button.active,
#logout.active,
.open > .dropdown-togglespan#login_widget > .button,
.open > .dropdown-toggle#logout {
  background-image: none;
}
span#login_widget > .button.disabled:hover,
#logout.disabled:hover,
span#login_widget > .button[disabled]:hover,
#logout[disabled]:hover,
fieldset[disabled] span#login_widget > .button:hover,
fieldset[disabled] #logout:hover,
span#login_widget > .button.disabled:focus,
#logout.disabled:focus,
span#login_widget > .button[disabled]:focus,
#logout[disabled]:focus,
fieldset[disabled] span#login_widget > .button:focus,
fieldset[disabled] #logout:focus,
span#login_widget > .button.disabled.focus,
#logout.disabled.focus,
span#login_widget > .button[disabled].focus,
#logout[disabled].focus,
fieldset[disabled] span#login_widget > .button.focus,
fieldset[disabled] #logout.focus {
  background-color: #fff;
  border-color: #ccc;
}
span#login_widget > .button .badge,
#logout .badge {
  color: #fff;
  background-color: #333;
}
.nav-header {
  text-transform: none;
}
#header > span {
  margin-top: 10px;
}
.modal_stretch .modal-dialog {
  /* Old browsers */
  display: -webkit-box;
  -webkit-box-orient: vertical;
  -webkit-box-align: stretch;
  display: -moz-box;
  -moz-box-orient: vertical;
  -moz-box-align: stretch;
  display: box;
  box-orient: vertical;
  box-align: stretch;
  /* Modern browsers */
  display: flex;
  flex-direction: column;
  align-items: stretch;
  min-height: 80vh;
}
.modal_stretch .modal-dialog .modal-body {
  max-height: calc(100vh - 200px);
  overflow: auto;
  flex: 1;
}
@media (min-width: 768px) {
  .modal .modal-dialog {
    width: 700px;
  }
}
@media (min-width: 768px) {
  select.form-control {
    margin-left: 12px;
    margin-right: 12px;
  }
}
/*!
*
* IPython auth
*
*/
.center-nav {
  display: inline-block;
  margin-bottom: -4px;
}
/*!
*
* IPython tree view
*
*/
/* We need an invisible input field on top of the sentense*/
/* "Drag file onto the list ..." */
.alternate_upload {
  background-color: none;
  display: inline;
}
.alternate_upload.form {
  padding: 0;
  margin: 0;
}
.alternate_upload input.fileinput {
  text-align: center;
  vertical-align: middle;
  display: inline;
  opacity: 0;
  z-index: 2;
  width: 12ex;
  margin-right: -12ex;
}
.alternate_upload .btn-upload {
  height: 22px;
}
/**
 * Primary styles
 *
 * Author: Jupyter Development Team
 */
[dir="rtl"] #tabs li {
  float: right;
}
ul#tabs {
  margin-bottom: 4px;
}
[dir="rtl"] ul#tabs {
  margin-right: 0px;
}
ul#tabs a {
  padding-top: 6px;
  padding-bottom: 4px;
}
ul.breadcrumb a:focus,
ul.breadcrumb a:hover {
  text-decoration: none;
}
ul.breadcrumb i.icon-home {
  font-size: 16px;
  margin-right: 4px;
}
ul.breadcrumb span {
  color: #5e5e5e;
}
.list_toolbar {
  padding: 4px 0 4px 0;
  vertical-align: middle;
}
.list_toolbar .tree-buttons {
  padding-top: 1px;
}
[dir="rtl"] .list_toolbar .tree-buttons {
  float: left !important;
}
[dir="rtl"] .list_toolbar .pull-right {
  padding-top: 1px;
  float: left !important;
}
[dir="rtl"] .list_toolbar .pull-left {
  float: right !important;
}
.dynamic-buttons {
  padding-top: 3px;
  display: inline-block;
}
.list_toolbar [class*="span"] {
  min-height: 24px;
}
.list_header {
  font-weight: bold;
  background-color: #EEE;
}
.list_placeholder {
  font-weight: bold;
  padding-top: 4px;
  padding-bottom: 4px;
  padding-left: 7px;
  padding-right: 7px;
}
.list_container {
  margin-top: 4px;
  margin-bottom: 20px;
  border: 1px solid #ddd;
  border-radius: 2px;
}
.list_container > div {
  border-bottom: 1px solid #ddd;
}
.list_container > div:hover .list-item {
  background-color: red;
}
.list_container > div:last-child {
  border: none;
}
.list_item:hover .list_item {
  background-color: #ddd;
}
.list_item a {
  text-decoration: none;
}
.list_item:hover {
  background-color: #fafafa;
}
.list_header > div,
.list_item > div {
  padding-top: 4px;
  padding-bottom: 4px;
  padding-left: 7px;
  padding-right: 7px;
  line-height: 22px;
}
.list_header > div input,
.list_item > div input {
  margin-right: 7px;
  margin-left: 14px;
  vertical-align: baseline;
  line-height: 22px;
  position: relative;
  top: -1px;
}
.list_header > div .item_link,
.list_item > div .item_link {
  margin-left: -1px;
  vertical-align: baseline;
  line-height: 22px;
}
.new-file input[type=checkbox] {
  visibility: hidden;
}
.item_name {
  line-height: 22px;
  height: 24px;
}
.item_icon {
  font-size: 14px;
  color: #5e5e5e;
  margin-right: 7px;
  margin-left: 7px;
  line-height: 22px;
  vertical-align: baseline;
}
.item_buttons {
  line-height: 1em;
  margin-left: -5px;
}
.item_buttons .btn,
.item_buttons .btn-group,
.item_buttons .input-group {
  float: left;
}
.item_buttons > .btn,
.item_buttons > .btn-group,
.item_buttons > .input-group {
  margin-left: 5px;
}
.item_buttons .btn {
  min-width: 13ex;
}
.item_buttons .running-indicator {
  padding-top: 4px;
  color: #5cb85c;
}
.item_buttons .kernel-name {
  padding-top: 4px;
  color: #5bc0de;
  margin-right: 7px;
  float: left;
}
.toolbar_info {
  height: 24px;
  line-height: 24px;
}
.list_item input:not([type=checkbox]) {
  padding-top: 3px;
  padding-bottom: 3px;
  height: 22px;
  line-height: 14px;
  margin: 0px;
}
.highlight_text {
  color: blue;
}
#project_name {
  display: inline-block;
  padding-left: 7px;
  margin-left: -2px;
}
#project_name > .breadcrumb {
  padding: 0px;
  margin-bottom: 0px;
  background-color: transparent;
  font-weight: bold;
}
#tree-selector {
  padding-right: 0px;
}
[dir="rtl"] #tree-selector a {
  float: right;
}
#button-select-all {
  min-width: 50px;
}
#select-all {
  margin-left: 7px;
  margin-right: 2px;
}
.menu_icon {
  margin-right: 2px;
}
.tab-content .row {
  margin-left: 0px;
  margin-right: 0px;
}
.folder_icon:before {
  display: inline-block;
  font: normal normal normal 14px/1 FontAwesome;
  font-size: inherit;
  text-rendering: auto;
  -webkit-font-smoothing: antialiased;
  -moz-osx-font-smoothing: grayscale;
  content: "\f114";
}
.folder_icon:before.pull-left {
  margin-right: .3em;
}
.folder_icon:before.pull-right {
  margin-left: .3em;
}
.notebook_icon:before {
  display: inline-block;
  font: normal normal normal 14px/1 FontAwesome;
  font-size: inherit;
  text-rendering: auto;
  -webkit-font-smoothing: antialiased;
  -moz-osx-font-smoothing: grayscale;
  content: "\f02d";
  position: relative;
  top: -1px;
}
.notebook_icon:before.pull-left {
  margin-right: .3em;
}
.notebook_icon:before.pull-right {
  margin-left: .3em;
}
.running_notebook_icon:before {
  display: inline-block;
  font: normal normal normal 14px/1 FontAwesome;
  font-size: inherit;
  text-rendering: auto;
  -webkit-font-smoothing: antialiased;
  -moz-osx-font-smoothing: grayscale;
  content: "\f02d";
  position: relative;
  top: -1px;
  color: #5cb85c;
}
.running_notebook_icon:before.pull-left {
  margin-right: .3em;
}
.running_notebook_icon:before.pull-right {
  margin-left: .3em;
}
.file_icon:before {
  display: inline-block;
  font: normal normal normal 14px/1 FontAwesome;
  font-size: inherit;
  text-rendering: auto;
  -webkit-font-smoothing: antialiased;
  -moz-osx-font-smoothing: grayscale;
  content: "\f016";
  position: relative;
  top: -2px;
}
.file_icon:before.pull-left {
  margin-right: .3em;
}
.file_icon:before.pull-right {
  margin-left: .3em;
}
#notebook_toolbar .pull-right {
  padding-top: 0px;
  margin-right: -1px;
}
ul#new-menu {
  left: auto;
  right: 0;
}
[dir="rtl"] #new-menu {
  text-align: right;
}
.kernel-menu-icon {
  padding-right: 12px;
  width: 24px;
  content: "\f096";
}
.kernel-menu-icon:before {
  content: "\f096";
}
.kernel-menu-icon-current:before {
  content: "\f00c";
}
#tab_content {
  padding-top: 20px;
}
#running .panel-group .panel {
  margin-top: 3px;
  margin-bottom: 1em;
}
#running .panel-group .panel .panel-heading {
  background-color: #EEE;
  padding-top: 4px;
  padding-bottom: 4px;
  padding-left: 7px;
  padding-right: 7px;
  line-height: 22px;
}
#running .panel-group .panel .panel-heading a:focus,
#running .panel-group .panel .panel-heading a:hover {
  text-decoration: none;
}
#running .panel-group .panel .panel-body {
  padding: 0px;
}
#running .panel-group .panel .panel-body .list_container {
  margin-top: 0px;
  margin-bottom: 0px;
  border: 0px;
  border-radius: 0px;
}
#running .panel-group .panel .panel-body .list_container .list_item {
  border-bottom: 1px solid #ddd;
}
#running .panel-group .panel .panel-body .list_container .list_item:last-child {
  border-bottom: 0px;
}
[dir="rtl"] #running .col-sm-8 {
  float: right !important;
}
.delete-button {
  display: none;
}
.duplicate-button {
  display: none;
}
.rename-button {
  display: none;
}
.shutdown-button {
  display: none;
}
.dynamic-instructions {
  display: inline-block;
  padding-top: 4px;
}
/*!
*
* IPython text editor webapp
*
*/
.selected-keymap i.fa {
  padding: 0px 5px;
}
.selected-keymap i.fa:before {
  content: "\f00c";
}
#mode-menu {
  overflow: auto;
  max-height: 20em;
}
.edit_app #header {
  -webkit-box-shadow: 0px 0px 12px 1px rgba(87, 87, 87, 0.2);
  box-shadow: 0px 0px 12px 1px rgba(87, 87, 87, 0.2);
}
.edit_app #menubar .navbar {
  /* Use a negative 1 bottom margin, so the border overlaps the border of the
    header */
  margin-bottom: -1px;
}
.dirty-indicator {
  display: inline-block;
  font: normal normal normal 14px/1 FontAwesome;
  font-size: inherit;
  text-rendering: auto;
  -webkit-font-smoothing: antialiased;
  -moz-osx-font-smoothing: grayscale;
  width: 20px;
}
.dirty-indicator.pull-left {
  margin-right: .3em;
}
.dirty-indicator.pull-right {
  margin-left: .3em;
}
.dirty-indicator-dirty {
  display: inline-block;
  font: normal normal normal 14px/1 FontAwesome;
  font-size: inherit;
  text-rendering: auto;
  -webkit-font-smoothing: antialiased;
  -moz-osx-font-smoothing: grayscale;
  width: 20px;
}
.dirty-indicator-dirty.pull-left {
  margin-right: .3em;
}
.dirty-indicator-dirty.pull-right {
  margin-left: .3em;
}
.dirty-indicator-clean {
  display: inline-block;
  font: normal normal normal 14px/1 FontAwesome;
  font-size: inherit;
  text-rendering: auto;
  -webkit-font-smoothing: antialiased;
  -moz-osx-font-smoothing: grayscale;
  width: 20px;
}
.dirty-indicator-clean.pull-left {
  margin-right: .3em;
}
.dirty-indicator-clean.pull-right {
  margin-left: .3em;
}
.dirty-indicator-clean:before {
  display: inline-block;
  font: normal normal normal 14px/1 FontAwesome;
  font-size: inherit;
  text-rendering: auto;
  -webkit-font-smoothing: antialiased;
  -moz-osx-font-smoothing: grayscale;
  content: "\f00c";
}
.dirty-indicator-clean:before.pull-left {
  margin-right: .3em;
}
.dirty-indicator-clean:before.pull-right {
  margin-left: .3em;
}
#filename {
  font-size: 16pt;
  display: table;
  padding: 0px 5px;
}
#current-mode {
  padding-left: 5px;
  padding-right: 5px;
}
#texteditor-backdrop {
  padding-top: 20px;
  padding-bottom: 20px;
}
@media not print {
  #texteditor-backdrop {
    background-color: #EEE;
  }
}
@media print {
  #texteditor-backdrop #texteditor-container .CodeMirror-gutter,
  #texteditor-backdrop #texteditor-container .CodeMirror-gutters {
    background-color: #fff;
  }
}
@media not print {
  #texteditor-backdrop #texteditor-container .CodeMirror-gutter,
  #texteditor-backdrop #texteditor-container .CodeMirror-gutters {
    background-color: #fff;
  }
}
@media not print {
  #texteditor-backdrop #texteditor-container {
    padding: 0px;
    background-color: #fff;
    -webkit-box-shadow: 0px 0px 12px 1px rgba(87, 87, 87, 0.2);
    box-shadow: 0px 0px 12px 1px rgba(87, 87, 87, 0.2);
  }
}
/*!
*
* IPython notebook
*
*/
/* CSS font colors for translated ANSI colors. */
.ansibold {
  font-weight: bold;
}
/* use dark versions for foreground, to improve visibility */
.ansiblack {
  color: black;
}
.ansired {
  color: darkred;
}
.ansigreen {
  color: darkgreen;
}
.ansiyellow {
  color: #c4a000;
}
.ansiblue {
  color: darkblue;
}
.ansipurple {
  color: darkviolet;
}
.ansicyan {
  color: steelblue;
}
.ansigray {
  color: gray;
}
/* and light for background, for the same reason */
.ansibgblack {
  background-color: black;
}
.ansibgred {
  background-color: red;
}
.ansibggreen {
  background-color: green;
}
.ansibgyellow {
  background-color: yellow;
}
.ansibgblue {
  background-color: blue;
}
.ansibgpurple {
  background-color: magenta;
}
.ansibgcyan {
  background-color: cyan;
}
.ansibggray {
  background-color: gray;
}
div.cell {
  /* Old browsers */
  display: -webkit-box;
  -webkit-box-orient: vertical;
  -webkit-box-align: stretch;
  display: -moz-box;
  -moz-box-orient: vertical;
  -moz-box-align: stretch;
  display: box;
  box-orient: vertical;
  box-align: stretch;
  /* Modern browsers */
  display: flex;
  flex-direction: column;
  align-items: stretch;
  border-radius: 2px;
  box-sizing: border-box;
  -moz-box-sizing: border-box;
  -webkit-box-sizing: border-box;
  border-width: 1px;
  border-style: solid;
  border-color: transparent;
  width: 100%;
  padding: 5px;
  /* This acts as a spacer between cells, that is outside the border */
  margin: 0px;
  outline: none;
  border-left-width: 1px;
  padding-left: 5px;
  background: linear-gradient(to right, transparent -40px, transparent 1px, transparent 1px, transparent 100%);
}
div.cell.jupyter-soft-selected {
  border-left-color: #90CAF9;
  border-left-color: #E3F2FD;
  border-left-width: 1px;
  padding-left: 5px;
  border-right-color: #E3F2FD;
  border-right-width: 1px;
  background: #E3F2FD;
}
@media print {
  div.cell.jupyter-soft-selected {
    border-color: transparent;
  }
}
div.cell.selected {
  border-color: #ababab;
  border-left-width: 0px;
  padding-left: 6px;
  background: linear-gradient(to right, #42A5F5 -40px, #42A5F5 5px, transparent 5px, transparent 100%);
}
@media print {
  div.cell.selected {
    border-color: transparent;
  }
}
div.cell.selected.jupyter-soft-selected {
  border-left-width: 0;
  padding-left: 6px;
  background: linear-gradient(to right, #42A5F5 -40px, #42A5F5 7px, #E3F2FD 7px, #E3F2FD 100%);
}
.edit_mode div.cell.selected {
  border-color: #66BB6A;
  border-left-width: 0px;
  padding-left: 6px;
  background: linear-gradient(to right, #66BB6A -40px, #66BB6A 5px, transparent 5px, transparent 100%);
}
@media print {
  .edit_mode div.cell.selected {
    border-color: transparent;
  }
}
.prompt {
  /* This needs to be wide enough for 3 digit prompt numbers: In[100]: */
  min-width: 14ex;
  /* This padding is tuned to match the padding on the CodeMirror editor. */
  padding: 0.4em;
  margin: 0px;
  font-family: monospace;
  text-align: right;
  /* This has to match that of the the CodeMirror class line-height below */
  line-height: 1.21429em;
  /* Don't highlight prompt number selection */
  -webkit-touch-callout: none;
  -webkit-user-select: none;
  -khtml-user-select: none;
  -moz-user-select: none;
  -ms-user-select: none;
  user-select: none;
  /* Use default cursor */
  cursor: default;
}
@media (max-width: 540px) {
  .prompt {
    text-align: left;
  }
}
div.inner_cell {
  min-width: 0;
  /* Old browsers */
  display: -webkit-box;
  -webkit-box-orient: vertical;
  -webkit-box-align: stretch;
  display: -moz-box;
  -moz-box-orient: vertical;
  -moz-box-align: stretch;
  display: box;
  box-orient: vertical;
  box-align: stretch;
  /* Modern browsers */
  display: flex;
  flex-direction: column;
  align-items: stretch;
  /* Old browsers */
  -webkit-box-flex: 1;
  -moz-box-flex: 1;
  box-flex: 1;
  /* Modern browsers */
  flex: 1;
}
/* input_area and input_prompt must match in top border and margin for alignment */
div.input_area {
  border: 1px solid #cfcfcf;
  border-radius: 2px;
  background: #f7f7f7;
  line-height: 1.21429em;
}
/* This is needed so that empty prompt areas can collapse to zero height when there
   is no content in the output_subarea and the prompt. The main purpose of this is
   to make sure that empty JavaScript output_subareas have no height. */
div.prompt:empty {
  padding-top: 0;
  padding-bottom: 0;
}
div.unrecognized_cell {
  padding: 5px 5px 5px 0px;
  /* Old browsers */
  display: -webkit-box;
  -webkit-box-orient: horizontal;
  -webkit-box-align: stretch;
  display: -moz-box;
  -moz-box-orient: horizontal;
  -moz-box-align: stretch;
  display: box;
  box-orient: horizontal;
  box-align: stretch;
  /* Modern browsers */
  display: flex;
  flex-direction: row;
  align-items: stretch;
}
div.unrecognized_cell .inner_cell {
  border-radius: 2px;
  padding: 5px;
  font-weight: bold;
  color: red;
  border: 1px solid #cfcfcf;
  background: #eaeaea;
}
div.unrecognized_cell .inner_cell a {
  color: inherit;
  text-decoration: none;
}
div.unrecognized_cell .inner_cell a:hover {
  color: inherit;
  text-decoration: none;
}
@media (max-width: 540px) {
  div.unrecognized_cell > div.prompt {
    display: none;
  }
}
div.code_cell {
  /* avoid page breaking on code cells when printing */
}
@media print {
  div.code_cell {
    page-break-inside: avoid;
  }
}
/* any special styling for code cells that are currently running goes here */
div.input {
  page-break-inside: avoid;
  /* Old browsers */
  display: -webkit-box;
  -webkit-box-orient: horizontal;
  -webkit-box-align: stretch;
  display: -moz-box;
  -moz-box-orient: horizontal;
  -moz-box-align: stretch;
  display: box;
  box-orient: horizontal;
  box-align: stretch;
  /* Modern browsers */
  display: flex;
  flex-direction: row;
  align-items: stretch;
}
@media (max-width: 540px) {
  div.input {
    /* Old browsers */
    display: -webkit-box;
    -webkit-box-orient: vertical;
    -webkit-box-align: stretch;
    display: -moz-box;
    -moz-box-orient: vertical;
    -moz-box-align: stretch;
    display: box;
    box-orient: vertical;
    box-align: stretch;
    /* Modern browsers */
    display: flex;
    flex-direction: column;
    align-items: stretch;
  }
}
/* input_area and input_prompt must match in top border and margin for alignment */
div.input_prompt {
  color: #303F9F;
  border-top: 1px solid transparent;
}
div.input_area > div.highlight {
  margin: 0.4em;
  border: none;
  padding: 0px;
  background-color: transparent;
}
div.input_area > div.highlight > pre {
  margin: 0px;
  border: none;
  padding: 0px;
  background-color: transparent;
}
/* The following gets added to the <head> if it is detected that the user has a
 * monospace font with inconsistent normal/bold/italic height.  See
 * notebookmain.js.  Such fonts will have keywords vertically offset with
 * respect to the rest of the text.  The user should select a better font.
 * See: https://github.com/ipython/ipython/issues/1503
 *
 * .CodeMirror span {
 *      vertical-align: bottom;
 * }
 */
.CodeMirror {
  line-height: 1.21429em;
  /* Changed from 1em to our global default */
  font-size: 14px;
  height: auto;
  /* Changed to auto to autogrow */
  background: none;
  /* Changed from white to allow our bg to show through */
}
.CodeMirror-scroll {
  /*  The CodeMirror docs are a bit fuzzy on if overflow-y should be hidden or visible.*/
  /*  We have found that if it is visible, vertical scrollbars appear with font size changes.*/
  overflow-y: hidden;
  overflow-x: auto;
}
.CodeMirror-lines {
  /* In CM2, this used to be 0.4em, but in CM3 it went to 4px. We need the em value because */
  /* we have set a different line-height and want this to scale with that. */
  padding: 0.4em;
}
.CodeMirror-linenumber {
  padding: 0 8px 0 4px;
}
.CodeMirror-gutters {
  border-bottom-left-radius: 2px;
  border-top-left-radius: 2px;
}
.CodeMirror pre {
  /* In CM3 this went to 4px from 0 in CM2. We need the 0 value because of how we size */
  /* .CodeMirror-lines */
  padding: 0;
  border: 0;
  border-radius: 0;
}
/*

Original style from softwaremaniacs.org (c) Ivan Sagalaev <Maniac@SoftwareManiacs.Org>
Adapted from GitHub theme

*/
.highlight-base {
  color: #000;
}
.highlight-variable {
  color: #000;
}
.highlight-variable-2 {
  color: #1a1a1a;
}
.highlight-variable-3 {
  color: #333333;
}
.highlight-string {
  color: #BA2121;
}
.highlight-comment {
  color: #408080;
  font-style: italic;
}
.highlight-number {
  color: #080;
}
.highlight-atom {
  color: #88F;
}
.highlight-keyword {
  color: #008000;
  font-weight: bold;
}
.highlight-builtin {
  color: #008000;
}
.highlight-error {
  color: #f00;
}
.highlight-operator {
  color: #AA22FF;
  font-weight: bold;
}
.highlight-meta {
  color: #AA22FF;
}
/* previously not defined, copying from default codemirror */
.highlight-def {
  color: #00f;
}
.highlight-string-2 {
  color: #f50;
}
.highlight-qualifier {
  color: #555;
}
.highlight-bracket {
  color: #997;
}
.highlight-tag {
  color: #170;
}
.highlight-attribute {
  color: #00c;
}
.highlight-header {
  color: blue;
}
.highlight-quote {
  color: #090;
}
.highlight-link {
  color: #00c;
}
/* apply the same style to codemirror */
.cm-s-ipython span.cm-keyword {
  color: #008000;
  font-weight: bold;
}
.cm-s-ipython span.cm-atom {
  color: #88F;
}
.cm-s-ipython span.cm-number {
  color: #080;
}
.cm-s-ipython span.cm-def {
  color: #00f;
}
.cm-s-ipython span.cm-variable {
  color: #000;
}
.cm-s-ipython span.cm-operator {
  color: #AA22FF;
  font-weight: bold;
}
.cm-s-ipython span.cm-variable-2 {
  color: #1a1a1a;
}
.cm-s-ipython span.cm-variable-3 {
  color: #333333;
}
.cm-s-ipython span.cm-comment {
  color: #408080;
  font-style: italic;
}
.cm-s-ipython span.cm-string {
  color: #BA2121;
}
.cm-s-ipython span.cm-string-2 {
  color: #f50;
}
.cm-s-ipython span.cm-meta {
  color: #AA22FF;
}
.cm-s-ipython span.cm-qualifier {
  color: #555;
}
.cm-s-ipython span.cm-builtin {
  color: #008000;
}
.cm-s-ipython span.cm-bracket {
  color: #997;
}
.cm-s-ipython span.cm-tag {
  color: #170;
}
.cm-s-ipython span.cm-attribute {
  color: #00c;
}
.cm-s-ipython span.cm-header {
  color: blue;
}
.cm-s-ipython span.cm-quote {
  color: #090;
}
.cm-s-ipython span.cm-link {
  color: #00c;
}
.cm-s-ipython span.cm-error {
  color: #f00;
}
.cm-s-ipython span.cm-tab {
  background: url(data:image/png;base64,iVBORw0KGgoAAAANSUhEUgAAADAAAAAMCAYAAAAkuj5RAAAAAXNSR0IArs4c6QAAAGFJREFUSMft1LsRQFAQheHPowAKoACx3IgEKtaEHujDjORSgWTH/ZOdnZOcM/sgk/kFFWY0qV8foQwS4MKBCS3qR6ixBJvElOobYAtivseIE120FaowJPN75GMu8j/LfMwNjh4HUpwg4LUAAAAASUVORK5CYII=);
  background-position: right;
  background-repeat: no-repeat;
}
div.output_wrapper {
  /* this position must be relative to enable descendents to be absolute within it */
  position: relative;
  /* Old browsers */
  display: -webkit-box;
  -webkit-box-orient: vertical;
  -webkit-box-align: stretch;
  display: -moz-box;
  -moz-box-orient: vertical;
  -moz-box-align: stretch;
  display: box;
  box-orient: vertical;
  box-align: stretch;
  /* Modern browsers */
  display: flex;
  flex-direction: column;
  align-items: stretch;
  z-index: 1;
}
/* class for the output area when it should be height-limited */
div.output_scroll {
  /* ideally, this would be max-height, but FF barfs all over that */
  height: 24em;
  /* FF needs this *and the wrapper* to specify full width, or it will shrinkwrap */
  width: 100%;
  overflow: auto;
  border-radius: 2px;
  -webkit-box-shadow: inset 0 2px 8px rgba(0, 0, 0, 0.8);
  box-shadow: inset 0 2px 8px rgba(0, 0, 0, 0.8);
  display: block;
}
/* output div while it is collapsed */
div.output_collapsed {
  margin: 0px;
  padding: 0px;
  /* Old browsers */
  display: -webkit-box;
  -webkit-box-orient: vertical;
  -webkit-box-align: stretch;
  display: -moz-box;
  -moz-box-orient: vertical;
  -moz-box-align: stretch;
  display: box;
  box-orient: vertical;
  box-align: stretch;
  /* Modern browsers */
  display: flex;
  flex-direction: column;
  align-items: stretch;
}
div.out_prompt_overlay {
  height: 100%;
  padding: 0px 0.4em;
  position: absolute;
  border-radius: 2px;
}
div.out_prompt_overlay:hover {
  /* use inner shadow to get border that is computed the same on WebKit/FF */
  -webkit-box-shadow: inset 0 0 1px #000;
  box-shadow: inset 0 0 1px #000;
  background: rgba(240, 240, 240, 0.5);
}
div.output_prompt {
  color: #D84315;
}
/* This class is the outer container of all output sections. */
div.output_area {
  padding: 0px;
  page-break-inside: avoid;
  /* Old browsers */
  display: -webkit-box;
  -webkit-box-orient: horizontal;
  -webkit-box-align: stretch;
  display: -moz-box;
  -moz-box-orient: horizontal;
  -moz-box-align: stretch;
  display: box;
  box-orient: horizontal;
  box-align: stretch;
  /* Modern browsers */
  display: flex;
  flex-direction: row;
  align-items: stretch;
}
div.output_area .MathJax_Display {
  text-align: left !important;
}
div.output_area .rendered_html table {
  margin-left: 0;
  margin-right: 0;
}
div.output_area .rendered_html img {
  margin-left: 0;
  margin-right: 0;
}
div.output_area img,
div.output_area svg {
  max-width: 100%;
  height: auto;
}
div.output_area img.unconfined,
div.output_area svg.unconfined {
  max-width: none;
}
/* This is needed to protect the pre formating from global settings such
   as that of bootstrap */
.output {
  /* Old browsers */
  display: -webkit-box;
  -webkit-box-orient: vertical;
  -webkit-box-align: stretch;
  display: -moz-box;
  -moz-box-orient: vertical;
  -moz-box-align: stretch;
  display: box;
  box-orient: vertical;
  box-align: stretch;
  /* Modern browsers */
  display: flex;
  flex-direction: column;
  align-items: stretch;
}
@media (max-width: 540px) {
  div.output_area {
    /* Old browsers */
    display: -webkit-box;
    -webkit-box-orient: vertical;
    -webkit-box-align: stretch;
    display: -moz-box;
    -moz-box-orient: vertical;
    -moz-box-align: stretch;
    display: box;
    box-orient: vertical;
    box-align: stretch;
    /* Modern browsers */
    display: flex;
    flex-direction: column;
    align-items: stretch;
  }
}
div.output_area pre {
  margin: 0;
  padding: 0;
  border: 0;
  vertical-align: baseline;
  color: black;
  background-color: transparent;
  border-radius: 0;
}
/* This class is for the output subarea inside the output_area and after
   the prompt div. */
div.output_subarea {
  overflow-x: auto;
  padding: 0.4em;
  /* Old browsers */
  -webkit-box-flex: 1;
  -moz-box-flex: 1;
  box-flex: 1;
  /* Modern browsers */
  flex: 1;
  max-width: calc(100% - 14ex);
}
div.output_scroll div.output_subarea {
  overflow-x: visible;
}
/* The rest of the output_* classes are for special styling of the different
   output types */
/* all text output has this class: */
div.output_text {
  text-align: left;
  color: #000;
  /* This has to match that of the the CodeMirror class line-height below */
  line-height: 1.21429em;
}
/* stdout/stderr are 'text' as well as 'stream', but execute_result/error are *not* streams */
div.output_stderr {
  background: #fdd;
  /* very light red background for stderr */
}
div.output_latex {
  text-align: left;
}
/* Empty output_javascript divs should have no height */
div.output_javascript:empty {
  padding: 0;
}
.js-error {
  color: darkred;
}
/* raw_input styles */
div.raw_input_container {
  line-height: 1.21429em;
  padding-top: 5px;
}
pre.raw_input_prompt {
  /* nothing needed here. */
}
input.raw_input {
  font-family: monospace;
  font-size: inherit;
  color: inherit;
  width: auto;
  /* make sure input baseline aligns with prompt */
  vertical-align: baseline;
  /* padding + margin = 0.5em between prompt and cursor */
  padding: 0em 0.25em;
  margin: 0em 0.25em;
}
input.raw_input:focus {
  box-shadow: none;
}
p.p-space {
  margin-bottom: 10px;
}
div.output_unrecognized {
  padding: 5px;
  font-weight: bold;
  color: red;
}
div.output_unrecognized a {
  color: inherit;
  text-decoration: none;
}
div.output_unrecognized a:hover {
  color: inherit;
  text-decoration: none;
}
.rendered_html {
  color: #000;
  /* any extras will just be numbers: */
}
.rendered_html em {
  font-style: italic;
}
.rendered_html strong {
  font-weight: bold;
}
.rendered_html u {
  text-decoration: underline;
}
.rendered_html :link {
  text-decoration: underline;
}
.rendered_html :visited {
  text-decoration: underline;
}
.rendered_html h1 {
  font-size: 185.7%;
  margin: 1.08em 0 0 0;
  font-weight: bold;
  line-height: 1.0;
}
.rendered_html h2 {
  font-size: 157.1%;
  margin: 1.27em 0 0 0;
  font-weight: bold;
  line-height: 1.0;
}
.rendered_html h3 {
  font-size: 128.6%;
  margin: 1.55em 0 0 0;
  font-weight: bold;
  line-height: 1.0;
}
.rendered_html h4 {
  font-size: 100%;
  margin: 2em 0 0 0;
  font-weight: bold;
  line-height: 1.0;
}
.rendered_html h5 {
  font-size: 100%;
  margin: 2em 0 0 0;
  font-weight: bold;
  line-height: 1.0;
  font-style: italic;
}
.rendered_html h6 {
  font-size: 100%;
  margin: 2em 0 0 0;
  font-weight: bold;
  line-height: 1.0;
  font-style: italic;
}
.rendered_html h1:first-child {
  margin-top: 0.538em;
}
.rendered_html h2:first-child {
  margin-top: 0.636em;
}
.rendered_html h3:first-child {
  margin-top: 0.777em;
}
.rendered_html h4:first-child {
  margin-top: 1em;
}
.rendered_html h5:first-child {
  margin-top: 1em;
}
.rendered_html h6:first-child {
  margin-top: 1em;
}
.rendered_html ul {
  list-style: disc;
  margin: 0em 2em;
  padding-left: 0px;
}
.rendered_html ul ul {
  list-style: square;
  margin: 0em 2em;
}
.rendered_html ul ul ul {
  list-style: circle;
  margin: 0em 2em;
}
.rendered_html ol {
  list-style: decimal;
  margin: 0em 2em;
  padding-left: 0px;
}
.rendered_html ol ol {
  list-style: upper-alpha;
  margin: 0em 2em;
}
.rendered_html ol ol ol {
  list-style: lower-alpha;
  margin: 0em 2em;
}
.rendered_html ol ol ol ol {
  list-style: lower-roman;
  margin: 0em 2em;
}
.rendered_html ol ol ol ol ol {
  list-style: decimal;
  margin: 0em 2em;
}
.rendered_html * + ul {
  margin-top: 1em;
}
.rendered_html * + ol {
  margin-top: 1em;
}
.rendered_html hr {
  color: black;
  background-color: black;
}
.rendered_html pre {
  margin: 1em 2em;
}
.rendered_html pre,
.rendered_html code {
  border: 0;
  background-color: #fff;
  color: #000;
  font-size: 100%;
  padding: 0px;
}
.rendered_html blockquote {
  margin: 1em 2em;
}
.rendered_html table {
  margin-left: auto;
  margin-right: auto;
  border: 1px solid black;
  border-collapse: collapse;
}
.rendered_html tr,
.rendered_html th,
.rendered_html td {
  border: 1px solid black;
  border-collapse: collapse;
  margin: 1em 2em;
}
.rendered_html td,
.rendered_html th {
  text-align: left;
  vertical-align: middle;
  padding: 4px;
}
.rendered_html th {
  font-weight: bold;
}
.rendered_html * + table {
  margin-top: 1em;
}
.rendered_html p {
  text-align: left;
}
.rendered_html * + p {
  margin-top: 1em;
}
.rendered_html img {
  display: block;
  margin-left: auto;
  margin-right: auto;
}
.rendered_html * + img {
  margin-top: 1em;
}
.rendered_html img,
.rendered_html svg {
  max-width: 100%;
  height: auto;
}
.rendered_html img.unconfined,
.rendered_html svg.unconfined {
  max-width: none;
}
div.text_cell {
  /* Old browsers */
  display: -webkit-box;
  -webkit-box-orient: horizontal;
  -webkit-box-align: stretch;
  display: -moz-box;
  -moz-box-orient: horizontal;
  -moz-box-align: stretch;
  display: box;
  box-orient: horizontal;
  box-align: stretch;
  /* Modern browsers */
  display: flex;
  flex-direction: row;
  align-items: stretch;
}
@media (max-width: 540px) {
  div.text_cell > div.prompt {
    display: none;
  }
}
div.text_cell_render {
  /*font-family: "Helvetica Neue", Arial, Helvetica, Geneva, sans-serif;*/
  outline: none;
  resize: none;
  width: inherit;
  border-style: none;
  padding: 0.5em 0.5em 0.5em 0.4em;
  color: #000;
  box-sizing: border-box;
  -moz-box-sizing: border-box;
  -webkit-box-sizing: border-box;
}
a.anchor-link:link {
  text-decoration: none;
  padding: 0px 20px;
  visibility: hidden;
}
h1:hover .anchor-link,
h2:hover .anchor-link,
h3:hover .anchor-link,
h4:hover .anchor-link,
h5:hover .anchor-link,
h6:hover .anchor-link {
  visibility: visible;
}
.text_cell.rendered .input_area {
  display: none;
}
.text_cell.rendered .rendered_html {
  overflow-x: auto;
  overflow-y: hidden;
}
.text_cell.unrendered .text_cell_render {
  display: none;
}
.cm-header-1,
.cm-header-2,
.cm-header-3,
.cm-header-4,
.cm-header-5,
.cm-header-6 {
  font-weight: bold;
  font-family: "Helvetica Neue", Helvetica, Arial, sans-serif;
}
.cm-header-1 {
  font-size: 185.7%;
}
.cm-header-2 {
  font-size: 157.1%;
}
.cm-header-3 {
  font-size: 128.6%;
}
.cm-header-4 {
  font-size: 110%;
}
.cm-header-5 {
  font-size: 100%;
  font-style: italic;
}
.cm-header-6 {
  font-size: 100%;
  font-style: italic;
}
/*!
*
* IPython notebook webapp
*
*/
@media (max-width: 767px) {
  .notebook_app {
    padding-left: 0px;
    padding-right: 0px;
  }
}
#ipython-main-app {
  box-sizing: border-box;
  -moz-box-sizing: border-box;
  -webkit-box-sizing: border-box;
  height: 100%;
}
div#notebook_panel {
  margin: 0px;
  padding: 0px;
  box-sizing: border-box;
  -moz-box-sizing: border-box;
  -webkit-box-sizing: border-box;
  height: 100%;
}
div#notebook {
  font-size: 14px;
  line-height: 20px;
  overflow-y: hidden;
  overflow-x: auto;
  width: 100%;
  /* This spaces the page away from the edge of the notebook area */
  padding-top: 20px;
  margin: 0px;
  outline: none;
  box-sizing: border-box;
  -moz-box-sizing: border-box;
  -webkit-box-sizing: border-box;
  min-height: 100%;
}
@media not print {
  #notebook-container {
    padding: 15px;
    background-color: #fff;
    min-height: 0;
    -webkit-box-shadow: 0px 0px 12px 1px rgba(87, 87, 87, 0.2);
    box-shadow: 0px 0px 12px 1px rgba(87, 87, 87, 0.2);
  }
}
@media print {
  #notebook-container {
    width: 100%;
  }
}
div.ui-widget-content {
  border: 1px solid #ababab;
  outline: none;
}
pre.dialog {
  background-color: #f7f7f7;
  border: 1px solid #ddd;
  border-radius: 2px;
  padding: 0.4em;
  padding-left: 2em;
}
p.dialog {
  padding: 0.2em;
}
/* Word-wrap output correctly.  This is the CSS3 spelling, though Firefox seems
   to not honor it correctly.  Webkit browsers (Chrome, rekonq, Safari) do.
 */
pre,
code,
kbd,
samp {
  white-space: pre-wrap;
}
#fonttest {
  font-family: monospace;
}
p {
  margin-bottom: 0;
}
.end_space {
  min-height: 100px;
  transition: height .2s ease;
}
.notebook_app > #header {
  -webkit-box-shadow: 0px 0px 12px 1px rgba(87, 87, 87, 0.2);
  box-shadow: 0px 0px 12px 1px rgba(87, 87, 87, 0.2);
}
@media not print {
  .notebook_app {
    background-color: #EEE;
  }
}
kbd {
  border-style: solid;
  border-width: 1px;
  box-shadow: none;
  margin: 2px;
  padding-left: 2px;
  padding-right: 2px;
  padding-top: 1px;
  padding-bottom: 1px;
}
/* CSS for the cell toolbar */
.celltoolbar {
  border: thin solid #CFCFCF;
  border-bottom: none;
  background: #EEE;
  border-radius: 2px 2px 0px 0px;
  width: 100%;
  height: 29px;
  padding-right: 4px;
  /* Old browsers */
  display: -webkit-box;
  -webkit-box-orient: horizontal;
  -webkit-box-align: stretch;
  display: -moz-box;
  -moz-box-orient: horizontal;
  -moz-box-align: stretch;
  display: box;
  box-orient: horizontal;
  box-align: stretch;
  /* Modern browsers */
  display: flex;
  flex-direction: row;
  align-items: stretch;
  /* Old browsers */
  -webkit-box-pack: end;
  -moz-box-pack: end;
  box-pack: end;
  /* Modern browsers */
  justify-content: flex-end;
  display: -webkit-flex;
}
@media print {
  .celltoolbar {
    display: none;
  }
}
.ctb_hideshow {
  display: none;
  vertical-align: bottom;
}
/* ctb_show is added to the ctb_hideshow div to show the cell toolbar.
   Cell toolbars are only shown when the ctb_global_show class is also set.
*/
.ctb_global_show .ctb_show.ctb_hideshow {
  display: block;
}
.ctb_global_show .ctb_show + .input_area,
.ctb_global_show .ctb_show + div.text_cell_input,
.ctb_global_show .ctb_show ~ div.text_cell_render {
  border-top-right-radius: 0px;
  border-top-left-radius: 0px;
}
.ctb_global_show .ctb_show ~ div.text_cell_render {
  border: 1px solid #cfcfcf;
}
.celltoolbar {
  font-size: 87%;
  padding-top: 3px;
}
.celltoolbar select {
  display: block;
  width: 100%;
  height: 32px;
  padding: 6px 12px;
  font-size: 13px;
  line-height: 1.42857143;
  color: #555555;
  background-color: #fff;
  background-image: none;
  border: 1px solid #ccc;
  border-radius: 2px;
  -webkit-box-shadow: inset 0 1px 1px rgba(0, 0, 0, 0.075);
  box-shadow: inset 0 1px 1px rgba(0, 0, 0, 0.075);
  -webkit-transition: border-color ease-in-out .15s, box-shadow ease-in-out .15s;
  -o-transition: border-color ease-in-out .15s, box-shadow ease-in-out .15s;
  transition: border-color ease-in-out .15s, box-shadow ease-in-out .15s;
  height: 30px;
  padding: 5px 10px;
  font-size: 12px;
  line-height: 1.5;
  border-radius: 1px;
  width: inherit;
  font-size: inherit;
  height: 22px;
  padding: 0px;
  display: inline-block;
}
.celltoolbar select:focus {
  border-color: #66afe9;
  outline: 0;
  -webkit-box-shadow: inset 0 1px 1px rgba(0,0,0,.075), 0 0 8px rgba(102, 175, 233, 0.6);
  box-shadow: inset 0 1px 1px rgba(0,0,0,.075), 0 0 8px rgba(102, 175, 233, 0.6);
}
.celltoolbar select::-moz-placeholder {
  color: #999;
  opacity: 1;
}
.celltoolbar select:-ms-input-placeholder {
  color: #999;
}
.celltoolbar select::-webkit-input-placeholder {
  color: #999;
}
.celltoolbar select::-ms-expand {
  border: 0;
  background-color: transparent;
}
.celltoolbar select[disabled],
.celltoolbar select[readonly],
fieldset[disabled] .celltoolbar select {
  background-color: #eeeeee;
  opacity: 1;
}
.celltoolbar select[disabled],
fieldset[disabled] .celltoolbar select {
  cursor: not-allowed;
}
textarea.celltoolbar select {
  height: auto;
}
select.celltoolbar select {
  height: 30px;
  line-height: 30px;
}
textarea.celltoolbar select,
select[multiple].celltoolbar select {
  height: auto;
}
.celltoolbar label {
  margin-left: 5px;
  margin-right: 5px;
}
.completions {
  position: absolute;
  z-index: 110;
  overflow: hidden;
  border: 1px solid #ababab;
  border-radius: 2px;
  -webkit-box-shadow: 0px 6px 10px -1px #adadad;
  box-shadow: 0px 6px 10px -1px #adadad;
  line-height: 1;
}
.completions select {
  background: white;
  outline: none;
  border: none;
  padding: 0px;
  margin: 0px;
  overflow: auto;
  font-family: monospace;
  font-size: 110%;
  color: #000;
  width: auto;
}
.completions select option.context {
  color: #286090;
}
#kernel_logo_widget {
  float: right !important;
  float: right;
}
#kernel_logo_widget .current_kernel_logo {
  display: none;
  margin-top: -1px;
  margin-bottom: -1px;
  width: 32px;
  height: 32px;
}
#menubar {
  box-sizing: border-box;
  -moz-box-sizing: border-box;
  -webkit-box-sizing: border-box;
  margin-top: 1px;
}
#menubar .navbar {
  border-top: 1px;
  border-radius: 0px 0px 2px 2px;
  margin-bottom: 0px;
}
#menubar .navbar-toggle {
  float: left;
  padding-top: 7px;
  padding-bottom: 7px;
  border: none;
}
#menubar .navbar-collapse {
  clear: left;
}
.nav-wrapper {
  border-bottom: 1px solid #e7e7e7;
}
i.menu-icon {
  padding-top: 4px;
}
ul#help_menu li a {
  overflow: hidden;
  padding-right: 2.2em;
}
ul#help_menu li a i {
  margin-right: -1.2em;
}
.dropdown-submenu {
  position: relative;
}
.dropdown-submenu > .dropdown-menu {
  top: 0;
  left: 100%;
  margin-top: -6px;
  margin-left: -1px;
}
.dropdown-submenu:hover > .dropdown-menu {
  display: block;
}
.dropdown-submenu > a:after {
  display: inline-block;
  font: normal normal normal 14px/1 FontAwesome;
  font-size: inherit;
  text-rendering: auto;
  -webkit-font-smoothing: antialiased;
  -moz-osx-font-smoothing: grayscale;
  display: block;
  content: "\f0da";
  float: right;
  color: #333333;
  margin-top: 2px;
  margin-right: -10px;
}
.dropdown-submenu > a:after.pull-left {
  margin-right: .3em;
}
.dropdown-submenu > a:after.pull-right {
  margin-left: .3em;
}
.dropdown-submenu:hover > a:after {
  color: #262626;
}
.dropdown-submenu.pull-left {
  float: none;
}
.dropdown-submenu.pull-left > .dropdown-menu {
  left: -100%;
  margin-left: 10px;
}
#notification_area {
  float: right !important;
  float: right;
  z-index: 10;
}
.indicator_area {
  float: right !important;
  float: right;
  color: #777;
  margin-left: 5px;
  margin-right: 5px;
  width: 11px;
  z-index: 10;
  text-align: center;
  width: auto;
}
#kernel_indicator {
  float: right !important;
  float: right;
  color: #777;
  margin-left: 5px;
  margin-right: 5px;
  width: 11px;
  z-index: 10;
  text-align: center;
  width: auto;
  border-left: 1px solid;
}
#kernel_indicator .kernel_indicator_name {
  padding-left: 5px;
  padding-right: 5px;
}
#modal_indicator {
  float: right !important;
  float: right;
  color: #777;
  margin-left: 5px;
  margin-right: 5px;
  width: 11px;
  z-index: 10;
  text-align: center;
  width: auto;
}
#readonly-indicator {
  float: right !important;
  float: right;
  color: #777;
  margin-left: 5px;
  margin-right: 5px;
  width: 11px;
  z-index: 10;
  text-align: center;
  width: auto;
  margin-top: 2px;
  margin-bottom: 0px;
  margin-left: 0px;
  margin-right: 0px;
  display: none;
}
.modal_indicator:before {
  width: 1.28571429em;
  text-align: center;
}
.edit_mode .modal_indicator:before {
  display: inline-block;
  font: normal normal normal 14px/1 FontAwesome;
  font-size: inherit;
  text-rendering: auto;
  -webkit-font-smoothing: antialiased;
  -moz-osx-font-smoothing: grayscale;
  content: "\f040";
}
.edit_mode .modal_indicator:before.pull-left {
  margin-right: .3em;
}
.edit_mode .modal_indicator:before.pull-right {
  margin-left: .3em;
}
.command_mode .modal_indicator:before {
  display: inline-block;
  font: normal normal normal 14px/1 FontAwesome;
  font-size: inherit;
  text-rendering: auto;
  -webkit-font-smoothing: antialiased;
  -moz-osx-font-smoothing: grayscale;
  content: ' ';
}
.command_mode .modal_indicator:before.pull-left {
  margin-right: .3em;
}
.command_mode .modal_indicator:before.pull-right {
  margin-left: .3em;
}
.kernel_idle_icon:before {
  display: inline-block;
  font: normal normal normal 14px/1 FontAwesome;
  font-size: inherit;
  text-rendering: auto;
  -webkit-font-smoothing: antialiased;
  -moz-osx-font-smoothing: grayscale;
  content: "\f10c";
}
.kernel_idle_icon:before.pull-left {
  margin-right: .3em;
}
.kernel_idle_icon:before.pull-right {
  margin-left: .3em;
}
.kernel_busy_icon:before {
  display: inline-block;
  font: normal normal normal 14px/1 FontAwesome;
  font-size: inherit;
  text-rendering: auto;
  -webkit-font-smoothing: antialiased;
  -moz-osx-font-smoothing: grayscale;
  content: "\f111";
}
.kernel_busy_icon:before.pull-left {
  margin-right: .3em;
}
.kernel_busy_icon:before.pull-right {
  margin-left: .3em;
}
.kernel_dead_icon:before {
  display: inline-block;
  font: normal normal normal 14px/1 FontAwesome;
  font-size: inherit;
  text-rendering: auto;
  -webkit-font-smoothing: antialiased;
  -moz-osx-font-smoothing: grayscale;
  content: "\f1e2";
}
.kernel_dead_icon:before.pull-left {
  margin-right: .3em;
}
.kernel_dead_icon:before.pull-right {
  margin-left: .3em;
}
.kernel_disconnected_icon:before {
  display: inline-block;
  font: normal normal normal 14px/1 FontAwesome;
  font-size: inherit;
  text-rendering: auto;
  -webkit-font-smoothing: antialiased;
  -moz-osx-font-smoothing: grayscale;
  content: "\f127";
}
.kernel_disconnected_icon:before.pull-left {
  margin-right: .3em;
}
.kernel_disconnected_icon:before.pull-right {
  margin-left: .3em;
}
.notification_widget {
  color: #777;
  z-index: 10;
  background: rgba(240, 240, 240, 0.5);
  margin-right: 4px;
  color: #333;
  background-color: #fff;
  border-color: #ccc;
}
.notification_widget:focus,
.notification_widget.focus {
  color: #333;
  background-color: #e6e6e6;
  border-color: #8c8c8c;
}
.notification_widget:hover {
  color: #333;
  background-color: #e6e6e6;
  border-color: #adadad;
}
.notification_widget:active,
.notification_widget.active,
.open > .dropdown-toggle.notification_widget {
  color: #333;
  background-color: #e6e6e6;
  border-color: #adadad;
}
.notification_widget:active:hover,
.notification_widget.active:hover,
.open > .dropdown-toggle.notification_widget:hover,
.notification_widget:active:focus,
.notification_widget.active:focus,
.open > .dropdown-toggle.notification_widget:focus,
.notification_widget:active.focus,
.notification_widget.active.focus,
.open > .dropdown-toggle.notification_widget.focus {
  color: #333;
  background-color: #d4d4d4;
  border-color: #8c8c8c;
}
.notification_widget:active,
.notification_widget.active,
.open > .dropdown-toggle.notification_widget {
  background-image: none;
}
.notification_widget.disabled:hover,
.notification_widget[disabled]:hover,
fieldset[disabled] .notification_widget:hover,
.notification_widget.disabled:focus,
.notification_widget[disabled]:focus,
fieldset[disabled] .notification_widget:focus,
.notification_widget.disabled.focus,
.notification_widget[disabled].focus,
fieldset[disabled] .notification_widget.focus {
  background-color: #fff;
  border-color: #ccc;
}
.notification_widget .badge {
  color: #fff;
  background-color: #333;
}
.notification_widget.warning {
  color: #fff;
  background-color: #f0ad4e;
  border-color: #eea236;
}
.notification_widget.warning:focus,
.notification_widget.warning.focus {
  color: #fff;
  background-color: #ec971f;
  border-color: #985f0d;
}
.notification_widget.warning:hover {
  color: #fff;
  background-color: #ec971f;
  border-color: #d58512;
}
.notification_widget.warning:active,
.notification_widget.warning.active,
.open > .dropdown-toggle.notification_widget.warning {
  color: #fff;
  background-color: #ec971f;
  border-color: #d58512;
}
.notification_widget.warning:active:hover,
.notification_widget.warning.active:hover,
.open > .dropdown-toggle.notification_widget.warning:hover,
.notification_widget.warning:active:focus,
.notification_widget.warning.active:focus,
.open > .dropdown-toggle.notification_widget.warning:focus,
.notification_widget.warning:active.focus,
.notification_widget.warning.active.focus,
.open > .dropdown-toggle.notification_widget.warning.focus {
  color: #fff;
  background-color: #d58512;
  border-color: #985f0d;
}
.notification_widget.warning:active,
.notification_widget.warning.active,
.open > .dropdown-toggle.notification_widget.warning {
  background-image: none;
}
.notification_widget.warning.disabled:hover,
.notification_widget.warning[disabled]:hover,
fieldset[disabled] .notification_widget.warning:hover,
.notification_widget.warning.disabled:focus,
.notification_widget.warning[disabled]:focus,
fieldset[disabled] .notification_widget.warning:focus,
.notification_widget.warning.disabled.focus,
.notification_widget.warning[disabled].focus,
fieldset[disabled] .notification_widget.warning.focus {
  background-color: #f0ad4e;
  border-color: #eea236;
}
.notification_widget.warning .badge {
  color: #f0ad4e;
  background-color: #fff;
}
.notification_widget.success {
  color: #fff;
  background-color: #5cb85c;
  border-color: #4cae4c;
}
.notification_widget.success:focus,
.notification_widget.success.focus {
  color: #fff;
  background-color: #449d44;
  border-color: #255625;
}
.notification_widget.success:hover {
  color: #fff;
  background-color: #449d44;
  border-color: #398439;
}
.notification_widget.success:active,
.notification_widget.success.active,
.open > .dropdown-toggle.notification_widget.success {
  color: #fff;
  background-color: #449d44;
  border-color: #398439;
}
.notification_widget.success:active:hover,
.notification_widget.success.active:hover,
.open > .dropdown-toggle.notification_widget.success:hover,
.notification_widget.success:active:focus,
.notification_widget.success.active:focus,
.open > .dropdown-toggle.notification_widget.success:focus,
.notification_widget.success:active.focus,
.notification_widget.success.active.focus,
.open > .dropdown-toggle.notification_widget.success.focus {
  color: #fff;
  background-color: #398439;
  border-color: #255625;
}
.notification_widget.success:active,
.notification_widget.success.active,
.open > .dropdown-toggle.notification_widget.success {
  background-image: none;
}
.notification_widget.success.disabled:hover,
.notification_widget.success[disabled]:hover,
fieldset[disabled] .notification_widget.success:hover,
.notification_widget.success.disabled:focus,
.notification_widget.success[disabled]:focus,
fieldset[disabled] .notification_widget.success:focus,
.notification_widget.success.disabled.focus,
.notification_widget.success[disabled].focus,
fieldset[disabled] .notification_widget.success.focus {
  background-color: #5cb85c;
  border-color: #4cae4c;
}
.notification_widget.success .badge {
  color: #5cb85c;
  background-color: #fff;
}
.notification_widget.info {
  color: #fff;
  background-color: #5bc0de;
  border-color: #46b8da;
}
.notification_widget.info:focus,
.notification_widget.info.focus {
  color: #fff;
  background-color: #31b0d5;
  border-color: #1b6d85;
}
.notification_widget.info:hover {
  color: #fff;
  background-color: #31b0d5;
  border-color: #269abc;
}
.notification_widget.info:active,
.notification_widget.info.active,
.open > .dropdown-toggle.notification_widget.info {
  color: #fff;
  background-color: #31b0d5;
  border-color: #269abc;
}
.notification_widget.info:active:hover,
.notification_widget.info.active:hover,
.open > .dropdown-toggle.notification_widget.info:hover,
.notification_widget.info:active:focus,
.notification_widget.info.active:focus,
.open > .dropdown-toggle.notification_widget.info:focus,
.notification_widget.info:active.focus,
.notification_widget.info.active.focus,
.open > .dropdown-toggle.notification_widget.info.focus {
  color: #fff;
  background-color: #269abc;
  border-color: #1b6d85;
}
.notification_widget.info:active,
.notification_widget.info.active,
.open > .dropdown-toggle.notification_widget.info {
  background-image: none;
}
.notification_widget.info.disabled:hover,
.notification_widget.info[disabled]:hover,
fieldset[disabled] .notification_widget.info:hover,
.notification_widget.info.disabled:focus,
.notification_widget.info[disabled]:focus,
fieldset[disabled] .notification_widget.info:focus,
.notification_widget.info.disabled.focus,
.notification_widget.info[disabled].focus,
fieldset[disabled] .notification_widget.info.focus {
  background-color: #5bc0de;
  border-color: #46b8da;
}
.notification_widget.info .badge {
  color: #5bc0de;
  background-color: #fff;
}
.notification_widget.danger {
  color: #fff;
  background-color: #d9534f;
  border-color: #d43f3a;
}
.notification_widget.danger:focus,
.notification_widget.danger.focus {
  color: #fff;
  background-color: #c9302c;
  border-color: #761c19;
}
.notification_widget.danger:hover {
  color: #fff;
  background-color: #c9302c;
  border-color: #ac2925;
}
.notification_widget.danger:active,
.notification_widget.danger.active,
.open > .dropdown-toggle.notification_widget.danger {
  color: #fff;
  background-color: #c9302c;
  border-color: #ac2925;
}
.notification_widget.danger:active:hover,
.notification_widget.danger.active:hover,
.open > .dropdown-toggle.notification_widget.danger:hover,
.notification_widget.danger:active:focus,
.notification_widget.danger.active:focus,
.open > .dropdown-toggle.notification_widget.danger:focus,
.notification_widget.danger:active.focus,
.notification_widget.danger.active.focus,
.open > .dropdown-toggle.notification_widget.danger.focus {
  color: #fff;
  background-color: #ac2925;
  border-color: #761c19;
}
.notification_widget.danger:active,
.notification_widget.danger.active,
.open > .dropdown-toggle.notification_widget.danger {
  background-image: none;
}
.notification_widget.danger.disabled:hover,
.notification_widget.danger[disabled]:hover,
fieldset[disabled] .notification_widget.danger:hover,
.notification_widget.danger.disabled:focus,
.notification_widget.danger[disabled]:focus,
fieldset[disabled] .notification_widget.danger:focus,
.notification_widget.danger.disabled.focus,
.notification_widget.danger[disabled].focus,
fieldset[disabled] .notification_widget.danger.focus {
  background-color: #d9534f;
  border-color: #d43f3a;
}
.notification_widget.danger .badge {
  color: #d9534f;
  background-color: #fff;
}
div#pager {
  background-color: #fff;
  font-size: 14px;
  line-height: 20px;
  overflow: hidden;
  display: none;
  position: fixed;
  bottom: 0px;
  width: 100%;
  max-height: 50%;
  padding-top: 8px;
  -webkit-box-shadow: 0px 0px 12px 1px rgba(87, 87, 87, 0.2);
  box-shadow: 0px 0px 12px 1px rgba(87, 87, 87, 0.2);
  /* Display over codemirror */
  z-index: 100;
  /* Hack which prevents jquery ui resizable from changing top. */
  top: auto !important;
}
div#pager pre {
  line-height: 1.21429em;
  color: #000;
  background-color: #f7f7f7;
  padding: 0.4em;
}
div#pager #pager-button-area {
  position: absolute;
  top: 8px;
  right: 20px;
}
div#pager #pager-contents {
  position: relative;
  overflow: auto;
  width: 100%;
  height: 100%;
}
div#pager #pager-contents #pager-container {
  position: relative;
  padding: 15px 0px;
  box-sizing: border-box;
  -moz-box-sizing: border-box;
  -webkit-box-sizing: border-box;
}
div#pager .ui-resizable-handle {
  top: 0px;
  height: 8px;
  background: #f7f7f7;
  border-top: 1px solid #cfcfcf;
  border-bottom: 1px solid #cfcfcf;
  /* This injects handle bars (a short, wide = symbol) for 
        the resize handle. */
}
div#pager .ui-resizable-handle::after {
  content: '';
  top: 2px;
  left: 50%;
  height: 3px;
  width: 30px;
  margin-left: -15px;
  position: absolute;
  border-top: 1px solid #cfcfcf;
}
.quickhelp {
  /* Old browsers */
  display: -webkit-box;
  -webkit-box-orient: horizontal;
  -webkit-box-align: stretch;
  display: -moz-box;
  -moz-box-orient: horizontal;
  -moz-box-align: stretch;
  display: box;
  box-orient: horizontal;
  box-align: stretch;
  /* Modern browsers */
  display: flex;
  flex-direction: row;
  align-items: stretch;
  line-height: 1.8em;
}
.shortcut_key {
  display: inline-block;
  width: 21ex;
  text-align: right;
  font-family: monospace;
}
.shortcut_descr {
  display: inline-block;
  /* Old browsers */
  -webkit-box-flex: 1;
  -moz-box-flex: 1;
  box-flex: 1;
  /* Modern browsers */
  flex: 1;
}
span.save_widget {
  margin-top: 6px;
}
span.save_widget span.filename {
  height: 1em;
  line-height: 1em;
  padding: 3px;
  margin-left: 16px;
  border: none;
  font-size: 146.5%;
  border-radius: 2px;
}
span.save_widget span.filename:hover {
  background-color: #e6e6e6;
}
span.checkpoint_status,
span.autosave_status {
  font-size: small;
}
@media (max-width: 767px) {
  span.save_widget {
    font-size: small;
  }
  span.checkpoint_status,
  span.autosave_status {
    display: none;
  }
}
@media (min-width: 768px) and (max-width: 991px) {
  span.checkpoint_status {
    display: none;
  }
  span.autosave_status {
    font-size: x-small;
  }
}
.toolbar {
  padding: 0px;
  margin-left: -5px;
  margin-top: 2px;
  margin-bottom: 5px;
  box-sizing: border-box;
  -moz-box-sizing: border-box;
  -webkit-box-sizing: border-box;
}
.toolbar select,
.toolbar label {
  width: auto;
  vertical-align: middle;
  margin-right: 2px;
  margin-bottom: 0px;
  display: inline;
  font-size: 92%;
  margin-left: 0.3em;
  margin-right: 0.3em;
  padding: 0px;
  padding-top: 3px;
}
.toolbar .btn {
  padding: 2px 8px;
}
.toolbar .btn-group {
  margin-top: 0px;
  margin-left: 5px;
}
#maintoolbar {
  margin-bottom: -3px;
  margin-top: -8px;
  border: 0px;
  min-height: 27px;
  margin-left: 0px;
  padding-top: 11px;
  padding-bottom: 3px;
}
#maintoolbar .navbar-text {
  float: none;
  vertical-align: middle;
  text-align: right;
  margin-left: 5px;
  margin-right: 0px;
  margin-top: 0px;
}
.select-xs {
  height: 24px;
}
.pulse,
.dropdown-menu > li > a.pulse,
li.pulse > a.dropdown-toggle,
li.pulse.open > a.dropdown-toggle {
  background-color: #F37626;
  color: white;
}
/**
 * Primary styles
 *
 * Author: Jupyter Development Team
 */
/** WARNING IF YOU ARE EDITTING THIS FILE, if this is a .css file, It has a lot
 * of chance of beeing generated from the ../less/[samename].less file, you can
 * try to get back the less file by reverting somme commit in history
 **/
/*
 * We'll try to get something pretty, so we
 * have some strange css to have the scroll bar on
 * the left with fix button on the top right of the tooltip
 */
@-moz-keyframes fadeOut {
  from {
    opacity: 1;
  }
  to {
    opacity: 0;
  }
}
@-webkit-keyframes fadeOut {
  from {
    opacity: 1;
  }
  to {
    opacity: 0;
  }
}
@-moz-keyframes fadeIn {
  from {
    opacity: 0;
  }
  to {
    opacity: 1;
  }
}
@-webkit-keyframes fadeIn {
  from {
    opacity: 0;
  }
  to {
    opacity: 1;
  }
}
/*properties of tooltip after "expand"*/
.bigtooltip {
  overflow: auto;
  height: 200px;
  -webkit-transition-property: height;
  -webkit-transition-duration: 500ms;
  -moz-transition-property: height;
  -moz-transition-duration: 500ms;
  transition-property: height;
  transition-duration: 500ms;
}
/*properties of tooltip before "expand"*/
.smalltooltip {
  -webkit-transition-property: height;
  -webkit-transition-duration: 500ms;
  -moz-transition-property: height;
  -moz-transition-duration: 500ms;
  transition-property: height;
  transition-duration: 500ms;
  text-overflow: ellipsis;
  overflow: hidden;
  height: 80px;
}
.tooltipbuttons {
  position: absolute;
  padding-right: 15px;
  top: 0px;
  right: 0px;
}
.tooltiptext {
  /*avoid the button to overlap on some docstring*/
  padding-right: 30px;
}
.ipython_tooltip {
  max-width: 700px;
  /*fade-in animation when inserted*/
  -webkit-animation: fadeOut 400ms;
  -moz-animation: fadeOut 400ms;
  animation: fadeOut 400ms;
  -webkit-animation: fadeIn 400ms;
  -moz-animation: fadeIn 400ms;
  animation: fadeIn 400ms;
  vertical-align: middle;
  background-color: #f7f7f7;
  overflow: visible;
  border: #ababab 1px solid;
  outline: none;
  padding: 3px;
  margin: 0px;
  padding-left: 7px;
  font-family: monospace;
  min-height: 50px;
  -moz-box-shadow: 0px 6px 10px -1px #adadad;
  -webkit-box-shadow: 0px 6px 10px -1px #adadad;
  box-shadow: 0px 6px 10px -1px #adadad;
  border-radius: 2px;
  position: absolute;
  z-index: 1000;
}
.ipython_tooltip a {
  float: right;
}
.ipython_tooltip .tooltiptext pre {
  border: 0;
  border-radius: 0;
  font-size: 100%;
  background-color: #f7f7f7;
}
.pretooltiparrow {
  left: 0px;
  margin: 0px;
  top: -16px;
  width: 40px;
  height: 16px;
  overflow: hidden;
  position: absolute;
}
.pretooltiparrow:before {
  background-color: #f7f7f7;
  border: 1px #ababab solid;
  z-index: 11;
  content: "";
  position: absolute;
  left: 15px;
  top: 10px;
  width: 25px;
  height: 25px;
  -webkit-transform: rotate(45deg);
  -moz-transform: rotate(45deg);
  -ms-transform: rotate(45deg);
  -o-transform: rotate(45deg);
}
ul.typeahead-list i {
  margin-left: -10px;
  width: 18px;
}
ul.typeahead-list {
  max-height: 80vh;
  overflow: auto;
}
ul.typeahead-list > li > a {
  /** Firefox bug **/
  /* see https://github.com/jupyter/notebook/issues/559 */
  white-space: normal;
}
.cmd-palette .modal-body {
  padding: 7px;
}
.cmd-palette form {
  background: white;
}
.cmd-palette input {
  outline: none;
}
.no-shortcut {
  display: none;
}
.command-shortcut:before {
  content: "(command)";
  padding-right: 3px;
  color: #777777;
}
.edit-shortcut:before {
  content: "(edit)";
  padding-right: 3px;
  color: #777777;
}
#find-and-replace #replace-preview .match,
#find-and-replace #replace-preview .insert {
  background-color: #BBDEFB;
  border-color: #90CAF9;
  border-style: solid;
  border-width: 1px;
  border-radius: 0px;
}
#find-and-replace #replace-preview .replace .match {
  background-color: #FFCDD2;
  border-color: #EF9A9A;
  border-radius: 0px;
}
#find-and-replace #replace-preview .replace .insert {
  background-color: #C8E6C9;
  border-color: #A5D6A7;
  border-radius: 0px;
}
#find-and-replace #replace-preview {
  max-height: 60vh;
  overflow: auto;
}
#find-and-replace #replace-preview pre {
  padding: 5px 10px;
}
.terminal-app {
  background: #EEE;
}
.terminal-app #header {
  background: #fff;
  -webkit-box-shadow: 0px 0px 12px 1px rgba(87, 87, 87, 0.2);
  box-shadow: 0px 0px 12px 1px rgba(87, 87, 87, 0.2);
}
.terminal-app .terminal {
  width: 100%;
  float: left;
  font-family: monospace;
  color: white;
  background: black;
  padding: 0.4em;
  border-radius: 2px;
  -webkit-box-shadow: 0px 0px 12px 1px rgba(87, 87, 87, 0.4);
  box-shadow: 0px 0px 12px 1px rgba(87, 87, 87, 0.4);
}
.terminal-app .terminal,
.terminal-app .terminal dummy-screen {
  line-height: 1em;
  font-size: 14px;
}
.terminal-app .terminal .xterm-rows {
  padding: 10px;
}
.terminal-app .terminal-cursor {
  color: black;
  background: white;
}
.terminal-app #terminado-container {
  margin-top: 20px;
}
/*# sourceMappingURL=style.min.css.map */
    </style>
<style type="text/css">
    .highlight .hll { background-color: #ffffcc }
.highlight  { background: #f8f8f8; }
.highlight .c { color: #408080; font-style: italic } /* Comment */
.highlight .err { border: 1px solid #FF0000 } /* Error */
.highlight .k { color: #008000; font-weight: bold } /* Keyword */
.highlight .o { color: #666666 } /* Operator */
.highlight .ch { color: #408080; font-style: italic } /* Comment.Hashbang */
.highlight .cm { color: #408080; font-style: italic } /* Comment.Multiline */
.highlight .cp { color: #BC7A00 } /* Comment.Preproc */
.highlight .cpf { color: #408080; font-style: italic } /* Comment.PreprocFile */
.highlight .c1 { color: #408080; font-style: italic } /* Comment.Single */
.highlight .cs { color: #408080; font-style: italic } /* Comment.Special */
.highlight .gd { color: #A00000 } /* Generic.Deleted */
.highlight .ge { font-style: italic } /* Generic.Emph */
.highlight .gr { color: #FF0000 } /* Generic.Error */
.highlight .gh { color: #000080; font-weight: bold } /* Generic.Heading */
.highlight .gi { color: #00A000 } /* Generic.Inserted */
.highlight .go { color: #888888 } /* Generic.Output */
.highlight .gp { color: #000080; font-weight: bold } /* Generic.Prompt */
.highlight .gs { font-weight: bold } /* Generic.Strong */
.highlight .gu { color: #800080; font-weight: bold } /* Generic.Subheading */
.highlight .gt { color: #0044DD } /* Generic.Traceback */
.highlight .kc { color: #008000; font-weight: bold } /* Keyword.Constant */
.highlight .kd { color: #008000; font-weight: bold } /* Keyword.Declaration */
.highlight .kn { color: #008000; font-weight: bold } /* Keyword.Namespace */
.highlight .kp { color: #008000 } /* Keyword.Pseudo */
.highlight .kr { color: #008000; font-weight: bold } /* Keyword.Reserved */
.highlight .kt { color: #B00040 } /* Keyword.Type */
.highlight .m { color: #666666 } /* Literal.Number */
.highlight .s { color: #BA2121 } /* Literal.String */
.highlight .na { color: #7D9029 } /* Name.Attribute */
.highlight .nb { color: #008000 } /* Name.Builtin */
.highlight .nc { color: #0000FF; font-weight: bold } /* Name.Class */
.highlight .no { color: #880000 } /* Name.Constant */
.highlight .nd { color: #AA22FF } /* Name.Decorator */
.highlight .ni { color: #999999; font-weight: bold } /* Name.Entity */
.highlight .ne { color: #D2413A; font-weight: bold } /* Name.Exception */
.highlight .nf { color: #0000FF } /* Name.Function */
.highlight .nl { color: #A0A000 } /* Name.Label */
.highlight .nn { color: #0000FF; font-weight: bold } /* Name.Namespace */
.highlight .nt { color: #008000; font-weight: bold } /* Name.Tag */
.highlight .nv { color: #19177C } /* Name.Variable */
.highlight .ow { color: #AA22FF; font-weight: bold } /* Operator.Word */
.highlight .w { color: #bbbbbb } /* Text.Whitespace */
.highlight .mb { color: #666666 } /* Literal.Number.Bin */
.highlight .mf { color: #666666 } /* Literal.Number.Float */
.highlight .mh { color: #666666 } /* Literal.Number.Hex */
.highlight .mi { color: #666666 } /* Literal.Number.Integer */
.highlight .mo { color: #666666 } /* Literal.Number.Oct */
.highlight .sa { color: #BA2121 } /* Literal.String.Affix */
.highlight .sb { color: #BA2121 } /* Literal.String.Backtick */
.highlight .sc { color: #BA2121 } /* Literal.String.Char */
.highlight .dl { color: #BA2121 } /* Literal.String.Delimiter */
.highlight .sd { color: #BA2121; font-style: italic } /* Literal.String.Doc */
.highlight .s2 { color: #BA2121 } /* Literal.String.Double */
.highlight .se { color: #BB6622; font-weight: bold } /* Literal.String.Escape */
.highlight .sh { color: #BA2121 } /* Literal.String.Heredoc */
.highlight .si { color: #BB6688; font-weight: bold } /* Literal.String.Interpol */
.highlight .sx { color: #008000 } /* Literal.String.Other */
.highlight .sr { color: #BB6688 } /* Literal.String.Regex */
.highlight .s1 { color: #BA2121 } /* Literal.String.Single */
.highlight .ss { color: #19177C } /* Literal.String.Symbol */
.highlight .bp { color: #008000 } /* Name.Builtin.Pseudo */
.highlight .fm { color: #0000FF } /* Name.Function.Magic */
.highlight .vc { color: #19177C } /* Name.Variable.Class */
.highlight .vg { color: #19177C } /* Name.Variable.Global */
.highlight .vi { color: #19177C } /* Name.Variable.Instance */
.highlight .vm { color: #19177C } /* Name.Variable.Magic */
.highlight .il { color: #666666 } /* Literal.Number.Integer.Long */
    </style>
<style type="text/css">
    
/* Temporary definitions which will become obsolete with Notebook release 5.0 */
.ansi-black-fg { color: #3E424D; }
.ansi-black-bg { background-color: #3E424D; }
.ansi-black-intense-fg { color: #282C36; }
.ansi-black-intense-bg { background-color: #282C36; }
.ansi-red-fg { color: #E75C58; }
.ansi-red-bg { background-color: #E75C58; }
.ansi-red-intense-fg { color: #B22B31; }
.ansi-red-intense-bg { background-color: #B22B31; }
.ansi-green-fg { color: #00A250; }
.ansi-green-bg { background-color: #00A250; }
.ansi-green-intense-fg { color: #007427; }
.ansi-green-intense-bg { background-color: #007427; }
.ansi-yellow-fg { color: #DDB62B; }
.ansi-yellow-bg { background-color: #DDB62B; }
.ansi-yellow-intense-fg { color: #B27D12; }
.ansi-yellow-intense-bg { background-color: #B27D12; }
.ansi-blue-fg { color: #208FFB; }
.ansi-blue-bg { background-color: #208FFB; }
.ansi-blue-intense-fg { color: #0065CA; }
.ansi-blue-intense-bg { background-color: #0065CA; }
.ansi-magenta-fg { color: #D160C4; }
.ansi-magenta-bg { background-color: #D160C4; }
.ansi-magenta-intense-fg { color: #A03196; }
.ansi-magenta-intense-bg { background-color: #A03196; }
.ansi-cyan-fg { color: #60C6C8; }
.ansi-cyan-bg { background-color: #60C6C8; }
.ansi-cyan-intense-fg { color: #258F8F; }
.ansi-cyan-intense-bg { background-color: #258F8F; }
.ansi-white-fg { color: #C5C1B4; }
.ansi-white-bg { background-color: #C5C1B4; }
.ansi-white-intense-fg { color: #A1A6B2; }
.ansi-white-intense-bg { background-color: #A1A6B2; }

.ansi-bold { font-weight: bold; }

    </style>


<style type="text/css">
/* Overrides of notebook CSS for static HTML export */
body {
  overflow: visible;
  padding: 8px;
}

div#notebook {
  overflow: visible;
  border-top: none;
}

@media print {
  div.cell {
    display: block;
    page-break-inside: avoid;
  } 
  div.output_wrapper { 
    display: block;
    page-break-inside: avoid; 
  }
  div.output { 
    display: block;
    page-break-inside: avoid; 
  }
}
</style>

<!-- Custom stylesheet, it must be in the same directory as the html file -->
<link rel="stylesheet" href="custom.css">

<!-- Loading mathjax macro -->
<!-- Load mathjax -->
    <script src="https://cdn.mathjax.org/mathjax/latest/MathJax.js?config=TeX-AMS_HTML"></script>
    <!-- MathJax configuration -->
    <script type="text/x-mathjax-config">
    MathJax.Hub.Config({
        tex2jax: {
            inlineMath: [ ['$','$'], ["\\(","\\)"] ],
            displayMath: [ ['$$','$$'], ["\\[","\\]"] ],
            processEscapes: true,
            processEnvironments: true
        },
        // Center justify equations in code and markdown cells. Elsewhere
        // we use CSS to left justify single line equations in code cells.
        displayAlign: 'center',
        "HTML-CSS": {
            styles: {'.MathJax_Display': {"margin": 0}},
            linebreaks: { automatic: true }
        }
    });
    </script>
    <!-- End of mathjax configuration --></head>
<body>
  <div tabindex="-1" id="notebook" class="border-box-sizing">
    <div class="container" id="notebook-container">

<div class="cell border-box-sizing text_cell rendered">
<div class="prompt input_prompt">
</div>
<div class="inner_cell">
<div class="text_cell_render border-box-sizing rendered_html">
<h1 id="Data-Science-Task:">Data Science Task:<a class="anchor-link" href="#Data-Science-Task:">&#182;</a></h1><h2 id="Round-1---&#8220;Indicator_TB&#8221;">Round 1 - &#8220;Indicator_TB&#8221;<a class="anchor-link" href="#Round-1---&#8220;Indicator_TB&#8221;">&#182;</a></h2><h2 id="Load-the-data:">Load the data:<a class="anchor-link" href="#Load-the-data:">&#182;</a></h2>
</div>
</div>
</div>
<div class="cell border-box-sizing code_cell rendered">
<div class="input">
<div class="prompt input_prompt">In&nbsp;[2]:</div>
<div class="inner_cell">
    <div class="input_area">
<div class=" highlight hl-ipython3"><pre><span></span><span class="kn">import</span> <span class="nn">xlrd</span>
<span class="kn">import</span> <span class="nn">pandas</span> <span class="k">as</span> <span class="nn">pd</span>

<span class="n">path</span> <span class="o">=</span> <span class="s1">&#39;data science data set.xlsx&#39;</span>

<span class="n">workbook</span> <span class="o">=</span> <span class="n">xlrd</span><span class="o">.</span><span class="n">open_workbook</span><span class="p">(</span><span class="n">path</span><span class="p">)</span>
<span class="n">worksheet</span> <span class="o">=</span> <span class="n">workbook</span><span class="o">.</span><span class="n">sheet_by_index</span><span class="p">(</span><span class="mi">0</span><span class="p">)</span>
<span class="n">data</span> <span class="o">=</span> <span class="p">[]</span>
<span class="k">for</span> <span class="n">i</span><span class="p">,</span> <span class="n">row</span> <span class="ow">in</span> <span class="nb">enumerate</span><span class="p">(</span><span class="nb">range</span><span class="p">(</span><span class="n">worksheet</span><span class="o">.</span><span class="n">nrows</span><span class="p">)):</span>
    <span class="k">for</span> <span class="n">j</span><span class="p">,</span> <span class="n">col</span> <span class="ow">in</span> <span class="nb">enumerate</span><span class="p">(</span><span class="nb">range</span><span class="p">(</span><span class="n">worksheet</span><span class="o">.</span><span class="n">ncols</span><span class="p">)):</span>
        <span class="n">data</span><span class="o">.</span><span class="n">append</span><span class="p">(</span><span class="n">worksheet</span><span class="o">.</span><span class="n">cell_value</span><span class="p">(</span><span class="n">i</span><span class="p">,</span> <span class="n">j</span><span class="p">))</span>
        
<span class="c1"># Data Preprocessing</span>
<span class="c1"># Example Anomalous Case &#39;Djibouti,&quot;1,485&quot;,&quot;1,477&quot;,.......,&quot;1,046&quot;,&quot;1,093&quot;,&quot;1,104&quot;&#39;</span>
<span class="n">new_data</span> <span class="o">=</span> <span class="p">[]</span>
<span class="k">for</span> <span class="n">i</span> <span class="ow">in</span> <span class="n">data</span><span class="p">:</span>
    <span class="n">i</span> <span class="o">=</span> <span class="n">i</span><span class="o">.</span><span class="n">replace</span><span class="p">(</span><span class="s1">&#39;, &#39;</span><span class="p">,</span><span class="s1">&#39; &#39;</span><span class="p">)</span>
    <span class="n">new_s</span> <span class="o">=</span> <span class="s1">&#39;&#39;</span>
    <span class="n">is_open</span> <span class="o">=</span> <span class="kc">False</span>
    <span class="k">for</span> <span class="n">c</span> <span class="ow">in</span> <span class="n">i</span><span class="p">:</span>
        <span class="k">if</span> <span class="n">c</span> <span class="o">==</span> <span class="s1">&#39;,&#39;</span> <span class="ow">and</span> <span class="ow">not</span> <span class="n">is_open</span><span class="p">:</span>
            <span class="n">c</span> <span class="o">=</span> <span class="s1">&#39;</span><span class="se">\n</span><span class="s1">&#39;</span>
        <span class="k">if</span> <span class="n">c</span> <span class="o">==</span> <span class="s1">&#39;,&#39;</span> <span class="ow">and</span> <span class="n">is_open</span><span class="p">:</span>
            <span class="n">c</span><span class="o">=</span><span class="s1">&#39;&#39;</span>
        <span class="k">elif</span> <span class="n">c</span> <span class="ow">in</span> <span class="p">(</span><span class="s1">&#39;&quot;&#39;</span><span class="p">):</span>
            <span class="n">c</span> <span class="o">=</span> <span class="n">c</span><span class="o">.</span><span class="n">replace</span><span class="p">(</span><span class="s1">&#39;&quot;&#39;</span><span class="p">,</span><span class="s1">&#39;&#39;</span><span class="p">)</span>
            <span class="n">is_open</span> <span class="o">=</span> <span class="ow">not</span> <span class="n">is_open</span>
        <span class="n">new_s</span> <span class="o">+=</span> <span class="n">c</span>
    <span class="n">result</span> <span class="o">=</span> <span class="n">new_s</span><span class="o">.</span><span class="n">split</span><span class="p">(</span><span class="s1">&#39;</span><span class="se">\n</span><span class="s1">&#39;</span><span class="p">)</span>
    <span class="n">new_data</span><span class="o">.</span><span class="n">append</span><span class="p">(</span><span class="n">result</span><span class="p">)</span>
    
<span class="n">df</span> <span class="o">=</span> <span class="n">pd</span><span class="o">.</span><span class="n">DataFrame</span><span class="p">(</span><span class="n">new_data</span><span class="p">)</span>
<span class="n">df</span>
</pre></div>

</div>
</div>
</div>

<div class="output_wrapper">
<div class="output">


<div class="output_area">
<div class="prompt output_prompt">Out[2]:</div>


<div class="output_html rendered_html output_subarea output_execute_result">
<div>
<table border="1" class="dataframe">
  <thead>
    <tr style="text-align: right;">
      <th></th>
      <th>0</th>
      <th>1</th>
      <th>2</th>
      <th>3</th>
      <th>4</th>
      <th>5</th>
      <th>6</th>
      <th>7</th>
      <th>8</th>
      <th>9</th>
      <th>10</th>
      <th>11</th>
      <th>12</th>
      <th>13</th>
      <th>14</th>
      <th>15</th>
      <th>16</th>
      <th>17</th>
      <th>18</th>
    </tr>
  </thead>
  <tbody>
    <tr>
      <th>0</th>
      <td>TB prevalence all forms (per 100 000 populatio...</td>
      <td>1990</td>
      <td>1991</td>
      <td>1992</td>
      <td>1993</td>
      <td>1994</td>
      <td>1995</td>
      <td>1996</td>
      <td>1997</td>
      <td>1998</td>
      <td>1999</td>
      <td>2000</td>
      <td>2001</td>
      <td>2002</td>
      <td>2003</td>
      <td>2004</td>
      <td>2005</td>
      <td>2006</td>
      <td>2007</td>
    </tr>
    <tr>
      <th>1</th>
      <td>Afghanistan</td>
      <td>436</td>
      <td>429</td>
      <td>422</td>
      <td>415</td>
      <td>407</td>
      <td>397</td>
      <td>397</td>
      <td>387</td>
      <td>374</td>
      <td>373</td>
      <td>346</td>
      <td>326</td>
      <td>304</td>
      <td>308</td>
      <td>283</td>
      <td>267</td>
      <td>251</td>
      <td>238</td>
    </tr>
    <tr>
      <th>2</th>
      <td>Albania</td>
      <td>42</td>
      <td>40</td>
      <td>41</td>
      <td>42</td>
      <td>42</td>
      <td>43</td>
      <td>42</td>
      <td>44</td>
      <td>43</td>
      <td>42</td>
      <td>40</td>
      <td>34</td>
      <td>32</td>
      <td>32</td>
      <td>29</td>
      <td>29</td>
      <td>26</td>
      <td>22</td>
    </tr>
    <tr>
      <th>3</th>
      <td>Algeria</td>
      <td>45</td>
      <td>44</td>
      <td>44</td>
      <td>43</td>
      <td>43</td>
      <td>42</td>
      <td>43</td>
      <td>44</td>
      <td>45</td>
      <td>46</td>
      <td>48</td>
      <td>49</td>
      <td>50</td>
      <td>51</td>
      <td>52</td>
      <td>53</td>
      <td>55</td>
      <td>56</td>
    </tr>
    <tr>
      <th>4</th>
      <td>American Samoa</td>
      <td>42</td>
      <td>14</td>
      <td>4</td>
      <td>18</td>
      <td>17</td>
      <td>22</td>
      <td>0</td>
      <td>25</td>
      <td>12</td>
      <td>8</td>
      <td>8</td>
      <td>6</td>
      <td>5</td>
      <td>6</td>
      <td>9</td>
      <td>11</td>
      <td>9</td>
      <td>5</td>
    </tr>
    <tr>
      <th>5</th>
      <td>Andorra</td>
      <td>39</td>
      <td>37</td>
      <td>35</td>
      <td>33</td>
      <td>32</td>
      <td>30</td>
      <td>28</td>
      <td>23</td>
      <td>24</td>
      <td>22</td>
      <td>20</td>
      <td>20</td>
      <td>21</td>
      <td>18</td>
      <td>19</td>
      <td>18</td>
      <td>17</td>
      <td>19</td>
    </tr>
    <tr>
      <th>6</th>
      <td>Angola</td>
      <td>514</td>
      <td>514</td>
      <td>513</td>
      <td>512</td>
      <td>510</td>
      <td>508</td>
      <td>512</td>
      <td>363</td>
      <td>414</td>
      <td>384</td>
      <td>530</td>
      <td>335</td>
      <td>307</td>
      <td>281</td>
      <td>318</td>
      <td>331</td>
      <td>302</td>
      <td>294</td>
    </tr>
    <tr>
      <th>7</th>
      <td>Anguilla</td>
      <td>38</td>
      <td>38</td>
      <td>37</td>
      <td>37</td>
      <td>36</td>
      <td>35</td>
      <td>35</td>
      <td>36</td>
      <td>36</td>
      <td>36</td>
      <td>35</td>
      <td>35</td>
      <td>35</td>
      <td>35</td>
      <td>35</td>
      <td>34</td>
      <td>34</td>
      <td>34</td>
    </tr>
    <tr>
      <th>8</th>
      <td>Antigua and Barbuda</td>
      <td>16</td>
      <td>15</td>
      <td>15</td>
      <td>14</td>
      <td>13</td>
      <td>12</td>
      <td>12</td>
      <td>11</td>
      <td>11</td>
      <td>9</td>
      <td>8</td>
      <td>9</td>
      <td>7</td>
      <td>9</td>
      <td>8</td>
      <td>8</td>
      <td>9</td>
      <td>9</td>
    </tr>
    <tr>
      <th>9</th>
      <td>Argentina</td>
      <td>96</td>
      <td>91</td>
      <td>86</td>
      <td>82</td>
      <td>78</td>
      <td>74</td>
      <td>71</td>
      <td>67</td>
      <td>63</td>
      <td>58</td>
      <td>52</td>
      <td>51</td>
      <td>42</td>
      <td>41</td>
      <td>39</td>
      <td>39</td>
      <td>37</td>
      <td>35</td>
    </tr>
    <tr>
      <th>10</th>
      <td>Armenia</td>
      <td>52</td>
      <td>49</td>
      <td>51</td>
      <td>55</td>
      <td>60</td>
      <td>68</td>
      <td>74</td>
      <td>75</td>
      <td>74</td>
      <td>86</td>
      <td>94</td>
      <td>99</td>
      <td>97</td>
      <td>91</td>
      <td>85</td>
      <td>79</td>
      <td>79</td>
      <td>81</td>
    </tr>
    <tr>
      <th>11</th>
      <td>Australia</td>
      <td>7</td>
      <td>7</td>
      <td>7</td>
      <td>7</td>
      <td>7</td>
      <td>7</td>
      <td>7</td>
      <td>7</td>
      <td>6</td>
      <td>6</td>
      <td>6</td>
      <td>6</td>
      <td>6</td>
      <td>6</td>
      <td>6</td>
      <td>6</td>
      <td>6</td>
      <td>6</td>
    </tr>
    <tr>
      <th>12</th>
      <td>Austria</td>
      <td>18</td>
      <td>17</td>
      <td>16</td>
      <td>15</td>
      <td>15</td>
      <td>14</td>
      <td>13</td>
      <td>13</td>
      <td>12</td>
      <td>12</td>
      <td>11</td>
      <td>11</td>
      <td>11</td>
      <td>10</td>
      <td>10</td>
      <td>10</td>
      <td>10</td>
      <td>10</td>
    </tr>
    <tr>
      <th>13</th>
      <td>Azerbaijan</td>
      <td>58</td>
      <td>55</td>
      <td>57</td>
      <td>61</td>
      <td>67</td>
      <td>76</td>
      <td>85</td>
      <td>91</td>
      <td>100</td>
      <td>106</td>
      <td>113</td>
      <td>117</td>
      <td>99</td>
      <td>109</td>
      <td>90</td>
      <td>85</td>
      <td>86</td>
      <td>86</td>
    </tr>
    <tr>
      <th>14</th>
      <td>Bahamas</td>
      <td>54</td>
      <td>53</td>
      <td>52</td>
      <td>52</td>
      <td>53</td>
      <td>54</td>
      <td>54</td>
      <td>54</td>
      <td>55</td>
      <td>46</td>
      <td>45</td>
      <td>45</td>
      <td>51</td>
      <td>51</td>
      <td>50</td>
      <td>50</td>
      <td>50</td>
      <td>51</td>
    </tr>
    <tr>
      <th>15</th>
      <td>Bahrain</td>
      <td>120</td>
      <td>113</td>
      <td>108</td>
      <td>101</td>
      <td>97</td>
      <td>92</td>
      <td>89</td>
      <td>86</td>
      <td>83</td>
      <td>67</td>
      <td>57</td>
      <td>56</td>
      <td>55</td>
      <td>53</td>
      <td>48</td>
      <td>45</td>
      <td>45</td>
      <td>60</td>
    </tr>
    <tr>
      <th>16</th>
      <td>Bangladesh</td>
      <td>639</td>
      <td>623</td>
      <td>608</td>
      <td>594</td>
      <td>579</td>
      <td>576</td>
      <td>550</td>
      <td>535</td>
      <td>516</td>
      <td>492</td>
      <td>500</td>
      <td>491</td>
      <td>478</td>
      <td>458</td>
      <td>444</td>
      <td>416</td>
      <td>392</td>
      <td>387</td>
    </tr>
    <tr>
      <th>17</th>
      <td>Barbados</td>
      <td>8</td>
      <td>8</td>
      <td>7</td>
      <td>7</td>
      <td>6</td>
      <td>6</td>
      <td>6</td>
      <td>6</td>
      <td>5</td>
      <td>5</td>
      <td>5</td>
      <td>4</td>
      <td>4</td>
      <td>4</td>
      <td>4</td>
      <td>4</td>
      <td>3</td>
      <td>3</td>
    </tr>
    <tr>
      <th>18</th>
      <td>Belarus</td>
      <td>62</td>
      <td>54</td>
      <td>59</td>
      <td>62</td>
      <td>75</td>
      <td>82</td>
      <td>91</td>
      <td>98</td>
      <td>109</td>
      <td>113</td>
      <td>110</td>
      <td>100</td>
      <td>89</td>
      <td>68</td>
      <td>68</td>
      <td>68</td>
      <td>69</td>
      <td>69</td>
    </tr>
    <tr>
      <th>19</th>
      <td>Belgium</td>
      <td>16</td>
      <td>15</td>
      <td>15</td>
      <td>15</td>
      <td>15</td>
      <td>14</td>
      <td>13</td>
      <td>13</td>
      <td>12</td>
      <td>12</td>
      <td>12</td>
      <td>13</td>
      <td>12</td>
      <td>11</td>
      <td>11</td>
      <td>11</td>
      <td>10</td>
      <td>9</td>
    </tr>
    <tr>
      <th>20</th>
      <td>Belize</td>
      <td>65</td>
      <td>64</td>
      <td>62</td>
      <td>59</td>
      <td>57</td>
      <td>55</td>
      <td>37</td>
      <td>41</td>
      <td>53</td>
      <td>53</td>
      <td>39</td>
      <td>36</td>
      <td>36</td>
      <td>40</td>
      <td>42</td>
      <td>38</td>
      <td>41</td>
      <td>46</td>
    </tr>
    <tr>
      <th>21</th>
      <td>Benin</td>
      <td>140</td>
      <td>138</td>
      <td>135</td>
      <td>132</td>
      <td>129</td>
      <td>125</td>
      <td>127</td>
      <td>129</td>
      <td>130</td>
      <td>128</td>
      <td>128</td>
      <td>129</td>
      <td>137</td>
      <td>139</td>
      <td>134</td>
      <td>135</td>
      <td>134</td>
      <td>135</td>
    </tr>
    <tr>
      <th>22</th>
      <td>Bermuda</td>
      <td>10</td>
      <td>10</td>
      <td>9</td>
      <td>9</td>
      <td>8</td>
      <td>8</td>
      <td>8</td>
      <td>8</td>
      <td>7</td>
      <td>7</td>
      <td>7</td>
      <td>6</td>
      <td>6</td>
      <td>6</td>
      <td>6</td>
      <td>6</td>
      <td>6</td>
      <td>6</td>
    </tr>
    <tr>
      <th>23</th>
      <td>Bhutan</td>
      <td>924</td>
      <td>862</td>
      <td>804</td>
      <td>750</td>
      <td>699</td>
      <td>651</td>
      <td>620</td>
      <td>597</td>
      <td>551</td>
      <td>538</td>
      <td>515</td>
      <td>512</td>
      <td>472</td>
      <td>460</td>
      <td>443</td>
      <td>412</td>
      <td>406</td>
      <td>363</td>
    </tr>
    <tr>
      <th>24</th>
      <td>Bolivia</td>
      <td>377</td>
      <td>362</td>
      <td>347</td>
      <td>333</td>
      <td>320</td>
      <td>306</td>
      <td>271</td>
      <td>264</td>
      <td>254</td>
      <td>248</td>
      <td>238</td>
      <td>229</td>
      <td>223</td>
      <td>218</td>
      <td>211</td>
      <td>205</td>
      <td>202</td>
      <td>198</td>
    </tr>
    <tr>
      <th>25</th>
      <td>Bosnia and Herzegovina</td>
      <td>160</td>
      <td>156</td>
      <td>154</td>
      <td>150</td>
      <td>143</td>
      <td>134</td>
      <td>131</td>
      <td>125</td>
      <td>96</td>
      <td>80</td>
      <td>70</td>
      <td>63</td>
      <td>66</td>
      <td>63</td>
      <td>55</td>
      <td>58</td>
      <td>58</td>
      <td>55</td>
    </tr>
    <tr>
      <th>26</th>
      <td>Botswana</td>
      <td>344</td>
      <td>355</td>
      <td>351</td>
      <td>349</td>
      <td>347</td>
      <td>349</td>
      <td>336</td>
      <td>349</td>
      <td>371</td>
      <td>413</td>
      <td>445</td>
      <td>497</td>
      <td>535</td>
      <td>586</td>
      <td>598</td>
      <td>599</td>
      <td>621</td>
      <td>622</td>
    </tr>
    <tr>
      <th>27</th>
      <td>Brazil</td>
      <td>124</td>
      <td>119</td>
      <td>114</td>
      <td>109</td>
      <td>104</td>
      <td>100</td>
      <td>97</td>
      <td>93</td>
      <td>88</td>
      <td>86</td>
      <td>83</td>
      <td>80</td>
      <td>77</td>
      <td>72</td>
      <td>63</td>
      <td>60</td>
      <td>56</td>
      <td>60</td>
    </tr>
    <tr>
      <th>28</th>
      <td>British Virgin Islands</td>
      <td>32</td>
      <td>30</td>
      <td>28</td>
      <td>26</td>
      <td>25</td>
      <td>23</td>
      <td>22</td>
      <td>21</td>
      <td>20</td>
      <td>19</td>
      <td>19</td>
      <td>18</td>
      <td>18</td>
      <td>17</td>
      <td>16</td>
      <td>17</td>
      <td>16</td>
      <td>16</td>
    </tr>
    <tr>
      <th>29</th>
      <td>Brunei Darussalam</td>
      <td>91</td>
      <td>91</td>
      <td>91</td>
      <td>91</td>
      <td>91</td>
      <td>91</td>
      <td>91</td>
      <td>88</td>
      <td>88</td>
      <td>93</td>
      <td>108</td>
      <td>85</td>
      <td>78</td>
      <td>73</td>
      <td>63</td>
      <td>55</td>
      <td>59</td>
      <td>65</td>
    </tr>
    <tr>
      <th>...</th>
      <td>...</td>
      <td>...</td>
      <td>...</td>
      <td>...</td>
      <td>...</td>
      <td>...</td>
      <td>...</td>
      <td>...</td>
      <td>...</td>
      <td>...</td>
      <td>...</td>
      <td>...</td>
      <td>...</td>
      <td>...</td>
      <td>...</td>
      <td>...</td>
      <td>...</td>
      <td>...</td>
      <td>...</td>
    </tr>
    <tr>
      <th>178</th>
      <td>Tajikistan</td>
      <td>193</td>
      <td>162</td>
      <td>112</td>
      <td>79</td>
      <td>85</td>
      <td>106</td>
      <td>134</td>
      <td>141</td>
      <td>159</td>
      <td>169</td>
      <td>191</td>
      <td>221</td>
      <td>248</td>
      <td>256</td>
      <td>277</td>
      <td>282</td>
      <td>301</td>
      <td>322</td>
    </tr>
    <tr>
      <th>179</th>
      <td>Thailand</td>
      <td>336</td>
      <td>319</td>
      <td>307</td>
      <td>297</td>
      <td>291</td>
      <td>285</td>
      <td>285</td>
      <td>279</td>
      <td>256</td>
      <td>231</td>
      <td>223</td>
      <td>194</td>
      <td>197</td>
      <td>189</td>
      <td>188</td>
      <td>184</td>
      <td>189</td>
      <td>192</td>
    </tr>
    <tr>
      <th>180</th>
      <td>Macedonia FYR</td>
      <td>92</td>
      <td>90</td>
      <td>89</td>
      <td>86</td>
      <td>83</td>
      <td>77</td>
      <td>74</td>
      <td>73</td>
      <td>72</td>
      <td>65</td>
      <td>56</td>
      <td>39</td>
      <td>40</td>
      <td>37</td>
      <td>34</td>
      <td>34</td>
      <td>34</td>
      <td>33</td>
    </tr>
    <tr>
      <th>181</th>
      <td>Timor-Leste</td>
      <td>706</td>
      <td>694</td>
      <td>681</td>
      <td>669</td>
      <td>656</td>
      <td>644</td>
      <td>644</td>
      <td>644</td>
      <td>644</td>
      <td>644</td>
      <td>644</td>
      <td>644</td>
      <td>345</td>
      <td>359</td>
      <td>367</td>
      <td>370</td>
      <td>385</td>
      <td>378</td>
    </tr>
    <tr>
      <th>182</th>
      <td>Togo</td>
      <td>702</td>
      <td>687</td>
      <td>668</td>
      <td>647</td>
      <td>628</td>
      <td>614</td>
      <td>613</td>
      <td>658</td>
      <td>637</td>
      <td>647</td>
      <td>656</td>
      <td>669</td>
      <td>701</td>
      <td>693</td>
      <td>702</td>
      <td>713</td>
      <td>726</td>
      <td>750</td>
    </tr>
    <tr>
      <th>183</th>
      <td>Tokelau</td>
      <td>139</td>
      <td>140</td>
      <td>143</td>
      <td>112</td>
      <td>0</td>
      <td>301</td>
      <td>0</td>
      <td>112</td>
      <td>112</td>
      <td>0</td>
      <td>0</td>
      <td>0</td>
      <td>112</td>
      <td>0</td>
      <td>112</td>
      <td>0</td>
      <td>0</td>
      <td>0</td>
    </tr>
    <tr>
      <th>184</th>
      <td>Tonga</td>
      <td>45</td>
      <td>44</td>
      <td>43</td>
      <td>43</td>
      <td>42</td>
      <td>41</td>
      <td>38</td>
      <td>38</td>
      <td>31</td>
      <td>34</td>
      <td>34</td>
      <td>42</td>
      <td>35</td>
      <td>36</td>
      <td>39</td>
      <td>32</td>
      <td>34</td>
      <td>28</td>
    </tr>
    <tr>
      <th>185</th>
      <td>Trinidad and Tobago</td>
      <td>17</td>
      <td>17</td>
      <td>17</td>
      <td>16</td>
      <td>16</td>
      <td>16</td>
      <td>16</td>
      <td>16</td>
      <td>15</td>
      <td>15</td>
      <td>15</td>
      <td>16</td>
      <td>15</td>
      <td>15</td>
      <td>15</td>
      <td>15</td>
      <td>15</td>
      <td>15</td>
    </tr>
    <tr>
      <th>186</th>
      <td>Tunisia</td>
      <td>49</td>
      <td>46</td>
      <td>49</td>
      <td>51</td>
      <td>51</td>
      <td>49</td>
      <td>48</td>
      <td>46</td>
      <td>44</td>
      <td>31</td>
      <td>30</td>
      <td>28</td>
      <td>27</td>
      <td>26</td>
      <td>27</td>
      <td>27</td>
      <td>28</td>
      <td>28</td>
    </tr>
    <tr>
      <th>187</th>
      <td>Turkey</td>
      <td>83</td>
      <td>79</td>
      <td>77</td>
      <td>73</td>
      <td>68</td>
      <td>62</td>
      <td>62</td>
      <td>63</td>
      <td>64</td>
      <td>57</td>
      <td>49</td>
      <td>45</td>
      <td>44</td>
      <td>43</td>
      <td>44</td>
      <td>44</td>
      <td>32</td>
      <td>34</td>
    </tr>
    <tr>
      <th>188</th>
      <td>Turkmenistan</td>
      <td>105</td>
      <td>99</td>
      <td>101</td>
      <td>97</td>
      <td>92</td>
      <td>80</td>
      <td>92</td>
      <td>114</td>
      <td>137</td>
      <td>142</td>
      <td>130</td>
      <td>115</td>
      <td>110</td>
      <td>103</td>
      <td>98</td>
      <td>91</td>
      <td>85</td>
      <td>75</td>
    </tr>
    <tr>
      <th>189</th>
      <td>Turks and Caicos Islands</td>
      <td>42</td>
      <td>40</td>
      <td>37</td>
      <td>35</td>
      <td>33</td>
      <td>31</td>
      <td>30</td>
      <td>29</td>
      <td>28</td>
      <td>17</td>
      <td>16</td>
      <td>23</td>
      <td>23</td>
      <td>22</td>
      <td>22</td>
      <td>22</td>
      <td>18</td>
      <td>17</td>
    </tr>
    <tr>
      <th>190</th>
      <td>Tuvalu</td>
      <td>593</td>
      <td>573</td>
      <td>554</td>
      <td>535</td>
      <td>518</td>
      <td>500</td>
      <td>484</td>
      <td>467</td>
      <td>452</td>
      <td>437</td>
      <td>422</td>
      <td>408</td>
      <td>394</td>
      <td>381</td>
      <td>368</td>
      <td>245</td>
      <td>261</td>
      <td>203</td>
    </tr>
    <tr>
      <th>191</th>
      <td>Uganda</td>
      <td>206</td>
      <td>313</td>
      <td>342</td>
      <td>377</td>
      <td>394</td>
      <td>418</td>
      <td>419</td>
      <td>342</td>
      <td>357</td>
      <td>359</td>
      <td>391</td>
      <td>411</td>
      <td>447</td>
      <td>476</td>
      <td>472</td>
      <td>469</td>
      <td>450</td>
      <td>426</td>
    </tr>
    <tr>
      <th>192</th>
      <td>Ukraine</td>
      <td>67</td>
      <td>64</td>
      <td>67</td>
      <td>72</td>
      <td>75</td>
      <td>78</td>
      <td>87</td>
      <td>93</td>
      <td>104</td>
      <td>109</td>
      <td>120</td>
      <td>128</td>
      <td>133</td>
      <td>135</td>
      <td>132</td>
      <td>113</td>
      <td>99</td>
      <td>102</td>
    </tr>
    <tr>
      <th>193</th>
      <td>United Arab Emirates</td>
      <td>47</td>
      <td>44</td>
      <td>42</td>
      <td>39</td>
      <td>38</td>
      <td>36</td>
      <td>34</td>
      <td>33</td>
      <td>31</td>
      <td>30</td>
      <td>27</td>
      <td>27</td>
      <td>27</td>
      <td>25</td>
      <td>25</td>
      <td>24</td>
      <td>24</td>
      <td>24</td>
    </tr>
    <tr>
      <th>194</th>
      <td>United Kingdom</td>
      <td>9</td>
      <td>9</td>
      <td>10</td>
      <td>10</td>
      <td>9</td>
      <td>9</td>
      <td>9</td>
      <td>9</td>
      <td>9</td>
      <td>9</td>
      <td>9</td>
      <td>9</td>
      <td>9</td>
      <td>10</td>
      <td>10</td>
      <td>11</td>
      <td>11</td>
      <td>12</td>
    </tr>
    <tr>
      <th>195</th>
      <td>Tanzania</td>
      <td>215</td>
      <td>228</td>
      <td>240</td>
      <td>252</td>
      <td>269</td>
      <td>283</td>
      <td>301</td>
      <td>324</td>
      <td>333</td>
      <td>347</td>
      <td>364</td>
      <td>367</td>
      <td>383</td>
      <td>380</td>
      <td>373</td>
      <td>364</td>
      <td>353</td>
      <td>337</td>
    </tr>
    <tr>
      <th>196</th>
      <td>Virgin Islands (U.S.)</td>
      <td>30</td>
      <td>28</td>
      <td>27</td>
      <td>25</td>
      <td>24</td>
      <td>23</td>
      <td>19</td>
      <td>18</td>
      <td>17</td>
      <td>19</td>
      <td>19</td>
      <td>18</td>
      <td>18</td>
      <td>17</td>
      <td>17</td>
      <td>16</td>
      <td>16</td>
      <td>16</td>
    </tr>
    <tr>
      <th>197</th>
      <td>United States of America</td>
      <td>7</td>
      <td>7</td>
      <td>7</td>
      <td>7</td>
      <td>6</td>
      <td>6</td>
      <td>6</td>
      <td>5</td>
      <td>5</td>
      <td>4</td>
      <td>4</td>
      <td>4</td>
      <td>4</td>
      <td>4</td>
      <td>3</td>
      <td>3</td>
      <td>3</td>
      <td>3</td>
    </tr>
    <tr>
      <th>198</th>
      <td>Uruguay</td>
      <td>35</td>
      <td>34</td>
      <td>33</td>
      <td>32</td>
      <td>31</td>
      <td>30</td>
      <td>28</td>
      <td>27</td>
      <td>28</td>
      <td>28</td>
      <td>27</td>
      <td>25</td>
      <td>27</td>
      <td>25</td>
      <td>23</td>
      <td>24</td>
      <td>25</td>
      <td>23</td>
    </tr>
    <tr>
      <th>199</th>
      <td>Uzbekistan</td>
      <td>114</td>
      <td>105</td>
      <td>102</td>
      <td>118</td>
      <td>116</td>
      <td>119</td>
      <td>111</td>
      <td>122</td>
      <td>129</td>
      <td>134</td>
      <td>139</td>
      <td>148</td>
      <td>144</td>
      <td>152</td>
      <td>149</td>
      <td>144</td>
      <td>134</td>
      <td>140</td>
    </tr>
    <tr>
      <th>200</th>
      <td>Vanuatu</td>
      <td>278</td>
      <td>268</td>
      <td>259</td>
      <td>250</td>
      <td>242</td>
      <td>234</td>
      <td>226</td>
      <td>218</td>
      <td>211</td>
      <td>159</td>
      <td>143</td>
      <td>128</td>
      <td>149</td>
      <td>128</td>
      <td>118</td>
      <td>131</td>
      <td>104</td>
      <td>102</td>
    </tr>
    <tr>
      <th>201</th>
      <td>Venezuela</td>
      <td>46</td>
      <td>45</td>
      <td>44</td>
      <td>43</td>
      <td>42</td>
      <td>42</td>
      <td>41</td>
      <td>41</td>
      <td>40</td>
      <td>39</td>
      <td>39</td>
      <td>41</td>
      <td>41</td>
      <td>39</td>
      <td>38</td>
      <td>38</td>
      <td>38</td>
      <td>39</td>
    </tr>
    <tr>
      <th>202</th>
      <td>Viet Nam</td>
      <td>365</td>
      <td>361</td>
      <td>358</td>
      <td>354</td>
      <td>350</td>
      <td>346</td>
      <td>312</td>
      <td>273</td>
      <td>261</td>
      <td>253</td>
      <td>248</td>
      <td>243</td>
      <td>235</td>
      <td>234</td>
      <td>226</td>
      <td>227</td>
      <td>222</td>
      <td>220</td>
    </tr>
    <tr>
      <th>203</th>
      <td>Wallis et Futuna</td>
      <td>126</td>
      <td>352</td>
      <td>64</td>
      <td>174</td>
      <td>172</td>
      <td>93</td>
      <td>123</td>
      <td>213</td>
      <td>107</td>
      <td>105</td>
      <td>103</td>
      <td>13</td>
      <td>275</td>
      <td>147</td>
      <td>63</td>
      <td>57</td>
      <td>60</td>
      <td>25</td>
    </tr>
    <tr>
      <th>204</th>
      <td>West Bank and Gaza</td>
      <td>55</td>
      <td>54</td>
      <td>54</td>
      <td>52</td>
      <td>52</td>
      <td>50</td>
      <td>49</td>
      <td>46</td>
      <td>44</td>
      <td>42</td>
      <td>40</td>
      <td>39</td>
      <td>37</td>
      <td>36</td>
      <td>35</td>
      <td>33</td>
      <td>32</td>
      <td>31</td>
    </tr>
    <tr>
      <th>205</th>
      <td>Yemen</td>
      <td>265</td>
      <td>261</td>
      <td>263</td>
      <td>253</td>
      <td>250</td>
      <td>244</td>
      <td>233</td>
      <td>207</td>
      <td>194</td>
      <td>175</td>
      <td>164</td>
      <td>154</td>
      <td>149</td>
      <td>146</td>
      <td>138</td>
      <td>137</td>
      <td>135</td>
      <td>130</td>
    </tr>
    <tr>
      <th>206</th>
      <td>Zambia</td>
      <td>436</td>
      <td>456</td>
      <td>494</td>
      <td>526</td>
      <td>556</td>
      <td>585</td>
      <td>602</td>
      <td>626</td>
      <td>634</td>
      <td>657</td>
      <td>658</td>
      <td>680</td>
      <td>517</td>
      <td>478</td>
      <td>468</td>
      <td>453</td>
      <td>422</td>
      <td>387</td>
    </tr>
    <tr>
      <th>207</th>
      <td>Zimbabwe</td>
      <td>409</td>
      <td>417</td>
      <td>415</td>
      <td>419</td>
      <td>426</td>
      <td>439</td>
      <td>453</td>
      <td>481</td>
      <td>392</td>
      <td>430</td>
      <td>479</td>
      <td>523</td>
      <td>571</td>
      <td>632</td>
      <td>652</td>
      <td>680</td>
      <td>699</td>
      <td>714</td>
    </tr>
  </tbody>
</table>
<p>208 rows × 19 columns</p>
</div>
</div>

</div>

</div>
</div>

</div>
<div class="cell border-box-sizing text_cell rendered">
<div class="prompt input_prompt">
</div>
<div class="inner_cell">
<div class="text_cell_render border-box-sizing rendered_html">
<h2 id="1.-Transpose-the-Dataset">1. Transpose the Dataset<a class="anchor-link" href="#1.-Transpose-the-Dataset">&#182;</a></h2>
</div>
</div>
</div>
<div class="cell border-box-sizing code_cell rendered">
<div class="input">
<div class="prompt input_prompt">In&nbsp;[4]:</div>
<div class="inner_cell">
    <div class="input_area">
<div class=" highlight hl-ipython3"><pre><span></span><span class="n">df1</span> <span class="o">=</span> <span class="n">pd</span><span class="o">.</span><span class="n">DataFrame</span><span class="p">(</span><span class="n">df</span><span class="o">.</span><span class="n">values</span><span class="o">.</span><span class="n">T</span><span class="p">)</span>
<span class="n">df1</span><span class="o">.</span><span class="n">columns</span> <span class="o">=</span> <span class="n">df1</span><span class="o">.</span><span class="n">iloc</span><span class="p">[</span><span class="mi">0</span><span class="p">]</span>
<span class="n">df1</span> <span class="o">=</span> <span class="n">df1</span><span class="o">.</span><span class="n">drop</span><span class="p">(</span><span class="n">df1</span><span class="o">.</span><span class="n">index</span><span class="p">[</span><span class="mi">0</span><span class="p">])</span>
<span class="n">df1</span>
</pre></div>

</div>
</div>
</div>

<div class="output_wrapper">
<div class="output">


<div class="output_area">
<div class="prompt output_prompt">Out[4]:</div>


<div class="output_html rendered_html output_subarea output_execute_result">
<div>
<table border="1" class="dataframe">
  <thead>
    <tr style="text-align: right;">
      <th></th>
      <th>TB prevalence all forms (per 100 000 population per year)</th>
      <th>Afghanistan</th>
      <th>Albania</th>
      <th>Algeria</th>
      <th>American Samoa</th>
      <th>Andorra</th>
      <th>Angola</th>
      <th>Anguilla</th>
      <th>Antigua and Barbuda</th>
      <th>Argentina</th>
      <th>...</th>
      <th>Uruguay</th>
      <th>Uzbekistan</th>
      <th>Vanuatu</th>
      <th>Venezuela</th>
      <th>Viet Nam</th>
      <th>Wallis et Futuna</th>
      <th>West Bank and Gaza</th>
      <th>Yemen</th>
      <th>Zambia</th>
      <th>Zimbabwe</th>
    </tr>
  </thead>
  <tbody>
    <tr>
      <th>1</th>
      <td>1990</td>
      <td>436</td>
      <td>42</td>
      <td>45</td>
      <td>42</td>
      <td>39</td>
      <td>514</td>
      <td>38</td>
      <td>16</td>
      <td>96</td>
      <td>...</td>
      <td>35</td>
      <td>114</td>
      <td>278</td>
      <td>46</td>
      <td>365</td>
      <td>126</td>
      <td>55</td>
      <td>265</td>
      <td>436</td>
      <td>409</td>
    </tr>
    <tr>
      <th>2</th>
      <td>1991</td>
      <td>429</td>
      <td>40</td>
      <td>44</td>
      <td>14</td>
      <td>37</td>
      <td>514</td>
      <td>38</td>
      <td>15</td>
      <td>91</td>
      <td>...</td>
      <td>34</td>
      <td>105</td>
      <td>268</td>
      <td>45</td>
      <td>361</td>
      <td>352</td>
      <td>54</td>
      <td>261</td>
      <td>456</td>
      <td>417</td>
    </tr>
    <tr>
      <th>3</th>
      <td>1992</td>
      <td>422</td>
      <td>41</td>
      <td>44</td>
      <td>4</td>
      <td>35</td>
      <td>513</td>
      <td>37</td>
      <td>15</td>
      <td>86</td>
      <td>...</td>
      <td>33</td>
      <td>102</td>
      <td>259</td>
      <td>44</td>
      <td>358</td>
      <td>64</td>
      <td>54</td>
      <td>263</td>
      <td>494</td>
      <td>415</td>
    </tr>
    <tr>
      <th>4</th>
      <td>1993</td>
      <td>415</td>
      <td>42</td>
      <td>43</td>
      <td>18</td>
      <td>33</td>
      <td>512</td>
      <td>37</td>
      <td>14</td>
      <td>82</td>
      <td>...</td>
      <td>32</td>
      <td>118</td>
      <td>250</td>
      <td>43</td>
      <td>354</td>
      <td>174</td>
      <td>52</td>
      <td>253</td>
      <td>526</td>
      <td>419</td>
    </tr>
    <tr>
      <th>5</th>
      <td>1994</td>
      <td>407</td>
      <td>42</td>
      <td>43</td>
      <td>17</td>
      <td>32</td>
      <td>510</td>
      <td>36</td>
      <td>13</td>
      <td>78</td>
      <td>...</td>
      <td>31</td>
      <td>116</td>
      <td>242</td>
      <td>42</td>
      <td>350</td>
      <td>172</td>
      <td>52</td>
      <td>250</td>
      <td>556</td>
      <td>426</td>
    </tr>
    <tr>
      <th>6</th>
      <td>1995</td>
      <td>397</td>
      <td>43</td>
      <td>42</td>
      <td>22</td>
      <td>30</td>
      <td>508</td>
      <td>35</td>
      <td>12</td>
      <td>74</td>
      <td>...</td>
      <td>30</td>
      <td>119</td>
      <td>234</td>
      <td>42</td>
      <td>346</td>
      <td>93</td>
      <td>50</td>
      <td>244</td>
      <td>585</td>
      <td>439</td>
    </tr>
    <tr>
      <th>7</th>
      <td>1996</td>
      <td>397</td>
      <td>42</td>
      <td>43</td>
      <td>0</td>
      <td>28</td>
      <td>512</td>
      <td>35</td>
      <td>12</td>
      <td>71</td>
      <td>...</td>
      <td>28</td>
      <td>111</td>
      <td>226</td>
      <td>41</td>
      <td>312</td>
      <td>123</td>
      <td>49</td>
      <td>233</td>
      <td>602</td>
      <td>453</td>
    </tr>
    <tr>
      <th>8</th>
      <td>1997</td>
      <td>387</td>
      <td>44</td>
      <td>44</td>
      <td>25</td>
      <td>23</td>
      <td>363</td>
      <td>36</td>
      <td>11</td>
      <td>67</td>
      <td>...</td>
      <td>27</td>
      <td>122</td>
      <td>218</td>
      <td>41</td>
      <td>273</td>
      <td>213</td>
      <td>46</td>
      <td>207</td>
      <td>626</td>
      <td>481</td>
    </tr>
    <tr>
      <th>9</th>
      <td>1998</td>
      <td>374</td>
      <td>43</td>
      <td>45</td>
      <td>12</td>
      <td>24</td>
      <td>414</td>
      <td>36</td>
      <td>11</td>
      <td>63</td>
      <td>...</td>
      <td>28</td>
      <td>129</td>
      <td>211</td>
      <td>40</td>
      <td>261</td>
      <td>107</td>
      <td>44</td>
      <td>194</td>
      <td>634</td>
      <td>392</td>
    </tr>
    <tr>
      <th>10</th>
      <td>1999</td>
      <td>373</td>
      <td>42</td>
      <td>46</td>
      <td>8</td>
      <td>22</td>
      <td>384</td>
      <td>36</td>
      <td>9</td>
      <td>58</td>
      <td>...</td>
      <td>28</td>
      <td>134</td>
      <td>159</td>
      <td>39</td>
      <td>253</td>
      <td>105</td>
      <td>42</td>
      <td>175</td>
      <td>657</td>
      <td>430</td>
    </tr>
    <tr>
      <th>11</th>
      <td>2000</td>
      <td>346</td>
      <td>40</td>
      <td>48</td>
      <td>8</td>
      <td>20</td>
      <td>530</td>
      <td>35</td>
      <td>8</td>
      <td>52</td>
      <td>...</td>
      <td>27</td>
      <td>139</td>
      <td>143</td>
      <td>39</td>
      <td>248</td>
      <td>103</td>
      <td>40</td>
      <td>164</td>
      <td>658</td>
      <td>479</td>
    </tr>
    <tr>
      <th>12</th>
      <td>2001</td>
      <td>326</td>
      <td>34</td>
      <td>49</td>
      <td>6</td>
      <td>20</td>
      <td>335</td>
      <td>35</td>
      <td>9</td>
      <td>51</td>
      <td>...</td>
      <td>25</td>
      <td>148</td>
      <td>128</td>
      <td>41</td>
      <td>243</td>
      <td>13</td>
      <td>39</td>
      <td>154</td>
      <td>680</td>
      <td>523</td>
    </tr>
    <tr>
      <th>13</th>
      <td>2002</td>
      <td>304</td>
      <td>32</td>
      <td>50</td>
      <td>5</td>
      <td>21</td>
      <td>307</td>
      <td>35</td>
      <td>7</td>
      <td>42</td>
      <td>...</td>
      <td>27</td>
      <td>144</td>
      <td>149</td>
      <td>41</td>
      <td>235</td>
      <td>275</td>
      <td>37</td>
      <td>149</td>
      <td>517</td>
      <td>571</td>
    </tr>
    <tr>
      <th>14</th>
      <td>2003</td>
      <td>308</td>
      <td>32</td>
      <td>51</td>
      <td>6</td>
      <td>18</td>
      <td>281</td>
      <td>35</td>
      <td>9</td>
      <td>41</td>
      <td>...</td>
      <td>25</td>
      <td>152</td>
      <td>128</td>
      <td>39</td>
      <td>234</td>
      <td>147</td>
      <td>36</td>
      <td>146</td>
      <td>478</td>
      <td>632</td>
    </tr>
    <tr>
      <th>15</th>
      <td>2004</td>
      <td>283</td>
      <td>29</td>
      <td>52</td>
      <td>9</td>
      <td>19</td>
      <td>318</td>
      <td>35</td>
      <td>8</td>
      <td>39</td>
      <td>...</td>
      <td>23</td>
      <td>149</td>
      <td>118</td>
      <td>38</td>
      <td>226</td>
      <td>63</td>
      <td>35</td>
      <td>138</td>
      <td>468</td>
      <td>652</td>
    </tr>
    <tr>
      <th>16</th>
      <td>2005</td>
      <td>267</td>
      <td>29</td>
      <td>53</td>
      <td>11</td>
      <td>18</td>
      <td>331</td>
      <td>34</td>
      <td>8</td>
      <td>39</td>
      <td>...</td>
      <td>24</td>
      <td>144</td>
      <td>131</td>
      <td>38</td>
      <td>227</td>
      <td>57</td>
      <td>33</td>
      <td>137</td>
      <td>453</td>
      <td>680</td>
    </tr>
    <tr>
      <th>17</th>
      <td>2006</td>
      <td>251</td>
      <td>26</td>
      <td>55</td>
      <td>9</td>
      <td>17</td>
      <td>302</td>
      <td>34</td>
      <td>9</td>
      <td>37</td>
      <td>...</td>
      <td>25</td>
      <td>134</td>
      <td>104</td>
      <td>38</td>
      <td>222</td>
      <td>60</td>
      <td>32</td>
      <td>135</td>
      <td>422</td>
      <td>699</td>
    </tr>
    <tr>
      <th>18</th>
      <td>2007</td>
      <td>238</td>
      <td>22</td>
      <td>56</td>
      <td>5</td>
      <td>19</td>
      <td>294</td>
      <td>34</td>
      <td>9</td>
      <td>35</td>
      <td>...</td>
      <td>23</td>
      <td>140</td>
      <td>102</td>
      <td>39</td>
      <td>220</td>
      <td>25</td>
      <td>31</td>
      <td>130</td>
      <td>387</td>
      <td>714</td>
    </tr>
  </tbody>
</table>
<p>18 rows × 208 columns</p>
</div>
</div>

</div>

</div>
</div>

</div>
<div class="cell border-box-sizing text_cell rendered">
<div class="prompt input_prompt">
</div>
<div class="inner_cell">
<div class="text_cell_render border-box-sizing rendered_html">
<h3 id="2.-Read-the-column-names:">2. Read the column names:<a class="anchor-link" href="#2.-Read-the-column-names:">&#182;</a></h3>
</div>
</div>
</div>
<div class="cell border-box-sizing code_cell rendered">
<div class="input">
<div class="prompt input_prompt">In&nbsp;[5]:</div>
<div class="inner_cell">
    <div class="input_area">
<div class=" highlight hl-ipython3"><pre><span></span><span class="n">col</span> <span class="o">=</span> <span class="n">df1</span><span class="o">.</span><span class="n">columns</span><span class="o">.</span><span class="n">tolist</span><span class="p">()[</span><span class="mi">1</span><span class="p">:]</span>
<span class="nb">print</span><span class="p">(</span><span class="n">col</span><span class="p">)</span>
</pre></div>

</div>
</div>
</div>

<div class="output_wrapper">
<div class="output">


<div class="output_area">
<div class="prompt"></div>

<div class="output_subarea output_stream output_stdout output_text">
<pre>[&#39;Afghanistan&#39;, &#39;Albania&#39;, &#39;Algeria&#39;, &#39;American Samoa&#39;, &#39;Andorra&#39;, &#39;Angola&#39;, &#39;Anguilla&#39;, &#39;Antigua and Barbuda&#39;, &#39;Argentina&#39;, &#39;Armenia&#39;, &#39;Australia&#39;, &#39;Austria&#39;, &#39;Azerbaijan&#39;, &#39;Bahamas&#39;, &#39;Bahrain&#39;, &#39;Bangladesh&#39;, &#39;Barbados&#39;, &#39;Belarus&#39;, &#39;Belgium&#39;, &#39;Belize&#39;, &#39;Benin&#39;, &#39;Bermuda&#39;, &#39;Bhutan&#39;, &#39;Bolivia&#39;, &#39;Bosnia and Herzegovina&#39;, &#39;Botswana&#39;, &#39;Brazil&#39;, &#39;British Virgin Islands&#39;, &#39;Brunei Darussalam&#39;, &#39;Bulgaria&#39;, &#39;Burkina Faso&#39;, &#39;Burundi&#39;, &#39;Cambodia&#39;, &#39;Cameroon&#39;, &#39;Canada&#39;, &#39;Cape Verde&#39;, &#39;Cayman Islands&#39;, &#39;Central African Republic&#39;, &#39;Chad&#39;, &#39;Chile&#39;, &#39;China&#39;, &#39;Colombia&#39;, &#39;Comoros&#39;, &#39;Congo Rep.&#39;, &#39;Cook Islands&#39;, &#39;Costa Rica&#39;, &#39;Croatia&#39;, &#39;Cuba&#39;, &#39;Cyprus&#39;, &#39;Czech Republic&#39;, &#34;Cote d&#39;Ivoire&#34;, &#39;Korea Dem. Rep.&#39;, &#39;Congo Dem. Rep.&#39;, &#39;Denmark&#39;, &#39;Djibouti&#39;, &#39;Dominica&#39;, &#39;Dominican Republic&#39;, &#39;Ecuador&#39;, &#39;Egypt&#39;, &#39;El Salvador&#39;, &#39;Equatorial Guinea&#39;, &#39;Eritrea&#39;, &#39;Estonia&#39;, &#39;Ethiopia&#39;, &#39;Fiji&#39;, &#39;Finland&#39;, &#39;France&#39;, &#39;French Polynesia&#39;, &#39;Gabon&#39;, &#39;Gambia&#39;, &#39;Georgia&#39;, &#39;Germany&#39;, &#39;Ghana&#39;, &#39;Greece&#39;, &#39;Grenada&#39;, &#39;Guam&#39;, &#39;Guatemala&#39;, &#39;Guinea&#39;, &#39;Guinea-Bissau&#39;, &#39;Guyana&#39;, &#39;Haiti&#39;, &#39;Honduras&#39;, &#39;Hungary&#39;, &#39;Iceland&#39;, &#39;India&#39;, &#39;Indonesia&#39;, &#39;Iran&#39;, &#39;Iraq&#39;, &#39;Ireland&#39;, &#39;Israel&#39;, &#39;Italy&#39;, &#39;Jamaica&#39;, &#39;Japan&#39;, &#39;Jordan&#39;, &#39;Kazakhstan&#39;, &#39;Kenya&#39;, &#39;Kiribati&#39;, &#39;Kuwait&#39;, &#39;Kyrgyzstan&#39;, &#39;Laos&#39;, &#39;Latvia&#39;, &#39;Lebanon&#39;, &#39;Lesotho&#39;, &#39;Liberia&#39;, &#39;Libyan Arab Jamahiriya&#39;, &#39;Lithuania&#39;, &#39;Luxembourg&#39;, &#39;Madagascar&#39;, &#39;Malawi&#39;, &#39;Malaysia&#39;, &#39;Maldives&#39;, &#39;Mali&#39;, &#39;Malta&#39;, &#39;Mauritania&#39;, &#39;Mauritius&#39;, &#39;Mexico&#39;, &#39;Micronesia Fed. Sts.&#39;, &#39;Monaco&#39;, &#39;Mongolia&#39;, &#39;Montserrat&#39;, &#39;Morocco&#39;, &#39;Mozambique&#39;, &#39;Myanmar&#39;, &#39;Namibia&#39;, &#39;Nauru&#39;, &#39;Nepal&#39;, &#39;Netherlands&#39;, &#39;Netherlands Antilles&#39;, &#39;New Caledonia&#39;, &#39;New Zealand&#39;, &#39;Nicaragua&#39;, &#39;Niger&#39;, &#39;Nigeria&#39;, &#39;Niue&#39;, &#39;Northern Mariana Islands&#39;, &#39;Norway&#39;, &#39;Oman&#39;, &#39;Pakistan&#39;, &#39;Palau&#39;, &#39;Panama&#39;, &#39;Papua New Guinea&#39;, &#39;Paraguay&#39;, &#39;Peru&#39;, &#39;Philippines&#39;, &#39;Poland&#39;, &#39;Portugal&#39;, &#39;Puerto Rico&#39;, &#39;Qatar&#39;, &#39;Korea Rep.&#39;, &#39;Moldova&#39;, &#39;Romania&#39;, &#39;Russian Federation&#39;, &#39;Rwanda&#39;, &#39;Saint Kitts and Nevis&#39;, &#39;Saint Lucia&#39;, &#39;Saint Vincent and the Grenadines&#39;, &#39;Samoa&#39;, &#39;San Marino&#39;, &#39;Sao Tome and Principe&#39;, &#39;Saudi Arabia&#39;, &#39;Senegal&#39;, &#39;Seychelles&#39;, &#39;Sierra Leone&#39;, &#39;Singapore&#39;, &#39;Slovakia&#39;, &#39;Slovenia&#39;, &#39;Solomon Islands&#39;, &#39;Somalia&#39;, &#39;South Africa&#39;, &#39;Spain&#39;, &#39;Sri Lanka&#39;, &#39;Sudan&#39;, &#39;Suriname&#39;, &#39;Swaziland&#39;, &#39;Sweden&#39;, &#39;Switzerland&#39;, &#39;Syrian Arab Republic&#39;, &#39;Tajikistan&#39;, &#39;Thailand&#39;, &#39;Macedonia FYR&#39;, &#39;Timor-Leste&#39;, &#39;Togo&#39;, &#39;Tokelau&#39;, &#39;Tonga&#39;, &#39;Trinidad and Tobago&#39;, &#39;Tunisia&#39;, &#39;Turkey&#39;, &#39;Turkmenistan&#39;, &#39;Turks and Caicos Islands&#39;, &#39;Tuvalu&#39;, &#39;Uganda&#39;, &#39;Ukraine&#39;, &#39;United Arab Emirates&#39;, &#39;United Kingdom&#39;, &#39;Tanzania&#39;, &#39;Virgin Islands (U.S.)&#39;, &#39;United States of America&#39;, &#39;Uruguay&#39;, &#39;Uzbekistan&#39;, &#39;Vanuatu&#39;, &#39;Venezuela&#39;, &#39;Viet Nam&#39;, &#39;Wallis et Futuna&#39;, &#39;West Bank and Gaza&#39;, &#39;Yemen&#39;, &#39;Zambia&#39;, &#39;Zimbabwe&#39;]
</pre>
</div>
</div>

</div>
</div>

</div>
<div class="cell border-box-sizing text_cell rendered">
<div class="prompt input_prompt">
</div>
<div class="inner_cell">
<div class="text_cell_render border-box-sizing rendered_html">
<h3 id="3.-Read-the-indexes:">3. Read the indexes:<a class="anchor-link" href="#3.-Read-the-indexes:">&#182;</a></h3>
</div>
</div>
</div>
<div class="cell border-box-sizing code_cell rendered">
<div class="input">
<div class="prompt input_prompt">In&nbsp;[4]:</div>
<div class="inner_cell">
    <div class="input_area">
<div class=" highlight hl-ipython3"><pre><span></span><span class="n">indexes</span> <span class="o">=</span> <span class="n">df1</span><span class="p">[</span><span class="s1">&#39;TB prevalence all forms (per 100 000 population per year)&#39;</span><span class="p">]</span><span class="o">.</span><span class="n">tolist</span><span class="p">()</span>
<span class="n">indexes</span>
</pre></div>

</div>
</div>
</div>

<div class="output_wrapper">
<div class="output">


<div class="output_area">
<div class="prompt output_prompt">Out[4]:</div>



<div class="output_text output_subarea output_execute_result">
<pre>[&#39;1990&#39;,
 &#39;1991&#39;,
 &#39;1992&#39;,
 &#39;1993&#39;,
 &#39;1994&#39;,
 &#39;1995&#39;,
 &#39;1996&#39;,
 &#39;1997&#39;,
 &#39;1998&#39;,
 &#39;1999&#39;,
 &#39;2000&#39;,
 &#39;2001&#39;,
 &#39;2002&#39;,
 &#39;2003&#39;,
 &#39;2004&#39;,
 &#39;2005&#39;,
 &#39;2006&#39;,
 &#39;2007&#39;]</pre>
</div>

</div>

</div>
</div>

</div>
<div class="cell border-box-sizing text_cell rendered">
<div class="prompt input_prompt">
</div>
<div class="inner_cell">
<div class="text_cell_render border-box-sizing rendered_html">
<h3 id="4.-Using-column-name-try-to-access-any-country-series-(year,-TB-incidence):">4. Using column name try to access any country series (year, TB incidence):<a class="anchor-link" href="#4.-Using-column-name-try-to-access-any-country-series-(year,-TB-incidence):">&#182;</a></h3>
</div>
</div>
</div>
<div class="cell border-box-sizing code_cell rendered">
<div class="input">
<div class="prompt input_prompt">In&nbsp;[5]:</div>
<div class="inner_cell">
    <div class="input_area">
<div class=" highlight hl-ipython3"><pre><span></span><span class="n">country</span> <span class="o">=</span> <span class="nb">input</span><span class="p">(</span><span class="s1">&#39;Enter any country:&#39;</span><span class="p">)</span>
<span class="n">frame</span> <span class="o">=</span> <span class="n">pd</span><span class="o">.</span><span class="n">DataFrame</span><span class="p">()</span>
<span class="n">frame</span><span class="p">[</span><span class="s1">&#39;Year&#39;</span><span class="p">]</span> <span class="o">=</span> <span class="n">indexes</span>
<span class="n">frame</span><span class="p">[</span><span class="n">country</span><span class="p">]</span> <span class="o">=</span> <span class="n">df1</span><span class="p">[</span><span class="n">country</span><span class="p">]</span><span class="o">.</span><span class="n">tolist</span><span class="p">()</span>
<span class="n">frame</span>
</pre></div>

</div>
</div>
</div>

<div class="output_wrapper">
<div class="output">


<div class="output_area">
<div class="prompt"></div>

<div class="output_subarea output_stream output_stdout output_text">
<pre>Enter any country:Angola
</pre>
</div>
</div>

<div class="output_area">
<div class="prompt output_prompt">Out[5]:</div>


<div class="output_html rendered_html output_subarea output_execute_result">
<div>
<table border="1" class="dataframe">
  <thead>
    <tr style="text-align: right;">
      <th></th>
      <th>Year</th>
      <th>Angola</th>
    </tr>
  </thead>
  <tbody>
    <tr>
      <th>0</th>
      <td>1990</td>
      <td>514</td>
    </tr>
    <tr>
      <th>1</th>
      <td>1991</td>
      <td>514</td>
    </tr>
    <tr>
      <th>2</th>
      <td>1992</td>
      <td>513</td>
    </tr>
    <tr>
      <th>3</th>
      <td>1993</td>
      <td>512</td>
    </tr>
    <tr>
      <th>4</th>
      <td>1994</td>
      <td>510</td>
    </tr>
    <tr>
      <th>5</th>
      <td>1995</td>
      <td>508</td>
    </tr>
    <tr>
      <th>6</th>
      <td>1996</td>
      <td>512</td>
    </tr>
    <tr>
      <th>7</th>
      <td>1997</td>
      <td>363</td>
    </tr>
    <tr>
      <th>8</th>
      <td>1998</td>
      <td>414</td>
    </tr>
    <tr>
      <th>9</th>
      <td>1999</td>
      <td>384</td>
    </tr>
    <tr>
      <th>10</th>
      <td>2000</td>
      <td>530</td>
    </tr>
    <tr>
      <th>11</th>
      <td>2001</td>
      <td>335</td>
    </tr>
    <tr>
      <th>12</th>
      <td>2002</td>
      <td>307</td>
    </tr>
    <tr>
      <th>13</th>
      <td>2003</td>
      <td>281</td>
    </tr>
    <tr>
      <th>14</th>
      <td>2004</td>
      <td>318</td>
    </tr>
    <tr>
      <th>15</th>
      <td>2005</td>
      <td>331</td>
    </tr>
    <tr>
      <th>16</th>
      <td>2006</td>
      <td>302</td>
    </tr>
    <tr>
      <th>17</th>
      <td>2007</td>
      <td>294</td>
    </tr>
  </tbody>
</table>
</div>
</div>

</div>

</div>
</div>

</div>
<div class="cell border-box-sizing text_cell rendered">
<div class="prompt input_prompt">
</div>
<div class="inner_cell">
<div class="text_cell_render border-box-sizing rendered_html">
<h3 id="5.-Compare-any-two-countries-in-term-of-their-individual-summaries:">5. Compare any two countries in term of their individual summaries:<a class="anchor-link" href="#5.-Compare-any-two-countries-in-term-of-their-individual-summaries:">&#182;</a></h3>
</div>
</div>
</div>
<div class="cell border-box-sizing code_cell rendered">
<div class="input">
<div class="prompt input_prompt">In&nbsp;[6]:</div>
<div class="inner_cell">
    <div class="input_area">
<div class=" highlight hl-ipython3"><pre><span></span><span class="n">country1</span> <span class="o">=</span> <span class="nb">input</span><span class="p">(</span><span class="s1">&#39;Enter any country:&#39;</span><span class="p">)</span>
<span class="n">country2</span> <span class="o">=</span> <span class="nb">input</span><span class="p">(</span><span class="s1">&#39;Enter any country:&#39;</span><span class="p">)</span>
<span class="n">frame</span> <span class="o">=</span> <span class="n">pd</span><span class="o">.</span><span class="n">DataFrame</span><span class="p">()</span>
<span class="n">frame</span><span class="p">[</span><span class="s1">&#39;Year&#39;</span><span class="p">]</span> <span class="o">=</span> <span class="n">indexes</span>
<span class="n">frame</span><span class="p">[</span><span class="n">country1</span><span class="p">]</span> <span class="o">=</span> <span class="n">df1</span><span class="p">[</span><span class="n">country1</span><span class="p">]</span><span class="o">.</span><span class="n">tolist</span><span class="p">()</span>
<span class="n">frame</span><span class="p">[</span><span class="n">country2</span><span class="p">]</span> <span class="o">=</span> <span class="n">df1</span><span class="p">[</span><span class="n">country2</span><span class="p">]</span><span class="o">.</span><span class="n">tolist</span><span class="p">()</span>
<span class="n">frame</span>
</pre></div>

</div>
</div>
</div>

<div class="output_wrapper">
<div class="output">


<div class="output_area">
<div class="prompt"></div>

<div class="output_subarea output_stream output_stdout output_text">
<pre>Enter any country:Angola
Enter any country:China
</pre>
</div>
</div>

<div class="output_area">
<div class="prompt output_prompt">Out[6]:</div>


<div class="output_html rendered_html output_subarea output_execute_result">
<div>
<table border="1" class="dataframe">
  <thead>
    <tr style="text-align: right;">
      <th></th>
      <th>Year</th>
      <th>Angola</th>
      <th>China</th>
    </tr>
  </thead>
  <tbody>
    <tr>
      <th>0</th>
      <td>1990</td>
      <td>514</td>
      <td>327</td>
    </tr>
    <tr>
      <th>1</th>
      <td>1991</td>
      <td>514</td>
      <td>321</td>
    </tr>
    <tr>
      <th>2</th>
      <td>1992</td>
      <td>513</td>
      <td>315</td>
    </tr>
    <tr>
      <th>3</th>
      <td>1993</td>
      <td>512</td>
      <td>309</td>
    </tr>
    <tr>
      <th>4</th>
      <td>1994</td>
      <td>510</td>
      <td>303</td>
    </tr>
    <tr>
      <th>5</th>
      <td>1995</td>
      <td>508</td>
      <td>303</td>
    </tr>
    <tr>
      <th>6</th>
      <td>1996</td>
      <td>512</td>
      <td>290</td>
    </tr>
    <tr>
      <th>7</th>
      <td>1997</td>
      <td>363</td>
      <td>283</td>
    </tr>
    <tr>
      <th>8</th>
      <td>1998</td>
      <td>414</td>
      <td>276</td>
    </tr>
    <tr>
      <th>9</th>
      <td>1999</td>
      <td>384</td>
      <td>273</td>
    </tr>
    <tr>
      <th>10</th>
      <td>2000</td>
      <td>530</td>
      <td>269</td>
    </tr>
    <tr>
      <th>11</th>
      <td>2001</td>
      <td>335</td>
      <td>265</td>
    </tr>
    <tr>
      <th>12</th>
      <td>2002</td>
      <td>307</td>
      <td>259</td>
    </tr>
    <tr>
      <th>13</th>
      <td>2003</td>
      <td>281</td>
      <td>241</td>
    </tr>
    <tr>
      <th>14</th>
      <td>2004</td>
      <td>318</td>
      <td>220</td>
    </tr>
    <tr>
      <th>15</th>
      <td>2005</td>
      <td>331</td>
      <td>206</td>
    </tr>
    <tr>
      <th>16</th>
      <td>2006</td>
      <td>302</td>
      <td>200</td>
    </tr>
    <tr>
      <th>17</th>
      <td>2007</td>
      <td>294</td>
      <td>194</td>
    </tr>
  </tbody>
</table>
</div>
</div>

</div>

</div>
</div>

</div>
<div class="cell border-box-sizing text_cell rendered">
<div class="prompt input_prompt">
</div>
<div class="inner_cell">
<div class="text_cell_render border-box-sizing rendered_html">
<h3 id="6.-Plot-the-TB-incidence-over-the-years-for-the-same-two-countries:">6. Plot the TB incidence over the years for the same two countries:<a class="anchor-link" href="#6.-Plot-the-TB-incidence-over-the-years-for-the-same-two-countries:">&#182;</a></h3>
</div>
</div>
</div>
<div class="cell border-box-sizing code_cell rendered">
<div class="input">
<div class="prompt input_prompt">In&nbsp;[7]:</div>
<div class="inner_cell">
    <div class="input_area">
<div class=" highlight hl-ipython3"><pre><span></span><span class="kn">import</span> <span class="nn">matplotlib.pyplot</span> <span class="k">as</span> <span class="nn">plt</span>

<span class="n">plt</span><span class="o">.</span><span class="n">plot</span><span class="p">(</span><span class="n">indexes</span><span class="p">,</span><span class="n">frame</span><span class="p">[</span><span class="n">country1</span><span class="p">]</span><span class="o">.</span><span class="n">tolist</span><span class="p">(),</span><span class="n">color</span><span class="o">=</span><span class="s1">&#39;g&#39;</span><span class="p">,</span><span class="n">label</span><span class="o">=</span><span class="n">country1</span><span class="p">)</span>
<span class="n">plt</span><span class="o">.</span><span class="n">plot</span><span class="p">(</span><span class="n">indexes</span><span class="p">,</span><span class="n">frame</span><span class="p">[</span><span class="n">country2</span><span class="p">]</span><span class="o">.</span><span class="n">tolist</span><span class="p">(),</span><span class="n">color</span><span class="o">=</span><span class="s1">&#39;b&#39;</span><span class="p">,</span><span class="n">label</span><span class="o">=</span><span class="n">country2</span><span class="p">)</span>
<span class="n">plt</span><span class="o">.</span><span class="n">legend</span><span class="p">()</span>
<span class="n">plt</span><span class="o">.</span><span class="n">show</span><span class="p">()</span>
</pre></div>

</div>
</div>
</div>

<div class="output_wrapper">
<div class="output">


<div class="output_area">
<div class="prompt"></div>



<div class="output_png output_subarea ">
<img src="data:image/png;base64,iVBORw0KGgoAAAANSUhEUgAAAYIAAAD8CAYAAAB6paOMAAAABHNCSVQICAgIfAhkiAAAAAlwSFlz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=
"
>
</div>

</div>

</div>
</div>

</div>
<div class="cell border-box-sizing text_cell rendered">
<div class="prompt input_prompt">
</div>
<div class="inner_cell">
<div class="text_cell_render border-box-sizing rendered_html">
<h3 id="7.-Show-the-percent-change-over-the-years-for-no.-of-TB-cases-in-Argentina:">7. Show the percent change over the years for no. of TB cases in Argentina:<a class="anchor-link" href="#7.-Show-the-percent-change-over-the-years-for-no.-of-TB-cases-in-Argentina:">&#182;</a></h3>
</div>
</div>
</div>
<div class="cell border-box-sizing code_cell rendered">
<div class="input">
<div class="prompt input_prompt">In&nbsp;[8]:</div>
<div class="inner_cell">
    <div class="input_area">
<div class=" highlight hl-ipython3"><pre><span></span><span class="n">argentina_data</span> <span class="o">=</span> <span class="n">df1</span><span class="p">[</span><span class="s1">&#39;Argentina&#39;</span><span class="p">]</span><span class="o">.</span><span class="n">tolist</span><span class="p">()</span>
<span class="n">argentina</span> <span class="o">=</span> <span class="p">[]</span>
<span class="n">per_change</span> <span class="o">=</span> <span class="p">[]</span>
<span class="nb">print</span><span class="p">(</span><span class="s2">&quot;Percent change over the years for no. of TB cases in Argentina:</span><span class="se">\n</span><span class="s2">&quot;</span><span class="p">)</span>
<span class="k">for</span> <span class="n">i</span> <span class="ow">in</span> <span class="n">argentina_data</span><span class="p">:</span>
    <span class="n">argentina</span><span class="o">.</span><span class="n">append</span><span class="p">(</span><span class="nb">int</span><span class="p">(</span><span class="n">i</span><span class="p">))</span>
<span class="k">for</span> <span class="n">i</span> <span class="ow">in</span> <span class="nb">range</span><span class="p">(</span><span class="nb">len</span><span class="p">(</span><span class="n">argentina</span><span class="p">)</span><span class="o">-</span><span class="mi">1</span><span class="p">):</span>
    <span class="n">perct</span> <span class="o">=</span> <span class="nb">round</span><span class="p">(</span> <span class="p">((</span><span class="n">argentina</span><span class="p">[</span><span class="n">i</span><span class="p">]</span><span class="o">-</span><span class="n">argentina</span><span class="p">[</span><span class="n">i</span><span class="o">+</span><span class="mi">1</span><span class="p">])</span><span class="o">/</span><span class="n">argentina</span><span class="p">[</span><span class="n">i</span><span class="p">])</span><span class="o">*</span><span class="mi">100</span><span class="p">,</span><span class="mi">2</span><span class="p">)</span>             <span class="c1"># Percentage Calculation</span>
    <span class="nb">print</span><span class="p">(</span><span class="n">indexes</span><span class="p">[</span><span class="n">i</span><span class="p">],</span><span class="s2">&quot;-&quot;</span><span class="p">,</span><span class="n">indexes</span><span class="p">[</span><span class="n">i</span><span class="o">+</span><span class="mi">1</span><span class="p">],</span><span class="s2">&quot; &quot;</span><span class="p">,</span><span class="n">perct</span><span class="p">,</span><span class="s2">&quot;%&quot;</span><span class="p">)</span>
    
<span class="n">tp</span> <span class="o">=</span> <span class="nb">round</span><span class="p">(((</span><span class="n">argentina</span><span class="p">[</span><span class="mi">0</span><span class="p">]</span><span class="o">-</span><span class="n">argentina</span><span class="p">[</span><span class="o">-</span><span class="mi">1</span><span class="p">])</span><span class="o">/</span><span class="n">argentina</span><span class="p">[</span><span class="mi">0</span><span class="p">])</span><span class="o">*</span><span class="mi">100</span><span class="p">,</span><span class="mi">2</span><span class="p">)</span>                      <span class="c1"># Rounding the percantage values</span>
<span class="nb">print</span><span class="p">(</span><span class="s2">&quot;</span><span class="se">\n</span><span class="s2">Total percentage change:&quot;</span><span class="p">,</span><span class="n">tp</span><span class="p">,</span><span class="s2">&quot;%&quot;</span><span class="p">)</span>
</pre></div>

</div>
</div>
</div>

<div class="output_wrapper">
<div class="output">


<div class="output_area">
<div class="prompt"></div>

<div class="output_subarea output_stream output_stdout output_text">
<pre>Percent change over the years for no. of TB cases in Argentina:

1990 - 1991   5.21 %
1991 - 1992   5.49 %
1992 - 1993   4.65 %
1993 - 1994   4.88 %
1994 - 1995   5.13 %
1995 - 1996   4.05 %
1996 - 1997   5.63 %
1997 - 1998   5.97 %
1998 - 1999   7.94 %
1999 - 2000   10.34 %
2000 - 2001   1.92 %
2001 - 2002   17.65 %
2002 - 2003   2.38 %
2003 - 2004   4.88 %
2004 - 2005   0.0 %
2005 - 2006   5.13 %
2006 - 2007   5.41 %

Total percentage change: 63.54 %
</pre>
</div>
</div>

</div>
</div>

</div>
<div class="cell border-box-sizing text_cell rendered">
<div class="prompt input_prompt">
</div>
<div class="inner_cell">
<div class="text_cell_render border-box-sizing rendered_html">
<h3 id="8.-Find-out-the-country-which-has-highest-number-of-TB-cases:">8. Find out the country which has highest number of TB cases:<a class="anchor-link" href="#8.-Find-out-the-country-which-has-highest-number-of-TB-cases:">&#182;</a></h3>
</div>
</div>
</div>
<div class="cell border-box-sizing code_cell rendered">
<div class="input">
<div class="prompt input_prompt">In&nbsp;[9]:</div>
<div class="inner_cell">
    <div class="input_area">
<div class=" highlight hl-ipython3"><pre><span></span><span class="n">country_total</span> <span class="o">=</span> <span class="p">[]</span>

<span class="k">for</span> <span class="n">i</span> <span class="ow">in</span> <span class="n">col</span><span class="p">:</span>
    <span class="n">country_values</span> <span class="o">=</span> <span class="n">df1</span><span class="p">[</span><span class="n">i</span><span class="p">]</span><span class="o">.</span><span class="n">tolist</span><span class="p">()</span>                                           <span class="c1"># Get values for each country</span>
    <span class="n">new_country_values</span> <span class="o">=</span> <span class="p">[]</span>
    <span class="k">for</span> <span class="n">j</span> <span class="ow">in</span> <span class="nb">range</span><span class="p">(</span><span class="nb">len</span><span class="p">(</span><span class="n">country_values</span><span class="p">)):</span>
        <span class="n">country_values</span><span class="p">[</span><span class="n">j</span><span class="p">]</span> <span class="o">=</span> <span class="n">country_values</span><span class="p">[</span><span class="n">j</span><span class="p">]</span><span class="o">.</span><span class="n">replace</span><span class="p">(</span><span class="s1">&#39;&quot;&#39;</span><span class="p">,</span><span class="s1">&#39;&#39;</span><span class="p">)</span>
        <span class="n">new_country_values</span><span class="o">.</span><span class="n">append</span><span class="p">(</span><span class="nb">int</span><span class="p">(</span><span class="n">country_values</span><span class="p">[</span><span class="n">j</span><span class="p">]))</span>
    <span class="n">country_total</span><span class="o">.</span><span class="n">append</span><span class="p">(</span><span class="nb">sum</span><span class="p">(</span><span class="n">new_country_values</span><span class="p">))</span>

<span class="n">maxi</span> <span class="o">=</span> <span class="nb">max</span><span class="p">(</span><span class="n">country_total</span><span class="p">)</span>
<span class="k">for</span> <span class="n">i</span> <span class="ow">in</span> <span class="nb">range</span><span class="p">(</span><span class="nb">len</span><span class="p">(</span><span class="n">country_total</span><span class="p">)):</span>
    <span class="k">if</span> <span class="n">country_total</span><span class="p">[</span><span class="n">i</span><span class="p">]</span> <span class="o">==</span> <span class="n">maxi</span><span class="p">:</span>
        <span class="nb">print</span><span class="p">(</span><span class="n">col</span><span class="p">[</span><span class="n">i</span><span class="p">],</span><span class="s2">&quot;has highest number of TB cases counting to:&quot;</span><span class="p">,</span> <span class="n">maxi</span><span class="p">)</span>
</pre></div>

</div>
</div>
</div>

<div class="output_wrapper">
<div class="output">


<div class="output_area">
<div class="prompt"></div>

<div class="output_subarea output_stream output_stdout output_text">
<pre>Djibouti has highest number of TB cases counting to: 19155
</pre>
</div>
</div>

</div>
</div>

</div>
<div class="cell border-box-sizing text_cell rendered">
<div class="prompt input_prompt">
</div>
<div class="inner_cell">
<div class="text_cell_render border-box-sizing rendered_html">
<h3 id="9.-Plot-and-explore-the-general-tendency-of-the-world-over-the-years:">9. Plot and explore the general tendency of the world over the years:<a class="anchor-link" href="#9.-Plot-and-explore-the-general-tendency-of-the-world-over-the-years:">&#182;</a></h3>
</div>
</div>
</div>
<div class="cell border-box-sizing code_cell rendered">
<div class="input">
<div class="prompt input_prompt">In&nbsp;[10]:</div>
<div class="inner_cell">
    <div class="input_area">
<div class=" highlight hl-ipython3"><pre><span></span><span class="kn">import</span> <span class="nn">numpy</span> <span class="k">as</span> <span class="nn">np</span>
<span class="n">mean</span> <span class="o">=</span> <span class="p">[]</span>
<span class="n">median</span> <span class="o">=</span> <span class="p">[]</span>
<span class="n">mode</span> <span class="o">=</span> <span class="p">[]</span>
<span class="n">std</span> <span class="o">=</span> <span class="p">[]</span>
<span class="k">for</span> <span class="n">i</span> <span class="ow">in</span> <span class="nb">range</span><span class="p">(</span><span class="nb">len</span><span class="p">(</span><span class="n">col</span><span class="p">)):</span>
    <span class="n">country_values</span> <span class="o">=</span> <span class="n">df1</span><span class="p">[</span><span class="n">col</span><span class="p">[</span><span class="n">i</span><span class="p">]]</span><span class="o">.</span><span class="n">tolist</span><span class="p">()</span>
    <span class="n">new_country_values</span> <span class="o">=</span> <span class="p">[]</span>
    <span class="k">for</span> <span class="n">j</span> <span class="ow">in</span> <span class="nb">range</span><span class="p">(</span><span class="nb">len</span><span class="p">(</span><span class="n">country_values</span><span class="p">)):</span>
        <span class="n">country_values</span><span class="p">[</span><span class="n">j</span><span class="p">]</span> <span class="o">=</span> <span class="n">country_values</span><span class="p">[</span><span class="n">j</span><span class="p">]</span><span class="o">.</span><span class="n">replace</span><span class="p">(</span><span class="s1">&#39;&quot;&#39;</span><span class="p">,</span><span class="s1">&#39;&#39;</span><span class="p">)</span>
        <span class="n">new_country_values</span><span class="o">.</span><span class="n">append</span><span class="p">(</span><span class="nb">int</span><span class="p">(</span><span class="n">country_values</span><span class="p">[</span><span class="n">j</span><span class="p">]))</span>   
    <span class="n">mean</span><span class="o">.</span><span class="n">append</span><span class="p">(</span><span class="nb">round</span><span class="p">(</span><span class="n">np</span><span class="o">.</span><span class="n">mean</span><span class="p">(</span><span class="n">new_country_values</span><span class="p">)))</span>
    <span class="n">median</span><span class="o">.</span><span class="n">append</span><span class="p">(</span><span class="nb">round</span><span class="p">(</span><span class="n">np</span><span class="o">.</span><span class="n">median</span><span class="p">(</span><span class="n">new_country_values</span><span class="p">)))</span>
    <span class="n">mode</span><span class="o">.</span><span class="n">append</span><span class="p">(</span><span class="nb">max</span><span class="p">(</span><span class="nb">set</span><span class="p">(</span><span class="n">new_country_values</span><span class="p">),</span> <span class="n">key</span><span class="o">=</span><span class="n">new_country_values</span><span class="o">.</span><span class="n">count</span><span class="p">))</span>
    <span class="n">std</span><span class="o">.</span><span class="n">append</span><span class="p">(</span><span class="nb">round</span><span class="p">(</span><span class="n">np</span><span class="o">.</span><span class="n">std</span><span class="p">(</span><span class="n">new_country_values</span><span class="p">)))</span>

<span class="n">country_index</span> <span class="o">=</span> <span class="nb">list</span><span class="p">(</span><span class="nb">range</span><span class="p">(</span><span class="nb">len</span><span class="p">(</span><span class="n">col</span><span class="p">)))</span>
<span class="n">plt</span><span class="o">.</span><span class="n">bar</span><span class="p">(</span><span class="n">country_index</span><span class="p">,</span><span class="n">mean</span><span class="p">)</span>
<span class="n">plt</span><span class="o">.</span><span class="n">xlabel</span><span class="p">(</span><span class="s2">&quot;Country Index&quot;</span><span class="p">)</span>
<span class="n">plt</span><span class="o">.</span><span class="n">ylabel</span><span class="p">(</span><span class="s2">&quot;Mean no. of TB cases&quot;</span><span class="p">)</span>
<span class="n">plt</span><span class="o">.</span><span class="n">title</span><span class="p">(</span><span class="s2">&quot;Average no. of TB cases by country&quot;</span><span class="p">)</span>
<span class="n">plt</span><span class="o">.</span><span class="n">show</span><span class="p">()</span>

<span class="n">zambia_data</span> <span class="o">=</span> <span class="n">li5</span> <span class="o">=</span> <span class="nb">list</span><span class="p">(</span><span class="nb">map</span><span class="p">(</span><span class="nb">int</span><span class="p">,</span> <span class="n">df1</span><span class="p">[</span><span class="s1">&#39;Zambia&#39;</span><span class="p">]</span><span class="o">.</span><span class="n">tolist</span><span class="p">()))</span>
<span class="n">bins</span> <span class="o">=</span> <span class="p">[</span><span class="mi">400</span><span class="p">,</span><span class="mi">430</span><span class="p">,</span><span class="mi">460</span><span class="p">,</span><span class="mi">490</span><span class="p">,</span><span class="mi">520</span><span class="p">,</span><span class="mi">550</span><span class="p">,</span><span class="mi">580</span><span class="p">,</span><span class="mi">610</span><span class="p">,</span><span class="mi">640</span><span class="p">,</span><span class="mi">670</span><span class="p">,</span><span class="mi">700</span><span class="p">,</span><span class="mi">730</span><span class="p">]</span>
<span class="n">plt</span><span class="o">.</span><span class="n">hist</span><span class="p">(</span><span class="n">zambia_data</span><span class="p">,</span><span class="n">bins</span><span class="p">,</span><span class="n">histtype</span><span class="o">=</span><span class="s1">&#39;bar&#39;</span><span class="p">,</span><span class="n">rwidth</span><span class="o">=</span><span class="mf">0.5</span><span class="p">)</span>
<span class="n">plt</span><span class="o">.</span><span class="n">title</span><span class="p">(</span><span class="s2">&quot;Distribution of TB cases over the years in Zambia&quot;</span><span class="p">)</span>
<span class="n">plt</span><span class="o">.</span><span class="n">show</span><span class="p">()</span>


<span class="n">mean1</span> <span class="o">=</span> <span class="n">pd</span><span class="o">.</span><span class="n">DataFrame</span><span class="p">()</span>
<span class="n">mean1</span><span class="p">[</span><span class="s1">&#39;Country&#39;</span><span class="p">]</span> <span class="o">=</span> <span class="n">col</span>
<span class="n">mean1</span><span class="p">[</span><span class="s1">&#39;Mean&#39;</span><span class="p">]</span> <span class="o">=</span> <span class="n">mean</span>
<span class="n">mean1</span><span class="p">[</span><span class="s1">&#39;Median&#39;</span><span class="p">]</span> <span class="o">=</span> <span class="n">median</span>
<span class="n">mean1</span><span class="p">[</span><span class="s1">&#39;Mode&#39;</span><span class="p">]</span> <span class="o">=</span> <span class="n">mode</span>
<span class="n">mean1</span><span class="p">[</span><span class="s1">&#39;Standard Deviation&#39;</span><span class="p">]</span> <span class="o">=</span> <span class="n">std</span>
<span class="n">mean1</span>
</pre></div>

</div>
</div>
</div>

<div class="output_wrapper">
<div class="output">


<div class="output_area">
<div class="prompt"></div>



<div class="output_png output_subarea ">
<img src="data:image/png;base64,iVBORw0KGgoAAAANSUhEUgAAAY4AAAEWCAYAAABxMXBSAAAABHNCSVQICAgIfAhkiAAAAAlwSFlz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"
>
</div>

</div>

<div class="output_area">
<div class="prompt"></div>



<div class="output_png output_subarea ">
<img src="data:image/png;base64,iVBORw0KGgoAAAANSUhEUgAAAXcAAAEICAYAAACktLTqAAAABHNCSVQICAgIfAhkiAAAAAlwSFlz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=
"
>
</div>

</div>

<div class="output_area">
<div class="prompt output_prompt">Out[10]:</div>


<div class="output_html rendered_html output_subarea output_execute_result">
<div>
<table border="1" class="dataframe">
  <thead>
    <tr style="text-align: right;">
      <th></th>
      <th>Country</th>
      <th>Mean</th>
      <th>Median</th>
      <th>Mode</th>
      <th>Standard Deviation</th>
    </tr>
  </thead>
  <tbody>
    <tr>
      <th>0</th>
      <td>Afghanistan</td>
      <td>353.0</td>
      <td>374.0</td>
      <td>397</td>
      <td>63.0</td>
    </tr>
    <tr>
      <th>1</th>
      <td>Albania</td>
      <td>37.0</td>
      <td>40.0</td>
      <td>42</td>
      <td>7.0</td>
    </tr>
    <tr>
      <th>2</th>
      <td>Algeria</td>
      <td>47.0</td>
      <td>46.0</td>
      <td>43</td>
      <td>4.0</td>
    </tr>
    <tr>
      <th>3</th>
      <td>American Samoa</td>
      <td>12.0</td>
      <td>9.0</td>
      <td>5</td>
      <td>10.0</td>
    </tr>
    <tr>
      <th>4</th>
      <td>Andorra</td>
      <td>25.0</td>
      <td>22.0</td>
      <td>18</td>
      <td>7.0</td>
    </tr>
    <tr>
      <th>5</th>
      <td>Angola</td>
      <td>413.0</td>
      <td>399.0</td>
      <td>512</td>
      <td>95.0</td>
    </tr>
    <tr>
      <th>6</th>
      <td>Anguilla</td>
      <td>36.0</td>
      <td>35.0</td>
      <td>35</td>
      <td>1.0</td>
    </tr>
    <tr>
      <th>7</th>
      <td>Antigua and Barbuda</td>
      <td>11.0</td>
      <td>10.0</td>
      <td>9</td>
      <td>3.0</td>
    </tr>
    <tr>
      <th>8</th>
      <td>Argentina</td>
      <td>61.0</td>
      <td>60.0</td>
      <td>39</td>
      <td>20.0</td>
    </tr>
    <tr>
      <th>9</th>
      <td>Armenia</td>
      <td>75.0</td>
      <td>77.0</td>
      <td>74</td>
      <td>16.0</td>
    </tr>
    <tr>
      <th>10</th>
      <td>Australia</td>
      <td>6.0</td>
      <td>6.0</td>
      <td>6</td>
      <td>0.0</td>
    </tr>
    <tr>
      <th>11</th>
      <td>Austria</td>
      <td>13.0</td>
      <td>12.0</td>
      <td>10</td>
      <td>3.0</td>
    </tr>
    <tr>
      <th>12</th>
      <td>Azerbaijan</td>
      <td>86.0</td>
      <td>86.0</td>
      <td>85</td>
      <td>19.0</td>
    </tr>
    <tr>
      <th>13</th>
      <td>Bahamas</td>
      <td>51.0</td>
      <td>52.0</td>
      <td>54</td>
      <td>3.0</td>
    </tr>
    <tr>
      <th>14</th>
      <td>Bahrain</td>
      <td>76.0</td>
      <td>75.0</td>
      <td>45</td>
      <td>24.0</td>
    </tr>
    <tr>
      <th>15</th>
      <td>Bangladesh</td>
      <td>515.0</td>
      <td>508.0</td>
      <td>608</td>
      <td>76.0</td>
    </tr>
    <tr>
      <th>16</th>
      <td>Barbados</td>
      <td>5.0</td>
      <td>5.0</td>
      <td>4</td>
      <td>2.0</td>
    </tr>
    <tr>
      <th>17</th>
      <td>Belarus</td>
      <td>80.0</td>
      <td>72.0</td>
      <td>68</td>
      <td>19.0</td>
    </tr>
    <tr>
      <th>18</th>
      <td>Belgium</td>
      <td>13.0</td>
      <td>12.0</td>
      <td>12</td>
      <td>2.0</td>
    </tr>
    <tr>
      <th>19</th>
      <td>Belize</td>
      <td>48.0</td>
      <td>44.0</td>
      <td>36</td>
      <td>10.0</td>
    </tr>
    <tr>
      <th>20</th>
      <td>Benin</td>
      <td>132.0</td>
      <td>133.0</td>
      <td>129</td>
      <td>4.0</td>
    </tr>
    <tr>
      <th>21</th>
      <td>Bermuda</td>
      <td>7.0</td>
      <td>7.0</td>
      <td>6</td>
      <td>1.0</td>
    </tr>
    <tr>
      <th>22</th>
      <td>Bhutan</td>
      <td>588.0</td>
      <td>544.0</td>
      <td>512</td>
      <td>160.0</td>
    </tr>
    <tr>
      <th>23</th>
      <td>Bolivia</td>
      <td>267.0</td>
      <td>251.0</td>
      <td>320</td>
      <td>57.0</td>
    </tr>
    <tr>
      <th>24</th>
      <td>Bosnia and Herzegovina</td>
      <td>101.0</td>
      <td>88.0</td>
      <td>55</td>
      <td>40.0</td>
    </tr>
    <tr>
      <th>25</th>
      <td>Botswana</td>
      <td>448.0</td>
      <td>392.0</td>
      <td>349</td>
      <td>111.0</td>
    </tr>
    <tr>
      <th>26</th>
      <td>Brazil</td>
      <td>88.0</td>
      <td>87.0</td>
      <td>60</td>
      <td>21.0</td>
    </tr>
    <tr>
      <th>27</th>
      <td>British Virgin Islands</td>
      <td>21.0</td>
      <td>20.0</td>
      <td>16</td>
      <td>5.0</td>
    </tr>
    <tr>
      <th>28</th>
      <td>Brunei Darussalam</td>
      <td>83.0</td>
      <td>90.0</td>
      <td>91</td>
      <td>14.0</td>
    </tr>
    <tr>
      <th>29</th>
      <td>Bulgaria</td>
      <td>53.0</td>
      <td>56.0</td>
      <td>68</td>
      <td>10.0</td>
    </tr>
    <tr>
      <th>...</th>
      <td>...</td>
      <td>...</td>
      <td>...</td>
      <td>...</td>
      <td>...</td>
    </tr>
    <tr>
      <th>177</th>
      <td>Tajikistan</td>
      <td>191.0</td>
      <td>180.0</td>
      <td>191</td>
      <td>74.0</td>
    </tr>
    <tr>
      <th>178</th>
      <td>Thailand</td>
      <td>247.0</td>
      <td>244.0</td>
      <td>285</td>
      <td>52.0</td>
    </tr>
    <tr>
      <th>179</th>
      <td>Macedonia FYR</td>
      <td>62.0</td>
      <td>68.0</td>
      <td>34</td>
      <td>22.0</td>
    </tr>
    <tr>
      <th>180</th>
      <td>Timor-Leste</td>
      <td>562.0</td>
      <td>644.0</td>
      <td>644</td>
      <td>139.0</td>
    </tr>
    <tr>
      <th>181</th>
      <td>Togo</td>
      <td>673.0</td>
      <td>668.0</td>
      <td>647</td>
      <td>38.0</td>
    </tr>
    <tr>
      <th>182</th>
      <td>Tokelau</td>
      <td>71.0</td>
      <td>56.0</td>
      <td>0</td>
      <td>82.0</td>
    </tr>
    <tr>
      <th>183</th>
      <td>Tonga</td>
      <td>38.0</td>
      <td>38.0</td>
      <td>34</td>
      <td>5.0</td>
    </tr>
    <tr>
      <th>184</th>
      <td>Trinidad and Tobago</td>
      <td>16.0</td>
      <td>16.0</td>
      <td>15</td>
      <td>1.0</td>
    </tr>
    <tr>
      <th>185</th>
      <td>Tunisia</td>
      <td>38.0</td>
      <td>38.0</td>
      <td>49</td>
      <td>10.0</td>
    </tr>
    <tr>
      <th>186</th>
      <td>Turkey</td>
      <td>57.0</td>
      <td>60.0</td>
      <td>44</td>
      <td>15.0</td>
    </tr>
    <tr>
      <th>187</th>
      <td>Turkmenistan</td>
      <td>104.0</td>
      <td>100.0</td>
      <td>92</td>
      <td>18.0</td>
    </tr>
    <tr>
      <th>188</th>
      <td>Turks and Caicos Islands</td>
      <td>27.0</td>
      <td>26.0</td>
      <td>22</td>
      <td>8.0</td>
    </tr>
    <tr>
      <th>189</th>
      <td>Tuvalu</td>
      <td>433.0</td>
      <td>444.0</td>
      <td>484</td>
      <td>109.0</td>
    </tr>
    <tr>
      <th>190</th>
      <td>Uganda</td>
      <td>393.0</td>
      <td>402.0</td>
      <td>342</td>
      <td>65.0</td>
    </tr>
    <tr>
      <th>191</th>
      <td>Ukraine</td>
      <td>99.0</td>
      <td>100.0</td>
      <td>67</td>
      <td>24.0</td>
    </tr>
    <tr>
      <th>192</th>
      <td>United Arab Emirates</td>
      <td>32.0</td>
      <td>30.0</td>
      <td>24</td>
      <td>7.0</td>
    </tr>
    <tr>
      <th>193</th>
      <td>United Kingdom</td>
      <td>10.0</td>
      <td>9.0</td>
      <td>9</td>
      <td>1.0</td>
    </tr>
    <tr>
      <th>194</th>
      <td>Tanzania</td>
      <td>317.0</td>
      <td>335.0</td>
      <td>364</td>
      <td>55.0</td>
    </tr>
    <tr>
      <th>195</th>
      <td>Virgin Islands (U.S.)</td>
      <td>20.0</td>
      <td>18.0</td>
      <td>16</td>
      <td>4.0</td>
    </tr>
    <tr>
      <th>196</th>
      <td>United States of America</td>
      <td>5.0</td>
      <td>4.0</td>
      <td>4</td>
      <td>1.0</td>
    </tr>
    <tr>
      <th>197</th>
      <td>Uruguay</td>
      <td>28.0</td>
      <td>28.0</td>
      <td>25</td>
      <td>4.0</td>
    </tr>
    <tr>
      <th>198</th>
      <td>Uzbekistan</td>
      <td>129.0</td>
      <td>132.0</td>
      <td>134</td>
      <td>15.0</td>
    </tr>
    <tr>
      <th>199</th>
      <td>Vanuatu</td>
      <td>186.0</td>
      <td>185.0</td>
      <td>128</td>
      <td>60.0</td>
    </tr>
    <tr>
      <th>200</th>
      <td>Venezuela</td>
      <td>41.0</td>
      <td>41.0</td>
      <td>39</td>
      <td>2.0</td>
    </tr>
    <tr>
      <th>201</th>
      <td>Viet Nam</td>
      <td>283.0</td>
      <td>257.0</td>
      <td>354</td>
      <td>56.0</td>
    </tr>
    <tr>
      <th>202</th>
      <td>Wallis et Futuna</td>
      <td>126.0</td>
      <td>106.0</td>
      <td>352</td>
      <td>84.0</td>
    </tr>
    <tr>
      <th>203</th>
      <td>West Bank and Gaza</td>
      <td>43.0</td>
      <td>43.0</td>
      <td>52</td>
      <td>8.0</td>
    </tr>
    <tr>
      <th>204</th>
      <td>Yemen</td>
      <td>194.0</td>
      <td>184.0</td>
      <td>194</td>
      <td>51.0</td>
    </tr>
    <tr>
      <th>205</th>
      <td>Zambia</td>
      <td>535.0</td>
      <td>522.0</td>
      <td>387</td>
      <td>89.0</td>
    </tr>
    <tr>
      <th>206</th>
      <td>Zimbabwe</td>
      <td>513.0</td>
      <td>466.0</td>
      <td>479</td>
      <td>110.0</td>
    </tr>
  </tbody>
</table>
<p>207 rows × 5 columns</p>
</div>
</div>

</div>

</div>
</div>

</div>
<div class="cell border-box-sizing text_cell rendered">
<div class="prompt input_prompt">
</div>
<div class="inner_cell">
<div class="text_cell_render border-box-sizing rendered_html">
<h3 id="10.Try-to-plot-how-countries-are-distributed-in-an-average-year:">10.Try to plot how countries are distributed in an average year:<a class="anchor-link" href="#10.Try-to-plot-how-countries-are-distributed-in-an-average-year:">&#182;</a></h3>
</div>
</div>
</div>
<div class="cell border-box-sizing code_cell rendered">
<div class="input">
<div class="prompt input_prompt">In&nbsp;[25]:</div>
<div class="inner_cell">
    <div class="input_area">
<div class=" highlight hl-ipython3"><pre><span></span><span class="kn">from</span> <span class="nn">scipy</span> <span class="k">import</span> <span class="n">stats</span>
<span class="kn">import</span> <span class="nn">seaborn</span> <span class="k">as</span> <span class="nn">sns</span>

<span class="n">country</span> <span class="o">=</span> <span class="nb">input</span><span class="p">(</span><span class="s1">&#39;Enter any country:&#39;</span><span class="p">)</span>
<span class="nb">print</span><span class="p">(</span><span class="s2">&quot;The Distribution for &quot;</span><span class="p">,</span><span class="n">country</span><span class="p">,</span><span class="s2">&quot;:&quot;</span><span class="p">)</span>
<span class="n">sns</span><span class="o">.</span><span class="n">set</span><span class="p">(</span><span class="n">color_codes</span><span class="o">=</span><span class="kc">True</span><span class="p">)</span>
<span class="n">x</span> <span class="o">=</span> <span class="nb">list</span><span class="p">(</span><span class="nb">map</span><span class="p">(</span><span class="nb">int</span><span class="p">,</span> <span class="n">df1</span><span class="p">[</span><span class="n">country</span><span class="p">]</span><span class="o">.</span><span class="n">tolist</span><span class="p">()))</span>
<span class="n">sns</span><span class="o">.</span><span class="n">distplot</span><span class="p">(</span><span class="n">x</span><span class="p">)</span>
<span class="n">sns</span><span class="o">.</span><span class="n">plt</span><span class="o">.</span><span class="n">show</span><span class="p">()</span>

<span class="nb">print</span><span class="p">(</span><span class="s2">&quot;Checking if the data in 1998 fits Normal Distribution: (Shapiro-Wilk Normality Test)&quot;</span><span class="p">)</span>
<span class="n">n_data</span> <span class="o">=</span> <span class="p">[]</span>
<span class="n">xaxis</span> <span class="o">=</span> <span class="nb">list</span><span class="p">(</span><span class="nb">range</span><span class="p">(</span><span class="nb">len</span><span class="p">(</span><span class="n">col</span><span class="p">)))</span>
<span class="n">ndata</span> <span class="o">=</span> <span class="nb">list</span><span class="p">(</span><span class="nb">map</span><span class="p">(</span><span class="nb">int</span><span class="p">,</span> <span class="n">df1</span><span class="o">.</span><span class="n">ix</span><span class="p">[</span><span class="mi">9</span><span class="p">]</span><span class="o">.</span><span class="n">tolist</span><span class="p">()[</span><span class="mi">1</span><span class="p">:]))</span>
<span class="n">x</span> <span class="o">=</span> <span class="n">np</span><span class="o">.</span><span class="n">array</span><span class="p">(</span><span class="n">ndata</span><span class="p">)</span>
<span class="n">plt</span><span class="o">.</span><span class="n">plot</span><span class="p">(</span><span class="n">xaxis</span><span class="p">,</span><span class="n">ndata</span><span class="p">)</span>
<span class="n">plt</span><span class="o">.</span><span class="n">show</span><span class="p">()</span>
<span class="c1">#print(&quot;Data of Countries over the year 1998:\n&quot;,x,&quot;\n\n&quot;)</span>
<span class="n">k</span> <span class="o">=</span> <span class="n">stats</span><span class="o">.</span><span class="n">shapiro</span><span class="p">(</span><span class="n">x</span><span class="p">)</span>
<span class="nb">print</span><span class="p">(</span><span class="s2">&quot;(Test Statistic,p-value) :&quot;</span><span class="p">,</span><span class="n">k</span><span class="p">)</span>
</pre></div>

</div>
</div>
</div>

<div class="output_wrapper">
<div class="output">


<div class="output_area">
<div class="prompt"></div>

<div class="output_subarea output_stream output_stdout output_text">
<pre>Enter any country:India
The Distribution for  India :
</pre>
</div>
</div>

<div class="output_area">
<div class="prompt"></div>



<div class="output_png output_subarea ">
<img src="data:image/png;base64,iVBORw0KGgoAAAANSUhEUgAAAewAAAFJCAYAAABZ+x49AAAABHNCSVQICAgIfAhkiAAAAAlwSFlz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"
>
</div>

</div>

<div class="output_area">
<div class="prompt"></div>

<div class="output_subarea output_stream output_stdout output_text">
<pre>Checking if the data in 1998 fits Normal Distribution: (Shapiro-Wilk Normality Test)
</pre>
</div>
</div>

<div class="output_area">
<div class="prompt"></div>



<div class="output_png output_subarea ">
<img src="data:image/png;base64,iVBORw0KGgoAAAANSUhEUgAAAeQAAAFJCAYAAABKLF7JAAAABHNCSVQICAgIfAhkiAAAAAlwSFlz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"
>
</div>

</div>

<div class="output_area">
<div class="prompt"></div>

<div class="output_subarea output_stream output_stdout output_text">
<pre>(Test Statistic,p-value) : (0.8348766565322876, 4.523378538596502e-14)
</pre>
</div>
</div>

</div>
</div>

</div>
<div class="cell border-box-sizing text_cell rendered">
<div class="prompt input_prompt">
</div>
<div class="inner_cell">
<div class="text_cell_render border-box-sizing rendered_html">
<h2 id="More-questions-that-can-be-answered-and-are-important-from-the-business-point-of-view:">More questions that can be answered and are important from the business point of view:<a class="anchor-link" href="#More-questions-that-can-be-answered-and-are-important-from-the-business-point-of-view:">&#182;</a></h2>
</div>
</div>
</div>
<div class="cell border-box-sizing text_cell rendered">
<div class="prompt input_prompt">
</div>
<div class="inner_cell">
<div class="text_cell_render border-box-sizing rendered_html">
<h3 id="Top-5-countries-with-maximum-number-of-reported-TB-cases:">Top 5 countries with maximum number of reported TB cases:<a class="anchor-link" href="#Top-5-countries-with-maximum-number-of-reported-TB-cases:">&#182;</a></h3>
</div>
</div>
</div>
<div class="cell border-box-sizing code_cell rendered">
<div class="input">
<div class="prompt input_prompt">In&nbsp;[12]:</div>
<div class="inner_cell">
    <div class="input_area">
<div class=" highlight hl-ipython3"><pre><span></span><span class="n">country_max</span> <span class="o">=</span> <span class="p">[]</span>
<span class="n">countries</span> <span class="o">=</span> <span class="n">col</span>
<span class="n">temp</span> <span class="o">=</span> <span class="mi">0</span>
<span class="n">temp1</span> <span class="o">=</span> <span class="s1">&#39;&#39;</span>
<span class="k">for</span> <span class="n">i</span> <span class="ow">in</span> <span class="n">countries</span><span class="p">:</span>
    <span class="n">country_max</span><span class="o">.</span><span class="n">append</span><span class="p">(</span><span class="nb">sum</span><span class="p">(</span><span class="nb">list</span><span class="p">(</span><span class="nb">map</span><span class="p">(</span><span class="nb">int</span><span class="p">,</span> <span class="n">df1</span><span class="p">[</span><span class="n">i</span><span class="p">]</span><span class="o">.</span><span class="n">tolist</span><span class="p">()))))</span>

<span class="k">for</span> <span class="n">i</span> <span class="ow">in</span> <span class="nb">range</span><span class="p">(</span><span class="nb">len</span><span class="p">(</span><span class="n">country_max</span><span class="p">)):</span>
    <span class="k">for</span> <span class="n">j</span> <span class="ow">in</span> <span class="nb">range</span><span class="p">(</span><span class="n">i</span><span class="p">,</span><span class="nb">len</span><span class="p">(</span><span class="n">country_max</span><span class="p">)):</span>
        <span class="k">if</span> <span class="n">country_max</span><span class="p">[</span><span class="n">i</span><span class="p">]</span><span class="o">&lt;</span><span class="n">country_max</span><span class="p">[</span><span class="n">j</span><span class="p">]:</span>
            <span class="n">temp</span> <span class="o">=</span> <span class="n">country_max</span><span class="p">[</span><span class="n">i</span><span class="p">]</span>
            <span class="n">country_max</span><span class="p">[</span><span class="n">i</span><span class="p">]</span> <span class="o">=</span> <span class="n">country_max</span><span class="p">[</span><span class="n">j</span><span class="p">]</span>
            <span class="n">country_max</span><span class="p">[</span><span class="n">j</span><span class="p">]</span> <span class="o">=</span> <span class="n">temp</span>

            <span class="n">temp1</span> <span class="o">=</span> <span class="n">countries</span><span class="p">[</span><span class="n">i</span><span class="p">]</span>
            <span class="n">countries</span><span class="p">[</span><span class="n">i</span><span class="p">]</span> <span class="o">=</span> <span class="n">countries</span><span class="p">[</span><span class="n">j</span><span class="p">]</span>
            <span class="n">countries</span><span class="p">[</span><span class="n">j</span><span class="p">]</span> <span class="o">=</span> <span class="n">temp1</span>
<span class="n">plt</span><span class="o">.</span><span class="n">bar</span><span class="p">(</span><span class="nb">range</span><span class="p">(</span><span class="mi">5</span><span class="p">),</span><span class="n">country_max</span><span class="p">[:</span><span class="mi">5</span><span class="p">],</span><span class="n">width</span><span class="o">=</span><span class="mf">0.5</span><span class="p">)</span>
<span class="n">plt</span><span class="o">.</span><span class="n">xticks</span><span class="p">(</span><span class="nb">range</span><span class="p">(</span><span class="mi">5</span><span class="p">),</span> <span class="n">countries</span><span class="p">[:</span><span class="mi">5</span><span class="p">],</span><span class="n">rotation</span><span class="o">=</span><span class="mi">45</span><span class="p">)</span>
<span class="n">plt</span><span class="o">.</span><span class="n">show</span><span class="p">()</span>
</pre></div>

</div>
</div>
</div>

<div class="output_wrapper">
<div class="output">


<div class="output_area">
<div class="prompt"></div>



<div class="output_png output_subarea ">
<img src="data:image/png;base64,iVBORw0KGgoAAAANSUhEUgAAAYcAAAE1CAYAAAAMHCwAAAAABHNCSVQICAgIfAhkiAAAAAlwSFlz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"
>
</div>

</div>

</div>
</div>

</div>
<div class="cell border-box-sizing text_cell rendered">
<div class="prompt input_prompt">
</div>
<div class="inner_cell">
<div class="text_cell_render border-box-sizing rendered_html">
<h3 id="Distribution-of-TB-cases-accross-years-for-any-country:">Distribution of TB cases accross years for any country:<a class="anchor-link" href="#Distribution-of-TB-cases-accross-years-for-any-country:">&#182;</a></h3>
</div>
</div>
</div>
<div class="cell border-box-sizing code_cell rendered">
<div class="input">
<div class="prompt input_prompt">In&nbsp;[13]:</div>
<div class="inner_cell">
    <div class="input_area">
<div class=" highlight hl-ipython3"><pre><span></span><span class="n">country</span> <span class="o">=</span> <span class="nb">input</span><span class="p">(</span><span class="s1">&#39;Enter any country:&#39;</span><span class="p">)</span>
<span class="n">slices</span> <span class="o">=</span> <span class="nb">list</span><span class="p">(</span><span class="nb">map</span><span class="p">(</span><span class="nb">int</span><span class="p">,</span> <span class="n">df1</span><span class="p">[</span><span class="n">country</span><span class="p">]</span><span class="o">.</span><span class="n">tolist</span><span class="p">()))</span>
<span class="n">title</span> <span class="o">=</span> <span class="s2">&quot;Distribution of TB cases during 1990-2007 in &quot;</span><span class="o">+</span><span class="n">country</span>
<span class="n">plt</span><span class="o">.</span><span class="n">pie</span><span class="p">(</span><span class="n">slices</span><span class="p">,</span>
    <span class="n">labels</span> <span class="o">=</span> <span class="n">indexes</span><span class="p">,</span>
    <span class="n">startangle</span> <span class="o">=</span> <span class="mi">90</span><span class="p">,</span>
    <span class="n">shadow</span> <span class="o">=</span> <span class="kc">True</span><span class="p">,</span>
    <span class="n">autopct</span> <span class="o">=</span> <span class="s1">&#39;</span><span class="si">%1.1f%%</span><span class="s1">&#39;</span><span class="p">)</span>
<span class="n">plt</span><span class="o">.</span><span class="n">title</span><span class="p">(</span><span class="n">title</span><span class="p">)</span>
<span class="n">plt</span><span class="o">.</span><span class="n">show</span><span class="p">()</span>
</pre></div>

</div>
</div>
</div>

<div class="output_wrapper">
<div class="output">


<div class="output_area">
<div class="prompt"></div>

<div class="output_subarea output_stream output_stdout output_text">
<pre>Enter any country:India
</pre>
</div>
</div>

<div class="output_area">
<div class="prompt"></div>



<div class="output_png output_subarea ">
<img src="data:image/png;base64,iVBORw0KGgoAAAANSUhEUgAAAWcAAAD7CAYAAAC2a1UBAAAABHNCSVQICAgIfAhkiAAAAAlwSFlz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"
>
</div>

</div>

</div>
</div>

</div>
<div class="cell border-box-sizing text_cell rendered">
<div class="prompt input_prompt">
</div>
<div class="inner_cell">
<div class="text_cell_render border-box-sizing rendered_html">
<h3 id="Comparing-Country-Trends-over-the-years:">Comparing Country Trends over the years:<a class="anchor-link" href="#Comparing-Country-Trends-over-the-years:">&#182;</a></h3>
</div>
</div>
</div>
<div class="cell border-box-sizing code_cell rendered">
<div class="input">
<div class="prompt input_prompt">In&nbsp;[14]:</div>
<div class="inner_cell">
    <div class="input_area">
<div class=" highlight hl-ipython3"><pre><span></span><span class="n">num</span> <span class="o">=</span> <span class="nb">input</span><span class="p">(</span><span class="s1">&#39;Enter number of cities(upto 5):&#39;</span><span class="p">)</span>
<span class="n">num</span> <span class="o">=</span> <span class="nb">int</span><span class="p">(</span><span class="n">num</span><span class="p">)</span>
<span class="n">country</span> <span class="o">=</span> <span class="p">[]</span>
<span class="n">place</span> <span class="o">=</span> <span class="p">[]</span>
<span class="n">colour</span> <span class="o">=</span> <span class="p">[</span><span class="s1">&#39;r&#39;</span><span class="p">,</span><span class="s1">&#39;g&#39;</span><span class="p">,</span><span class="s1">&#39;b&#39;</span><span class="p">,</span><span class="s1">&#39;c&#39;</span><span class="p">,</span><span class="s1">&#39;m&#39;</span><span class="p">]</span>
<span class="k">for</span> <span class="n">i</span> <span class="ow">in</span> <span class="nb">range</span><span class="p">(</span><span class="n">num</span><span class="p">):</span>
    <span class="n">place</span><span class="o">.</span><span class="n">append</span><span class="p">(</span><span class="nb">input</span><span class="p">(</span><span class="s1">&#39;Enter the city:&#39;</span><span class="p">))</span>
    <span class="n">country</span><span class="o">.</span><span class="n">append</span><span class="p">(</span><span class="nb">list</span><span class="p">(</span><span class="nb">map</span><span class="p">(</span><span class="nb">int</span><span class="p">,</span> <span class="n">df1</span><span class="p">[</span><span class="n">place</span><span class="p">[</span><span class="n">i</span><span class="p">]]</span><span class="o">.</span><span class="n">tolist</span><span class="p">())))</span>
<span class="k">for</span> <span class="n">i</span> <span class="ow">in</span> <span class="nb">range</span><span class="p">(</span><span class="nb">len</span><span class="p">(</span><span class="n">country</span><span class="p">)):</span>
    <span class="n">plt</span><span class="o">.</span><span class="n">scatter</span><span class="p">(</span><span class="n">indexes</span><span class="p">,</span><span class="n">country</span><span class="p">[</span><span class="n">i</span><span class="p">],</span><span class="n">color</span><span class="o">=</span><span class="n">colour</span><span class="p">[</span><span class="n">i</span><span class="p">],</span><span class="n">label</span><span class="o">=</span><span class="n">place</span><span class="p">[</span><span class="n">i</span><span class="p">],</span><span class="n">marker</span><span class="o">=</span><span class="s1">&#39;.&#39;</span><span class="p">)</span>
<span class="n">plt</span><span class="o">.</span><span class="n">legend</span><span class="p">(</span><span class="n">loc</span><span class="o">=</span><span class="s1">&#39;upper center&#39;</span><span class="p">,</span> <span class="n">bbox_to_anchor</span><span class="o">=</span><span class="p">(</span><span class="mf">0.5</span><span class="p">,</span> <span class="o">-</span><span class="mf">0.05</span><span class="p">),</span> <span class="n">fancybox</span><span class="o">=</span><span class="kc">True</span><span class="p">,</span> <span class="n">shadow</span><span class="o">=</span><span class="kc">True</span><span class="p">,</span> <span class="n">ncol</span><span class="o">=</span><span class="nb">len</span><span class="p">(</span><span class="n">country</span><span class="p">))</span>
<span class="n">plt</span><span class="o">.</span><span class="n">show</span><span class="p">()</span>
</pre></div>

</div>
</div>
</div>

<div class="output_wrapper">
<div class="output">


<div class="output_area">
<div class="prompt"></div>

<div class="output_subarea output_stream output_stdout output_text">
<pre>Enter number of cities(upto 5):5
Enter the city:China
Enter the city:Afghanistan
Enter the city:India
Enter the city:Australia
Enter the city:Togo
</pre>
</div>
</div>

<div class="output_area">
<div class="prompt"></div>



<div class="output_png output_subarea ">
<img src="data:image/png;base64,iVBORw0KGgoAAAANSUhEUgAAAagAAAENCAYAAABaY/GdAAAABHNCSVQICAgIfAhkiAAAAAlwSFlz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"
>
</div>

</div>

</div>
</div>

</div>
    </div>
  </div>
</body>

 


</html>
